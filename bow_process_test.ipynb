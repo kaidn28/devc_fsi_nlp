{
  "nbformat": 4,
  "nbformat_minor": 0,
  "metadata": {
    "colab": {
      "name": "bow_process_test.ipynb",
      "provenance": []
    },
    "kernelspec": {
      "name": "python3",
      "display_name": "Python 3"
    }
  },
  "cells": [
    {
      "cell_type": "code",
      "metadata": {
        "id": "PB_rtds4gzcL"
      },
      "source": [
        "import numpy as np\n",
        "import pandas as pd"
      ],
      "execution_count": 1,
      "outputs": []
    },
    {
      "cell_type": "code",
      "metadata": {
        "id": "bU05NQngvCIe"
      },
      "source": [
        "data = pd.read_csv(\"data_test.csv\")"
      ],
      "execution_count": 3,
      "outputs": []
    },
    {
      "cell_type": "code",
      "metadata": {
        "id": "rpK2SbeUvGAV",
        "outputId": "d3d41e0e-3332-407c-dc8f-69142d56990a",
        "colab": {
          "base_uri": "https://localhost:8080/",
          "height": 419
        }
      },
      "source": [
        "data = data[[\"Review\"]]\n",
        "data"
      ],
      "execution_count": 8,
      "outputs": [
        {
          "output_type": "execute_result",
          "data": {
            "text/html": [
              "<div>\n",
              "<style scoped>\n",
              "    .dataframe tbody tr th:only-of-type {\n",
              "        vertical-align: middle;\n",
              "    }\n",
              "\n",
              "    .dataframe tbody tr th {\n",
              "        vertical-align: top;\n",
              "    }\n",
              "\n",
              "    .dataframe thead th {\n",
              "        text-align: right;\n",
              "    }\n",
              "</style>\n",
              "<table border=\"1\" class=\"dataframe\">\n",
              "  <thead>\n",
              "    <tr style=\"text-align: right;\">\n",
              "      <th></th>\n",
              "      <th>Review</th>\n",
              "    </tr>\n",
              "  </thead>\n",
              "  <tbody>\n",
              "    <tr>\n",
              "      <th>0</th>\n",
              "      <td>Một hôm thèm quá tiện đường rẽ vào đây vào th...</td>\n",
              "    </tr>\n",
              "    <tr>\n",
              "      <th>1</th>\n",
              "      <td>mình rất hài lòng mỗi khi ăn ở không biết là ...</td>\n",
              "    </tr>\n",
              "    <tr>\n",
              "      <th>2</th>\n",
              "      <td>I ordered online talking to the representativ...</td>\n",
              "    </tr>\n",
              "    <tr>\n",
              "      <th>3</th>\n",
              "      <td>Quán khá nhỏ ko có chỗ để ngồi chỉ Ship là ch...</td>\n",
              "    </tr>\n",
              "    <tr>\n",
              "      <th>4</th>\n",
              "      <td>Mọi thứ hãy đến và cảm nhận</td>\n",
              "    </tr>\n",
              "    <tr>\n",
              "      <th>...</th>\n",
              "      <td>...</td>\n",
              "    </tr>\n",
              "    <tr>\n",
              "      <th>1769</th>\n",
              "      <td>Hôm mùng tết có đi qa đây mua cốc trà Topping...</td>\n",
              "    </tr>\n",
              "    <tr>\n",
              "      <th>1770</th>\n",
              "      <td>Trà sữa socola ngon nhất trong những quán đã ...</td>\n",
              "    </tr>\n",
              "    <tr>\n",
              "      <th>1771</th>\n",
              "      <td>Quán bé do quán vắng mình chó đến ngồi ngoài ...</td>\n",
              "    </tr>\n",
              "    <tr>\n",
              "      <th>1772</th>\n",
              "      <td>Hôm nay lần đầu đến quán cảm thấy ăn cũng nhâ...</td>\n",
              "    </tr>\n",
              "    <tr>\n",
              "      <th>1773</th>\n",
              "      <td>Chị chủ và anh chủ siêu siêu dễ Menu các món ...</td>\n",
              "    </tr>\n",
              "  </tbody>\n",
              "</table>\n",
              "<p>1774 rows × 1 columns</p>\n",
              "</div>"
            ],
            "text/plain": [
              "                                                 Review\n",
              "0      Một hôm thèm quá tiện đường rẽ vào đây vào th...\n",
              "1      mình rất hài lòng mỗi khi ăn ở không biết là ...\n",
              "2      I ordered online talking to the representativ...\n",
              "3      Quán khá nhỏ ko có chỗ để ngồi chỉ Ship là ch...\n",
              "4                           Mọi thứ hãy đến và cảm nhận\n",
              "...                                                 ...\n",
              "1769   Hôm mùng tết có đi qa đây mua cốc trà Topping...\n",
              "1770   Trà sữa socola ngon nhất trong những quán đã ...\n",
              "1771   Quán bé do quán vắng mình chó đến ngồi ngoài ...\n",
              "1772   Hôm nay lần đầu đến quán cảm thấy ăn cũng nhâ...\n",
              "1773   Chị chủ và anh chủ siêu siêu dễ Menu các món ...\n",
              "\n",
              "[1774 rows x 1 columns]"
            ]
          },
          "metadata": {
            "tags": []
          },
          "execution_count": 8
        }
      ]
    },
    {
      "cell_type": "code",
      "metadata": {
        "id": "dWJNoX-wvJgM",
        "outputId": "2d7a6e8c-0559-4020-9c6f-76f7cc2f448b",
        "colab": {
          "base_uri": "https://localhost:8080/"
        }
      },
      "source": [
        "!pip3 install pyvi\n",
        "from pyvi import ViPosTagger, ViTokenizer"
      ],
      "execution_count": 11,
      "outputs": [
        {
          "output_type": "stream",
          "text": [
            "Collecting pyvi\n",
            "\u001b[?25l  Downloading https://files.pythonhosted.org/packages/10/e1/0e5bc6b5e3327b9385d6e0f1b0a7c0404f28b74eb6db59a778515b30fd9c/pyvi-0.1-py2.py3-none-any.whl (8.5MB)\n",
            "\u001b[K     |████████████████████████████████| 8.5MB 2.6MB/s \n",
            "\u001b[?25hRequirement already satisfied: scikit-learn in /usr/local/lib/python3.6/dist-packages (from pyvi) (0.22.2.post1)\n",
            "Collecting sklearn-crfsuite\n",
            "  Downloading https://files.pythonhosted.org/packages/25/74/5b7befa513482e6dee1f3dd68171a6c9dfc14c0eaa00f885ffeba54fe9b0/sklearn_crfsuite-0.3.6-py2.py3-none-any.whl\n",
            "Requirement already satisfied: scipy>=0.17.0 in /usr/local/lib/python3.6/dist-packages (from scikit-learn->pyvi) (1.4.1)\n",
            "Requirement already satisfied: numpy>=1.11.0 in /usr/local/lib/python3.6/dist-packages (from scikit-learn->pyvi) (1.18.5)\n",
            "Requirement already satisfied: joblib>=0.11 in /usr/local/lib/python3.6/dist-packages (from scikit-learn->pyvi) (0.17.0)\n",
            "Requirement already satisfied: tabulate in /usr/local/lib/python3.6/dist-packages (from sklearn-crfsuite->pyvi) (0.8.7)\n",
            "Collecting python-crfsuite>=0.8.3\n",
            "\u001b[?25l  Downloading https://files.pythonhosted.org/packages/95/99/869dde6dbf3e0d07a013c8eebfb0a3d30776334e0097f8432b631a9a3a19/python_crfsuite-0.9.7-cp36-cp36m-manylinux1_x86_64.whl (743kB)\n",
            "\u001b[K     |████████████████████████████████| 747kB 37.0MB/s \n",
            "\u001b[?25hRequirement already satisfied: tqdm>=2.0 in /usr/local/lib/python3.6/dist-packages (from sklearn-crfsuite->pyvi) (4.41.1)\n",
            "Requirement already satisfied: six in /usr/local/lib/python3.6/dist-packages (from sklearn-crfsuite->pyvi) (1.15.0)\n",
            "Installing collected packages: python-crfsuite, sklearn-crfsuite, pyvi\n",
            "Successfully installed python-crfsuite-0.9.7 pyvi-0.1 sklearn-crfsuite-0.3.6\n"
          ],
          "name": "stdout"
        }
      ]
    },
    {
      "cell_type": "code",
      "metadata": {
        "id": "XcH7BeVVv3vT"
      },
      "source": [
        "englishwords = pd.read_json(\"./englishwords.json\")\n",
        "englishwords.set_index(\"english\", inplace = True)\n",
        "shortform = pd.read_json(\"./shortform.json\")\n",
        "shortform.set_index(\"short\", inplace = True)"
      ],
      "execution_count": 12,
      "outputs": []
    },
    {
      "cell_type": "code",
      "metadata": {
        "id": "Y3pETKWpw5vH"
      },
      "source": [
        "import re \n",
        "\n",
        "def preprocessor(text):\n",
        "    \"\"\" Return a cleaned version of text\n",
        "    \"\"\"\n",
        "    # Remove HTML markup\n",
        "    text = re.sub('<[^>]*>', '', text)\n",
        "    # Save emoticons for later appending\n",
        "    emoticons = re.findall('(?::|;|=)(?:-)?(?:\\)|\\(|D|P)', text)\n",
        "    # Remove any non-word character and append the emoticons,\n",
        "    # removing the nose character for standarization. Convert to lower case\n",
        "    text = (re.sub('[\\W]+', ' ', text.lower()) + ' ' + ' '.join(emoticons).replace('-', ' '))\n",
        "    \n",
        "    #Loại bỏ các chữ cái lặp nhau\n",
        "    length = len(text)\n",
        "    char = 0\n",
        "    while char <length-1:\n",
        "        if text[char] == text[char+1]:\n",
        "            text = text[:char]+text[char+1:]\n",
        "            #print(text)\n",
        "            length-=1\n",
        "            continue\n",
        "        char+=1\n",
        "    #loại bỏ số  và các chữ cái lạ:\n",
        "    digits_and_characters = 'aăâbcdđeêfghijklmnoôơpqrstuưvxywzáàảãạắằẳẵặấầẩẫậéèẻẽẹếềểễệíìỉĩịóòỏõọốồổỗộớờởỡợúùủũụứừửữựýỳỷỹỵ(?::|;|=)(?:-)?(?:\\)|\\(|D|P)_ '\n",
        "    text = ''.join([i for i in text if i in digits_and_characters])\n",
        "\n",
        "    text_split = text.split()\n",
        "    #print(text_split)\n",
        "    for i in range(len(text_split)):\n",
        "      t = text_split[i]\n",
        "      if t in englishwords.index:\n",
        "        text_split[i] = str(englishwords.loc[t, \"vietnamese\"])\n",
        "      elif t in shortform.index:\n",
        "        text_split[i] = str(shortform.loc[t,\"long\"]) \n",
        "    #print(text_split)\n",
        "    text = ' '.join(text_split)\n",
        "    return text"
      ],
      "execution_count": 13,
      "outputs": []
    },
    {
      "cell_type": "code",
      "metadata": {
        "id": "iCXWBdG5w9JS"
      },
      "source": [
        "def clean(data):\n",
        "  for i in data.index:\n",
        "    data.loc[i, \"Review\"] = ViTokenizer.tokenize(preprocessor(data.loc[i, \"Review\"]))\n",
        "  return data"
      ],
      "execution_count": 14,
      "outputs": []
    },
    {
      "cell_type": "code",
      "metadata": {
        "id": "LKEHi65kxBIq",
        "outputId": "2a572da8-9f30-4c94-fed9-a13a477aaca5",
        "colab": {
          "base_uri": "https://localhost:8080/"
        }
      },
      "source": [
        "def splitSentence(text):\n",
        "  list_of_sentences = text.split('.')\n",
        "  return list_of_sentences\n",
        "print(splitSentence(\"dùng khá ổn. Cực kì ủng hộ.Ilove you\"))\n",
        "a,b, c = splitSentence(\"dùng khá ổn. Cực kì ủng hộ.Ilove you\")\n",
        "print(a)\n",
        "print(b)\n",
        "print(c)"
      ],
      "execution_count": 15,
      "outputs": [
        {
          "output_type": "stream",
          "text": [
            "['dùng khá ổn', ' Cực kì ủng hộ', 'Ilove you']\n",
            "dùng khá ổn\n",
            " Cực kì ủng hộ\n",
            "Ilove you\n"
          ],
          "name": "stdout"
        }
      ]
    },
    {
      "cell_type": "code",
      "metadata": {
        "id": "ZhkDY42-xGAK"
      },
      "source": [
        "with open('./stopwords_vn_dash.txt') as f:\n",
        "    stopwords_vn = f.read().splitlines()"
      ],
      "execution_count": 16,
      "outputs": []
    },
    {
      "cell_type": "code",
      "metadata": {
        "id": "9ZTzgOMNxL1S"
      },
      "source": [
        "data = clean(data)"
      ],
      "execution_count": 17,
      "outputs": []
    },
    {
      "cell_type": "code",
      "metadata": {
        "id": "U-cfhBnQxTxz"
      },
      "source": [
        "def splitTest(X_test):\n",
        "  X_test_split = pd.DataFrame(columns = [\"Sentence\",\"Origin\"])\n",
        "  for i in X_test.index:\n",
        "    los = splitSentence(X_test.loc[i,\"Review\"])\n",
        "    for j in range (len(los)):\n",
        "      new_row = {\"Sentence\": los[j], \"Origin\": i}\n",
        "      X_test_split = X_test_split.append(new_row, ignore_index= True)\n",
        "  return X_test_split  "
      ],
      "execution_count": 18,
      "outputs": []
    },
    {
      "cell_type": "code",
      "metadata": {
        "id": "6aq2Ay60xb8t"
      },
      "source": [
        "def concatPred(y_pred, X_test_split):\n",
        "  #print(len(y_pred))\n",
        "  X_test_split[\"Predict\"] = y_pred\n",
        "  X_test_split\n",
        "  X_test_split = X_test_split.groupby(\"Origin\").sum()\n",
        "  y_pred = X_test_split[\"Predict\"].tolist()\n",
        "  for i in range(len(y_pred)):\n",
        "    if y_pred[i] > 0:\n",
        "      y_pred[i] = 1.\n",
        "    elif y_pred[i] <0: \n",
        "      y_pred[i] = -1.\n",
        "    else:\n",
        "      y_pred[i] = 0.\n",
        "  #print(len(y_pred))\n",
        "  return y_pred"
      ],
      "execution_count": 19,
      "outputs": []
    },
    {
      "cell_type": "code",
      "metadata": {
        "id": "UP7PiVqCxeSi",
        "outputId": "b107ef29-1a4e-42c1-820a-fd833595f38f",
        "colab": {
          "base_uri": "https://localhost:8080/"
        }
      },
      "source": [
        "test_split = splitTest(data)\n",
        "print(test_split)"
      ],
      "execution_count": 20,
      "outputs": [
        {
          "output_type": "stream",
          "text": [
            "                                               Sentence Origin\n",
            "0     một hôm thèm quá tiện đường rẽ vào đây vào thì...      0\n",
            "1     mình rất hài_lòng mỗi khi ăn ở không biết là l...      1\n",
            "2     i ordered online talking to the representative...      2\n",
            "3     quán khá nhỏ không có chỗ để ngồi chỉ ship là ...      3\n",
            "4                           mọi thứ hãy đến và cảm_nhận      4\n",
            "...                                                 ...    ...\n",
            "1769  hôm mùng tết có đi qa đây mua cốc trà toping t...   1769\n",
            "1770  trà sữa socola ngon nhất trong những quán đã t...   1770\n",
            "1771  quán bé do quán vắng mình chó đến ngồi ngoài c...   1771\n",
            "1772  hôm_nay lần đầu đến quán cảm_thấy ăn cũng nhân...   1772\n",
            "1773  chị chủ và anh chủ siêu siêu dễ menu các món đ...   1773\n",
            "\n",
            "[1774 rows x 2 columns]\n"
          ],
          "name": "stdout"
        }
      ]
    },
    {
      "cell_type": "code",
      "metadata": {
        "id": "rgkaAzI1z7MA",
        "outputId": "ad9ca6c3-616e-48d2-a017-2dc4da8d5f4a",
        "colab": {
          "base_uri": "https://localhost:8080/"
        }
      },
      "source": [
        "import pickle\n",
        "tfidf = pickle.load(open(\"tfidf_transform.sav\", 'rb'))\n",
        "print(tfidf)\n",
        "lor = pickle.load(open(\"lor_model.sav\", 'rb'))\n",
        "print(lor)"
      ],
      "execution_count": 23,
      "outputs": [
        {
          "output_type": "stream",
          "text": [
            "TfidfVectorizer(analyzer='word', binary=False, decode_error='strict',\n",
            "                dtype=<class 'numpy.float64'>, encoding='utf-8',\n",
            "                input='content', lowercase=True, max_df=1.0, max_features=None,\n",
            "                min_df=2, ngram_range=(1, 2), norm='l2', preprocessor=None,\n",
            "                smooth_idf=True,\n",
            "                stop_words=['a_lô', 'a_ha', 'ai', 'ai_ai', 'ai_nấy', 'ai_đó',\n",
            "                            'alô', 'amen', 'anh', 'anh_ấy', 'ba', 'ba_ba',\n",
            "                            'ba_bản', 'ba_cùng', 'ba_họ', 'ba_ngày', 'ba_ngôi',\n",
            "                            'ba_tăng', 'bao_giờ', 'bao_lâu', 'bao_nhiêu',\n",
            "                            'bao_nả', 'bay_biến', 'biết', 'biết_bao',\n",
            "                            'biết_bao_nhiêu', 'biết_chắc', 'biết_chừng_nào',\n",
            "                            'biết_mình', 'biết_mấy', ...],\n",
            "                strip_accents=None, sublinear_tf=False,\n",
            "                token_pattern='(?u)\\\\b\\\\w\\\\w+\\\\b', tokenizer=None, use_idf=True,\n",
            "                vocabulary=None)\n",
            "LogisticRegression(C=1.0, class_weight=None, dual=False, fit_intercept=True,\n",
            "                   intercept_scaling=1, l1_ratio=None, max_iter=100,\n",
            "                   multi_class='auto', n_jobs=None, penalty='l2',\n",
            "                   random_state=None, solver='lbfgs', tol=0.0001, verbose=0,\n",
            "                   warm_start=False)\n"
          ],
          "name": "stdout"
        }
      ]
    },
    {
      "cell_type": "code",
      "metadata": {
        "id": "fc0FWt2qyNvU"
      },
      "source": [
        "from sklearn.feature_extraction.text import TfidfVectorizer\n",
        "test_split_tfidf = tfidf.transform(test_split[\"Sentence\"])\n",
        "y_pred = lor.predict(test_split_tfidf.toarray())\n",
        "y_pred = concatPred(y_pred, test_split)"
      ],
      "execution_count": 24,
      "outputs": []
    },
    {
      "cell_type": "code",
      "metadata": {
        "id": "ao-zw6tOyl59",
        "outputId": "c0631a61-75fc-4cb7-9cb1-4dc108567f7a",
        "colab": {
          "base_uri": "https://localhost:8080/",
          "height": 419
        }
      },
      "source": [
        "data[\"Label\"] = y_pred\n",
        "data"
      ],
      "execution_count": 25,
      "outputs": [
        {
          "output_type": "execute_result",
          "data": {
            "text/html": [
              "<div>\n",
              "<style scoped>\n",
              "    .dataframe tbody tr th:only-of-type {\n",
              "        vertical-align: middle;\n",
              "    }\n",
              "\n",
              "    .dataframe tbody tr th {\n",
              "        vertical-align: top;\n",
              "    }\n",
              "\n",
              "    .dataframe thead th {\n",
              "        text-align: right;\n",
              "    }\n",
              "</style>\n",
              "<table border=\"1\" class=\"dataframe\">\n",
              "  <thead>\n",
              "    <tr style=\"text-align: right;\">\n",
              "      <th></th>\n",
              "      <th>Review</th>\n",
              "      <th>Label</th>\n",
              "    </tr>\n",
              "  </thead>\n",
              "  <tbody>\n",
              "    <tr>\n",
              "      <th>0</th>\n",
              "      <td>một hôm thèm quá tiện đường rẽ vào đây vào thì...</td>\n",
              "      <td>-1.0</td>\n",
              "    </tr>\n",
              "    <tr>\n",
              "      <th>1</th>\n",
              "      <td>mình rất hài_lòng mỗi khi ăn ở không biết là l...</td>\n",
              "      <td>1.0</td>\n",
              "    </tr>\n",
              "    <tr>\n",
              "      <th>2</th>\n",
              "      <td>i ordered online talking to the representative...</td>\n",
              "      <td>-1.0</td>\n",
              "    </tr>\n",
              "    <tr>\n",
              "      <th>3</th>\n",
              "      <td>quán khá nhỏ không có chỗ để ngồi chỉ ship là ...</td>\n",
              "      <td>1.0</td>\n",
              "    </tr>\n",
              "    <tr>\n",
              "      <th>4</th>\n",
              "      <td>mọi thứ hãy đến và cảm_nhận</td>\n",
              "      <td>-1.0</td>\n",
              "    </tr>\n",
              "    <tr>\n",
              "      <th>...</th>\n",
              "      <td>...</td>\n",
              "      <td>...</td>\n",
              "    </tr>\n",
              "    <tr>\n",
              "      <th>1769</th>\n",
              "      <td>hôm mùng tết có đi qa đây mua cốc trà toping t...</td>\n",
              "      <td>-1.0</td>\n",
              "    </tr>\n",
              "    <tr>\n",
              "      <th>1770</th>\n",
              "      <td>trà sữa socola ngon nhất trong những quán đã t...</td>\n",
              "      <td>1.0</td>\n",
              "    </tr>\n",
              "    <tr>\n",
              "      <th>1771</th>\n",
              "      <td>quán bé do quán vắng mình chó đến ngồi ngoài c...</td>\n",
              "      <td>-1.0</td>\n",
              "    </tr>\n",
              "    <tr>\n",
              "      <th>1772</th>\n",
              "      <td>hôm_nay lần đầu đến quán cảm_thấy ăn cũng nhân...</td>\n",
              "      <td>1.0</td>\n",
              "    </tr>\n",
              "    <tr>\n",
              "      <th>1773</th>\n",
              "      <td>chị chủ và anh chủ siêu siêu dễ menu các món đ...</td>\n",
              "      <td>1.0</td>\n",
              "    </tr>\n",
              "  </tbody>\n",
              "</table>\n",
              "<p>1774 rows × 2 columns</p>\n",
              "</div>"
            ],
            "text/plain": [
              "                                                 Review  Label\n",
              "0     một hôm thèm quá tiện đường rẽ vào đây vào thì...   -1.0\n",
              "1     mình rất hài_lòng mỗi khi ăn ở không biết là l...    1.0\n",
              "2     i ordered online talking to the representative...   -1.0\n",
              "3     quán khá nhỏ không có chỗ để ngồi chỉ ship là ...    1.0\n",
              "4                           mọi thứ hãy đến và cảm_nhận   -1.0\n",
              "...                                                 ...    ...\n",
              "1769  hôm mùng tết có đi qa đây mua cốc trà toping t...   -1.0\n",
              "1770  trà sữa socola ngon nhất trong những quán đã t...    1.0\n",
              "1771  quán bé do quán vắng mình chó đến ngồi ngoài c...   -1.0\n",
              "1772  hôm_nay lần đầu đến quán cảm_thấy ăn cũng nhân...    1.0\n",
              "1773  chị chủ và anh chủ siêu siêu dễ menu các món đ...    1.0\n",
              "\n",
              "[1774 rows x 2 columns]"
            ]
          },
          "metadata": {
            "tags": []
          },
          "execution_count": 25
        }
      ]
    },
    {
      "cell_type": "code",
      "metadata": {
        "id": "FbRZjTGa1T4G"
      },
      "source": [
        "data.to_csv(\"./data_test_labeled.csv\")"
      ],
      "execution_count": 26,
      "outputs": []
    },
    {
      "cell_type": "code",
      "metadata": {
        "id": "U-Ho9Gmk2Eiv"
      },
      "source": [
        ""
      ],
      "execution_count": null,
      "outputs": []
    }
  ]
}