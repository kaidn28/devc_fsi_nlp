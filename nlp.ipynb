{
  "nbformat": 4,
  "nbformat_minor": 0,
  "metadata": {
    "kernelspec": {
      "display_name": "Python 3",
      "language": "python",
      "name": "python3"
    },
    "language_info": {
      "codemirror_mode": {
        "name": "ipython",
        "version": 3
      },
      "file_extension": ".py",
      "mimetype": "text/x-python",
      "name": "python",
      "nbconvert_exporter": "python",
      "pygments_lexer": "ipython3",
      "version": "3.6.12"
    },
    "colab": {
      "name": "nlp.ipynb",
      "provenance": [],
      "collapsed_sections": []
    }
  },
  "cells": [
    {
      "cell_type": "code",
      "metadata": {
        "id": "ZdbmhGZF0ocp"
      },
      "source": [
        "import numpy as np\n",
        "import pandas as pd"
      ],
      "execution_count": null,
      "outputs": []
    },
    {
      "cell_type": "code",
      "metadata": {
        "id": "vkKxGz7w1WOQ",
        "outputId": "b762c14d-bc57-477a-8a35-372929bd3c71",
        "colab": {
          "base_uri": "https://localhost:8080/"
        }
      },
      "source": [
        "!pip3 install pyvi"
      ],
      "execution_count": null,
      "outputs": [
        {
          "output_type": "stream",
          "text": [
            "Requirement already satisfied: pyvi in /usr/local/lib/python3.6/dist-packages (0.1)\n",
            "Requirement already satisfied: scikit-learn in /usr/local/lib/python3.6/dist-packages (from pyvi) (0.22.2.post1)\n",
            "Requirement already satisfied: sklearn-crfsuite in /usr/local/lib/python3.6/dist-packages (from pyvi) (0.3.6)\n",
            "Requirement already satisfied: joblib>=0.11 in /usr/local/lib/python3.6/dist-packages (from scikit-learn->pyvi) (0.17.0)\n",
            "Requirement already satisfied: scipy>=0.17.0 in /usr/local/lib/python3.6/dist-packages (from scikit-learn->pyvi) (1.4.1)\n",
            "Requirement already satisfied: numpy>=1.11.0 in /usr/local/lib/python3.6/dist-packages (from scikit-learn->pyvi) (1.18.5)\n",
            "Requirement already satisfied: tqdm>=2.0 in /usr/local/lib/python3.6/dist-packages (from sklearn-crfsuite->pyvi) (4.41.1)\n",
            "Requirement already satisfied: python-crfsuite>=0.8.3 in /usr/local/lib/python3.6/dist-packages (from sklearn-crfsuite->pyvi) (0.9.7)\n",
            "Requirement already satisfied: tabulate in /usr/local/lib/python3.6/dist-packages (from sklearn-crfsuite->pyvi) (0.8.7)\n",
            "Requirement already satisfied: six in /usr/local/lib/python3.6/dist-packages (from sklearn-crfsuite->pyvi) (1.15.0)\n"
          ],
          "name": "stdout"
        }
      ]
    },
    {
      "cell_type": "code",
      "metadata": {
        "id": "6aY1LnYy0ocx"
      },
      "source": [
        "data = pd.read_csv('./reviews.csv')\n",
        "data_sample = data.sample(frac = 1)"
      ],
      "execution_count": null,
      "outputs": []
    },
    {
      "cell_type": "code",
      "metadata": {
        "id": "093BrF2C0oc1",
        "outputId": "34de3a6b-1fe1-460c-a342-7a1a54506c4f",
        "colab": {
          "base_uri": "https://localhost:8080/"
        }
      },
      "source": [
        "reviews = data_sample['Review']\n",
        "labels = data_sample['Label'].fillna(0.)\n",
        "reviews.head(10)\n",
        "reviews.shape[0]"
      ],
      "execution_count": null,
      "outputs": [
        {
          "output_type": "execute_result",
          "data": {
            "text/plain": [
              "5914"
            ]
          },
          "metadata": {
            "tags": []
          },
          "execution_count": 5
        }
      ]
    },
    {
      "cell_type": "code",
      "metadata": {
        "id": "LbVYx8TV8zQn",
        "outputId": "b0fed391-3fb5-4cfc-e6dd-781ce77aca7f",
        "colab": {
          "base_uri": "https://localhost:8080/",
          "height": 1000
        }
      },
      "source": [
        "englishwords = pd.read_json(\"./englishwords.json\")\n",
        "englishwords.set_index(\"english\", inplace = True)\n",
        "shortform = pd.read_json(\"./shortform.json\")\n",
        "shortform.set_index(\"short\", inplace = True)\n",
        "englishwords"
      ],
      "execution_count": 69,
      "outputs": [
        {
          "output_type": "execute_result",
          "data": {
            "text/html": [
              "<div>\n",
              "<style scoped>\n",
              "    .dataframe tbody tr th:only-of-type {\n",
              "        vertical-align: middle;\n",
              "    }\n",
              "\n",
              "    .dataframe tbody tr th {\n",
              "        vertical-align: top;\n",
              "    }\n",
              "\n",
              "    .dataframe thead th {\n",
              "        text-align: right;\n",
              "    }\n",
              "</style>\n",
              "<table border=\"1\" class=\"dataframe\">\n",
              "  <thead>\n",
              "    <tr style=\"text-align: right;\">\n",
              "      <th></th>\n",
              "      <th>vietnamese</th>\n",
              "    </tr>\n",
              "    <tr>\n",
              "      <th>english</th>\n",
              "      <th></th>\n",
              "    </tr>\n",
              "  </thead>\n",
              "  <tbody>\n",
              "    <tr>\n",
              "      <th>fun</th>\n",
              "      <td>vui</td>\n",
              "    </tr>\n",
              "    <tr>\n",
              "      <th>phone</th>\n",
              "      <td>điện thoại</td>\n",
              "    </tr>\n",
              "    <tr>\n",
              "      <th>funny</th>\n",
              "      <td>hay ho</td>\n",
              "    </tr>\n",
              "    <tr>\n",
              "      <th>concept</th>\n",
              "      <td>ý tưởng</td>\n",
              "    </tr>\n",
              "    <tr>\n",
              "      <th>idea</th>\n",
              "      <td>ý tưởng</td>\n",
              "    </tr>\n",
              "    <tr>\n",
              "      <th>smartphone</th>\n",
              "      <td>điện thoại thông minh</td>\n",
              "    </tr>\n",
              "    <tr>\n",
              "      <th>not</th>\n",
              "      <td>không</td>\n",
              "    </tr>\n",
              "    <tr>\n",
              "      <th>yes</th>\n",
              "      <td>có</td>\n",
              "    </tr>\n",
              "    <tr>\n",
              "      <th>capable</th>\n",
              "      <td>có thể</td>\n",
              "    </tr>\n",
              "    <tr>\n",
              "      <th>available</th>\n",
              "      <td>có sẵn</td>\n",
              "    </tr>\n",
              "    <tr>\n",
              "      <th>simp</th>\n",
              "      <td>dại gái</td>\n",
              "    </tr>\n",
              "    <tr>\n",
              "      <th>tech</th>\n",
              "      <td>công nghệ</td>\n",
              "    </tr>\n",
              "    <tr>\n",
              "      <th>string</th>\n",
              "      <td>chuỗi</td>\n",
              "    </tr>\n",
              "    <tr>\n",
              "      <th>camera</th>\n",
              "      <td>máy ảnh</td>\n",
              "    </tr>\n",
              "    <tr>\n",
              "      <th>earphone</th>\n",
              "      <td>tai nghe</td>\n",
              "    </tr>\n",
              "    <tr>\n",
              "      <th>headphone</th>\n",
              "      <td>tai nghe</td>\n",
              "    </tr>\n",
              "    <tr>\n",
              "      <th>workshop</th>\n",
              "      <td>buổi tọa đàm</td>\n",
              "    </tr>\n",
              "    <tr>\n",
              "      <th>talkshow</th>\n",
              "      <td>buổi tọa đàm</td>\n",
              "    </tr>\n",
              "    <tr>\n",
              "      <th>share</th>\n",
              "      <td>chia sẻ</td>\n",
              "    </tr>\n",
              "    <tr>\n",
              "      <th>doc</th>\n",
              "      <td>tài liệu</td>\n",
              "    </tr>\n",
              "    <tr>\n",
              "      <th>avoid</th>\n",
              "      <td>tránh</td>\n",
              "    </tr>\n",
              "    <tr>\n",
              "      <th>mobile</th>\n",
              "      <td>điện thoại</td>\n",
              "    </tr>\n",
              "    <tr>\n",
              "      <th>game</th>\n",
              "      <td>trò chơi</td>\n",
              "    </tr>\n",
              "    <tr>\n",
              "      <th>app</th>\n",
              "      <td>ứng dụng</td>\n",
              "    </tr>\n",
              "    <tr>\n",
              "      <th>run</th>\n",
              "      <td>chạy</td>\n",
              "    </tr>\n",
              "    <tr>\n",
              "      <th>startup</th>\n",
              "      <td>khởi nghiệp</td>\n",
              "    </tr>\n",
              "    <tr>\n",
              "      <th>start-up</th>\n",
              "      <td>khởi nghiệp</td>\n",
              "    </tr>\n",
              "    <tr>\n",
              "      <th>comment</th>\n",
              "      <td>bình luận</td>\n",
              "    </tr>\n",
              "    <tr>\n",
              "      <th>like</th>\n",
              "      <td>thích</td>\n",
              "    </tr>\n",
              "    <tr>\n",
              "      <th>wow</th>\n",
              "      <td>ồ</td>\n",
              "    </tr>\n",
              "    <tr>\n",
              "      <th>oh</th>\n",
              "      <td>à</td>\n",
              "    </tr>\n",
              "    <tr>\n",
              "      <th>ah</th>\n",
              "      <td>à</td>\n",
              "    </tr>\n",
              "    <tr>\n",
              "      <th>bye</th>\n",
              "      <td>tạm biệt</td>\n",
              "    </tr>\n",
              "  </tbody>\n",
              "</table>\n",
              "</div>"
            ],
            "text/plain": [
              "                       vietnamese\n",
              "english                          \n",
              "fun                           vui\n",
              "phone                  điện thoại\n",
              "funny                      hay ho\n",
              "concept                   ý tưởng\n",
              "idea                      ý tưởng\n",
              "smartphone  điện thoại thông minh\n",
              "not                         không\n",
              "yes                            có\n",
              "capable                    có thể\n",
              "available                  có sẵn\n",
              "simp                      dại gái\n",
              "tech                    công nghệ\n",
              "string                      chuỗi\n",
              "camera                    máy ảnh\n",
              "earphone                 tai nghe\n",
              "headphone                tai nghe\n",
              "workshop             buổi tọa đàm\n",
              "talkshow             buổi tọa đàm\n",
              "share                     chia sẻ\n",
              "doc                      tài liệu\n",
              "avoid                       tránh\n",
              "mobile                 điện thoại\n",
              "game                     trò chơi\n",
              "app                      ứng dụng\n",
              "run                          chạy\n",
              "startup               khởi nghiệp\n",
              "start-up              khởi nghiệp\n",
              "comment                 bình luận\n",
              "like                        thích\n",
              "wow                             ồ\n",
              "oh                              à\n",
              "ah                              à\n",
              "bye                      tạm biệt"
            ]
          },
          "metadata": {
            "tags": []
          },
          "execution_count": 69
        }
      ]
    },
    {
      "cell_type": "code",
      "metadata": {
        "id": "h20nkIzI9LpF",
        "outputId": "278e9d67-c5c2-41a0-902f-aa2b8730a05b",
        "colab": {
          "base_uri": "https://localhost:8080/",
          "height": 669
        }
      },
      "source": [
        "shortform"
      ],
      "execution_count": 70,
      "outputs": [
        {
          "output_type": "execute_result",
          "data": {
            "text/html": [
              "<div>\n",
              "<style scoped>\n",
              "    .dataframe tbody tr th:only-of-type {\n",
              "        vertical-align: middle;\n",
              "    }\n",
              "\n",
              "    .dataframe tbody tr th {\n",
              "        vertical-align: top;\n",
              "    }\n",
              "\n",
              "    .dataframe thead th {\n",
              "        text-align: right;\n",
              "    }\n",
              "</style>\n",
              "<table border=\"1\" class=\"dataframe\">\n",
              "  <thead>\n",
              "    <tr style=\"text-align: right;\">\n",
              "      <th></th>\n",
              "      <th>long</th>\n",
              "    </tr>\n",
              "    <tr>\n",
              "      <th>short</th>\n",
              "      <th></th>\n",
              "    </tr>\n",
              "  </thead>\n",
              "  <tbody>\n",
              "    <tr>\n",
              "      <th>hnay</th>\n",
              "      <td>hôm nay</td>\n",
              "    </tr>\n",
              "    <tr>\n",
              "      <th>k</th>\n",
              "      <td>không</td>\n",
              "    </tr>\n",
              "    <tr>\n",
              "      <th>ko</th>\n",
              "      <td>không</td>\n",
              "    </tr>\n",
              "    <tr>\n",
              "      <th>hqua</th>\n",
              "      <td>hôm qua</td>\n",
              "    </tr>\n",
              "    <tr>\n",
              "      <th>htrc</th>\n",
              "      <td>hôm trước</td>\n",
              "    </tr>\n",
              "    <tr>\n",
              "      <th>bh</th>\n",
              "      <td>bây giờ</td>\n",
              "    </tr>\n",
              "    <tr>\n",
              "      <th>bg</th>\n",
              "      <td>bây giờ</td>\n",
              "    </tr>\n",
              "    <tr>\n",
              "      <th>h</th>\n",
              "      <td>giờ</td>\n",
              "    </tr>\n",
              "    <tr>\n",
              "      <th>cn</th>\n",
              "      <td>công nghệ</td>\n",
              "    </tr>\n",
              "    <tr>\n",
              "      <th>khg</th>\n",
              "      <td>không</td>\n",
              "    </tr>\n",
              "    <tr>\n",
              "      <th>ncl</th>\n",
              "      <td>nói chung là</td>\n",
              "    </tr>\n",
              "    <tr>\n",
              "      <th>đc</th>\n",
              "      <td>được</td>\n",
              "    </tr>\n",
              "    <tr>\n",
              "      <th>dc</th>\n",
              "      <td>được</td>\n",
              "    </tr>\n",
              "    <tr>\n",
              "      <th>kbh</th>\n",
              "      <td>không bao giờ</td>\n",
              "    </tr>\n",
              "    <tr>\n",
              "      <th>qtqd</th>\n",
              "      <td>quá trời quá đất</td>\n",
              "    </tr>\n",
              "    <tr>\n",
              "      <th>nma</th>\n",
              "      <td>nhưng mà</td>\n",
              "    </tr>\n",
              "    <tr>\n",
              "      <th>nhma</th>\n",
              "      <td>nhưng mà</td>\n",
              "    </tr>\n",
              "    <tr>\n",
              "      <th>bn</th>\n",
              "      <td>bao nhiêu</td>\n",
              "    </tr>\n",
              "    <tr>\n",
              "      <th>bt</th>\n",
              "      <td>bình thường</td>\n",
              "    </tr>\n",
              "  </tbody>\n",
              "</table>\n",
              "</div>"
            ],
            "text/plain": [
              "                   long\n",
              "short                  \n",
              "hnay            hôm nay\n",
              "k                 không\n",
              "ko                không\n",
              "hqua            hôm qua\n",
              "htrc          hôm trước\n",
              "bh              bây giờ\n",
              "bg              bây giờ\n",
              "h                   giờ\n",
              "cn            công nghệ\n",
              "khg               không\n",
              "ncl        nói chung là\n",
              "đc                 được\n",
              "dc                 được\n",
              "kbh       không bao giờ\n",
              "qtqd   quá trời quá đất\n",
              "nma            nhưng mà\n",
              "nhma           nhưng mà\n",
              "bn            bao nhiêu\n",
              "bt          bình thường"
            ]
          },
          "metadata": {
            "tags": []
          },
          "execution_count": 70
        }
      ]
    },
    {
      "cell_type": "code",
      "metadata": {
        "id": "HQq-ykev0oc7",
        "outputId": "d2036af0-7f14-40c7-e68c-d5487d2e8bde",
        "colab": {
          "base_uri": "https://localhost:8080/",
          "height": 103
        }
      },
      "source": [
        "reviews.loc[1300]"
      ],
      "execution_count": null,
      "outputs": [
        {
          "output_type": "execute_result",
          "data": {
            "application/vnd.google.colaboratory.intrinsic+json": {
              "type": "string"
            },
            "text/plain": [
              "' Bạn bè bảo đi thử quán gia truyền nên đi Thề luôn chưa thấy quán bít tết nào tệ như điểm cũng dễ nhưng cầu thang di chuyển thì bé kiểu cổ ngày xưa bậc cao mà người đi phải lách Mình ngồi tầng nhưng nhìn chung chật nóng bàn kê san sát buổi tối mà đèn thì bật như kiểu tiết cảm tưởng như thời bao viên phục vụ Bàn người mà mang có đĩa dưa chuột bé gọi để hỏi thêm dưa chuột thì gọi mãi không thấy suất ăn của nó mới là quá kinh Mình gọi bánh mỳ chảo dăm bông trứng lòng đào thì mang cái chảo nhìn như đồ ăn trứng đến lòng trắng còn chảy nhão ra chưa thịt thì khô và Suất bít tết thì ngấy kinh một lượng mỡ ngập ngụa mà không có trứng cháy ở khoai tây lèo pate hộp nên cứng mà thịt bò thì dai thôi rồi cắt còn chẳng cắt hiểu vì sao quán vẫn khẩu vị tệ Thề không bao giờ quay trở'"
            ]
          },
          "metadata": {
            "tags": []
          },
          "execution_count": 6
        }
      ]
    },
    {
      "cell_type": "code",
      "metadata": {
        "id": "-9pX75ls0odB"
      },
      "source": [
        "# Loại bỏ kí tự đặc biệt và chuyển thành chữ cái viết thường\n",
        "import re \n",
        "\n",
        "def preprocessor(text):\n",
        "    \"\"\" Return a cleaned version of text\n",
        "    \"\"\"\n",
        "    # Remove HTML markup\n",
        "    text = re.sub('<[^>]*>', '', text)\n",
        "    # Save emoticons for later appending\n",
        "    emoticons = re.findall('(?::|;|=)(?:-)?(?:\\)|\\(|D|P)', text)\n",
        "    # Remove any non-word character and append the emoticons,\n",
        "    # removing the nose character for standarization. Convert to lower case\n",
        "    text = (re.sub('[\\W]+', ' ', text.lower()) + ' ' + ' '.join(emoticons).replace('-', ' '))\n",
        "    \n",
        "    #Loại bỏ các chữ cái lặp nhau\n",
        "    length = len(text)\n",
        "    char = 0\n",
        "    while char <length-1:\n",
        "        if text[char] == text[char+1]:\n",
        "            text = text[:char]+text[char+1:]\n",
        "            #print(text)\n",
        "            length-=1\n",
        "            continue\n",
        "        char+=1\n",
        "    #loại bỏ số  và các chữ cái lạ:\n",
        "    digits_and_characters = 'aăâbcdđeêfghijklmnoôơpqrstuưvxywzáàảãạắằẳẵặấầẩẫậéèẻẽẹếềểễệíìỉĩịóòỏõọốồổỗộớờởỡợúùủũụứừửữựýỳỷỹỵ(?::|;|=)(?:-)?(?:\\)|\\(|D|P) '\n",
        "    text = ''.join([i for i in text if i in digits_and_characters])\n",
        "\n",
        "    text_split = text.split()\n",
        "    #print(text_split)\n",
        "    for i in range(len(text_split)):\n",
        "      t = text_split[i]\n",
        "      if t in englishwords.index:\n",
        "        text_split[i] = str(englishwords.loc[t, \"vietnamese\"])\n",
        "      elif t in shortform.index:\n",
        "        text_split[i] = str(shortform.loc[t,\"long\"]) \n",
        "    #print(text_split)\n",
        "    text = ' '.join(text_split)\n",
        "    return text\n"
      ],
      "execution_count": 78,
      "outputs": []
    },
    {
      "cell_type": "code",
      "metadata": {
        "id": "gHn2VS470odF",
        "outputId": "9a274cb6-5946-447c-f205-a32437e9b5af",
        "colab": {
          "base_uri": "https://localhost:8080/"
        }
      },
      "source": [
        "print(preprocessor('ngoonnnnnnnn quáaaaaaa trời ơiiii oiiii not yes ko <abcxyz> <345345345> |||| 12345맛있고'))"
      ],
      "execution_count": 76,
      "outputs": [
        {
          "output_type": "stream",
          "text": [
            "['ngon', 'quáa', 'trời', 'ơi', 'oi', 'not', 'yes', 'ko']\n",
            "['ngon', 'quáa', 'trời', 'ơi', 'oi', 'không', 'có', 'không']\n",
            "ngon quáa trời ơi oi không có không\n"
          ],
          "name": "stdout"
        }
      ]
    },
    {
      "cell_type": "code",
      "metadata": {
        "id": "Y1KwuHsR0odJ",
        "outputId": "0b2c7b45-5edb-4b49-e066-8f3fd9e27237",
        "colab": {
          "base_uri": "https://localhost:8080/"
        }
      },
      "source": [
        "# get rid of special characters and convert to lower case\n",
        "for i in range (reviews.shape[0]):\n",
        "    reviews.loc[i] = preprocessor(reviews.loc[i])\n",
        "reviews.head(10)"
      ],
      "execution_count": 79,
      "outputs": [
        {
          "output_type": "stream",
          "text": [
            "/usr/local/lib/python3.6/dist-packages/pandas/core/indexing.py:670: SettingWithCopyWarning: \n",
            "A value is trying to be set on a copy of a slice from a DataFrame\n",
            "\n",
            "See the caveats in the documentation: https://pandas.pydata.org/pandas-docs/stable/user_guide/indexing.html#returning-a-view-versus-a-copy\n",
            "  iloc._setitem_with_indexer(indexer, value)\n"
          ],
          "name": "stderr"
        },
        {
          "output_type": "execute_result",
          "data": {
            "text/plain": [
              "4966    thậpkỷ tôi đến quán rất thường saunày thithoản...\n",
              "1688    vì trường mình ngày trước gần đây nên có qua ă...\n",
              "2732    hômnay sinhnhật em e mình thích ăn mà các quán...\n",
              "4253    mình đi ờ thì vào cái là các em mang menu ra đ...\n",
              "3715    ngọc mai vàng ưng nhất là cái khôngian và vừa ...\n",
              "798                          salad cáhồi tươi ngon hấpdẫn\n",
              "2853      ng chỉ nên ăn cái dễ ngán chấtlượng kém hơn trc\n",
              "720     chỗ bufet dườngnhư là quenthuộc nhất hànội khô...\n",
              "4302              quán tuyệt ngon có congái xinhxắn hihih\n",
              "4107    bị nghiện đi ăn bufet ở đây thích món bò nướng...\n",
              "Name: Review, dtype: object"
            ]
          },
          "metadata": {
            "tags": []
          },
          "execution_count": 79
        }
      ]
    },
    {
      "cell_type": "code",
      "metadata": {
        "id": "xSb0xRcZ0odO",
        "outputId": "4f1c4c8e-5e2f-44a6-b284-25be70c5776d",
        "colab": {
          "base_uri": "https://localhost:8080/",
          "height": 120
        }
      },
      "source": [
        "reviews.loc[1300]"
      ],
      "execution_count": 80,
      "outputs": [
        {
          "output_type": "execute_result",
          "data": {
            "application/vnd.google.colaboratory.intrinsic+json": {
              "type": "string"
            },
            "text/plain": [
              "'bạnbè bảo đi thử quán giatruyền nên đi thề luôn chưa thấy quán bít tết nào tệ như điểm cũng dễ nhưng cầuthang dichuyển thì bé kiểu cổ ngàyxưa bậc cao mà người đi phải lách mình ngồi tầng nhưng nhìnchung chật nóng bàn kê sansát buổi tối mà đèn thì bật như kiểu tiết cảmtưởng như thời baoviên phụcvụ bàn người mà mang có đĩa dưachuột bé gọi để hỏi thêm dưachuột thì gọi mãi không thấy suất ăn của nó mới là quá kinh mình gọi bánh mỳ chảo dăm bông trứng lòngđào thì mang cái chảo nhìn như đồ ăn trứng đến lòngtrắng còn chảy nhão ra chưa thịt thì khô và suất bít tết thì ngấy kinh một lượng mỡ ngậpngụa mà không có trứng cháy ở khoaitây lèo pate hộp nên cứng mà thịt bò thì dai thôi rồi cắt còn chẳng cắt hiểu vì sao quán vẫn khẩuvị tệ thề không baogiờ quay trở'"
            ]
          },
          "metadata": {
            "tags": []
          },
          "execution_count": 80
        }
      ]
    },
    {
      "cell_type": "code",
      "metadata": {
        "id": "fWa3fu4Y0odS",
        "outputId": "60e73c91-2989-4dcd-c730-a79f03913a05",
        "colab": {
          "base_uri": "https://localhost:8080/"
        }
      },
      "source": [
        "from pyvi import ViTokenizer\n",
        "for i in range (reviews.shape[0]):\n",
        "    reviews.loc[i] = ViTokenizer.tokenize(reviews.loc[i]).replace('_','')\n",
        "    "
      ],
      "execution_count": 81,
      "outputs": [
        {
          "output_type": "stream",
          "text": [
            "/usr/local/lib/python3.6/dist-packages/pandas/core/indexing.py:670: SettingWithCopyWarning: \n",
            "A value is trying to be set on a copy of a slice from a DataFrame\n",
            "\n",
            "See the caveats in the documentation: https://pandas.pydata.org/pandas-docs/stable/user_guide/indexing.html#returning-a-view-versus-a-copy\n",
            "  iloc._setitem_with_indexer(indexer, value)\n"
          ],
          "name": "stderr"
        }
      ]
    },
    {
      "cell_type": "code",
      "metadata": {
        "id": "auV8qWHc0odW",
        "outputId": "832d988f-03c5-4cbb-b34f-202f3d0d40c9",
        "colab": {
          "base_uri": "https://localhost:8080/"
        }
      },
      "source": [
        "print(reviews.loc[1300], labels.loc[1300])"
      ],
      "execution_count": 82,
      "outputs": [
        {
          "output_type": "stream",
          "text": [
            "bạnbè bảo đi thử quán giatruyền nên đi thề luôn chưa thấy quán bít tết nào tệ như điểm cũng dễ nhưng cầuthang dichuyển thì bé kiểu cổ ngàyxưa bậc cao mà người đi phải lách mình ngồi tầng nhưng nhìnchung chật nóng bàn kê sansát buổi tối mà đèn thì bật như kiểu tiết cảmtưởng như thời baoviên phụcvụ bàn người mà mang có đĩa dưachuột bé gọi để hỏi thêm dưachuột thì gọi mãi không thấy suất ăn của nó mới là quá kinh mình gọi bánh mỳ chảo dăm bông trứng lòngđào thì mang cái chảo nhìn như đồ ăn trứng đến lòngtrắng còn chảy nhão ra chưa thịt thì khô và suất bít tết thì ngấy kinh một lượng mỡ ngậpngụa mà không có trứng cháy ở khoaitây lèo pate hộp nên cứng mà thịt bò thì dai thôi rồi cắt còn chẳng cắt hiểu vì sao quán vẫn khẩuvị tệ thề không baogiờ quay trở -1.0\n"
          ],
          "name": "stdout"
        }
      ]
    },
    {
      "cell_type": "code",
      "metadata": {
        "scrolled": true,
        "id": "oIn122Jv0oda",
        "outputId": "891b10f2-70f6-4709-9a72-41f0733d9284",
        "colab": {
          "base_uri": "https://localhost:8080/"
        }
      },
      "source": [
        "from collections import Counter\n",
        "\n",
        "vocab = Counter()\n",
        "for twit in reviews:\n",
        "    for word in twit.split(' '):\n",
        "        vocab[word] += 1\n",
        "\n",
        "vocab.most_common(10)"
      ],
      "execution_count": 83,
      "outputs": [
        {
          "output_type": "execute_result",
          "data": {
            "text/plain": [
              "[('không', 9793),\n",
              " ('mình', 8883),\n",
              " ('ăn', 8704),\n",
              " ('là', 7181),\n",
              " ('thì', 7050),\n",
              " ('có', 6844),\n",
              " ('và', 5857),\n",
              " ('cũng', 4739),\n",
              " ('quán', 4704),\n",
              " ('rất', 3730)]"
            ]
          },
          "metadata": {
            "tags": []
          },
          "execution_count": 83
        }
      ]
    },
    {
      "cell_type": "code",
      "metadata": {
        "id": "pYFG2VLF0ode",
        "outputId": "f01682c4-36ca-453c-a784-cc73e9beb945",
        "colab": {
          "base_uri": "https://localhost:8080/"
        }
      },
      "source": [
        "with open('./stopwords_vn.txt') as f:\n",
        "    stopwords_vn = f.read().splitlines()\n",
        "stopwords_vn[:10]"
      ],
      "execution_count": 84,
      "outputs": [
        {
          "output_type": "execute_result",
          "data": {
            "text/plain": [
              "['alô', 'aha', 'ai', 'aiai', 'ainấy', 'aiđó', 'alô', 'amen', 'anh', 'anhấy']"
            ]
          },
          "metadata": {
            "tags": []
          },
          "execution_count": 84
        }
      ]
    },
    {
      "cell_type": "code",
      "metadata": {
        "id": "h6y4WJmv0odk",
        "outputId": "6be43295-7711-49da-ce45-c64c8bc6cabb",
        "colab": {
          "base_uri": "https://localhost:8080/"
        }
      },
      "source": [
        "import nltk\n",
        "nltk.download('stopwords')"
      ],
      "execution_count": 85,
      "outputs": [
        {
          "output_type": "stream",
          "text": [
            "[nltk_data] Downloading package stopwords to /root/nltk_data...\n",
            "[nltk_data]   Package stopwords is already up-to-date!\n"
          ],
          "name": "stdout"
        },
        {
          "output_type": "execute_result",
          "data": {
            "text/plain": [
              "True"
            ]
          },
          "metadata": {
            "tags": []
          },
          "execution_count": 85
        }
      ]
    },
    {
      "cell_type": "code",
      "metadata": {
        "id": "0KPB2h-N0odn"
      },
      "source": [
        "from nltk.corpus import stopwords\n",
        "stopwords_eng = stopwords.words('english')"
      ],
      "execution_count": 86,
      "outputs": []
    },
    {
      "cell_type": "code",
      "metadata": {
        "id": "WReHqA9D0ods"
      },
      "source": [
        "stopwords = stopwords_vn + stopwords_eng"
      ],
      "execution_count": 87,
      "outputs": []
    },
    {
      "cell_type": "code",
      "metadata": {
        "id": "fEMrnFvW0odv",
        "outputId": "80c939ef-1e02-4530-a40a-4ad1fff1dbf2",
        "colab": {
          "base_uri": "https://localhost:8080/"
        }
      },
      "source": [
        "vocab_reduced = Counter()\n",
        "# Go through all of the items of vocab using vocab.items() and pick only words that are not in 'stop_words' \n",
        "# and save them in vocab_reduced\n",
        "for w, c in vocab.items():\n",
        "    if not w in stopwords:\n",
        "        vocab_reduced[w]=c\n",
        "\n",
        "vocab_reduced.most_common(10)"
      ],
      "execution_count": 88,
      "outputs": [
        {
          "output_type": "execute_result",
          "data": {
            "text/plain": [
              "[('không', 9793),\n",
              " ('quán', 4704),\n",
              " ('mà', 3632),\n",
              " ('lại', 3094),\n",
              " ('đồ', 3053),\n",
              " ('ngon', 2912),\n",
              " ('đi', 2855),\n",
              " ('gọi', 2564),\n",
              " ('nhânviên', 2363),\n",
              " ('món', 2172)]"
            ]
          },
          "metadata": {
            "tags": []
          },
          "execution_count": 88
        }
      ]
    },
    {
      "cell_type": "code",
      "metadata": {
        "id": "7os2FPx90odz",
        "outputId": "5f7fb548-588b-421e-f174-23b93a42d258",
        "colab": {
          "base_uri": "https://localhost:8080/"
        }
      },
      "source": [
        "from sklearn.feature_extraction.text import CountVectorizer\n",
        "bow = CountVectorizer(stop_words = stopwords, min_df = 5, ngram_range= (2,3))\n",
        "bag = bow.fit_transform(reviews)\n",
        "print(bag.shape)\n",
        "print(bow.get_feature_names())"
      ],
      "execution_count": 140,
      "outputs": [
        {
          "output_type": "stream",
          "text": [
            "(5914, 5413)\n",
            "['aeon mal', 'anhchị chủ', 'anhchị nhânviên', 'anhchị phụcvụ', 'bachỉ bò', 'banđầu quán', 'bao không', 'bef steak', 'bingsu ngon', 'bingsu trà', 'bit tết', 'biển quán', 'bufet hảisản', 'bufet không', 'bufet lẩu', 'bufet lẩu nướng', 'bufet mà', 'bufet món', 'bufet nướng', 'bufet thịt', 'buồn không', 'bàitrí khá', 'bàn bàn', 'bàn bé', 'bàn bìnhthường', 'bàn bảo', 'bàn bếp', 'bàn bọn', 'bàn chỗ', 'bàn chờ', 'bàn cạnh', 'bàn cạnh gọi', 'bàn cửasổ', 'bàn fody', 'bàn ghế', 'bàn ghế không', 'bàn gọi', 'bàn hai', 'bàn hôm', 'bàn hơi', 'bàn khá', 'bàn không', 'bàn lại', 'bàn mà', 'bàn món', 'bàn ngoàitrời', 'bàn nhânviên', 'bàn nướng', 'bàn order', 'bàn phụcvụ', 'bàn quán', 'bàn sát', 'bàn table', 'bàn tablenow', 'bàn trc', 'bàn tròn', 'bàn trống', 'bàn tầng', 'bàn view', 'bàn xong', 'bàn xungquanh', 'bàn đi', 'bàn đông', 'bàn đấy', 'bàn đồ', 'bàn độ', 'bàn đợi', 'bày trí', 'bánh bánh', 'bánh bánh bột', 'bánh bánh ngon', 'bánh bé', 'bánh bình', 'bánh bún', 'bánh bảo', 'bánh bột', 'bánh bột lọc', 'bánh chocolate', 'bánh chả', 'bánh chậu', 'bánh chẳng', 'bánh cuộn', 'bánh cá', 'bánh cứng', 'bánh dai', 'bánh dày', 'bánh gato', 'bánh giá', 'bánh giòn', 'bánh gạo', 'bánh gọi', 'bánh hình', 'bánh hơi', 'bánh kem', 'bánh khá', 'bánh khô', 'bánh không', 'bánh không ngon', 'bánh lan', 'bánh lan trứng', 'bánh lại', 'bánh miếng', 'bánh mouse', 'bánh mua', 'bánh mà', 'bánh mặn', 'bánh mềm', 'bánh mỳ', 'bánh mỳ chảo', 'bánh mỳ nướng', 'bánh ngon', 'bánh ngon mà', 'bánh nguội', 'bánh nhân', 'bánh nhânviên', 'bánh nóng', 'bánh piza', 'bánh quán', 'bánh ram', 'bánh red', 'bánh sinhnhật', 'bánh siêu', 'bánh su', 'bánh su kem', 'bánh sốt', 'bánh thơm', 'bánh thử', 'bánh tiramisu', 'bánh tiền', 'bánh toàn', 'bánh trà', 'bánh tròn', 'bánh trứng', 'bánh tầm', 'bánh uống', 'bánh vị', 'bánh vỏ', 'bánh yêu', 'bánh đi', 'bánh đồ', 'bánh đồ uống', 'bánhbao kim', 'bánhbao kimsa', 'bánhbao ngon', 'bánhbao xáxíu', 'bánhcanh ghẹ', 'bánhmì bơ', 'bánhmì bơ tỏi', 'bánhmì chảo', 'bánhmì không', 'bánhmì ngon', 'bánhmì nướng', 'bánhmì sốt', 'bánhmì thịt', 'bánhrán mặn', 'bánhtráng nướng', 'bánhtráng trộn', 'bánhtôm hồ', 'bánhtôm hồ tây', 'bánhxèo nhật', 'bánhđa cua', 'báo lại', 'bát bánhđa', 'bát bé', 'bát bún', 'bát canh', 'bát cháo', 'bát cháo sườn', 'bát chè', 'bát cơm', 'bát gạo', 'bát không', 'bát mà', 'bát mì', 'bát mắm', 'bát mỳ', 'bát nướchấm', 'bát phở', 'bát rau', 'bát súp', 'bát sốt', 'bát xôi', 'bát đi', 'bát đá', 'bát đĩa', 'bát đũa', 'bát ốc', 'bé bé', 'bé bé xinh', 'bé chỗ', 'bé không', 'bé lại', 'bé mà', 'bé nhânviên', 'bé quán', 'bé tí', 'bé tí mà', 'bé títẹo', 'bé tầng', 'bé tẹo', 'bé tẹo mà', 'bé xinh', 'bé xíu', 'bé đi', 'béo béo', 'béo mà', 'béo ngậy', 'bê bát', 'bê không', 'bê nồi', 'bê đĩa', 'bê đồ', 'bình chả', 'bình gọi', 'bình hơi', 'bình không', 'bình không đặc', 'bình nhânviên', 'bình quán', 'bình trà', 'bình đồ', 'bìnhthường bao', 'bìnhthường gọi', 'bìnhthường hơi', 'bìnhthường không', 'bìnhthường không ngon', 'bìnhthường không đắt', 'bìnhthường không đặcsắc', 'bìnhthường mà', 'bìnhthường mà giá', 'bìnhthường quán', 'bìnhthường toàn', 'bìnhthường đi', 'bít tết', 'bít tết hoè', 'bít tết sốt', 'bò bít', 'bò bít tết', 'bò bò', 'bò băm', 'bò dai', 'bò gà', 'bò khá', 'bò khô', 'bò không', 'bò kim', 'bò mà', 'bò mềm', 'bò mỹ', 'bò ngon', 'bò nhúng', 'bò nướng', 'bò sốt', 'bò sốt tiêu', 'bò thịt', 'bò toàn', 'bò tẩm', 'bò viên', 'bò xào', 'bò úc', 'bò đồ', 'bù lại', 'bù lại chấtlượng', 'bùi bùi', 'bún bún', 'bún cá', 'bún gọi', 'bún hơi', 'bún hảisản', 'bún khá', 'bún không', 'bún ngon', 'bún nướcdùng', 'bún riêu', 'bún thái', 'bún thịt', 'bún thịt nướng', 'bún đậu', 'bún ốc', 'búnbò huế', 'búnchả ngon', 'bơ không', 'bơ tỏi', 'bưng đồ', 'bạc sỉu', 'bạnbè không', 'bạnbè ngườithân', 'bảo bàn', 'bảo bánh', 'bảo bảo', 'bảo bọn', 'bảo cháu', 'bảo chỗ', 'bảo chờ', 'bảo gọi', 'bảo không', 'bảo lại', 'bảo mà', 'bảo ngon', 'bảo nhânviên', 'bảo order', 'bảo phương', 'bảo quán', 'bảo tiền', 'bảo xe', 'bảo xong', 'bảo đi', 'bảo đấy', 'bảo đồ', 'bảo đổi', 'bảo đợi', 'bảovệ dắt', 'bảovệ dắt xe', 'bảovệ không', 'bảovệ trông', 'bảovệ trông xe', 'bẩn bẩn', 'bẩn không', 'bật hòa', 'bật nhạc', 'bật điềuhoà', 'bắp bò', 'bếp ga', 'bếp không', 'bếp nướng', 'bọn bàn', 'bọn gọi', 'bọn gọi nồi', 'bọn khá', 'bọn không', 'bọn lại', 'bọn nhânviên', 'bọn order', 'bọn quán', 'bọn tầng', 'bọn uống', 'bọn xong', 'bọn đi', 'bọn đợi', 'bổ rẻ', 'bột bánh', 'bột bột', 'bột chiên', 'bột không', 'bột lọc', 'bột mì', 'bột trà', 'bờ hồ', 'bở không', 'bụng không', 'bụng đi', 'bụng đói', 'bữa gọi', 'bữa trưa', 'bữa tối', 'bực không', 'cacao trứng', 'cafe cốt', 'cafe cốt dừa', 'cafe không', 'cafe mà', 'cafe quán', 'cafe trứng', 'cafe đẹp', 'cam sả', 'canh chua', 'canh không', 'canh kim', 'canh miso', 'canh rong', 'canh rong biển', 'cay cay', 'cay khá', 'cay không', 'cay mà', 'cay ngon', 'cay phômai', 'cay vs', 'cay xè', 'chai bia', 'chai nướckhoáng', 'chai nướclọc', 'chanh leo', 'check lại', 'check quán', 'chese không', 'chi gọi', 'chi hơi', 'chi không', 'chi ngon', 'chiên bơ', 'chiên giòn', 'chiên hơi', 'chiên không', 'chiên lại', 'chiên phồng', 'chiên tạm', 'chiên xù', 'chiều không', 'chiều quán', 'chu đồ', 'chua cay', 'chua chua', 'chua chua không', 'chua chuacay', 'chua chuacay cay', 'chua chuangọt', 'chua dịu', 'chua không', 'chua lại', 'chua mà', 'chua vị', 'chuacay cay', 'chug không', 'chuyên không', 'chuyên nhânviên', 'chuyên đồ', 'chuyênghiệp không', 'chuyến đi', 'chuẩn vị', 'chuỗi nhàhàng', 'chào không', 'chào tiếng', 'chán chán', 'chán chả', 'chán gọi', 'chán không', 'chán không lại', 'chán khôngthể', 'chán kinh', 'chán kinhkhủng', 'chán lại', 'chán lắm', 'chán mà', 'chán phụcvụ', 'chán quán', 'chán đi', 'chán đắt', 'chán đồ', 'cháo sườn', 'cháo sườn sụn', 'chát chấtlượng', 'cháy không', 'cháy đen', 'chân châu', 'chân gà', 'chân gà rút', 'chân quán', 'chân trâu', 'châu âu', 'chè bơ', 'chè chuối', 'chè chè', 'chè hoa', 'chè hơi', 'chè khá', 'chè không', 'chè khúc', 'chè khúc bạch', 'chè lại', 'chè mix', 'chè mà', 'chè ngon', 'chè quán', 'chè sương', 'chè thái', 'chè thậpcẩm', 'chè đỗ', 'chém gió', 'chê không', 'chê mà', 'chê món', 'chê đồ', 'chín không', 'chùa láng', 'chúc quán', 'chút không', 'chút mà', 'chút đi', 'chươngtrình khuyếnmãi', 'chươngtrình khuyếnmại', 'chươngtrình mua', 'chươngtrình mua tặng', 'chạy chươngtrình', 'chạy lại', 'chả buồn', 'chả chả', 'chả cá', 'chả cá lã', 'chả cốm', 'chả dám', 'chả gọi', 'chả không', 'chả không lại', 'chả lại', 'chả miếng', 'chả mà', 'chả mấy', 'chả ngon', 'chả nhânviên', 'chả nhẽ', 'chả quán', 'chả rẻ', 'chả thèm', 'chả thịt', 'chả tí', 'chả vị', 'chả đi', 'chả đông', 'chả đắt', 'chả đặc', 'chả đặcsắc', 'chảnh giá', 'chảnh không', 'chảnh mà', 'chảo gà', 'chảo không', 'chấm không', 'chấm sốt', 'chấm tương', 'chấpnhận chấtlượng', 'chấpnhận gọi', 'chấpnhận không', 'chấpnhận đồ', 'chất gọi', 'chất không', 'chất lg', 'chất nhật', 'chất đồ', 'chấtlượng bánh', 'chấtlượng bình', 'chấtlượng chẳng', 'chấtlượng cực', 'chấtlượng dịchvụ', 'chấtlượng giá', 'chấtlượng giácả', 'chấtlượng gọi', 'chấtlượng khá', 'chấtlượng không', 'chấtlượng kém', 'chấtlượng lại', 'chấtlượng món', 'chấtlượng ngon', 'chấtlượng nhânviên', 'chấtlượng ok', 'chấtlượng phục', 'chấtlượng phụcvụ', 'chấtlượng quán', 'chấtlượng thịt', 'chấtlượng trà', 'chấtlượng tuyệt', 'chấtlượng tuyệtvời', 'chấtlượng đi', 'chấtlượng đồ', 'chấtlượng đồ uống', 'chấtlượng ổn', 'chậm không', 'chật không', 'chật kín', 'chật phụcvụ', 'chắchắn không', 'chắchắn không lại', 'chắchắn lại', 'chắchắn quán', 'chắchắn thử', 'chắn không', 'chắn không lại', 'chắn lại', 'chẳng buồn', 'chẳng chê', 'chẳng dám', 'chẳng gọi', 'chẳng không', 'chẳng lại', 'chẳng mà', 'chẳng món', 'chẳng mấy', 'chẳng ngon', 'chẳng nhânviên', 'chẳng nổi', 'chẳng quán', 'chẳng thèm', 'chẳng vị', 'chẳng đi', 'chẳng đặc', 'chẳng đặcsắc', 'chặt chém', 'chỗ bàn', 'chỗ bánh', 'chỗ bọn', 'chỗ chật', 'chỗ chỗ', 'chỗ giá', 'chỗ gọi', 'chỗ gửi', 'chỗ gửi xe', 'chỗ hơi', 'chỗ khá', 'chỗ không', 'chỗ không chỗ', 'chỗ kiểu', 'chỗ lại', 'chỗ mà', 'chỗ món', 'chỗ ngon', 'chỗ ngã', 'chỗ nhânviên', 'chỗ phụcvụ', 'chỗ quán', 'chỗ rộng', 'chỗ thoáng', 'chỗ thoải', 'chỗ thoảimái', 'chỗ thịt', 'chỗ tầng', 'chỗ uống', 'chỗ view', 'chỗ view đẹp', 'chỗ vỉahè', 'chỗ xe', 'chỗ xe không', 'chỗ xe rộng', 'chỗ xe thoải', 'chỗ đi', 'chỗ đông', 'chỗ đẹp', 'chỗ đồ', 'chỗ đỗ', 'chỗ đỗ xe', 'chờ bàn', 'chờ cổ', 'chờ gọi', 'chờ hơi', 'chờ khá', 'chờ không', 'chờ mà', 'chờ mãi', 'chờ món', 'chờ nhânviên', 'chờ nửa', 'chờ nửa tiếng', 'chờ phút', 'chờ tiếng', 'chờ xong', 'chờ đồ', 'chợ dừa', 'chụp choẹt', 'chụp hình', 'chụp lại', 'chụp ảnh', 'chụp ảnh check', 'chụp ảnh đẹp', 'chủ cửahàng', 'chủ lại', 'chủ nhânviên', 'chủ quán', 'chủ quán bảo', 'chủ quán không', 'chủ quán nhiệt', 'chủ quán nhiệtình', 'chủyếu toàn', 'chủđề màusắc', 'chủđề màusắc mà', 'chửi bậy', 'coca không', 'coi xe', 'combo gà', 'combo gọi', 'combo không', 'combo mà', 'come back', 'cua mà', 'cungcách phụcvụ', 'cuộn rau', 'cx không', 'cx ngon', 'cá cá', 'cá không', 'cá lã', 'cá lã vọng', 'cá mà', 'cá ngon', 'cá thịt', 'cá trứng', 'cá viên', 'cáhồi tươi', 'câu không', 'câu trảlời', 'cólẽ cơsở', 'cólẽ hơi', 'cólẽ hợp', 'cólẽ không', 'cólẽ quán', 'cólẽ thử', 'cónhânviên trông', 'cónhânviên đứng', 'công đi', 'côngnhận ngon', 'cút lộn', 'căng bụng', 'cũ không', 'cũg không', 'cơm bình', 'cơm bò', 'cơm canh', 'cơm cháy', 'cơm cuộn', 'cơm cơm', 'cơm gà', 'cơm gà sốt', 'cơm hơi', 'cơm khá', 'cơm khô', 'cơm không', 'cơm mà', 'cơm món', 'cơm ngon', 'cơm niêu', 'cơm nấu', 'cơm sườn', 'cơm thịt', 'cơm trắng', 'cơm trộn', 'cơm đồ', 'cơmrang hải', 'cười đùa', 'cạch không', 'cạch mặt', 'cạch quán', 'cạnh cửasổ', 'cạnh gọi', 'cạnh hàng', 'cạnh lại', 'cạnh quán', 'cảmgiác hơi', 'cảmgiác khá', 'cảmgiác không', 'cảmgiác kiểu', 'cảmgiác lừa', 'cảmgiác mà', 'cảmgiác nhânviên', 'cảmgiác quán', 'cảmgiác thoải', 'cảmgiác thoảimái', 'cảmgiác vị', 'cảmgiác ấm', 'cảmnhận bánh', 'cảmnhận không', 'cảmnhận quán', 'cảmnhận vị', 'cảo chiên', 'cảo tôm', 'cầu giấy', 'cắn miếng', 'cắt bánh', 'cắt miếng', 'cắt thịt', 'cặp đôi', 'cọng rau', 'cố mà', 'cốc cafe', 'cốc chanh', 'cốc chè', 'cốc giá', 'cốc kem', 'cốc khá', 'cốc không', 'cốc lại', 'cốc mà', 'cốc nc', 'cốc nhựa', 'cốc nướclọc', 'cốc size', 'cốc sữa', 'cốc toàn', 'cốc trà', 'cốc trà sữa', 'cốc trà đá', 'cốc uống', 'cốc vị', 'cốc đá', 'cốc đẹp', 'cốc đựng', 'cốt bánh', 'cốt dừa', 'cổ không', 'cổ mà', 'cổng trường', 'cộng duynhất', 'cộng khôngian', 'cộng nhânviên', 'cộng quán', 'cục tức', 'cứng cứng', 'cứng không', 'cứng kiểu', 'cứng đơ', 'cửa không', 'cửa quán', 'cửahàng bánh', 'cửahàng không', 'cực cực', 'cực ghét', 'cực hợp', 'cực món', 'cực ngon', 'cực quán', 'cực đẹp', 'cực ưng', 'cựckì thấtvọng', 'dai dai', 'dai không', 'dao dĩa', 'decor khá', 'decor không', 'decor kiểu', 'decor quán', 'decor đơngiản', 'decor đẹp', 'decor đồ', 'dim sum', 'ding tea', 'du ngoạn', 'du ngoạn ngắm', 'duthuyền hồ', 'duthuyền potomac', 'duynhất khôngian', 'duynhất quán', 'dám gọi', 'dám lại', 'dám uống', 'dân vănphòng', 'dãman mà', 'dê thịt', 'dĩa không', 'dậy đi', 'dắt xe', 'dắt xe hộ', 'dắt đi', 'dẻ sườn', 'dẻ sườn bò', 'dịchvụ không', 'dịp ghé', 'dịp lại', 'dịp lễ', 'dịp quán', 'dịp thử', 'dịp đi', 'dọn bàn', 'dọn đồ', 'dở không', 'dở mà', 'dừa khô', 'dừa không', 'dừa mà', 'dừa ngon', 'dừa thơm', 'dựng xe', 'earl grey', 'fan cuồng', 'feling tea', 'fody không', 'fody mà', 'fody quán', 'fre trà', 'ful bàn', 'ful chỗ', 'ghi món', 'ghi order', 'ghé lại', 'ghé quán', 'ghé thử', 'ghép bàn', 'ghét kiểu', 'ghê không', 'ghế chỗ', 'ghế không', 'ghế kiểu', 'ghế mà', 'ghế nhựa', 'ghế tầng', 'gian hơi', 'gian không', 'gian quán', 'gian rộng', 'gian tầng', 'giao hàng', 'giao động', 'giavị nêm', 'giađình đi', 'giá bufet', 'giá bánh', 'giá bát', 'giá bình', 'giá bìnhdân', 'giá bìnhthường', 'giá chát', 'giá chấtlượng', 'giá cx', 'giá cốc', 'giá giá', 'giá gọi', 'giá hơi', 'giá hơi chát', 'giá hơi đắt', 'giá hợp', 'giá hợplí', 'giá hợplý', 'giá khá', 'giá khá chát', 'giá khá hợp', 'giá khá rẻ', 'giá khá ổn', 'giá không', 'giá không hề', 'giá không rẻ', 'giá không đắt', 'giá lại', 'giá lại không', 'giá lại rẻ', 'giá lại đắt', 'giá menu', 'giá mà', 'giá món', 'giá mắc', 'giá ngang', 'giá ngon', 'giá nhânviên', 'giá ok', 'giá phảichăng', 'giá phụcvụ', 'giá quán', 'giá rẻ', 'giá set', 'giá suất', 'giá sách', 'giá tiền', 'giá tiền không', 'giá trung', 'giá trungbình', 'giá trà', 'giá trời', 'giá tầm', 'giá đi', 'giá đĩa', 'giá đấy', 'giá đắt', 'giá đồ', 'giá đồ uống', 'giá ổn', 'giácả bình', 'giácả chấtlượng', 'giácả hơi', 'giácả hợp', 'giácả hợplí', 'giácả hợplý', 'giácả khá', 'giácả không', 'giácả không đắt', 'giácả khôngian', 'giácả lại', 'giácả nhânviên', 'giácả phảichăng', 'giácả quán', 'giácả rẻ', 'giácả tầm', 'giácả đắt', 'giácả ổn', 'giáthành không', 'giòn giòn', 'giòn không', 'giòn mà', 'giòn ngon', 'giòn thịt', 'giảng võ', 'giọng miền', 'giới trẻ', 'giớithiệu bạnbè', 'giớithiệu món', 'giớithiệu quán', 'golden gate', 'gà bở', 'gà cay', 'gà chiên', 'gà cơm', 'gà giá', 'gà giòn', 'gà gà', 'gà gọi', 'gà hơi', 'gà hấp', 'gà khá', 'gà không', 'gà mà', 'gà món', 'gà mềm', 'gà ngon', 'gà nhânviên', 'gà nướng', 'gà nấm', 'gà phômai', 'gà rang', 'gà rang muối', 'gà rán', 'gà rút', 'gà rút xương', 'gà sốt', 'gà tẩm', 'gà tẩm ướp', 'gà viên', 'gà vs', 'gà vị', 'gà xong', 'gà xào', 'gà xào bắpcải', 'gà ướp', 'gái đi', 'góc phố', 'gói mì', 'gói trangtrí', 'gạo nâu', 'gấp vạn', 'gấp đôi', 'gấu đi', 'gắp miếng', 'gọi bàn', 'gọi bánh', 'gọi bánh mỳ', 'gọi bánhmì', 'gọi bánhtráng', 'gọi bát', 'gọi bình', 'gọi bình trà', 'gọi bò', 'gọi bún', 'gọi bảo', 'gọi cafe', 'gọi chai', 'gọi chanh', 'gọi cháo', 'gọi chè', 'gọi chảo', 'gọi chủ', 'gọi combo', 'gọi cơm', 'gọi cơm gà', 'gọi cốc', 'gọi cốc trà', 'gọi giá', 'gọi gà', 'gọi gọi', 'gọi hai', 'gọi hơi', 'gọi hồng', 'gọi hồng trà', 'gọi kem', 'gọi khá', 'gọi không', 'gọi không lại', 'gọi kiểu', 'gọi ly', 'gọi lại', 'gọi lẩu', 'gọi lẩu mà', 'gọi lẩu riêu', 'gọi matcha', 'gọi menu', 'gọi mà', 'gọi mãi', 'gọi mãi không', 'gọi mì', 'gọi món', 'gọi món gọi', 'gọi món không', 'gọi món mà', 'gọi món món', 'gọi mấy', 'gọi mấy món', 'gọi mỳ', 'gọi nc', 'gọi nem', 'gọi ngon', 'gọi ngô', 'gọi nhân', 'gọi nhânviên', 'gọi nv', 'gọi nướng', 'gọi nồi', 'gọi nồi lẩu', 'gọi nửa', 'gọi order', 'gọi phomai', 'gọi phụcvụ', 'gọi piza', 'gọi quán', 'gọi quảnlý', 'gọi quẩy', 'gọi rau', 'gọi salad', 'gọi set', 'gọi ship', 'gọi size', 'gọi suất', 'gọi suất búnchả', 'gọi suất cơm', 'gọi suất gà', 'gọi suất lẩu', 'gọi sườn', 'gọi sốt', 'gọi sữa', 'gọi thanhtoán', 'gọi thịt', 'gọi thịt bò', 'gọi thử', 'gọi thử món', 'gọi tiếp', 'gọi tiền', 'gọi tok', 'gọi toping', 'gọi toàn', 'gọi trc', 'gọi trà', 'gọi trà sữa', 'gọi trà xanh', 'gọi trà đào', 'gọi trứng', 'gọi tạm', 'gọi tầm', 'gọi uống', 'gọi vị', 'gọi xong', 'gọi xuất', 'gọi xôi', 'gọi đi', 'gọi điện', 'gọi điện bàn', 'gọi đĩa', 'gọi đĩa thịt', 'gọi đẹp', 'gọi đồ', 'gọi đồ không', 'gọi đồ mà', 'gọi đồ nhânviên', 'gọi đồ uống', 'gọi đồ xong', 'gọi đồ đồ', 'gọi đợi', 'gọi ấm', 'gọi ấm trà', 'gọi ốc', 'gợiý món', 'gửi không', 'gửi xe', 'gửi xe không', 'gửi xe quán', 'gửi đi', 'hai bát', 'hai cốc', 'hai gọi', 'hai không', 'hai miếng', 'hai món', 'hai nhânviên', 'hai trưng', 'hai tầng', 'hai vị', 'hai đứa', 'highly recomend', 'hn không', 'hn lại', 'ho wan', 'hoa mắt', 'hoa nhài', 'hoa đẹp', 'hoaquả dầm', 'hoaquả không', 'hoaquả mà', 'hoaquả tươi', 'hoài không', 'hoàn kiếm', 'hoàngđạo thuý', 'hoè nhai', 'hun khói', 'huế món', 'huỳnh thúc', 'huỳnh thúc kháng', 'hyvọng quán', 'hà nhânviên', 'hà nội', 'hà quán', 'hà thành', 'hà đi', 'hà đông', 'hàilòng chấtlượng', 'hàilòng không', 'hàilòng món', 'hàilòng phụcvụ', 'hàilòng quán', 'hàilòng tháiđộ', 'hàn quốc', 'hàng bánh', 'hàng bồ', 'hàng cạnh', 'hàng hàng', 'hàng kem', 'hàng khá', 'hàng không', 'hàng mà', 'hàng mành', 'hàng món', 'hàng ngon', 'hàng phở', 'hàng potomac', 'hàng potomac duthuyền', 'hàng quán', 'hàng trống', 'hàng tuần', 'hàng đồ', 'hành phi', 'hành xử', 'hànội không', 'hànội mà', 'hànội quán', 'hàu nướng', 'hàu sữa', 'há cảo', 'há cảo chiên', 'hãng trà', 'hãng trà sữa', 'hè nóng', 'hìnhnhư không', 'hìnhnhư quán', 'hôi hôi', 'hôm gọi', 'hôm hôm', 'hôm không', 'hôm lại', 'hôm mua', 'hôm mưa', 'hôm mấy', 'hôm quán', 'hôm sinhnhật', 'hôm thèm', 'hôm thử', 'hôm trc', 'hôm trời', 'hôm uống', 'hôm ănở', 'hôm đi', 'hôm đi gọi', 'hôm đi không', 'hôm đông', 'hôm đấy', 'hôm đấy gọi', 'hôm đấy đi', 'hômnay dịp', 'hômnay ghé', 'hômnay gọi', 'hômnay hơi', 'hômnay không', 'hômnay lại', 'hômnay mua', 'hômnay nhàhàng', 'hômnay quán', 'hômnay sinhnhật', 'hômnay thử', 'hômnay trời', 'hômnay đi', 'hômnay đầu', 'hômqua đi', 'hút mùi', 'hút thuốc', 'hơi buồn', 'hơi bàn', 'hơi bánh', 'hơi bánhmì', 'hơi bé', 'hơi bí', 'hơi bẩn', 'hơi cay', 'hơi chua', 'hơi chát', 'hơi chút', 'hơi chậm', 'hơi chật', 'hơi chỗ', 'hơi cảmgiác', 'hơi cứng', 'hơi dai', 'hơi dầu', 'hơi gian', 'hơi giá', 'hơi gọi', 'hơi hôm', 'hơi hơi', 'hơi kem', 'hơi khuất', 'hơi khó', 'hơi khóchịu', 'hơi khótính', 'hơi khô', 'hơi không', 'hơi khôngian', 'hơi kiểu', 'hơi kì', 'hơi lạ', 'hơi lại', 'hơi mà', 'hơi món', 'hơi mấy', 'hơi mắc', 'hơi mắc chút', 'hơi mặn', 'hơi ngon', 'hơi nguội', 'hơi ngấy', 'hơi nhânviên', 'hơi nhạt', 'hơi nóng', 'hơi phụcvụ', 'hơi quán', 'hơi sợ', 'hơi tháiđộ', 'hơi thất', 'hơi thấtvọng', 'hơi thịt', 'hơi tiếc', 'hơi tí', 'hơi tầm', 'hơi tầng', 'hơi tối', 'hơi uống', 'hơi vs', 'hơi vị', 'hơi đi', 'hơi đông', 'hơi đắt', 'hơi đồ', 'hơi đồ uống', 'hơi ồnào', 'hương thơm', 'hươngsen món', 'hươngvị không', 'hươngvị món', 'hạt rẻ', 'hạt sen', 'hải phòng', 'hảisản không', 'hảisản mà', 'hảisản tươi', 'hất hàm', 'hầunhư không', 'hầunhư tuần', 'hắc đế', 'hẳn quán', 'hẹn không', 'hẹn lại', 'hẹn đi', 'hề ngon', 'hề rẻ', 'hề vị', 'hề đông', 'hề đắt', 'hệthống hút', 'hệthống hút mùi', 'học không', 'học mà', 'học quán', 'học đi', 'họcsinh sinh', 'họcsinh sinhviên', 'họp lớp', 'hồ gươm', 'hồ hoàn', 'hồ trúc', 'hồ trúc bạch', 'hồ tây', 'hồi bé', 'hồi không', 'hồi quán', 'hồi trc', 'hồi xưa', 'hồi đi', 'hồi đấy', 'hồi đầu', 'hồng trà', 'hồng trà sữa', 'hộ xe', 'hộp bánh', 'hợp không', 'hợp khôngian', 'hợp khẩuvị', 'hợp lại', 'hợp mà', 'hợp nhânviên', 'hợp nhânviên phụcvụ', 'hợp phụcvụ', 'hợp túitiền', 'hợp vs', 'hợp vị', 'hợp đi', 'hợplý mà', 'hứa không', 'hữu huân', 'ice blended', 'kem bánh', 'kem béo', 'kem béo ngậy', 'kem chanh', 'kem chese', 'kem chua', 'kem chảy', 'kem dừa', 'kem hoaquả', 'kem hơi', 'kem kem', 'kem khá', 'kem không', 'kem kia', 'kem lại', 'kem matcha', 'kem mà', 'kem mặn', 'kem ngon', 'kem ngậy', 'kem nhânviên', 'kem sữa', 'kem trà', 'kem trà xanh', 'kem tràng', 'kem tràng tiền', 'kem tươi', 'kem vani', 'kem vị', 'kem xong', 'kem xôi', 'kem đắt', 'kem ốc', 'kem ốc quế', 'khen khen', 'khen không', 'khen ngon', 'khen quán', 'khen thử', 'khoai chiên', 'khoai không', 'khoai nghiền', 'khoai ngon', 'khoailang chiên', 'khoaitây chiên', 'khoaitây không', 'khoaitây lắc', 'khoaitây nghiền', 'khoái món', 'khu trungtâm', 'khu tậpthể', 'khu ẩmthực', 'khuphố cổ', 'khuyên chânthành', 'khuyên không', 'khuyếnmãi mua', 'khá bàn', 'khá bánh', 'khá bé', 'khá bình', 'khá bìnhthường', 'khá bắt', 'khá bắtmắt', 'khá chát', 'khá chất', 'khá chấtlượng', 'khá chật', 'khá chỗ', 'khá chỗ xe', 'khá decor', 'khá gian', 'khá gian quán', 'khá giá', 'khá giácả', 'khá gọi', 'khá hàilòng', 'khá hôm', 'khá hơi', 'khá hấp', 'khá hợp', 'khá kem', 'khá khá', 'khá khó', 'khá khóchịu', 'khá không', 'khá khôngian', 'khá khôngian quán', 'khá lạ', 'khá lại', 'khá lẩu', 'khá mà', 'khá món', 'khá mấy', 'khá mặtbằng', 'khá mềm', 'khá ngon', 'khá ngon mà', 'khá ngon nhânviên', 'khá nhiệt', 'khá nhiệtình', 'khá nhânviên', 'khá nhânviên phụcvụ', 'khá nhạt', 'khá nóng', 'khá nổibật', 'khá nổitiếng', 'khá ok', 'khá phongphú', 'khá phòng', 'khá phảichăng', 'khá phụcvụ', 'khá quán', 'khá rẻ', 'khá rộng', 'khá rộngrãi', 'khá sạch', 'khá sạchsẽ', 'khá sốt', 'khá thoáng', 'khá thoải', 'khá thoảimái', 'khá tháiđộ', 'khá thân', 'khá thơm', 'khá thất', 'khá thấtvọng', 'khá thịt', 'khá trangtrí', 'khá trà', 'khá trẻ', 'khá tươi', 'khá tầm', 'khá tầng', 'khá tệ', 'khá tối', 'khá uống', 'khá vị', 'khá yên', 'khá đa', 'khá đadạng', 'khá đi', 'khá đông', 'khá đông nhânviên', 'khá đầyđặn', 'khá đậm', 'khá đắt', 'khá đặc', 'khá đẹp', 'khá đồ', 'khá đồ uống', 'khá ưng', 'khá ấm', 'khá ấntượng', 'khá ồn', 'khá ổn', 'kháchàng không', 'kháchàng đi', 'khó gọi', 'khó không', 'khó khôngian', 'khó lại', 'khó mà', 'khó nhânviên', 'khó nuốt', 'khó quán', 'khó tiền', 'khó tả', 'khó uống', 'khó đi', 'khó đồ', 'khóchịu gọi', 'khóchịu không', 'khóchịu tháiđộ', 'khóchịu đi', 'khói bay', 'khô gà', 'khô không', 'khô khôngkhốc', 'khô mà', 'không bao', 'không baoh', 'không bufet', 'không buồn', 'không bàn', 'không bánh', 'không bánh không', 'không bánhmì', 'không báo', 'không bát', 'không bé', 'không béo', 'không bê', 'không bình', 'không bìnhthường', 'không bí', 'không bò', 'không bõ', 'không bù', 'không bún', 'không bảo', 'không bảo không', 'không bảovệ', 'không bật', 'không bắt', 'không bắtmắt', 'không bọn', 'không bở', 'không bực', 'không cay', 'không cay không', 'không chua', 'không chuyên', 'không chuyênghiệp', 'không chuẩn', 'không chào', 'không chán', 'không chân', 'không chè', 'không chê', 'không chêtrách', 'không chín', 'không chút', 'không chạy', 'không chả', 'không chảy', 'không chấm', 'không chấpnhận', 'không chấpnhận không', 'không chất', 'không chấtlượng', 'không chật', 'không chắchắn', 'không chẳng', 'không chỗ', 'không chỗ mà', 'không chỗ xe', 'không chờ', 'không chụp', 'không chụp ảnh', 'không chủ', 'không coi', 'không cá', 'không câu', 'không cónhânviên', 'không cơm', 'không cơsở', 'không cạnh', 'không cảithiện', 'không cảmgiác', 'không cảmnhận', 'không cảmnhận vị', 'không cảmtình', 'không cầm', 'không cầukì', 'không cắt', 'không cốc', 'không cộng', 'không cửahàng', 'không cực', 'không dai', 'không dám', 'không dám lại', 'không dám uống', 'không dạng', 'không dắt', 'không dịchvụ', 'không dịp', 'không dọn', 'không ghi', 'không ghé', 'không ghé lại', 'không gian', 'không giá', 'không giácả', 'không giòn', 'không giảithích', 'không giớithiệu', 'không gà', 'không góc', 'không gọi', 'không gọi gọi', 'không gọi lại', 'không gọi món', 'không gọi đồ', 'không gửi', 'không gửi xe', 'không hai', 'không hoaquả', 'không hài', 'không hàilòng', 'không hàng', 'không hòa', 'không hôm', 'không hômnay', 'không hút', 'không hơi', 'không hướngdẫn', 'không hảisản', 'không hẳn', 'không hẹn', 'không hề', 'không hề rẻ', 'không hề vị', 'không hề đông', 'không hề đắt', 'không hợp', 'không hợpkhẩuvị', 'không hợplý', 'không kem', 'không khen', 'không khoai', 'không khoaitây', 'không khoái', 'không khuyên', 'không khá', 'không kháchàng', 'không khó', 'không khóchịu', 'không khói', 'không khô', 'không không', 'không không chỗ', 'không không không', 'không không lại', 'không không mà', 'không không món', 'không không ngon', 'không khôngian', 'không khẩuvị', 'không khỏi', 'không kiểmtra', 'không kiểu', 'không kèm', 'không kém', 'không kĩ', 'không kịp', 'không lo', 'không lại', 'không lại cơsở', 'không lại gọi', 'không lại không', 'không lại quán', 'không lẩu', 'không lắm', 'không lắm không', 'không lỗi', 'không lựachọn', 'không matcha', 'không may', 'không maymắn', 'không menu', 'không miếng', 'không mong', 'không mongđợi', 'không mua', 'không mà', 'không mà không', 'không màlại', 'không mát', 'không mì', 'không món', 'không món món', 'không mùa', 'không mùi', 'không mùi thơm', 'không mùivị', 'không mấy', 'không mặcdù', 'không mặn', 'không mặt', 'không mềm', 'không mỳ', 'không nem', 'không ng', 'không ngon', 'không ngon bánh', 'không ngon chút', 'không ngon hàng', 'không ngon không', 'không ngon lại', 'không ngon lắm', 'không ngon mong', 'không ngon mà', 'không ngon mấy', 'không ngon quán', 'không ngon vị', 'không ngon đặcsắc', 'không ngán', 'không ngại', 'không ngấm', 'không ngấy', 'không ngờ', 'không nhiệt', 'không nhiệtình', 'không nhiệtình lắm', 'không nhàhàng', 'không nhân', 'không nhânviên', 'không nhânviên không', 'không nhânviên phụcvụ', 'không nhạt', 'không nhầm', 'không nhậnxét', 'không nhắc', 'không niềm', 'không niềmnở', 'không nuốt', 'không nv', 'không nát', 'không nóinăng', 'không nóng', 'không nướcdùng', 'không nướchấm', 'không nướng', 'không nấu', 'không nằm', 'không nồi', 'không nổi', 'không nổibật', 'không nở', 'không nở nụ', 'không nửa', 'không ok', 'không order', 'không pha', 'không phong', 'không phongcách', 'không phongphú', 'không phànàn', 'không phânbiệt', 'không phép', 'không phí', 'không phục', 'không phụcvụ', 'không piza', 'không quan', 'không quen', 'không quán', 'không quán khá', 'không quán không', 'không quán mà', 'không quán đông', 'không quên', 'không quạt', 'không quảnlý', 'không rau', 'không review', 'không rơi', 'không rẻ', 'không rẻ không', 'không rộng', 'không rộng lắm', 'không rộngrãi', 'không rửa', 'không sai', 'không salad', 'không suất', 'không sạch', 'không sạchsẽ', 'không sạchsẽ lắm', 'không sốt', 'không sợ', 'không sữa', 'không sữachua', 'không thanhtoán', 'không thay', 'không thoải', 'không thoảimái', 'không thua', 'không tháiđộ', 'không tháiđộ nhânviên', 'không tháiđộ phụcvụ', 'không thân', 'không thânthiện', 'không thèm', 'không thèm không', 'không thìa', 'không thíchợp', 'không thôngbáo', 'không thơm', 'không thơm mùi', 'không thưởngthức', 'không thất', 'không thấtvọng', 'không thểnào', 'không thịt', 'không thịt bò', 'không thở', 'không thử', 'không tiếc', 'không tiếng', 'không tiếp', 'không tiền', 'không tiền không', 'không tiện', 'không toàn', 'không trangtrí', 'không trà', 'không trânchâu', 'không trông', 'không trảlời', 'không trộn', 'không trở', 'không trởlại', 'không trứng', 'không trừ', 'không tàophớ', 'không tí', 'không tôm', 'không tôntrọng', 'không tý', 'không tươi', 'không tương', 'không tươngxứng', 'không tả', 'không tả nổi', 'không tầm', 'không tầng', 'không tẩm', 'không tẩm ướp', 'không tệ', 'không tối', 'không uống', 'không uống trà', 'không view', 'không viên', 'không viết', 'không vs', 'không vui', 'không vô', 'không vệsinh', 'không vị', 'không vị không', 'không vị trà', 'không vụ', 'không wifi', 'không xe', 'không xinlỗi', 'không xong', 'không xuất', 'không xuấtsắc', 'không xương', 'không xếp', 'không xứng', 'không xứngđáng', 'không yêu', 'không ám', 'không ápdụng', 'không ôi', 'không ýkiến', 'không ýđịnh', 'không ýđịnh lại', 'không ănở', 'không ănở quán', 'không đa', 'không đadạng', 'không đau', 'không đem', 'không đen', 'không đi', 'không đi không', 'không đi quán', 'không điềuhoà', 'không đk', 'không đành', 'không đá', 'không đòihỏi', 'không đôico', 'không đông', 'không đông không', 'không đông lắm', 'không đông nhânviên', 'không đĩa', 'không đường', 'không đấy', 'không đầu', 'không đậm', 'không đậm vị', 'không đậmđà', 'không đắt', 'không đắt chấtlượng', 'không đắt không', 'không đặc', 'không đặc bánh', 'không đặc giá', 'không đặc không', 'không đặcsắc', 'không đặcsắc không', 'không đặcsắc lắm', 'không đặtchân', 'không đẹp', 'không đẹp lắm', 'không đẹpmắt', 'không đếnỗi', 'không đểý', 'không địađiểm', 'không định', 'không đồ', 'không đồ uống', 'không đồng', 'không đồngý', 'không đổi', 'không độ', 'không đợi', 'không đụng', 'không đứa', 'không đứng', 'không đứng dậy', 'không đừng', 'không ưng', 'không ảnh', 'không ấn', 'không ấntượng', 'không ống', 'không ồn', 'không ồnào', 'không ổn', 'không ổn lắm', 'khônggian quán', 'khôngian bàn', 'khôngian bánh', 'khôngian bé', 'khôngian chấtlượng', 'khôngian chật', 'khôngian hơi', 'khôngian khá', 'khôngian không', 'khôngian khôngian', 'khôngian kiểu', 'khôngian lại', 'khôngian nhàhàng', 'khôngian nhânviên', 'khôngian phụcvụ', 'khôngian quán', 'khôngian quán hơi', 'khôngian quán khá', 'khôngian quán không', 'khôngian quán rộng', 'khôngian quán tầng', 'khôngian quán đẹp', 'khôngian rộng', 'khôngian rộng thoáng', 'khôngian rộngrãi', 'khôngian rộngrãi thoáng', 'khôngian siêu', 'khôngian sạch', 'khôngian thoáng', 'khôngian thoáng mát', 'khôngian thoáng nhânviên', 'khôngian thoángđãng', 'khôngian thoảimái', 'khôngian trangtrí', 'khôngian tuyệt', 'khôngian tầng', 'khôngian yên', 'khôngian yêntĩnh', 'khôngian đẹp', 'khôngian đồ', 'khôngian đồ uống', 'khôngian ấm', 'khôngian ấmcúng', 'khôngthể bỏqua', 'khôngthể chê', 'khôngthể chấpnhận', 'khôngthể gọi', 'khôngthể không', 'khôngthể nuốt', 'khôngthể nuốt nổi', 'khôngthể nổi', 'khôngthể tưởngtượng', 'khôngthể tả', 'khôngthể yêuthương', 'khúc bạch', 'khẩuvị không', 'khỏi bàn', 'khỏi chê', 'khỏi ngon', 'khỏi quán', 'kia không', 'kia xong', 'kia đường', 'kim chi', 'kim chi gọi', 'kim chi không', 'kim châm', 'kim liên', 'kim mã', 'king bq', 'kinh gọi', 'kinh không', 'kinh đi', 'kiwi lô', 'kiwi lô hội', 'kiếm chỗ', 'kiểmtra lại', 'kiểu bánh', 'kiểu cổ', 'kiểu gọi', 'kiểu hàn', 'kiểu hơi', 'kiểu không', 'kiểu lại', 'kiểu mà', 'kiểu mấy', 'kiểu nhàhàng', 'kiểu nhânviên', 'kiểu nhật', 'kiểu pha', 'kiểu phụcvụ', 'kiểu quán', 'kiểu sữa', 'kiểu thịt', 'kiểu tiền', 'kiểu trà', 'kiểu xong', 'kiểu đi', 'kiểu đuổi', 'kiểu đông', 'kiểu đồ', 'km mua', 'km mua tặng', 'kèm bánh', 'kèm bánh mỳ', 'kèm bánhmì', 'kèm bát', 'kèm cơm', 'kèm giá', 'kèm gọi', 'kèm khoaitây', 'kèm khá', 'kèm không', 'kèm kim', 'kèm kim chi', 'kèm mà', 'kèm mì', 'kèm rau', 'kèm salad', 'kèm sốt', 'kèm thịt', 'kèm đĩa', 'kèm đồ', 'kém chấtlượng', 'kê bàn', 'kêu không', 'kì kì', 'kịp chụp', 'kịp chụp ảnh', 'lan trứng', 'lan trứng muối', 'lau bàn', 'lau không', 'les jours', 'liêntục không', 'lon coca', 'long biên', 'ly kem', 'ly trà', 'làmăn không', 'làmăn kiểu', 'làmăn phátđạt', 'lá dứa', 'lá nếp', 'lá rau', 'lã vọng', 'lèotèo miếng', 'lê đạihành', 'lò visóng', 'lô hội', 'lý kiệt', 'lương định', 'lạ lạ', 'lạ mà', 'lạ ngon', 'lạc long', 'lại bàn', 'lại bánh', 'lại bát', 'lại bê', 'lại bình', 'lại bìnhthường', 'lại bảo', 'lại bọn', 'lại chán', 'lại chạy', 'lại chả', 'lại chấtlượng', 'lại chắchắn', 'lại chẳng', 'lại chỗ', 'lại chờ', 'lại chụp', 'lại chủ', 'lại câu', 'lại cơsở', 'lại cảmgiác', 'lại cốc', 'lại dàidài', 'lại dịp', 'lại ghé', 'lại giá', 'lại gọi', 'lại hai', 'lại hàng', 'lại hôm', 'lại hơi', 'lại hươngvị', 'lại hợp', 'lại kem', 'lại khá', 'lại không', 'lại không lại', 'lại không ngon', 'lại không quán', 'lại không đồ', 'lại khôngian', 'lại kiểu', 'lại kêu', 'lại lại', 'lại lẩu', 'lại mua', 'lại mà', 'lại mãi', 'lại món', 'lại mấy', 'lại mặcdù', 'lại ngon', 'lại nhàhàng', 'lại nhânviên', 'lại nhạt', 'lại nửa', 'lại order', 'lại phụcvụ', 'lại piza', 'lại quán', 'lại quán không', 'lại quán mà', 'lại quên', 'lại rẻ', 'lại rủ', 'lại siêu', 'lại suất', 'lại thành', 'lại tháiđộ', 'lại thèm', 'lại thưởngthức', 'lại thạch', 'lại thất', 'lại thấtvọng', 'lại thịt', 'lại thử', 'lại thử món', 'lại tiếng', 'lại tiếp', 'lại tiền', 'lại toàn', 'lại tầng', 'lại tệ', 'lại tỏ', 'lại uống', 'lại view', 'lại vs', 'lại vị', 'lại xe', 'lại xong', 'lại ănở', 'lại đi', 'lại đông', 'lại đĩa', 'lại đấy', 'lại đầu', 'lại đắt', 'lại địađiểm', 'lại đồ', 'lại đồ uống', 'lại đồ ănkhông', 'lại đổi', 'lại đợi', 'lại ưng', 'lại ấntượng', 'lại ủnghộ', 'lạnh không', 'lạnh lạnh', 'lẩu bò', 'lẩu giá', 'lẩu gọi', 'lẩu hảisản', 'lẩu khá', 'lẩu không', 'lẩu kim', 'lẩu kim chi', 'lẩu lẩu', 'lẩu mà', 'lẩu món', 'lẩu ngon', 'lẩu nhânviên', 'lẩu nướng', 'lẩu nấm', 'lẩu quán', 'lẩu riêu', 'lẩu riêu cua', 'lẩu sườn', 'lẩu thái', 'lẩu thịt', 'lẩu đồ', 'lắm bánh', 'lắm bát', 'lắm chỗ', 'lắm giá', 'lắm gọi', 'lắm hơi', 'lắm khá', 'lắm không', 'lắm kiểu', 'lắm lại', 'lắm lắm', 'lắm mà', 'lắm mà không', 'lắm món', 'lắm ngon', 'lắm nhânviên', 'lắm phụcvụ', 'lắm quán', 'lắm trà', 'lắm view', 'lắm vị', 'lắm đi', 'lắm đồ', 'lẽ quán', 'lịchsự không', 'lối đi', 'lỗi không', 'lớp bánh', 'lớp kem', 'lớp vỏ', 'lợ không', 'lợ lợ', 'mai hắc', 'mai hắc đế', 'mai lại', 'matcha không', 'may mà', 'menu bàn', 'menu ghi', 'menu gọi', 'menu hơi', 'menu khá', 'menu không', 'menu mà', 'menu món', 'menu phong', 'menu phongphú', 'menu quán', 'menu đadạng', 'menu đi', 'menu đồ', 'menu đồ uống', 'mix vị', 'miến trộn', 'miếng bánh', 'miếng bé', 'miếng bạchtuộc', 'miếng chả', 'miếng cá', 'miếng gà', 'miếng gọi', 'miếng không', 'miếng miếng', 'miếng mà', 'miếng rau', 'miếng thịt', 'miếng thịt bò', 'miếng thịt gà', 'miếng thịt mỏng', 'miếng xong', 'miếng đào', 'miếng đầu', 'miền nam', 'miễn bàn', 'miễn chê', 'mk không', 'mong nhàhàng', 'mong quán', 'mouse chanh', 'mouse trà', 'mua bánh', 'mua bực', 'mua chè', 'mua cốc', 'mua gọi', 'mua hàng', 'mua hộp', 'mua kem', 'mua không', 'mua mà', 'mua mấy', 'mua nhânviên', 'mua suất', 'mua sẵn', 'mua thử', 'mua tặng', 'mua uống', 'mua voucher', 'mua xong', 'mua đi', 'mua đông', 'mua đồ', 'must try', 'muối không', 'muộn mà', 'mà bàn', 'mà bánh', 'mà bát', 'mà bé', 'mà bê', 'mà bìnhthường', 'mà bảo', 'mà bọn', 'mà bụng', 'mà chs', 'mà chán', 'mà chạy', 'mà chả', 'mà chấtlượng', 'mà chấtlượng không', 'mà chẳng', 'mà chỗ', 'mà chờ', 'mà chủ', 'mà chủ quán', 'mà côngnhận', 'mà căng', 'mà cảmgiác', 'mà cốc', 'mà cửahàng', 'mà cực', 'mà dịp', 'mà giá', 'mà giá khá', 'mà giá không', 'mà giá lại', 'mà giá rẻ', 'mà giácả', 'mà giácả lại', 'mà giòn', 'mà gà', 'mà gọi', 'mà gọi không', 'mà hai', 'mà hàng', 'mà hìnhnhư', 'mà hôm', 'mà hôm đấy', 'mà hômnay', 'mà hơi', 'mà kem', 'mà khen', 'mà khá', 'mà không', 'mà không bánh', 'mà không chỗ', 'mà không dám', 'mà không gọi', 'mà không hề', 'mà không không', 'mà không lại', 'mà không ngon', 'mà không quán', 'mà không vị', 'mà không đi', 'mà không đồ', 'mà khôngian', 'mà khôngthể', 'mà kiểu', 'mà kèm', 'mà lèotèo', 'mà lại', 'mà lại không', 'mà lẩu', 'mà lắm', 'mà may', 'mà miếng', 'mà mua', 'mà mà', 'mà màu', 'mà mãi', 'mà mãi không', 'mà mê', 'mà món', 'mà mấy', 'mà mấy nhânviên', 'mà mặt', 'mà ng', 'mà ngon', 'mà nhàhàng', 'mà nhânviên', 'mà nhânviên không', 'mà nhạt', 'mà nv', 'mà nửa', 'mà order', 'mà phát', 'mà phòng', 'mà phụcvụ', 'mà quán', 'mà quán không', 'mà quán đông', 'mà quên', 'mà review', 'mà rẻ', 'mà siêu', 'mà suất', 'mà sốt', 'mà tháiđộ', 'mà tháiđộ nhânviên', 'mà tháiđộ phụcvụ', 'mà thèm', 'mà thơm', 'mà thất', 'mà thấtvọng', 'mà thịt', 'mà thử', 'mà tiếc', 'mà tiếng', 'mà tiền', 'mà toàn', 'mà trà', 'mà trông', 'mà tầng', 'mà tận', 'mà tối', 'mà uống', 'mà vui', 'mà vị', 'mà xe', 'mà xong', 'mà yêu', 'mà yêu nhàhàng', 'mà ănkhông', 'mà ănở', 'mà đi', 'mà đói', 'mà đông', 'mà đĩa', 'mà đấy', 'mà đầu', 'mà đắt', 'mà đẹp', 'mà đọc', 'mà đồ', 'mà đồ không', 'mà đồ uống', 'mà độ', 'mà đợi', 'mà đứa', 'mà đứng', 'mà ưng', 'màlại không', 'màlại ngon', 'màlại rẻ', 'màu hồng', 'màu nâu', 'màu trắng', 'màu vàng', 'màu xanh', 'màu đen', 'màu đỏ', 'màusắc mà', 'màusắc mà yêu', 'mát không', 'mát lạnh', 'mát lắm', 'mát mà', 'mát mát', 'mát nhânviên', 'mát rộng', 'mát trời', 'mát đồ', 'mã giảmgiá', 'mãi chả', 'mãi chẳng', 'mãi không', 'mãi mà', 'mãi quán', 'mãi đồ', 'mãimãi không', 'mê món', 'mê quán', 'mì cay', 'mì không', 'mì quảng', 'mì sốt', 'mì tôm', 'mì xào', 'mì đen', 'món bufet', 'món bánh', 'món bánhbao', 'món bánhtráng', 'món bò', 'món bún', 'món bảo', 'món bọn', 'món canh', 'món chán', 'món cháo', 'món chè', 'món chả', 'món chả cá', 'món chấtlượng', 'món chẳng', 'món cua', 'món cá', 'món cơm', 'món cơm gà', 'món cơmrang', 'món cảmnhận', 'món giá', 'món gà', 'món gà xào', 'món gọi', 'món gọi món', 'món huế', 'món hàn', 'món hàu', 'món há', 'món há cảo', 'món hômnay', 'món hơi', 'món hảisản', 'món hảisản tươi', 'món hấpdẫn', 'món kem', 'món khaivị', 'món khá', 'món không', 'món không gọi', 'món không ngon', 'món khôngthể', 'món kiểu', 'món kèm', 'món kêu', 'món lạ', 'món lại', 'món lại không', 'món lẩu', 'món lắm', 'món menu', 'món mà', 'món mà không', 'món mì', 'món món', 'món món không', 'món mấy', 'món mặn', 'món mỳ', 'món ngon', 'món ngon không', 'món nhàhàng', 'món nhânviên', 'món nv', 'món nướng', 'món nấm', 'món order', 'món phụ', 'món phụcvụ', 'món quán', 'món rau', 'món salad', 'món sườn', 'món sốt', 'món tháiđộ', 'món thịt', 'món thử', 'món tiền', 'món trà', 'món trángmiệng', 'món trứng', 'món tôm', 'món tươi', 'món tươi ngon', 'món tầm', 'món tủ', 'món uống', 'món vặt', 'món vị', 'món xong', 'món xào', 'món xôi', 'món âu', 'món ănkhông', 'món ănở', 'món đadạng', 'món đi', 'món đấy', 'món đặctrưng', 'món đồ', 'món đồ uống', 'món đợi', 'món ưng', 'món ấntượng', 'món ốc', 'mùa hè', 'mùa đông', 'mùa đông mùa', 'mùi bánh', 'mùi bột', 'mùi càphê', 'mùi dầumỡ', 'mùi dừa', 'mùi hôi', 'mùi hơi', 'mùi không', 'mùi kinh', 'mùi mùi', 'mùi thơm', 'mùi thịt', 'mùi trà', 'mùi đồ', 'mùivị không', 'mùng tết', 'mưa không', 'mưa đi', 'mấy anhchị', 'mấy bàn', 'mấy bánh', 'mấy bát', 'mấy chỗ', 'mấy chục', 'mấy cọng', 'mấy cốc', 'mấy ghế', 'mấy gọi', 'mấy hàng', 'mấy hôm', 'mấy kem', 'mấy không', 'mấy lại', 'mấy miếng', 'mấy miếng thịt', 'mấy mà', 'mấy mèo', 'mấy món', 'mấy món mà', 'mấy mấy', 'mấy ng', 'mấy nhânviên', 'mấy nv', 'mấy phụcvụ', 'mấy quán', 'mấy review', 'mấy thằng', 'mấy toàn', 'mấy tầng', 'mấy vị', 'mấy đi', 'mấy đĩa', 'mấy đồ', 'mấy đứa', 'mắc chút', 'mắmtôm không', 'mắt không', 'mặc đồngphục', 'mặcdù khá', 'mặcdù không', 'mặcdù quán', 'mặcdù đông', 'mặn khá', 'mặn không', 'mặn mà', 'mặn món', 'mặn mặn', 'mặt bàn', 'mặt khó', 'mặt không', 'mặt kiểu', 'mặt lại', 'mặt lạnh', 'mặt mà', 'mặt nhânviên', 'mặt quán', 'mặtbằng quán', 'mặtđường chợ', 'mặtđường hàng', 'mặtđường khá', 'mặtđường nguyễn', 'mặtđường quán', 'mẹ gọi', 'mẹ không', 'mẹ đi', 'mềm bánh', 'mềm giòn', 'mềm không', 'mềm mà', 'mềm mềm', 'mềm mịn', 'mềm ngon', 'mềm oặt', 'mềm sốt', 'mềm tan', 'mềm thơm', 'mềm vị', 'mỉm cười', 'mỏi mồm', 'mốc mồm', 'mồm mà', 'mỡ hành', 'mực chiên', 'mực không', 'mỳ cay', 'mỳ chảo', 'mỳ gọi', 'mỳ hơi', 'mỳ khá', 'mỳ không', 'mỳ ngon', 'mỳ nướng', 'mỳ sốt', 'mỳ sốt bò', 'mỳ trộn', 'mỳ tôm', 'mỳ udon', 'mỳ vằnthắn', 'mỳ đen', 'mỳ đĩa', 'nam không', 'nam nhânviên', 'nam phụcvụ', 'nc chấm', 'nc không', 'nc lẩu', 'nc lọc', 'nc mà', 'nc sốt', 'nem khoai', 'nem không', 'nem nem', 'nem nướng', 'nemchua rán', 'never come', 'never come back', 'ng bàn', 'ng gọi', 'ng khen', 'ng không', 'ng mua', 'ng mà', 'ng ng', 'ng ta', 'ng đi', 'ngang ngang', 'ngang quán', 'nghi tàm', 'nghiện bánh', 'nghiện mà', 'nghiện món', 'nghiện trà', 'nghĩa tân', 'ngon bánh', 'ngon bánhbao', 'ngon bát', 'ngon bình', 'ngon bổ', 'ngon bổ rẻ', 'ngon chè', 'ngon chút', 'ngon chả', 'ngon chất', 'ngon chấtlượng', 'ngon chẳng', 'ngon chỗ', 'ngon chủ', 'ngon chủ quán', 'ngon cólẽ', 'ngon cảmgiác', 'ngon cực', 'ngon dã', 'ngon dãman', 'ngon giá', 'ngon giá hơi', 'ngon giácả', 'ngon giácả hợplý', 'ngon giòn', 'ngon gà', 'ngon gấp', 'ngon gọi', 'ngon huhu', 'ngon hàng', 'ngon hànội', 'ngon hôm', 'ngon hơi', 'ngon hấp', 'ngon hấpdẫn', 'ngon hẳn', 'ngon hồi', 'ngon hợpkhẩuvị', 'ngon kem', 'ngon khá', 'ngon không', 'ngon không chê', 'ngon không ngon', 'ngon khôngian', 'ngon khỏi', 'ngon khỏi chê', 'ngon kinh', 'ngon kiểu', 'ngon lại', 'ngon lại không', 'ngon lẩu', 'ngon lắm', 'ngon lắm lắm', 'ngon lắm mà', 'ngon miếng', 'ngon miễn', 'ngon mong', 'ngon mua', 'ngon mà', 'ngon mà giá', 'ngon mà không', 'ngon mà rẻ', 'ngon màlại', 'ngon mát', 'ngon món', 'ngon mấy', 'ngon mấy mà', 'ngon mềm', 'ngon ngon', 'ngon nhân', 'ngon nhânviên', 'ngon nướcdùng', 'ngon nướchấm', 'ngon phết', 'ngon phụcvụ', 'ngon piza', 'ngon quán', 'ngon rẻ', 'ngon siêu', 'ngon sạch', 'ngon sốt', 'ngon tháiđộ', 'ngon tháiđộ nhânviên', 'ngon thơm', 'ngon thấtvọng', 'ngon thịt', 'ngon thử', 'ngon trà', 'ngon tuyệt', 'ngon tuyệtvời', 'ngon tí', 'ngon tầm', 'ngon tội', 'ngon uống', 'ngon view', 'ngon viên', 'ngon vs', 'ngon vị', 'ngon vừamiệng', 'ngon xong', 'ngon xuất', 'ngon ănở', 'ngon đi', 'ngon đông', 'ngon đầu', 'ngon đầyđặn', 'ngon đậm', 'ngon đắt', 'ngon đặc', 'ngon đặcsắc', 'ngon đẹp', 'ngon đồ', 'ngon đồ uống', 'ngon ốc', 'ngoàitrời tầng', 'ngoạn ngắm', 'nguyên không', 'nguyễn chí', 'nguyễn hữu', 'nguyễn hữu huân', 'nguyễn trường', 'nguyễn trường tộ', 'nguyễn đình', 'nguyễn đình thi', 'nguyễn đình tây', 'nguội không', 'ngán không', 'ngán lắm', 'ngã tư', 'ngã tư hàng', 'ngô chiên', 'ngõ không', 'ngõ quán', 'ngõ trung', 'ngõ đi', 'ngũ xã', 'ngườita không', 'ngấy không', 'ngấy kinh', 'ngấy lắm', 'ngấy tí', 'ngấy tận', 'ngập mồm', 'ngậy béo', 'ngậy không', 'ngậy mà', 'ngậy ngậy', 'ngậy thơm', 'ngậy vị', 'ngắm cảnh', 'ngắm hồ', 'ngắm phố', 'ngắm đườngphố', 'ngọc hiếu', 'ngửi mùi', 'nh không', 'nha đam', 'nhan vien', 'nhanhnhẹn nhiệt', 'nhg không', 'nhg lại', 'nhiệt chu', 'nhiệt giá', 'nhiệt giácả', 'nhiệt gọi', 'nhiệt không', 'nhiệt khôngian', 'nhiệt lại', 'nhiệt lễ', 'nhiệt món', 'nhiệt quán', 'nhiệt thân', 'nhiệt thânthiện', 'nhiệt đồ', 'nhiệt đồ uống', 'nhiệtình chu', 'nhiệtình dắt', 'nhiệtình không', 'nhiệtình lắm', 'nhiệtình nhanhnhẹn', 'nhiệtình nhânviên', 'nhiệtình phụcvụ', 'nhiệtình quán', 'nhiệtình thân', 'nhiệtình thânthiện', 'nhiệtình vui', 'nhiệtình đi', 'nhiệtình đồ', 'nhàhàng chấtlượng', 'nhàhàng chỗ', 'nhàhàng duthuyền', 'nhàhàng khá', 'nhàhàng không', 'nhàhàng khôngian', 'nhàhàng lại', 'nhàhàng mà', 'nhàhàng món', 'nhàhàng nhàhàng', 'nhàhàng nằm', 'nhàhàng potomac', 'nhàhàng potomac thiết', 'nhàhàng sangtrọng', 'nhàhàng đông', 'nhàhàng đồ', 'nhài sữa', 'nhân bánh', 'nhân khá', 'nhân không', 'nhân nhânviên', 'nhân phụcvụ', 'nhân quán', 'nhân thịt', 'nhân tôm', 'nhân đầyđặn', 'nhânviên bàn', 'nhânviên bê', 'nhânviên bê bát', 'nhânviên bưng', 'nhânviên bảo', 'nhânviên bảo không', 'nhânviên bảo đợi', 'nhânviên bảovệ', 'nhânviên bận', 'nhânviên bếp', 'nhânviên bọn', 'nhânviên chuyên', 'nhânviên chào', 'nhânviên chạy', 'nhânviên chả', 'nhânviên chậm', 'nhânviên chỗ', 'nhânviên chủ', 'nhânviên chủ quán', 'nhânviên cốc', 'nhânviên cực', 'nhânviên cựckì', 'nhânviên cựckỳ', 'nhânviên dắt', 'nhânviên dắt xe', 'nhânviên dễthương', 'nhânviên dọn', 'nhânviên giúp', 'nhânviên giớithiệu', 'nhânviên gọi', 'nhânviên hàng', 'nhânviên hơi', 'nhânviên khá', 'nhânviên khó', 'nhânviên khóchịu', 'nhânviên không', 'nhânviên không nhiệtình', 'nhânviên kiểu', 'nhânviên kêu', 'nhânviên lại', 'nhânviên lễ', 'nhânviên lễphép', 'nhânviên lịch', 'nhânviên lịchsự', 'nhânviên mà', 'nhânviên mấy', 'nhânviên mặt', 'nhânviên nam', 'nhânviên ngoan', 'nhânviên nhanhnhẹn', 'nhânviên nhiệt', 'nhânviên nhiệt quán', 'nhânviên nhiệtình', 'nhânviên nhàhàng', 'nhânviên nhânviên', 'nhânviên nhẹnhàng', 'nhânviên nóichuyện', 'nhânviên nữ', 'nhânviên order', 'nhânviên phục', 'nhânviên phụcvụ', 'nhânviên phụcvụ chu', 'nhânviên phụcvụ chuyên', 'nhânviên phụcvụ chuđáo', 'nhânviên phụcvụ gọi', 'nhânviên phụcvụ khá', 'nhânviên phụcvụ không', 'nhânviên phụcvụ nhiệt', 'nhânviên phụcvụ nhiệtình', 'nhânviên phụcvụ tháiđộ', 'nhânviên phụcvụ tận', 'nhânviên phụcvụ tậntình', 'nhânviên phụcvụ vôcùng', 'nhânviên phụcvụ đồ', 'nhânviên quán', 'nhânviên quán phụcvụ', 'nhânviên siêu', 'nhânviên tháiđộ', 'nhânviên tháiđộ không', 'nhânviên thân', 'nhânviên thânthiện', 'nhânviên thânthiện nhiệt', 'nhânviên thôngbáo', 'nhânviên toàn', 'nhânviên trông', 'nhânviên trông xe', 'nhânviên trảlời', 'nhânviên tưvấn', 'nhânviên tầng', 'nhânviên tậntình', 'nhânviên vui', 'nhânviên vuivẻ', 'nhânviên vẻ', 'nhânviên xinlỗi', 'nhânviên xong', 'nhânviên xếp', 'nhânviên yêu', 'nhânviên đi', 'nhânviên đông', 'nhânviên đồ', 'nhânviên đồ uống', 'nhânviên đứng', 'nhúng lẩu', 'nhúng lẩu không', 'nhưg không', 'nhạc không', 'nhạc quán', 'nhạt chả', 'nhạt chả vị', 'nhạt không', 'nhạt không vị', 'nhạt mà', 'nhạt thịt', 'nhạt vị', 'nhạtnhẽo không', 'nhạtnhẽo mà', 'nhầm chỗ', 'nhầm không', 'nhầm đồ', 'nhậnxét quán', 'nhật không', 'nhật mà', 'nhật ngon', 'nhật quán', 'nhắc không', 'nhắc lại', 'nhắc nhânviên', 'nhắc đi', 'nhẹ không', 'nhẽ lại', 'nhớt nhớt', 'niềm không', 'niềmnở nhiệtình', 'nui xào', 'nuốt không', 'nuốt nổi', 'nv bê', 'nv bảo', 'nv gọi', 'nv không', 'nv lại', 'nv nam', 'nv nhiệtình', 'nv order', 'nv phụcvụ', 'nv xếp', 'nv đi', 'ny không', 'nát nát', 'nét huế', 'nêm nếm', 'nóichuyện không', 'nóng giòn', 'nóng hôi', 'nóng không', 'nóng lại', 'nóng mà', 'nóng ngon', 'nướcdùng hơi', 'nướcdùng không', 'nướcdùng nhạt', 'nướcdùng đậm', 'nướchấm hơi', 'nướchấm không', 'nướchấm nhạt', 'nướchấm thịt', 'nướclọc mà', 'nướcốt dừa', 'nướng bàn', 'nướng bơ', 'nướng cháy', 'nướng chín', 'nướng giá', 'nướng gọi', 'nướng hàn', 'nướng hơi', 'nướng khá', 'nướng không', 'nướng kiểu', 'nướng lại', 'nướng lẩu', 'nướng mà', 'nướng món', 'nướng mậtong', 'nướng ngon', 'nướng nhânviên', 'nướng phômai', 'nướng quán', 'nướng sốt', 'nướng thịt', 'nướng tẩm', 'nướng tẩm ướp', 'nướng xong', 'nạc vai', 'nấm gà', 'nấm không', 'nấm kim', 'nấm kim châm', 'nấu không', 'nấu lại', 'nằm chỗ', 'nằm cạnh', 'nằm khu', 'nằm khuônviên', 'nằm mặt', 'nằm mặtđường', 'nằm ngã', 'nằm ngã tư', 'nằm ngõ', 'nằm phố', 'nằm sâu', 'nằm trungtâm', 'nằm tầng', 'nằm đoạn', 'nằm đường', 'nằm đầu', 'nếm thử', 'nồi lẩu', 'nồi lẩu mà', 'nồng vị', 'nổi bát', 'nổi không', 'nổi mà', 'nổi mấy', 'nổi nhânviên', 'nổi quán', 'nổi thịt', 'nổibật quán', 'nổitiếng không', 'nổitiếng quán', 'nở nụ', 'nụ cười', 'nửa bát', 'nửa không', 'nửa miếng', 'nửa tiếng', 'nữ không', 'ok giá', 'ok không', 'ok mà', 'ok quán', 'order bàn', 'order bánh', 'order không', 'order lại', 'order mà', 'order món', 'order mấy', 'order nhânviên', 'order nhầm', 'order nv', 'order set', 'order suất', 'order trà', 'order xong', 'order đồ', 'order đồ không', 'order đồ uống', 'order đợi', 'paris gateaux', 'pate không', 'pate trứng', 'pha hơi', 'pha không', 'pha loãng', 'pha ngon', 'phan đình', 'phi xe', 'phomai ngon', 'phongcách phục', 'phongcách phụcvụ', 'phongcách trangtrí', 'phuc vu', 'phát không', 'phí ship', 'phí tiền', 'phòng khá', 'phòng không', 'phòng tầng', 'phòng điềuhoà', 'phômai không', 'phômai ngon', 'phút không', 'phút mà', 'phút món', 'phút nhânviên', 'phút đồ', 'phạm hàm', 'phạm ngọcthạch', 'phố cổ', 'phố huế', 'phố hàng', 'phố không', 'phố lý', 'phố nguyễn', 'phố yên', 'phố đi', 'phở chiên', 'phở chiên phồng', 'phở ngon', 'phở thịt', 'phở trộn', 'phở xào', 'phụ vụ', 'phục không', 'phục nhânviên', 'phục quán', 'phụcvụ bàn', 'phụcvụ bàn không', 'phụcvụ bánh', 'phụcvụ bìnhthường', 'phụcvụ bảo', 'phụcvụ chu', 'phụcvụ chuyên', 'phụcvụ chuyênghiệp', 'phụcvụ chuđáo', 'phụcvụ chán', 'phụcvụ chả', 'phụcvụ chấtlượng', 'phụcvụ chậm', 'phụcvụ chậm không', 'phụcvụ chậmchạp', 'phụcvụ chỗ', 'phụcvụ chủ', 'phụcvụ cực', 'phụcvụ cựckì', 'phụcvụ dễthương', 'phụcvụ giá', 'phụcvụ giácả', 'phụcvụ gọi', 'phụcvụ gọi đồ', 'phụcvụ hôm', 'phụcvụ hơi', 'phụcvụ hơi chậm', 'phụcvụ khá', 'phụcvụ kháchàng', 'phụcvụ không', 'phụcvụ không nhiệtình', 'phụcvụ không thèm', 'phụcvụ khôngian', 'phụcvụ khôngthể', 'phụcvụ kiểu', 'phụcvụ kém', 'phụcvụ lại', 'phụcvụ lịch', 'phụcvụ mà', 'phụcvụ món', 'phụcvụ mấy', 'phụcvụ mặt', 'phụcvụ nhanhnhẹn', 'phụcvụ nhiệt', 'phụcvụ nhiệt đồ', 'phụcvụ nhiệtình', 'phụcvụ nhiệtình chu', 'phụcvụ nhàhàng', 'phụcvụ nhân', 'phụcvụ nhânviên', 'phụcvụ nhânviên không', 'phụcvụ niềm', 'phụcvụ ok', 'phụcvụ order', 'phụcvụ phụcvụ', 'phụcvụ quán', 'phụcvụ siêu', 'phụcvụ tháiđộ', 'phụcvụ thân', 'phụcvụ thânthiện', 'phụcvụ toàn', 'phụcvụ tận', 'phụcvụ tậntình', 'phụcvụ tệ', 'phụcvụ vôcùng', 'phụcvụ vẻ', 'phụcvụ đi', 'phụcvụ đông', 'phụcvụ đồ', 'phụcvụ đồ uống', 'phụcvụ đợi', 'phụcvụ ổn', 'piza bánh', 'piza bò', 'piza cỡ', 'piza gà', 'piza gọi', 'piza hut', 'piza hơi', 'piza khá', 'piza không', 'piza lại', 'piza mà', 'piza ngon', 'piza nhân', 'piza piza', 'piza quán', 'piza đế', 'potomac chilout', 'potomac duthuyền', 'potomac duthuyền hồ', 'potomac thiết', 'potomac tặng', 'quan không', 'quang bửu', 'que kem', 'quen không', 'quen uống', 'quyếtâm thử', 'quyếtđịnh không', 'quyếtđịnh thử', 'quyếtđịnh đi', 'quyển menu', 'quà tặng', 'quán bufet', 'quán bàitrí', 'quán bàn', 'quán bánh', 'quán bánh mỳ', 'quán bánhtráng', 'quán bé', 'quán bé bé', 'quán bình', 'quán bìnhdân', 'quán bìnhthường', 'quán bún', 'quán bảo', 'quán bẩn', 'quán cafe', 'quán cf', 'quán chiều', 'quán chè', 'quán chạy', 'quán chả', 'quán chảnh', 'quán chấtlượng', 'quán chật', 'quán chẳng', 'quán chỗ', 'quán chụp', 'quán chủ', 'quán chủ quán', 'quán càphê', 'quán cũ', 'quán cơm', 'quán cơsở', 'quán cạnh', 'quán cảithiện', 'quán cảmgiác', 'quán cộng', 'quán cực', 'quán cựckì', 'quán decor', 'quán decor khá', 'quán decor đẹp', 'quán dàidài', 'quán dịp', 'quán fody', 'quán gian', 'quán giá', 'quán giácả', 'quán gà', 'quán góc', 'quán gọi', 'quán hai', 'quán hàn', 'quán hàng', 'quán hôm', 'quán hômnay', 'quán hơi', 'quán hơi bé', 'quán hơi khó', 'quán hồi', 'quán kem', 'quán khu', 'quán khá', 'quán khá bàn', 'quán khá ngon', 'quán khá rộng', 'quán khá đông', 'quán khó', 'quán không', 'quán không hề', 'quán không khó', 'quán không lại', 'quán không mấy', 'quán không rộng', 'quán không vệsinh', 'quán không đông', 'quán khônggian', 'quán khôngian', 'quán khôngian thoáng', 'quán khôngian đẹp', 'quán kiểu', 'quán kịp', 'quán loteria', 'quán làmăn', 'quán lại', 'quán lại không', 'quán lại quán', 'quán lẩu', 'quán lắm', 'quán lịch', 'quán menu', 'quán mong', 'quán mà', 'quán mà không', 'quán món', 'quán mùi', 'quán mấy', 'quán mặcdù', 'quán mặt', 'quán mặtđường', 'quán ngon', 'quán ngõ', 'quán nhiệt', 'quán nhiệtình', 'quán nhânviên', 'quán nhânviên nhiệt', 'quán nhânviên phụcvụ', 'quán nhật', 'quán nv', 'quán nướng', 'quán nằm', 'quán nằm khu', 'quán nằm mặtđường', 'quán nằm ngã', 'quán nằm ngõ', 'quán nằm phố', 'quán nằm sâu', 'quán nằm tầng', 'quán nằm đường', 'quán nằm đầu', 'quán nổi', 'quán nổitiếng', 'quán ok', 'quán phongcách', 'quán phố', 'quán phở', 'quán phụcvụ', 'quán piza', 'quán quen', 'quán quán', 'quán quảngcáo', 'quán review', 'quán ruột', 'quán rộng', 'quán rộng thoáng', 'quán rộngrãi', 'quán ship', 'quán siêu', 'quán sạch', 'quán sạch nhânviên', 'quán sạchsẽ', 'quán sứ', 'quán sửa', 'quán thoáng', 'quán thoáng mát', 'quán tháiđộ', 'quán thânthiện', 'quán thịt', 'quán thử', 'quán tiếng', 'quán tiền', 'quán toàn', 'quán trangtrí', 'quán trà', 'quán trà sữa', 'quán trông', 'quán trưa', 'quán trường', 'quán tầm', 'quán tầng', 'quán tặng', 'quán tối', 'quán uống', 'quán view', 'quán viên', 'quán viết', 'quán vôcùng', 'quán vắng', 'quán vắngtanh', 'quán vẻ', 'quán vệsinh', 'quán vỉa', 'quán vỉahè', 'quán vị', 'quán xe', 'quán xinh', 'quán xong', 'quán xôi', 'quán yên', 'quán yêu', 'quán đi', 'quán đóngcửa', 'quán đông', 'quán đông không', 'quán đông mà', 'quán đông nhânviên', 'quán đông phụcvụ', 'quán đông quán', 'quán đông đồ', 'quán đường', 'quán đượcái', 'quán đấy', 'quán đầu', 'quán đắt', 'quán đẹp', 'quán đẹp nhânviên', 'quán đồ', 'quán đồ ngon', 'quán đồ uống', 'quán đổi', 'quán ưng', 'quán ấm', 'quán ấntượng', 'quán ồn', 'quán ổn', 'quên chụp', 'quên không', 'quên không chụp', 'quên món', 'quên nhânviên', 'quên order', 'quên đồ', 'quạt không', 'quảnlý không', 'quảnlý lại', 'quầy bar', 'quế ngon', 'rang muối', 'rau cải', 'rau củ', 'rau gọi', 'rau không', 'rau kim', 'rau kèm', 'rau lẩu', 'rau rửa', 'rau thịt', 'rau xàlách', 'rau xào', 'red velvet', 'review chê', 'review fody', 'review hômnay', 'review khen', 'review khá', 'review không', 'review mà', 'review quán', 'riêu cua', 'rong biển', 'rán không', 'rán lại', 'rán ngon', 'rán sốt', 'rõràng không', 'rõràng quán', 'rút kinhnghiệm', 'rút xương', 'rẻ bánh', 'rẻ chả', 'rẻ chất', 'rẻ chấtlượng', 'rẻ chỗ', 'rẻ không', 'rẻ lại', 'rẻ mà', 'rẻ ngon', 'rẻ nhânviên', 'rẻ phụcvụ', 'rẻ quán', 'rẻ rẻ', 'rẻ vs', 'rẻ đi', 'rẻ đồ', 'rẻ đồ uống', 'rộng bàn', 'rộng chỗ', 'rộng decor', 'rộng không', 'rộng khôngian', 'rộng lắm', 'rộng mà', 'rộng nhânviên', 'rộng quán', 'rộng sạch', 'rộng thoáng', 'rộng thoáng mát', 'rộng thoải', 'rộng trangtrí', 'rộng tầng', 'rộng view', 'rộng đi', 'rộng đẹp', 'rộng đồ', 'rộngrãi không', 'rộngrãi thoáng', 'rộngrãi thoáng mát', 'rộngrãi thoảimái', 'rủ bạnbè', 'rủ đi', 'rửa bát', 'rửa không', 'salad cáhồi', 'salad không', 'salad ngon', 'salad rau', 'salad rong', 'say godbye', 'se lạnh', 'sen tây', 'sen tây hồ', 'set cơm', 'set lẩu', 'set món', 'set nướng', 'set trà', 'ship bánh', 'ship hàng', 'ship không', 'ship đơn', 'ship đồ', 'sinhviên quán', 'size mà', 'size trânchâu', 'siêu chán', 'siêu chậm', 'siêu không', 'siêu mà', 'siêu món', 'siêu ngon', 'siêu nhiệtình', 'siêu quán', 'siêu rẻ', 'siêu siêu', 'siêu siêu siêu', 'siêu yêu', 'siêu đông', 'siêu đẹp', 'socola không', 'su kem', 'sumo bq', 'suất bánh', 'suất bít', 'suất bít tết', 'suất bò', 'suất búnchả', 'suất cơm', 'suất giá', 'suất gà', 'suất gà xào', 'suất không', 'suất lẩu', 'suất mà', 'suất nướng', 'suất thịt', 'suất đi', 'suất đầyđủ', 'sâm dứa', 'sân vườn', 'sâu ngõ', 'sò điệp', 'sườn bò', 'sườn không', 'sườn mà', 'sườn ngon', 'sườn nướng', 'sườn sụn', 'sạch gọi', 'sạch không', 'sạch món', 'sạch nhânviên', 'sạch phụcvụ', 'sạch quán', 'sạch đồ', 'sạchsẽ không', 'sạchsẽ lắm', 'sạchsẽ mà', 'sạchsẽ ngon', 'sạchsẽ thoáng', 'sắpxếp bàn', 'sẵn không', 'sốlượng bàn', 'sống ảo', 'sốt bq', 'sốt bò', 'sốt bò băm', 'sốt chua', 'sốt chuangọt', 'sốt chấm', 'sốt cà', 'sốt càchua', 'sốt hơi', 'sốt kem', 'sốt khá', 'sốt không', 'sốt không vị', 'sốt kèm', 'sốt mỳ', 'sốt ngon', 'sốt nấm', 'sốt phomai', 'sốt phômai', 'sốt sốt', 'sốt thơm', 'sốt thịt', 'sốt tiêu', 'sốt tiêu đen', 'sốt vang', 'sốt vị', 'sốt đậm', 'sốt đậu', 'sợ già', 'sợ không', 'sợi bún', 'sợi mì', 'sợi mỳ', 'sụn gà', 'sụn gà rang', 'sủi bọt', 'sủi cảo', 'sửa lại', 'sữa dừa', 'sữa giá', 'sữa gọi', 'sữa hơi', 'sữa khá', 'sữa không', 'sữa mà', 'sữa ngon', 'sữa ngô', 'sữa socola', 'sữa thái', 'sữa trà', 'sữa trânchâu', 'sữa uống', 'sữa vị', 'sữa đá', 'sữa đậu', 'sữa đậunành', 'sữa đặc', 'sữachua mít', 'ta lại', 'take away', 'tan miệng', 'tart trứng', 'thanhtoán không', 'thanhtoán mà', 'thanhtoán thẻ', 'thanhtoán tiền', 'thay vỉ', 'thay vỉ nướng', 'thi tây', 'thi tây hồ', 'thiết quan', 'thoangthoảng mùi', 'thoái mái', 'thoáng không', 'thoáng mát', 'thoáng nhânviên', 'thoáng rộng', 'thoáng đồ', 'thoải nhânviên', 'thoải quán', 'thoải đồ', 'thoảimái mà', 'thoảimái quán', 'thu tiền', 'thành món', 'thành quán', 'thành vị', 'thái chuacay', 'thái hà', 'thái không', 'thái miếng', 'thái mỏng', 'thái thịnh', 'thái trà', 'thái xanh', 'tháiđộ chủ', 'tháiđộ hàng', 'tháiđộ khó', 'tháiđộ khóchịu', 'tháiđộ không', 'tháiđộ không chấpnhận', 'tháiđộ kiểu', 'tháiđộ nhân', 'tháiđộ nhânviên', 'tháiđộ nhânviên khá', 'tháiđộ nhânviên không', 'tháiđộ nhânviên phụcvụ', 'tháiđộ nv', 'tháiđộ phục', 'tháiđộ phụcvụ', 'tháiđộ phụcvụ không', 'tháiđộ phụcvụ kém', 'tháiđộ phụcvụ nhân', 'tháiđộ phụcvụ nhânviên', 'tháiđộ phụcvụ quán', 'tháiđộ đi', 'thân không', 'thân lại', 'thân phụcvụ', 'thân quán', 'thân đi', 'thân đồ', 'thânthiện nhiệt', 'thânthiện nhiệtình', 'thânthiện quán', 'thânthiện đồ', 'thèm bánh', 'thèm câu', 'thèm gọi', 'thèm không', 'thèm lại', 'thèm đồ', 'thìa dĩa', 'thìa không', 'thíchợp đi', 'thùng rác', 'thúc kháng', 'thăn bò', 'thơm béo', 'thơm hơi', 'thơm không', 'thơm lại', 'thơm lắm', 'thơm mà', 'thơm mùi', 'thơm mềm', 'thơm ngon', 'thơm ngậy', 'thơm thơm', 'thơm thịt', 'thơm uống', 'thơm vị', 'thư giãn', 'thươnghiệu nổitiếng', 'thươnghiệu trà', 'thưởngthức món', 'thưởngthức đồ', 'thạch dừa', 'thạch găng', 'thạch không', 'thạch lá', 'thạch raucâu', 'thạch trà', 'thạch vị', 'thất gọi', 'thất không', 'thất nhânviên', 'thất quán', 'thấtvọng chấtlượng', 'thấtvọng không', 'thấtvọng không lại', 'thấtvọng lắm', 'thấtvọng phụcvụ', 'thấtvọng quán', 'thấtvọng tháiđộ', 'thấtvọng toàn', 'thấtvọng toàntập', 'thấtvọng tràn', 'thấtvọng tràntrề', 'thấtvọng vô', 'thấtvọng đi', 'thấtvọng đồ', 'thẳng hồ', 'thẻ giảmgiá', 'thẻ tích', 'thề không', 'thề không lại', 'thịt bachỉ', 'thịt bánh', 'thịt bò', 'thịt bò dai', 'thịt bò không', 'thịt bò mềm', 'thịt bò sốt', 'thịt bò thịt', 'thịt băm', 'thịt chín', 'thịt chó', 'thịt chả', 'thịt cá', 'thịt cảmgiác', 'thịt cừu', 'thịt gà', 'thịt gọi', 'thịt heo', 'thịt hun', 'thịt hun khói', 'thịt hơi', 'thịt khá', 'thịt không', 'thịt kiểu', 'thịt lại', 'thịt lợn', 'thịt miếng', 'thịt mà', 'thịt món', 'thịt mềm', 'thịt mỏng', 'thịt mỡ', 'thịt ngon', 'thịt nguội', 'thịt nhúng', 'thịt nhúng lẩu', 'thịt nhạt', 'thịt nướchấm', 'thịt nướng', 'thịt rau', 'thịt sườn', 'thịt sốt', 'thịt thái', 'thịt thịt', 'thịt toàn', 'thịt tôm', 'thịt tươi', 'thịt tẩm', 'thịt tẩm ướp', 'thịt viên', 'thịt vị', 'thịt xiên', 'thịt xáxíu', 'thịt ănkhông', 'thịt đĩa', 'thịt đậm', 'thịt ướp', 'thời baocấp', 'thức uống', 'thừa không', 'thử bánh', 'thử cảmnhận', 'thử gọi', 'thử hơi', 'thử kem', 'thử khá', 'thử không', 'thử không lại', 'thử lại', 'thử lẩu', 'thử mà', 'thử món', 'thử mấy', 'thử mỳ', 'thử ngon', 'thử nhânviên', 'thử quán', 'thử thấtvọng', 'thử trà', 'thử trà sữa', 'thử uống', 'thử vị', 'thử đi', 'thử đầu', 'thử đồ', 'thử đồ uống', 'thử ấntượng', 'tim ho', 'tim ho wan', 'tiramisu ngon', 'tiêu đen', 'tiếc hôm', 'tiếc không', 'tiếc tiền', 'tiếng không', 'tiếng lại', 'tiếng mà', 'tiếng nhật', 'tiếng đồ', 'tiếng đồnghồ', 'tiếp không', 'tiếp đồ', 'tiền bàn', 'tiền bảo', 'tiền bọn', 'tiền chấtlượng', 'tiền giá', 'tiền gọi', 'tiền gửi', 'tiền gửi xe', 'tiền hơi', 'tiền khá', 'tiền không', 'tiền không lại', 'tiền lại', 'tiền lắm', 'tiền mua', 'tiền mà', 'tiền mà không', 'tiền mấy', 'tiền nhânviên', 'tiền phụcvụ', 'tiền quán', 'tiền thừa', 'tiền tiền', 'tiền xong', 'tiền đi', 'tiền đấy', 'tiền đồ', 'tiệc sinhnhật', 'tiệc ưu', 'tiệm bánh', 'tiện đường', 'tokyo deli', 'toping không', 'toping trânchâu', 'tous les', 'tous les jours', 'toàn bột', 'toàn giá', 'toàn gọi', 'toàn không', 'toàn kiểu', 'toàn mua', 'toàn món', 'toàn mùi', 'toàn mấy', 'toàn mỡ', 'toàn quên', 'toàn rau', 'toàn thịt', 'toàn trai', 'toàn trai xinh', 'toàn uống', 'toàn vị', 'toàn ănở', 'toàn đi', 'toàn đá', 'toàn đồ', 'trai xinh', 'trai xinh gái', 'trangtrí khá', 'trangtrí khá đẹp', 'trangtrí không', 'trangtrí khôngian', 'trangtrí kiểu', 'trangtrí phongcách', 'trangtrí quán', 'trangtrí đơngiản', 'trangtrí đẹp', 'trc gọi', 'trc không', 'trc mà', 'trc mặt', 'trc quán', 'trc đi', 'treo đầu', 'treo đầu dê', 'triệu việt', 'triệu việt vương', 'trung khá', 'trung không', 'trung món', 'trung quốc', 'trungtâm thànhphố', 'trà bánh', 'trà bình', 'trà chanh', 'trà dâu', 'trà gạo', 'trà gọi', 'trà hoa', 'trà hơi', 'trà kem', 'trà khá', 'trà không', 'trà lại', 'trà mà', 'trà ngon', 'trà nhài', 'trà nhânviên', 'trà pha', 'trà quán', 'trà sữa', 'trà sữa khá', 'trà sữa không', 'trà sữa mà', 'trà sữa ngon', 'trà sữa socola', 'trà sữa thái', 'trà sữa trà', 'trà sữa trânchâu', 'trà sữa uống', 'trà sữa vị', 'trà thái', 'trà thơm', 'trà trà', 'trà táo', 'trà uống', 'trà vị', 'trà xanh', 'trà xanh kem', 'trà xanh ngon', 'trà xanh sữa', 'trà xanh uống', 'trà xoài', 'trà đào', 'trà đào cam', 'trà đào không', 'trà đá', 'trà đậm', 'tràng tiền', 'tráng trộn', 'trángmiệng không', 'trân trâu', 'trânchâu dai', 'trânchâu không', 'trânchâu sợi', 'trânchâu trà', 'trânchâu trắng', 'trânchâu uống', 'trânchâu đen', 'trình ápdụng', 'trìnhbày đẹp', 'trí quán', 'trí đẹp', 'trông khá', 'trông không', 'trông vẻ', 'trông xe', 'trông yêu', 'trúc bạch', 'trưa không', 'trưa mà', 'trưa quán', 'trưa tối', 'trưa đi', 'trưa đông', 'trường tộ', 'trường đạihọc', 'trải bàn', 'trải nghiệm', 'trảlời không', 'trần hưng', 'trần quốc', 'trần đạinghĩa', 'trắng trắng', 'trộn khá', 'trộn không', 'trộn mà', 'trời lạnh', 'trời mưa', 'trời nóng', 'trời nắng', 'trở đi', 'trởlại quán', 'trứng béo', 'trứng cút', 'trứng gà', 'trứng hấp', 'trứng không', 'trứng muối', 'trứng mà', 'trứng ngon', 'trứng sữa', 'trứng trứng', 'trứng ốp', 'trừ duynhất', 'trừ không', 'trừ món', 'trừ quán', 'trừ đồ', 'tuyệt cúmèo', 'tuyệt không', 'tuyệt món', 'tuyệt nhânviên', 'tuần không', 'tuần lại', 'tuần mua', 'tuần mà', 'tuần quán', 'tuần đi', 'tuần đông', 'tàophớ dâutằm', 'tàophớ không', 'tây hồ', 'tây không', 'tìnhcờ đi', 'tí gọi', 'tí không', 'tí mà', 'tí mùi', 'tí mấy', 'tí nhânviên', 'tóm lại', 'tóm lại không', 'tô bún', 'tô hiến', 'tô hiệu', 'tôm bé', 'tôm không', 'tôm thịt', 'tông màu', 'túitiền sinhviên', 'túm lại', 'tý thịt', 'tư hàng', 'tưvấn món', 'tưvấn nhiệtình', 'tưvấn đồ', 'tươi hơi', 'tươi không', 'tươi khôngian', 'tươi mà', 'tươi ngon', 'tươi đồ', 'tương cà', 'tươngxứng giá', 'tưởng không', 'tưởng mà', 'tưởng ngon', 'tưởng quán', 'tượng quán', 'tạ quang', 'tạ quang bửu', 'tạm chấpnhận', 'tạm giá', 'tạm gọi', 'tạm hơi', 'tạm không', 'tạm mà', 'tạm món', 'tạm tạm', 'tạm ổn', 'tạmbiệt không', 'tạmbiệt tạmbiệt', 'tả nổi', 'tấtnhiên không', 'tấtnhiên lại', 'tầm chiều', 'tầm chục', 'tầm giá', 'tầm không', 'tầm mà', 'tầm nhânviên', 'tầm phút', 'tầm quán', 'tầm trưa', 'tầm trở', 'tầm tối', 'tầm đồ', 'tầng bàn', 'tầng chỗ', 'tầng gọi', 'tầng hai', 'tầng hơi', 'tầng khu', 'tầng khá', 'tầng kháchsạn', 'tầng không', 'tầng khôngian', 'tầng mà', 'tầng ngoàitrời', 'tầng nhânviên', 'tầng nv', 'tầng quán', 'tầng rộng', 'tầng rộngrãi', 'tầng thoáng', 'tầng tầng', 'tầng tối', 'tầng view', 'tầng đi', 'tầng đẹp', 'tẩm bột', 'tẩm ướp', 'tẩm ướp khá', 'tẩm ướp không', 'tẩm ướp ngon', 'tẩm ướp đậm', 'tận cổ', 'tận mà', 'tận nhânviên', 'tận đồ', 'tặng bánh', 'tặng không', 'tặng kèm', 'tặng voucher', 'tẹo mà', 'tết hoè', 'tết hoè nhai', 'tết không', 'tết sốt', 'tết âm', 'tệ không', 'tệ mà', 'tệ đi', 'tỏ khóchịu', 'tỏ tháiđộ', 'tối hôm', 'tối khá', 'tối không', 'tối lại', 'tối mà', 'tối quán', 'tối tuần', 'tối đi', 'tối đông', 'tối đẹp', 'tổchức họp', 'tổchức sinhnhật', 'tội giá', 'tội giá hơi', 'tội hơi', 'tội không', 'tội quán', 'tội đồ', 'tờ giấy', 'tụtập bạnbè', 'tủ bánh', 'tủ nhânviên', 'tứ xuyên', 'tựnhiên không', 'tựu lại', 'uống bia', 'uống bánh', 'uống bình', 'uống bình không', 'uống bìnhthường', 'uống bìnhthường không', 'uống cafe', 'uống cafe trứng', 'uống chai', 'uống chán', 'uống chấtlượng', 'uống càphê', 'uống cốc', 'uống giá', 'uống giácả', 'uống gọi', 'uống gọi trà', 'uống hơi', 'uống kem', 'uống khá', 'uống khá ngon', 'uống khá ổn', 'uống không', 'uống không ngon', 'uống không vị', 'uống không đặc', 'uống khôngian', 'uống khỏi', 'uống kèm', 'uống lại', 'uống matcha', 'uống miễn', 'uống mà', 'uống mấy', 'uống ngon', 'uống ngon giá', 'uống ngon lắm', 'uống ngon mà', 'uống ngụm', 'uống nhânviên', 'uống nhạt', 'uống pha', 'uống phụcvụ', 'uống quán', 'uống size', 'uống siêu', 'uống thơm', 'uống thử', 'uống thử trà', 'uống trà', 'uống trà sữa', 'uống trânchâu', 'uống tạm', 'uống uống', 'uống view', 'uống vị', 'uống xong', 'uống đa', 'uống đadạng', 'uống đi', 'uống đắt', 'uống đồ', 'uống đồ uống', 'ven hồ', 'view hồ', 'view khá', 'view khá đẹp', 'view không', 'view nhânviên', 'view quán', 'view thẳng', 'view thẳng hồ', 'view tầng', 'view đường', 'view đẹp', 'view đồ', 'vincom triệu', 'viên kem', 'viên khá', 'viên không', 'viên lịch', 'viên lịchsự', 'viên nhanhnhẹn', 'viên nhiệt', 'viên nhiệtình', 'viên phụcvụ', 'viên phụcvụ không', 'viên phụcvụ nhiệt', 'viên phụcvụ nhiệtình', 'viên phụcvụ tháiđộ', 'viên quán', 'viên tháiđộ', 'viên thân', 'viên thânthiện', 'viên vị', 'viết review', 'việt nam', 'việt quất', 'việt vương', 'vs bánh', 'vs chấtlượng', 'vs giá', 'vs không', 'vs khôngian', 'vs mấy', 'vs nhânviên', 'vs quán', 'vs đồ', 'vui không', 'váng đậu', 'vé không', 'vé xe', 'vón cục', 'vô không', 'vôcùng không', 'vũ phạm', 'vũ phạm hàm', 'vắng không', 'vẻ hơi', 'vẻ khá', 'vẻ khó', 'vẻ không', 'vẻ mặt', 'vẻ ngon', 'vệsinh không', 'vệsinh quán', 'vệsinh sạch', 'vỉ nướng', 'vỉahè chỗ', 'vỉahè khá', 'vỉahè không', 'vỉahè mà', 'vỉahè quán', 'vị bánh', 'vị béo', 'vị bình', 'vị bìnhthường', 'vị bò', 'vị bơ', 'vị cay', 'vị chanh', 'vị chua', 'vị chẳng', 'vị dừa', 'vị giá', 'vị gà', 'vị gọi', 'vị hơi', 'vị kem', 'vị khá', 'vị không', 'vị khôngian', 'vị kiểu', 'vị lạ', 'vị lại', 'vị matcha', 'vị matcha không', 'vị mà', 'vị mà không', 'vị mát', 'vị mì', 'vị món', 'vị mặn', 'vị ngon', 'vị ngấy', 'vị ngậy', 'vị nhài', 'vị nhạt', 'vị nhạtnhẽo', 'vị phômai', 'vị quán', 'vị socola', 'vị sốt', 'vị sữa', 'vị thơm', 'vị thịt', 'vị thử', 'vị trà', 'vị trà sữa', 'vị trà xanh', 'vị uống', 'vị vani', 'vị viên', 'vị vị', 'vị đường', 'vị đậm', 'vị đậmđà', 'vị đắng', 'vị đặc', 'vị đồ', 'vỏ bánh', 'vỏ bánh không', 'vỏ giòn', 'vỏ không', 'vỏ nhân', 'vốn không', 'vội không', 'vội đi', 'vụ khá', 'vụ không', 'vụ nhiệt', 'vụ nhiệtình', 'vừamiệng không', 'wifi căng', 'wifi không', 'xanh kem', 'xanh không', 'xanh ngon', 'xanh sữa', 'xanh uống', 'xe bus', 'xe bảovệ', 'xe chả', 'xe chỗ', 'xe cửa', 'xe dắt', 'xe giúp', 'xe gọi', 'xe gửi', 'xe hộ', 'xe khá', 'xe không', 'xe không tiện', 'xe khôngian', 'xe kiểu', 'xe lại', 'xe miễnphí', 'xe mà', 'xe mà không', 'xe nhiệt', 'xe nhiệtình', 'xe nhânviên', 'xe phụcvụ', 'xe quán', 'xe rộng', 'xe rộngrãi', 'xe thoải', 'xe thoảimái', 'xe tháiđộ', 'xe tiền', 'xe xe', 'xe ôtô', 'xe đi', 'xe đường', 'xe đấy', 'xe đầu', 'xinh gái', 'xinh yêu', 'xinlỗi mà', 'xiên nướng', 'xong bảo', 'xong bữa', 'xong chả', 'xong chẳng', 'xong chờ', 'xong cốc', 'xong gọi', 'xong hôm', 'xong hơi', 'xong không', 'xong kiểu', 'xong lại', 'xong mà', 'xong món', 'xong mấy', 'xong mặt', 'xong ng', 'xong nhânviên', 'xong thanhtoán', 'xong thấtvọng', 'xong tiền', 'xong xe', 'xong đi', 'xong đi không', 'xong đồ', 'xong đứa', 'xong đứng', 'xong đứng dậy', 'xoài kem', 'xào bò', 'xào bơ', 'xào bắp', 'xào bắpcải', 'xào không', 'xào thịt', 'xáxíu ngon', 'xã đàn', 'xíumại tôm', 'xôi chè', 'xôi gà', 'xôi không', 'xôi ngon', 'xôi nấm', 'xôi rán', 'xôi xôi', 'xôi yến', 'xếp bàn', 'xếp chỗ', 'xếphàng mua', 'xứngđáng giá', 'xứngđáng tiền', 'yên bình', 'yên không', 'yên phụ', 'yêu gọi', 'yêu không', 'yêu lại', 'yêu lắm', 'yêu nhàhàng', 'yêu nhàhàng potomac', 'yêu quán', 'ám mùi', 'ánh mắt', 'át vị', 'ôi mẹ', 'ôi ngon', 'ôi thề', 'ýđịnh lại', 'ăngiá không', 'ănkhông hề', 'ănkhông không', 'ănkhông mà', 'ănkhông ngon', 'ănkhông ngon mà', 'ănkhông vị', 'ănkhông đặc', 'ănuống khá', 'ănở chán', 'ănở chấtlượng', 'ănở cơsở', 'ănở gọi', 'ănở hàng', 'ănở hôm', 'ănở hồi', 'ănở khá', 'ănở không', 'ănở mà', 'ănở món', 'ănở mấy', 'ănở ngon', 'ănở nhàhàng', 'ănở piza', 'ănở quán', 'ănở đấy', 'ănở đầu', 'ănở đồ', 'đa món', 'đa nhânviên', 'đadạng lắm', 'đadạng phongphú', 'đau bụng', 'đem lại', 'đem đồ', 'đen không', 'đen xì', 'đen đen', 'đeo kính', 'đi bufet', 'đi bàn', 'đi bánh', 'đi bát', 'đi bún', 'đi bạnbè', 'đi bảo', 'đi bọn', 'đi cafe', 'đi chiên', 'đi chiều', 'đi chạy', 'đi chả', 'đi chấtlượng', 'đi chẳng', 'đi chỗ', 'đi chờ', 'đi chụp', 'đi chủ', 'đi cơm', 'đi cửa', 'đi dạo', 'đi ghé', 'đi giađình', 'đi giá', 'đi giácả', 'đi gọi', 'đi gọi combo', 'đi gọi món', 'đi gọi nồi', 'đi gọi suất', 'đi gửi', 'đi hai', 'đi hàng', 'đi hànội', 'đi hôm', 'đi hômnay', 'đi hơi', 'đi học', 'đi hồi', 'đi kem', 'đi khá', 'đi không', 'đi không lại', 'đi không trởlại', 'đi khôngian', 'đi khỏi', 'đi kiểu', 'đi kèm', 'đi lòngvòng', 'đi lại', 'đi lẩu', 'đi lễ', 'đi mua', 'đi muộn', 'đi mà', 'đi mà gọi', 'đi mà không', 'đi mãi', 'đi món', 'đi mấy', 'đi mộtmình', 'đi ng', 'đi ng gọi', 'đi ngang', 'đi ngon', 'đi ngõ', 'đi nhàhàng', 'đi nhânviên', 'đi nhắc', 'đi nồi', 'đi order', 'đi phim', 'đi phố', 'đi quán', 'đi quán khá', 'đi quán đông', 'đi taxi', 'đi tháiđộ', 'đi thưởngthức', 'đi thấtvọng', 'đi thẳng', 'đi thử', 'đi thử món', 'đi thử quán', 'đi tiếp', 'đi tiền', 'đi toàn', 'đi trưa', 'đi trời', 'đi tuyệt', 'đi tuần', 'đi tầm', 'đi tầng', 'đi tối', 'đi uống', 'đi uống trà', 'đi voucher', 'đi vs', 'đi vòng', 'đi vị', 'đi xe', 'đi xemáy', 'đi xong', 'đi ăngười', 'đi ănhàng', 'đi ănkhông', 'đi ănuống', 'đi ănxin', 'đi ănở', 'đi ănở quán', 'đi đi', 'đi đi không', 'đi đilại', 'đi đoạn', 'đi đông', 'đi đường', 'đi đầu', 'đi đồ', 'đi đợi', 'đi đợt', 'đi đứa', 'đi đứng', 'điềuhoà không', 'điềuhoà mát', 'điện bàn', 'đuổi không', 'đành gọi', 'đào cam', 'đào cam sả', 'đào không', 'đào ngon', 'đào trà', 'đá bào', 'đá không', 'đá mà', 'đá uống', 'đá xay', 'đình thi', 'đình thi tây', 'đình tây', 'đói gọi', 'đói mà', 'đói đói', 'đông bàn', 'đông bánh', 'đông chật', 'đông chỗ', 'đông chờ', 'đông dãman', 'đông gọi', 'đông hơi', 'đông khá', 'đông không', 'đông không chỗ', 'đông khôngian', 'đông lại', 'đông lắm', 'đông mà', 'đông mùa', 'đông mấy', 'đông ng', 'đông nhânviên', 'đông nhânviên phụcvụ', 'đông phụcvụ', 'đông phụcvụ hơi', 'đông quán', 'đông tưởng', 'đông tầm', 'đông tối', 'đông xếphàng', 'đông đi', 'đông đông', 'đông đồ', 'đông đợi', 'đông ồn', 'đùi gà', 'đĩa bánh', 'đĩa bé', 'đĩa bò', 'đĩa bún', 'đĩa cơm', 'đĩa không', 'đĩa lèotèo', 'đĩa miếng', 'đĩa mì', 'đĩa mỳ', 'đĩa rau', 'đĩa thịt', 'đĩa thịt bò', 'đĩa thịt đĩa', 'đĩa đĩa', 'đĩa đồ', 'đĩa đựng', 'đơn không', 'đơngiản mà', 'đường gọi', 'đường khá', 'đường không', 'đường mà', 'đường nguyễn', 'đường quán', 'đường đi', 'đấy bánh', 'đấy bảo', 'đấy bọn', 'đấy chả', 'đấy gọi', 'đấy không', 'đấy lại', 'đấy mua', 'đấy mà', 'đấy món', 'đấy ngon', 'đấy nhânviên', 'đấy quán', 'đấy đi', 'đấy đồ', 'đầu dê', 'đầu dê thịt', 'đầu gọi', 'đầu hơi', 'đầu không', 'đầu mà', 'đầu ngon', 'đầu ngõ', 'đầu nhânviên', 'đầu phố', 'đầu phụcvụ', 'đầu quán', 'đầu thử', 'đầu tưởng', 'đầu uống', 'đầu ănở', 'đầu đi', 'đầu đường', 'đầu đồ', 'đầyđặn không', 'đầyđặn mà', 'đầyđủ mà', 'đậm chất', 'đậm chất nhật', 'đậm món', 'đậm vị', 'đập mắt', 'đậu không', 'đắng không', 'đắt bánh', 'đắt chất', 'đắt chấtlượng', 'đắt chỗ', 'đắt gọi', 'đắt không', 'đắt mà', 'đắt mà không', 'đắt quán', 'đắt rẻ', 'đắt tiền', 'đắt vs', 'đắt đồ', 'đặc bánh', 'đặc bát', 'đặc giá', 'đặc gọi', 'đặc không', 'đặc món', 'đặc quán', 'đặc vị', 'đặc đồ', 'đặcsắc giá', 'đặcsắc không', 'đặcsắc lắm', 'đặcsắc mà', 'đặctrưng quán', 'đẹp giá', 'đẹp hơi', 'đẹp hồ', 'đẹp khá', 'đẹp không', 'đẹp khôngian', 'đẹp khỏi', 'đẹp lại', 'đẹp lắm', 'đẹp mà', 'đẹp món', 'đẹp nhânviên', 'đẹp quán', 'đẹp thoáng', 'đẹp trời', 'đẹp tầng', 'đẹp đi', 'đẹp đẹp', 'đẹp đồ', 'đẹp đồ uống', 'đẹp ấmcúng', 'đế bánh', 'đế dày', 'đế mỏng', 'đếnỗi mà', 'đềnghị đổi', 'đểý quán', 'địa nằm', 'địachỉ quán', 'địađiểm hơi', 'địađiểm khá', 'địađiểm lýtưởng', 'địađiểm quán', 'địađiểm đẹp', 'định gọi', 'định không', 'định lại', 'định đi', 'định đứng', 'đọc coment', 'đọc review', 'đọc review khen', 'đọng lại', 'đỏ không', 'đối vs', 'đốidiện trường', 'đống đa', 'đồ bia', 'đồ bufet', 'đồ bàn', 'đồ bánh', 'đồ bát', 'đồ bê', 'đồ bình', 'đồ bìnhthường', 'đồ bìnhthường mà', 'đồ bảo', 'đồ bọn', 'đồ chuẩn', 'đồ chán', 'đồ chả', 'đồ chất', 'đồ chấtlượng', 'đồ chậm', 'đồ chẳng', 'đồ chờ', 'đồ cốc', 'đồ cực', 'đồ dịchvụ', 'đồ giá', 'đồ giácả', 'đồ gọi', 'đồ huế', 'đồ hàn', 'đồ hôm', 'đồ hômnay', 'đồ hơi', 'đồ hảisản', 'đồ kem', 'đồ khá', 'đồ khá giá', 'đồ khá ngon', 'đồ không', 'đồ không ngon', 'đồ không đặc', 'đồ khôngian', 'đồ khôngian quán', 'đồ kiểu', 'đồ kèm', 'đồ lại', 'đồ lẩu', 'đồ menu', 'đồ mà', 'đồ mà không', 'đồ món', 'đồ mấy', 'đồ ngon', 'đồ ngon giá', 'đồ ngon không', 'đồ nguội', 'đồ nhàhàng', 'đồ nhânviên', 'đồ nhânviên không', 'đồ nhânviên phụcvụ', 'đồ nhúng', 'đồ nhật', 'đồ nv', 'đồ nóng', 'đồ nướng', 'đồ order', 'đồ phong', 'đồ phụcvụ', 'đồ piza', 'đồ quán', 'đồ rẻ', 'đồ siêu', 'đồ thanhtoán', 'đồ thái', 'đồ tháiđộ', 'đồ tháiđộ phụcvụ', 'đồ thịt', 'đồ thịt bò', 'đồ trà', 'đồ tráng', 'đồ trángmiệng', 'đồ tươi', 'đồ tươi ngon', 'đồ tạm', 'đồ tạm ổn', 'đồ tầm', 'đồ tẩm', 'đồ tẩm ướp', 'đồ tối', 'đồ uống', 'đồ uống bánh', 'đồ uống bình', 'đồ uống bìnhthường', 'đồ uống chán', 'đồ uống chấtlượng', 'đồ uống giá', 'đồ uống giácả', 'đồ uống gọi', 'đồ uống hơi', 'đồ uống khá', 'đồ uống không', 'đồ uống khôngian', 'đồ uống khỏi', 'đồ uống lại', 'đồ uống mà', 'đồ uống ngon', 'đồ uống nhânviên', 'đồ uống quán', 'đồ uống siêu', 'đồ uống trà', 'đồ uống tạm', 'đồ uống uống', 'đồ uống view', 'đồ uống đadạng', 'đồ uống đắt', 'đồ uống đồ', 'đồ vặt', 'đồ xong', 'đồ ăngiá', 'đồ ăngiácả', 'đồ ănkhông', 'đồ ănkhông ngon', 'đồ ănkhông đặc', 'đồ ănuống', 'đồ ănở', 'đồ ănở không', 'đồ ănở ngon', 'đồ đa', 'đồ đadạng', 'đồ đem', 'đồ đi', 'đồ đĩa', 'đồ đấy', 'đồ đắt', 'đồ đồ', 'đồ đồ uống', 'đồ ướp', 'đồng giá', 'đồngtiền bát', 'đồngtiền bát gạo', 'đổi chủ', 'đổi gió', 'đổi lại', 'đổi thành', 'đổi đĩa', 'đỗ xe', 'đỗ đen', 'độ giòn', 'độ không', 'độ ngon', 'độ nhânviên', 'độ phụcvụ', 'độ phụcvụ nhânviên', 'đội cấn', 'độingũ nhânviên', 'độn toàn', 'đỡ phí', 'đợi cổ', 'đợi gọi', 'đợi hơi', 'đợi khá', 'đợi không', 'đợi mà', 'đợi mãi', 'đợi mãi không', 'đợi món', 'đợi nhânviên', 'đợi nửa', 'đợi nửa tiếng', 'đợi phút', 'đợi tiếng', 'đợi tầm', 'đợi xong', 'đợi đồ', 'đứa bảo', 'đứa bọn', 'đứa congái', 'đứa cố', 'đứa gọi', 'đứa không', 'đứa lại', 'đứa mà', 'đứa thân', 'đứa đi', 'đứa đứa', 'đứng buôn', 'đứng chờ', 'đứng cạnh', 'đứng cửa', 'đứng dậy', 'đứng dậy đi', 'đứng không', 'đứng nướng', 'đứng quầy', 'đứng đi', 'đứng đấy', 'đứng đợi', 'đừng gọi', 'ưng chỗ', 'ưng không', 'ưng lắm', 'ưng món', 'ưng nhânviên', 'ưng quán', 'ưng đồ', 'ướp giavị', 'ướp hơi', 'ướp khá', 'ướp không', 'ướp ngon', 'ướp thịt', 'ướp vị', 'ướp đậm', 'ướp đậmđà', 'ảnh bánh', 'ảnh check', 'ảnh chụp', 'ảnh không', 'ảnh mà', 'ảnh đẹp', 'ấm bụng', 'ấm nhânviên', 'ấm phụcvụ', 'ấm trà', 'ấntượng banđầu', 'ấntượng không', 'ấntượng khôngian', 'ấntượng món', 'ấntượng nhânviên', 'ấntượng quán', 'ấntượng đầu', 'ốc không', 'ốc ngon', 'ốc quế', 'ốc ốc', 'ống hút', 'ổn chấtlượng', 'ổn giá', 'ổn hơi', 'ổn không', 'ổn khôngian', 'ổn lắm', 'ổn mà', 'ổn nhânviên', 'ổn quán', 'ủnghộ dàidài', 'ủnghộ nhàhàng', 'ủnghộ quán']\n"
          ],
          "name": "stdout"
        }
      ]
    },
    {
      "cell_type": "code",
      "metadata": {
        "id": "j5q1plRt0od2",
        "outputId": "f92d2ba4-cc1b-49bf-c246-2f30b2e50f91",
        "colab": {
          "base_uri": "https://localhost:8080/"
        }
      },
      "source": [
        "from sklearn.feature_extraction.text import TfidfVectorizer\n",
        "\n",
        "tfidf = TfidfVectorizer(stop_words = stopwords, min_df = 5, ngram_range= (2,3))\n",
        "# Feed the tf-idf Vectorizer with twits using fit_transform()\n",
        "tfidf_vec = tfidf.fit_transform(reviews)\n",
        "\n",
        "# Formatting the number to 2 digits after the decimal point by showing on this notebook\n",
        "np.set_printoptions(precision=2)\n",
        "# To print array in one line\n",
        "np.set_printoptions(linewidth=np.inf)\n",
        "print(tfidf.get_feature_names())\n",
        "print(tfidf_vec.shape)"
      ],
      "execution_count": 141,
      "outputs": [
        {
          "output_type": "stream",
          "text": [
            "['aeon mal', 'anhchị chủ', 'anhchị nhânviên', 'anhchị phụcvụ', 'bachỉ bò', 'banđầu quán', 'bao không', 'bef steak', 'bingsu ngon', 'bingsu trà', 'bit tết', 'biển quán', 'bufet hảisản', 'bufet không', 'bufet lẩu', 'bufet lẩu nướng', 'bufet mà', 'bufet món', 'bufet nướng', 'bufet thịt', 'buồn không', 'bàitrí khá', 'bàn bàn', 'bàn bé', 'bàn bìnhthường', 'bàn bảo', 'bàn bếp', 'bàn bọn', 'bàn chỗ', 'bàn chờ', 'bàn cạnh', 'bàn cạnh gọi', 'bàn cửasổ', 'bàn fody', 'bàn ghế', 'bàn ghế không', 'bàn gọi', 'bàn hai', 'bàn hôm', 'bàn hơi', 'bàn khá', 'bàn không', 'bàn lại', 'bàn mà', 'bàn món', 'bàn ngoàitrời', 'bàn nhânviên', 'bàn nướng', 'bàn order', 'bàn phụcvụ', 'bàn quán', 'bàn sát', 'bàn table', 'bàn tablenow', 'bàn trc', 'bàn tròn', 'bàn trống', 'bàn tầng', 'bàn view', 'bàn xong', 'bàn xungquanh', 'bàn đi', 'bàn đông', 'bàn đấy', 'bàn đồ', 'bàn độ', 'bàn đợi', 'bày trí', 'bánh bánh', 'bánh bánh bột', 'bánh bánh ngon', 'bánh bé', 'bánh bình', 'bánh bún', 'bánh bảo', 'bánh bột', 'bánh bột lọc', 'bánh chocolate', 'bánh chả', 'bánh chậu', 'bánh chẳng', 'bánh cuộn', 'bánh cá', 'bánh cứng', 'bánh dai', 'bánh dày', 'bánh gato', 'bánh giá', 'bánh giòn', 'bánh gạo', 'bánh gọi', 'bánh hình', 'bánh hơi', 'bánh kem', 'bánh khá', 'bánh khô', 'bánh không', 'bánh không ngon', 'bánh lan', 'bánh lan trứng', 'bánh lại', 'bánh miếng', 'bánh mouse', 'bánh mua', 'bánh mà', 'bánh mặn', 'bánh mềm', 'bánh mỳ', 'bánh mỳ chảo', 'bánh mỳ nướng', 'bánh ngon', 'bánh ngon mà', 'bánh nguội', 'bánh nhân', 'bánh nhânviên', 'bánh nóng', 'bánh piza', 'bánh quán', 'bánh ram', 'bánh red', 'bánh sinhnhật', 'bánh siêu', 'bánh su', 'bánh su kem', 'bánh sốt', 'bánh thơm', 'bánh thử', 'bánh tiramisu', 'bánh tiền', 'bánh toàn', 'bánh trà', 'bánh tròn', 'bánh trứng', 'bánh tầm', 'bánh uống', 'bánh vị', 'bánh vỏ', 'bánh yêu', 'bánh đi', 'bánh đồ', 'bánh đồ uống', 'bánhbao kim', 'bánhbao kimsa', 'bánhbao ngon', 'bánhbao xáxíu', 'bánhcanh ghẹ', 'bánhmì bơ', 'bánhmì bơ tỏi', 'bánhmì chảo', 'bánhmì không', 'bánhmì ngon', 'bánhmì nướng', 'bánhmì sốt', 'bánhmì thịt', 'bánhrán mặn', 'bánhtráng nướng', 'bánhtráng trộn', 'bánhtôm hồ', 'bánhtôm hồ tây', 'bánhxèo nhật', 'bánhđa cua', 'báo lại', 'bát bánhđa', 'bát bé', 'bát bún', 'bát canh', 'bát cháo', 'bát cháo sườn', 'bát chè', 'bát cơm', 'bát gạo', 'bát không', 'bát mà', 'bát mì', 'bát mắm', 'bát mỳ', 'bát nướchấm', 'bát phở', 'bát rau', 'bát súp', 'bát sốt', 'bát xôi', 'bát đi', 'bát đá', 'bát đĩa', 'bát đũa', 'bát ốc', 'bé bé', 'bé bé xinh', 'bé chỗ', 'bé không', 'bé lại', 'bé mà', 'bé nhânviên', 'bé quán', 'bé tí', 'bé tí mà', 'bé títẹo', 'bé tầng', 'bé tẹo', 'bé tẹo mà', 'bé xinh', 'bé xíu', 'bé đi', 'béo béo', 'béo mà', 'béo ngậy', 'bê bát', 'bê không', 'bê nồi', 'bê đĩa', 'bê đồ', 'bình chả', 'bình gọi', 'bình hơi', 'bình không', 'bình không đặc', 'bình nhânviên', 'bình quán', 'bình trà', 'bình đồ', 'bìnhthường bao', 'bìnhthường gọi', 'bìnhthường hơi', 'bìnhthường không', 'bìnhthường không ngon', 'bìnhthường không đắt', 'bìnhthường không đặcsắc', 'bìnhthường mà', 'bìnhthường mà giá', 'bìnhthường quán', 'bìnhthường toàn', 'bìnhthường đi', 'bít tết', 'bít tết hoè', 'bít tết sốt', 'bò bít', 'bò bít tết', 'bò bò', 'bò băm', 'bò dai', 'bò gà', 'bò khá', 'bò khô', 'bò không', 'bò kim', 'bò mà', 'bò mềm', 'bò mỹ', 'bò ngon', 'bò nhúng', 'bò nướng', 'bò sốt', 'bò sốt tiêu', 'bò thịt', 'bò toàn', 'bò tẩm', 'bò viên', 'bò xào', 'bò úc', 'bò đồ', 'bù lại', 'bù lại chấtlượng', 'bùi bùi', 'bún bún', 'bún cá', 'bún gọi', 'bún hơi', 'bún hảisản', 'bún khá', 'bún không', 'bún ngon', 'bún nướcdùng', 'bún riêu', 'bún thái', 'bún thịt', 'bún thịt nướng', 'bún đậu', 'bún ốc', 'búnbò huế', 'búnchả ngon', 'bơ không', 'bơ tỏi', 'bưng đồ', 'bạc sỉu', 'bạnbè không', 'bạnbè ngườithân', 'bảo bàn', 'bảo bánh', 'bảo bảo', 'bảo bọn', 'bảo cháu', 'bảo chỗ', 'bảo chờ', 'bảo gọi', 'bảo không', 'bảo lại', 'bảo mà', 'bảo ngon', 'bảo nhânviên', 'bảo order', 'bảo phương', 'bảo quán', 'bảo tiền', 'bảo xe', 'bảo xong', 'bảo đi', 'bảo đấy', 'bảo đồ', 'bảo đổi', 'bảo đợi', 'bảovệ dắt', 'bảovệ dắt xe', 'bảovệ không', 'bảovệ trông', 'bảovệ trông xe', 'bẩn bẩn', 'bẩn không', 'bật hòa', 'bật nhạc', 'bật điềuhoà', 'bắp bò', 'bếp ga', 'bếp không', 'bếp nướng', 'bọn bàn', 'bọn gọi', 'bọn gọi nồi', 'bọn khá', 'bọn không', 'bọn lại', 'bọn nhânviên', 'bọn order', 'bọn quán', 'bọn tầng', 'bọn uống', 'bọn xong', 'bọn đi', 'bọn đợi', 'bổ rẻ', 'bột bánh', 'bột bột', 'bột chiên', 'bột không', 'bột lọc', 'bột mì', 'bột trà', 'bờ hồ', 'bở không', 'bụng không', 'bụng đi', 'bụng đói', 'bữa gọi', 'bữa trưa', 'bữa tối', 'bực không', 'cacao trứng', 'cafe cốt', 'cafe cốt dừa', 'cafe không', 'cafe mà', 'cafe quán', 'cafe trứng', 'cafe đẹp', 'cam sả', 'canh chua', 'canh không', 'canh kim', 'canh miso', 'canh rong', 'canh rong biển', 'cay cay', 'cay khá', 'cay không', 'cay mà', 'cay ngon', 'cay phômai', 'cay vs', 'cay xè', 'chai bia', 'chai nướckhoáng', 'chai nướclọc', 'chanh leo', 'check lại', 'check quán', 'chese không', 'chi gọi', 'chi hơi', 'chi không', 'chi ngon', 'chiên bơ', 'chiên giòn', 'chiên hơi', 'chiên không', 'chiên lại', 'chiên phồng', 'chiên tạm', 'chiên xù', 'chiều không', 'chiều quán', 'chu đồ', 'chua cay', 'chua chua', 'chua chua không', 'chua chuacay', 'chua chuacay cay', 'chua chuangọt', 'chua dịu', 'chua không', 'chua lại', 'chua mà', 'chua vị', 'chuacay cay', 'chug không', 'chuyên không', 'chuyên nhânviên', 'chuyên đồ', 'chuyênghiệp không', 'chuyến đi', 'chuẩn vị', 'chuỗi nhàhàng', 'chào không', 'chào tiếng', 'chán chán', 'chán chả', 'chán gọi', 'chán không', 'chán không lại', 'chán khôngthể', 'chán kinh', 'chán kinhkhủng', 'chán lại', 'chán lắm', 'chán mà', 'chán phụcvụ', 'chán quán', 'chán đi', 'chán đắt', 'chán đồ', 'cháo sườn', 'cháo sườn sụn', 'chát chấtlượng', 'cháy không', 'cháy đen', 'chân châu', 'chân gà', 'chân gà rút', 'chân quán', 'chân trâu', 'châu âu', 'chè bơ', 'chè chuối', 'chè chè', 'chè hoa', 'chè hơi', 'chè khá', 'chè không', 'chè khúc', 'chè khúc bạch', 'chè lại', 'chè mix', 'chè mà', 'chè ngon', 'chè quán', 'chè sương', 'chè thái', 'chè thậpcẩm', 'chè đỗ', 'chém gió', 'chê không', 'chê mà', 'chê món', 'chê đồ', 'chín không', 'chùa láng', 'chúc quán', 'chút không', 'chút mà', 'chút đi', 'chươngtrình khuyếnmãi', 'chươngtrình khuyếnmại', 'chươngtrình mua', 'chươngtrình mua tặng', 'chạy chươngtrình', 'chạy lại', 'chả buồn', 'chả chả', 'chả cá', 'chả cá lã', 'chả cốm', 'chả dám', 'chả gọi', 'chả không', 'chả không lại', 'chả lại', 'chả miếng', 'chả mà', 'chả mấy', 'chả ngon', 'chả nhânviên', 'chả nhẽ', 'chả quán', 'chả rẻ', 'chả thèm', 'chả thịt', 'chả tí', 'chả vị', 'chả đi', 'chả đông', 'chả đắt', 'chả đặc', 'chả đặcsắc', 'chảnh giá', 'chảnh không', 'chảnh mà', 'chảo gà', 'chảo không', 'chấm không', 'chấm sốt', 'chấm tương', 'chấpnhận chấtlượng', 'chấpnhận gọi', 'chấpnhận không', 'chấpnhận đồ', 'chất gọi', 'chất không', 'chất lg', 'chất nhật', 'chất đồ', 'chấtlượng bánh', 'chấtlượng bình', 'chấtlượng chẳng', 'chấtlượng cực', 'chấtlượng dịchvụ', 'chấtlượng giá', 'chấtlượng giácả', 'chấtlượng gọi', 'chấtlượng khá', 'chấtlượng không', 'chấtlượng kém', 'chấtlượng lại', 'chấtlượng món', 'chấtlượng ngon', 'chấtlượng nhânviên', 'chấtlượng ok', 'chấtlượng phục', 'chấtlượng phụcvụ', 'chấtlượng quán', 'chấtlượng thịt', 'chấtlượng trà', 'chấtlượng tuyệt', 'chấtlượng tuyệtvời', 'chấtlượng đi', 'chấtlượng đồ', 'chấtlượng đồ uống', 'chấtlượng ổn', 'chậm không', 'chật không', 'chật kín', 'chật phụcvụ', 'chắchắn không', 'chắchắn không lại', 'chắchắn lại', 'chắchắn quán', 'chắchắn thử', 'chắn không', 'chắn không lại', 'chắn lại', 'chẳng buồn', 'chẳng chê', 'chẳng dám', 'chẳng gọi', 'chẳng không', 'chẳng lại', 'chẳng mà', 'chẳng món', 'chẳng mấy', 'chẳng ngon', 'chẳng nhânviên', 'chẳng nổi', 'chẳng quán', 'chẳng thèm', 'chẳng vị', 'chẳng đi', 'chẳng đặc', 'chẳng đặcsắc', 'chặt chém', 'chỗ bàn', 'chỗ bánh', 'chỗ bọn', 'chỗ chật', 'chỗ chỗ', 'chỗ giá', 'chỗ gọi', 'chỗ gửi', 'chỗ gửi xe', 'chỗ hơi', 'chỗ khá', 'chỗ không', 'chỗ không chỗ', 'chỗ kiểu', 'chỗ lại', 'chỗ mà', 'chỗ món', 'chỗ ngon', 'chỗ ngã', 'chỗ nhânviên', 'chỗ phụcvụ', 'chỗ quán', 'chỗ rộng', 'chỗ thoáng', 'chỗ thoải', 'chỗ thoảimái', 'chỗ thịt', 'chỗ tầng', 'chỗ uống', 'chỗ view', 'chỗ view đẹp', 'chỗ vỉahè', 'chỗ xe', 'chỗ xe không', 'chỗ xe rộng', 'chỗ xe thoải', 'chỗ đi', 'chỗ đông', 'chỗ đẹp', 'chỗ đồ', 'chỗ đỗ', 'chỗ đỗ xe', 'chờ bàn', 'chờ cổ', 'chờ gọi', 'chờ hơi', 'chờ khá', 'chờ không', 'chờ mà', 'chờ mãi', 'chờ món', 'chờ nhânviên', 'chờ nửa', 'chờ nửa tiếng', 'chờ phút', 'chờ tiếng', 'chờ xong', 'chờ đồ', 'chợ dừa', 'chụp choẹt', 'chụp hình', 'chụp lại', 'chụp ảnh', 'chụp ảnh check', 'chụp ảnh đẹp', 'chủ cửahàng', 'chủ lại', 'chủ nhânviên', 'chủ quán', 'chủ quán bảo', 'chủ quán không', 'chủ quán nhiệt', 'chủ quán nhiệtình', 'chủyếu toàn', 'chủđề màusắc', 'chủđề màusắc mà', 'chửi bậy', 'coca không', 'coi xe', 'combo gà', 'combo gọi', 'combo không', 'combo mà', 'come back', 'cua mà', 'cungcách phụcvụ', 'cuộn rau', 'cx không', 'cx ngon', 'cá cá', 'cá không', 'cá lã', 'cá lã vọng', 'cá mà', 'cá ngon', 'cá thịt', 'cá trứng', 'cá viên', 'cáhồi tươi', 'câu không', 'câu trảlời', 'cólẽ cơsở', 'cólẽ hơi', 'cólẽ hợp', 'cólẽ không', 'cólẽ quán', 'cólẽ thử', 'cónhânviên trông', 'cónhânviên đứng', 'công đi', 'côngnhận ngon', 'cút lộn', 'căng bụng', 'cũ không', 'cũg không', 'cơm bình', 'cơm bò', 'cơm canh', 'cơm cháy', 'cơm cuộn', 'cơm cơm', 'cơm gà', 'cơm gà sốt', 'cơm hơi', 'cơm khá', 'cơm khô', 'cơm không', 'cơm mà', 'cơm món', 'cơm ngon', 'cơm niêu', 'cơm nấu', 'cơm sườn', 'cơm thịt', 'cơm trắng', 'cơm trộn', 'cơm đồ', 'cơmrang hải', 'cười đùa', 'cạch không', 'cạch mặt', 'cạch quán', 'cạnh cửasổ', 'cạnh gọi', 'cạnh hàng', 'cạnh lại', 'cạnh quán', 'cảmgiác hơi', 'cảmgiác khá', 'cảmgiác không', 'cảmgiác kiểu', 'cảmgiác lừa', 'cảmgiác mà', 'cảmgiác nhânviên', 'cảmgiác quán', 'cảmgiác thoải', 'cảmgiác thoảimái', 'cảmgiác vị', 'cảmgiác ấm', 'cảmnhận bánh', 'cảmnhận không', 'cảmnhận quán', 'cảmnhận vị', 'cảo chiên', 'cảo tôm', 'cầu giấy', 'cắn miếng', 'cắt bánh', 'cắt miếng', 'cắt thịt', 'cặp đôi', 'cọng rau', 'cố mà', 'cốc cafe', 'cốc chanh', 'cốc chè', 'cốc giá', 'cốc kem', 'cốc khá', 'cốc không', 'cốc lại', 'cốc mà', 'cốc nc', 'cốc nhựa', 'cốc nướclọc', 'cốc size', 'cốc sữa', 'cốc toàn', 'cốc trà', 'cốc trà sữa', 'cốc trà đá', 'cốc uống', 'cốc vị', 'cốc đá', 'cốc đẹp', 'cốc đựng', 'cốt bánh', 'cốt dừa', 'cổ không', 'cổ mà', 'cổng trường', 'cộng duynhất', 'cộng khôngian', 'cộng nhânviên', 'cộng quán', 'cục tức', 'cứng cứng', 'cứng không', 'cứng kiểu', 'cứng đơ', 'cửa không', 'cửa quán', 'cửahàng bánh', 'cửahàng không', 'cực cực', 'cực ghét', 'cực hợp', 'cực món', 'cực ngon', 'cực quán', 'cực đẹp', 'cực ưng', 'cựckì thấtvọng', 'dai dai', 'dai không', 'dao dĩa', 'decor khá', 'decor không', 'decor kiểu', 'decor quán', 'decor đơngiản', 'decor đẹp', 'decor đồ', 'dim sum', 'ding tea', 'du ngoạn', 'du ngoạn ngắm', 'duthuyền hồ', 'duthuyền potomac', 'duynhất khôngian', 'duynhất quán', 'dám gọi', 'dám lại', 'dám uống', 'dân vănphòng', 'dãman mà', 'dê thịt', 'dĩa không', 'dậy đi', 'dắt xe', 'dắt xe hộ', 'dắt đi', 'dẻ sườn', 'dẻ sườn bò', 'dịchvụ không', 'dịp ghé', 'dịp lại', 'dịp lễ', 'dịp quán', 'dịp thử', 'dịp đi', 'dọn bàn', 'dọn đồ', 'dở không', 'dở mà', 'dừa khô', 'dừa không', 'dừa mà', 'dừa ngon', 'dừa thơm', 'dựng xe', 'earl grey', 'fan cuồng', 'feling tea', 'fody không', 'fody mà', 'fody quán', 'fre trà', 'ful bàn', 'ful chỗ', 'ghi món', 'ghi order', 'ghé lại', 'ghé quán', 'ghé thử', 'ghép bàn', 'ghét kiểu', 'ghê không', 'ghế chỗ', 'ghế không', 'ghế kiểu', 'ghế mà', 'ghế nhựa', 'ghế tầng', 'gian hơi', 'gian không', 'gian quán', 'gian rộng', 'gian tầng', 'giao hàng', 'giao động', 'giavị nêm', 'giađình đi', 'giá bufet', 'giá bánh', 'giá bát', 'giá bình', 'giá bìnhdân', 'giá bìnhthường', 'giá chát', 'giá chấtlượng', 'giá cx', 'giá cốc', 'giá giá', 'giá gọi', 'giá hơi', 'giá hơi chát', 'giá hơi đắt', 'giá hợp', 'giá hợplí', 'giá hợplý', 'giá khá', 'giá khá chát', 'giá khá hợp', 'giá khá rẻ', 'giá khá ổn', 'giá không', 'giá không hề', 'giá không rẻ', 'giá không đắt', 'giá lại', 'giá lại không', 'giá lại rẻ', 'giá lại đắt', 'giá menu', 'giá mà', 'giá món', 'giá mắc', 'giá ngang', 'giá ngon', 'giá nhânviên', 'giá ok', 'giá phảichăng', 'giá phụcvụ', 'giá quán', 'giá rẻ', 'giá set', 'giá suất', 'giá sách', 'giá tiền', 'giá tiền không', 'giá trung', 'giá trungbình', 'giá trà', 'giá trời', 'giá tầm', 'giá đi', 'giá đĩa', 'giá đấy', 'giá đắt', 'giá đồ', 'giá đồ uống', 'giá ổn', 'giácả bình', 'giácả chấtlượng', 'giácả hơi', 'giácả hợp', 'giácả hợplí', 'giácả hợplý', 'giácả khá', 'giácả không', 'giácả không đắt', 'giácả khôngian', 'giácả lại', 'giácả nhânviên', 'giácả phảichăng', 'giácả quán', 'giácả rẻ', 'giácả tầm', 'giácả đắt', 'giácả ổn', 'giáthành không', 'giòn giòn', 'giòn không', 'giòn mà', 'giòn ngon', 'giòn thịt', 'giảng võ', 'giọng miền', 'giới trẻ', 'giớithiệu bạnbè', 'giớithiệu món', 'giớithiệu quán', 'golden gate', 'gà bở', 'gà cay', 'gà chiên', 'gà cơm', 'gà giá', 'gà giòn', 'gà gà', 'gà gọi', 'gà hơi', 'gà hấp', 'gà khá', 'gà không', 'gà mà', 'gà món', 'gà mềm', 'gà ngon', 'gà nhânviên', 'gà nướng', 'gà nấm', 'gà phômai', 'gà rang', 'gà rang muối', 'gà rán', 'gà rút', 'gà rút xương', 'gà sốt', 'gà tẩm', 'gà tẩm ướp', 'gà viên', 'gà vs', 'gà vị', 'gà xong', 'gà xào', 'gà xào bắpcải', 'gà ướp', 'gái đi', 'góc phố', 'gói mì', 'gói trangtrí', 'gạo nâu', 'gấp vạn', 'gấp đôi', 'gấu đi', 'gắp miếng', 'gọi bàn', 'gọi bánh', 'gọi bánh mỳ', 'gọi bánhmì', 'gọi bánhtráng', 'gọi bát', 'gọi bình', 'gọi bình trà', 'gọi bò', 'gọi bún', 'gọi bảo', 'gọi cafe', 'gọi chai', 'gọi chanh', 'gọi cháo', 'gọi chè', 'gọi chảo', 'gọi chủ', 'gọi combo', 'gọi cơm', 'gọi cơm gà', 'gọi cốc', 'gọi cốc trà', 'gọi giá', 'gọi gà', 'gọi gọi', 'gọi hai', 'gọi hơi', 'gọi hồng', 'gọi hồng trà', 'gọi kem', 'gọi khá', 'gọi không', 'gọi không lại', 'gọi kiểu', 'gọi ly', 'gọi lại', 'gọi lẩu', 'gọi lẩu mà', 'gọi lẩu riêu', 'gọi matcha', 'gọi menu', 'gọi mà', 'gọi mãi', 'gọi mãi không', 'gọi mì', 'gọi món', 'gọi món gọi', 'gọi món không', 'gọi món mà', 'gọi món món', 'gọi mấy', 'gọi mấy món', 'gọi mỳ', 'gọi nc', 'gọi nem', 'gọi ngon', 'gọi ngô', 'gọi nhân', 'gọi nhânviên', 'gọi nv', 'gọi nướng', 'gọi nồi', 'gọi nồi lẩu', 'gọi nửa', 'gọi order', 'gọi phomai', 'gọi phụcvụ', 'gọi piza', 'gọi quán', 'gọi quảnlý', 'gọi quẩy', 'gọi rau', 'gọi salad', 'gọi set', 'gọi ship', 'gọi size', 'gọi suất', 'gọi suất búnchả', 'gọi suất cơm', 'gọi suất gà', 'gọi suất lẩu', 'gọi sườn', 'gọi sốt', 'gọi sữa', 'gọi thanhtoán', 'gọi thịt', 'gọi thịt bò', 'gọi thử', 'gọi thử món', 'gọi tiếp', 'gọi tiền', 'gọi tok', 'gọi toping', 'gọi toàn', 'gọi trc', 'gọi trà', 'gọi trà sữa', 'gọi trà xanh', 'gọi trà đào', 'gọi trứng', 'gọi tạm', 'gọi tầm', 'gọi uống', 'gọi vị', 'gọi xong', 'gọi xuất', 'gọi xôi', 'gọi đi', 'gọi điện', 'gọi điện bàn', 'gọi đĩa', 'gọi đĩa thịt', 'gọi đẹp', 'gọi đồ', 'gọi đồ không', 'gọi đồ mà', 'gọi đồ nhânviên', 'gọi đồ uống', 'gọi đồ xong', 'gọi đồ đồ', 'gọi đợi', 'gọi ấm', 'gọi ấm trà', 'gọi ốc', 'gợiý món', 'gửi không', 'gửi xe', 'gửi xe không', 'gửi xe quán', 'gửi đi', 'hai bát', 'hai cốc', 'hai gọi', 'hai không', 'hai miếng', 'hai món', 'hai nhânviên', 'hai trưng', 'hai tầng', 'hai vị', 'hai đứa', 'highly recomend', 'hn không', 'hn lại', 'ho wan', 'hoa mắt', 'hoa nhài', 'hoa đẹp', 'hoaquả dầm', 'hoaquả không', 'hoaquả mà', 'hoaquả tươi', 'hoài không', 'hoàn kiếm', 'hoàngđạo thuý', 'hoè nhai', 'hun khói', 'huế món', 'huỳnh thúc', 'huỳnh thúc kháng', 'hyvọng quán', 'hà nhânviên', 'hà nội', 'hà quán', 'hà thành', 'hà đi', 'hà đông', 'hàilòng chấtlượng', 'hàilòng không', 'hàilòng món', 'hàilòng phụcvụ', 'hàilòng quán', 'hàilòng tháiđộ', 'hàn quốc', 'hàng bánh', 'hàng bồ', 'hàng cạnh', 'hàng hàng', 'hàng kem', 'hàng khá', 'hàng không', 'hàng mà', 'hàng mành', 'hàng món', 'hàng ngon', 'hàng phở', 'hàng potomac', 'hàng potomac duthuyền', 'hàng quán', 'hàng trống', 'hàng tuần', 'hàng đồ', 'hành phi', 'hành xử', 'hànội không', 'hànội mà', 'hànội quán', 'hàu nướng', 'hàu sữa', 'há cảo', 'há cảo chiên', 'hãng trà', 'hãng trà sữa', 'hè nóng', 'hìnhnhư không', 'hìnhnhư quán', 'hôi hôi', 'hôm gọi', 'hôm hôm', 'hôm không', 'hôm lại', 'hôm mua', 'hôm mưa', 'hôm mấy', 'hôm quán', 'hôm sinhnhật', 'hôm thèm', 'hôm thử', 'hôm trc', 'hôm trời', 'hôm uống', 'hôm ănở', 'hôm đi', 'hôm đi gọi', 'hôm đi không', 'hôm đông', 'hôm đấy', 'hôm đấy gọi', 'hôm đấy đi', 'hômnay dịp', 'hômnay ghé', 'hômnay gọi', 'hômnay hơi', 'hômnay không', 'hômnay lại', 'hômnay mua', 'hômnay nhàhàng', 'hômnay quán', 'hômnay sinhnhật', 'hômnay thử', 'hômnay trời', 'hômnay đi', 'hômnay đầu', 'hômqua đi', 'hút mùi', 'hút thuốc', 'hơi buồn', 'hơi bàn', 'hơi bánh', 'hơi bánhmì', 'hơi bé', 'hơi bí', 'hơi bẩn', 'hơi cay', 'hơi chua', 'hơi chát', 'hơi chút', 'hơi chậm', 'hơi chật', 'hơi chỗ', 'hơi cảmgiác', 'hơi cứng', 'hơi dai', 'hơi dầu', 'hơi gian', 'hơi giá', 'hơi gọi', 'hơi hôm', 'hơi hơi', 'hơi kem', 'hơi khuất', 'hơi khó', 'hơi khóchịu', 'hơi khótính', 'hơi khô', 'hơi không', 'hơi khôngian', 'hơi kiểu', 'hơi kì', 'hơi lạ', 'hơi lại', 'hơi mà', 'hơi món', 'hơi mấy', 'hơi mắc', 'hơi mắc chút', 'hơi mặn', 'hơi ngon', 'hơi nguội', 'hơi ngấy', 'hơi nhânviên', 'hơi nhạt', 'hơi nóng', 'hơi phụcvụ', 'hơi quán', 'hơi sợ', 'hơi tháiđộ', 'hơi thất', 'hơi thấtvọng', 'hơi thịt', 'hơi tiếc', 'hơi tí', 'hơi tầm', 'hơi tầng', 'hơi tối', 'hơi uống', 'hơi vs', 'hơi vị', 'hơi đi', 'hơi đông', 'hơi đắt', 'hơi đồ', 'hơi đồ uống', 'hơi ồnào', 'hương thơm', 'hươngsen món', 'hươngvị không', 'hươngvị món', 'hạt rẻ', 'hạt sen', 'hải phòng', 'hảisản không', 'hảisản mà', 'hảisản tươi', 'hất hàm', 'hầunhư không', 'hầunhư tuần', 'hắc đế', 'hẳn quán', 'hẹn không', 'hẹn lại', 'hẹn đi', 'hề ngon', 'hề rẻ', 'hề vị', 'hề đông', 'hề đắt', 'hệthống hút', 'hệthống hút mùi', 'học không', 'học mà', 'học quán', 'học đi', 'họcsinh sinh', 'họcsinh sinhviên', 'họp lớp', 'hồ gươm', 'hồ hoàn', 'hồ trúc', 'hồ trúc bạch', 'hồ tây', 'hồi bé', 'hồi không', 'hồi quán', 'hồi trc', 'hồi xưa', 'hồi đi', 'hồi đấy', 'hồi đầu', 'hồng trà', 'hồng trà sữa', 'hộ xe', 'hộp bánh', 'hợp không', 'hợp khôngian', 'hợp khẩuvị', 'hợp lại', 'hợp mà', 'hợp nhânviên', 'hợp nhânviên phụcvụ', 'hợp phụcvụ', 'hợp túitiền', 'hợp vs', 'hợp vị', 'hợp đi', 'hợplý mà', 'hứa không', 'hữu huân', 'ice blended', 'kem bánh', 'kem béo', 'kem béo ngậy', 'kem chanh', 'kem chese', 'kem chua', 'kem chảy', 'kem dừa', 'kem hoaquả', 'kem hơi', 'kem kem', 'kem khá', 'kem không', 'kem kia', 'kem lại', 'kem matcha', 'kem mà', 'kem mặn', 'kem ngon', 'kem ngậy', 'kem nhânviên', 'kem sữa', 'kem trà', 'kem trà xanh', 'kem tràng', 'kem tràng tiền', 'kem tươi', 'kem vani', 'kem vị', 'kem xong', 'kem xôi', 'kem đắt', 'kem ốc', 'kem ốc quế', 'khen khen', 'khen không', 'khen ngon', 'khen quán', 'khen thử', 'khoai chiên', 'khoai không', 'khoai nghiền', 'khoai ngon', 'khoailang chiên', 'khoaitây chiên', 'khoaitây không', 'khoaitây lắc', 'khoaitây nghiền', 'khoái món', 'khu trungtâm', 'khu tậpthể', 'khu ẩmthực', 'khuphố cổ', 'khuyên chânthành', 'khuyên không', 'khuyếnmãi mua', 'khá bàn', 'khá bánh', 'khá bé', 'khá bình', 'khá bìnhthường', 'khá bắt', 'khá bắtmắt', 'khá chát', 'khá chất', 'khá chấtlượng', 'khá chật', 'khá chỗ', 'khá chỗ xe', 'khá decor', 'khá gian', 'khá gian quán', 'khá giá', 'khá giácả', 'khá gọi', 'khá hàilòng', 'khá hôm', 'khá hơi', 'khá hấp', 'khá hợp', 'khá kem', 'khá khá', 'khá khó', 'khá khóchịu', 'khá không', 'khá khôngian', 'khá khôngian quán', 'khá lạ', 'khá lại', 'khá lẩu', 'khá mà', 'khá món', 'khá mấy', 'khá mặtbằng', 'khá mềm', 'khá ngon', 'khá ngon mà', 'khá ngon nhânviên', 'khá nhiệt', 'khá nhiệtình', 'khá nhânviên', 'khá nhânviên phụcvụ', 'khá nhạt', 'khá nóng', 'khá nổibật', 'khá nổitiếng', 'khá ok', 'khá phongphú', 'khá phòng', 'khá phảichăng', 'khá phụcvụ', 'khá quán', 'khá rẻ', 'khá rộng', 'khá rộngrãi', 'khá sạch', 'khá sạchsẽ', 'khá sốt', 'khá thoáng', 'khá thoải', 'khá thoảimái', 'khá tháiđộ', 'khá thân', 'khá thơm', 'khá thất', 'khá thấtvọng', 'khá thịt', 'khá trangtrí', 'khá trà', 'khá trẻ', 'khá tươi', 'khá tầm', 'khá tầng', 'khá tệ', 'khá tối', 'khá uống', 'khá vị', 'khá yên', 'khá đa', 'khá đadạng', 'khá đi', 'khá đông', 'khá đông nhânviên', 'khá đầyđặn', 'khá đậm', 'khá đắt', 'khá đặc', 'khá đẹp', 'khá đồ', 'khá đồ uống', 'khá ưng', 'khá ấm', 'khá ấntượng', 'khá ồn', 'khá ổn', 'kháchàng không', 'kháchàng đi', 'khó gọi', 'khó không', 'khó khôngian', 'khó lại', 'khó mà', 'khó nhânviên', 'khó nuốt', 'khó quán', 'khó tiền', 'khó tả', 'khó uống', 'khó đi', 'khó đồ', 'khóchịu gọi', 'khóchịu không', 'khóchịu tháiđộ', 'khóchịu đi', 'khói bay', 'khô gà', 'khô không', 'khô khôngkhốc', 'khô mà', 'không bao', 'không baoh', 'không bufet', 'không buồn', 'không bàn', 'không bánh', 'không bánh không', 'không bánhmì', 'không báo', 'không bát', 'không bé', 'không béo', 'không bê', 'không bình', 'không bìnhthường', 'không bí', 'không bò', 'không bõ', 'không bù', 'không bún', 'không bảo', 'không bảo không', 'không bảovệ', 'không bật', 'không bắt', 'không bắtmắt', 'không bọn', 'không bở', 'không bực', 'không cay', 'không cay không', 'không chua', 'không chuyên', 'không chuyênghiệp', 'không chuẩn', 'không chào', 'không chán', 'không chân', 'không chè', 'không chê', 'không chêtrách', 'không chín', 'không chút', 'không chạy', 'không chả', 'không chảy', 'không chấm', 'không chấpnhận', 'không chấpnhận không', 'không chất', 'không chấtlượng', 'không chật', 'không chắchắn', 'không chẳng', 'không chỗ', 'không chỗ mà', 'không chỗ xe', 'không chờ', 'không chụp', 'không chụp ảnh', 'không chủ', 'không coi', 'không cá', 'không câu', 'không cónhânviên', 'không cơm', 'không cơsở', 'không cạnh', 'không cảithiện', 'không cảmgiác', 'không cảmnhận', 'không cảmnhận vị', 'không cảmtình', 'không cầm', 'không cầukì', 'không cắt', 'không cốc', 'không cộng', 'không cửahàng', 'không cực', 'không dai', 'không dám', 'không dám lại', 'không dám uống', 'không dạng', 'không dắt', 'không dịchvụ', 'không dịp', 'không dọn', 'không ghi', 'không ghé', 'không ghé lại', 'không gian', 'không giá', 'không giácả', 'không giòn', 'không giảithích', 'không giớithiệu', 'không gà', 'không góc', 'không gọi', 'không gọi gọi', 'không gọi lại', 'không gọi món', 'không gọi đồ', 'không gửi', 'không gửi xe', 'không hai', 'không hoaquả', 'không hài', 'không hàilòng', 'không hàng', 'không hòa', 'không hôm', 'không hômnay', 'không hút', 'không hơi', 'không hướngdẫn', 'không hảisản', 'không hẳn', 'không hẹn', 'không hề', 'không hề rẻ', 'không hề vị', 'không hề đông', 'không hề đắt', 'không hợp', 'không hợpkhẩuvị', 'không hợplý', 'không kem', 'không khen', 'không khoai', 'không khoaitây', 'không khoái', 'không khuyên', 'không khá', 'không kháchàng', 'không khó', 'không khóchịu', 'không khói', 'không khô', 'không không', 'không không chỗ', 'không không không', 'không không lại', 'không không mà', 'không không món', 'không không ngon', 'không khôngian', 'không khẩuvị', 'không khỏi', 'không kiểmtra', 'không kiểu', 'không kèm', 'không kém', 'không kĩ', 'không kịp', 'không lo', 'không lại', 'không lại cơsở', 'không lại gọi', 'không lại không', 'không lại quán', 'không lẩu', 'không lắm', 'không lắm không', 'không lỗi', 'không lựachọn', 'không matcha', 'không may', 'không maymắn', 'không menu', 'không miếng', 'không mong', 'không mongđợi', 'không mua', 'không mà', 'không mà không', 'không màlại', 'không mát', 'không mì', 'không món', 'không món món', 'không mùa', 'không mùi', 'không mùi thơm', 'không mùivị', 'không mấy', 'không mặcdù', 'không mặn', 'không mặt', 'không mềm', 'không mỳ', 'không nem', 'không ng', 'không ngon', 'không ngon bánh', 'không ngon chút', 'không ngon hàng', 'không ngon không', 'không ngon lại', 'không ngon lắm', 'không ngon mong', 'không ngon mà', 'không ngon mấy', 'không ngon quán', 'không ngon vị', 'không ngon đặcsắc', 'không ngán', 'không ngại', 'không ngấm', 'không ngấy', 'không ngờ', 'không nhiệt', 'không nhiệtình', 'không nhiệtình lắm', 'không nhàhàng', 'không nhân', 'không nhânviên', 'không nhânviên không', 'không nhânviên phụcvụ', 'không nhạt', 'không nhầm', 'không nhậnxét', 'không nhắc', 'không niềm', 'không niềmnở', 'không nuốt', 'không nv', 'không nát', 'không nóinăng', 'không nóng', 'không nướcdùng', 'không nướchấm', 'không nướng', 'không nấu', 'không nằm', 'không nồi', 'không nổi', 'không nổibật', 'không nở', 'không nở nụ', 'không nửa', 'không ok', 'không order', 'không pha', 'không phong', 'không phongcách', 'không phongphú', 'không phànàn', 'không phânbiệt', 'không phép', 'không phí', 'không phục', 'không phụcvụ', 'không piza', 'không quan', 'không quen', 'không quán', 'không quán khá', 'không quán không', 'không quán mà', 'không quán đông', 'không quên', 'không quạt', 'không quảnlý', 'không rau', 'không review', 'không rơi', 'không rẻ', 'không rẻ không', 'không rộng', 'không rộng lắm', 'không rộngrãi', 'không rửa', 'không sai', 'không salad', 'không suất', 'không sạch', 'không sạchsẽ', 'không sạchsẽ lắm', 'không sốt', 'không sợ', 'không sữa', 'không sữachua', 'không thanhtoán', 'không thay', 'không thoải', 'không thoảimái', 'không thua', 'không tháiđộ', 'không tháiđộ nhânviên', 'không tháiđộ phụcvụ', 'không thân', 'không thânthiện', 'không thèm', 'không thèm không', 'không thìa', 'không thíchợp', 'không thôngbáo', 'không thơm', 'không thơm mùi', 'không thưởngthức', 'không thất', 'không thấtvọng', 'không thểnào', 'không thịt', 'không thịt bò', 'không thở', 'không thử', 'không tiếc', 'không tiếng', 'không tiếp', 'không tiền', 'không tiền không', 'không tiện', 'không toàn', 'không trangtrí', 'không trà', 'không trânchâu', 'không trông', 'không trảlời', 'không trộn', 'không trở', 'không trởlại', 'không trứng', 'không trừ', 'không tàophớ', 'không tí', 'không tôm', 'không tôntrọng', 'không tý', 'không tươi', 'không tương', 'không tươngxứng', 'không tả', 'không tả nổi', 'không tầm', 'không tầng', 'không tẩm', 'không tẩm ướp', 'không tệ', 'không tối', 'không uống', 'không uống trà', 'không view', 'không viên', 'không viết', 'không vs', 'không vui', 'không vô', 'không vệsinh', 'không vị', 'không vị không', 'không vị trà', 'không vụ', 'không wifi', 'không xe', 'không xinlỗi', 'không xong', 'không xuất', 'không xuấtsắc', 'không xương', 'không xếp', 'không xứng', 'không xứngđáng', 'không yêu', 'không ám', 'không ápdụng', 'không ôi', 'không ýkiến', 'không ýđịnh', 'không ýđịnh lại', 'không ănở', 'không ănở quán', 'không đa', 'không đadạng', 'không đau', 'không đem', 'không đen', 'không đi', 'không đi không', 'không đi quán', 'không điềuhoà', 'không đk', 'không đành', 'không đá', 'không đòihỏi', 'không đôico', 'không đông', 'không đông không', 'không đông lắm', 'không đông nhânviên', 'không đĩa', 'không đường', 'không đấy', 'không đầu', 'không đậm', 'không đậm vị', 'không đậmđà', 'không đắt', 'không đắt chấtlượng', 'không đắt không', 'không đặc', 'không đặc bánh', 'không đặc giá', 'không đặc không', 'không đặcsắc', 'không đặcsắc không', 'không đặcsắc lắm', 'không đặtchân', 'không đẹp', 'không đẹp lắm', 'không đẹpmắt', 'không đếnỗi', 'không đểý', 'không địađiểm', 'không định', 'không đồ', 'không đồ uống', 'không đồng', 'không đồngý', 'không đổi', 'không độ', 'không đợi', 'không đụng', 'không đứa', 'không đứng', 'không đứng dậy', 'không đừng', 'không ưng', 'không ảnh', 'không ấn', 'không ấntượng', 'không ống', 'không ồn', 'không ồnào', 'không ổn', 'không ổn lắm', 'khônggian quán', 'khôngian bàn', 'khôngian bánh', 'khôngian bé', 'khôngian chấtlượng', 'khôngian chật', 'khôngian hơi', 'khôngian khá', 'khôngian không', 'khôngian khôngian', 'khôngian kiểu', 'khôngian lại', 'khôngian nhàhàng', 'khôngian nhânviên', 'khôngian phụcvụ', 'khôngian quán', 'khôngian quán hơi', 'khôngian quán khá', 'khôngian quán không', 'khôngian quán rộng', 'khôngian quán tầng', 'khôngian quán đẹp', 'khôngian rộng', 'khôngian rộng thoáng', 'khôngian rộngrãi', 'khôngian rộngrãi thoáng', 'khôngian siêu', 'khôngian sạch', 'khôngian thoáng', 'khôngian thoáng mát', 'khôngian thoáng nhânviên', 'khôngian thoángđãng', 'khôngian thoảimái', 'khôngian trangtrí', 'khôngian tuyệt', 'khôngian tầng', 'khôngian yên', 'khôngian yêntĩnh', 'khôngian đẹp', 'khôngian đồ', 'khôngian đồ uống', 'khôngian ấm', 'khôngian ấmcúng', 'khôngthể bỏqua', 'khôngthể chê', 'khôngthể chấpnhận', 'khôngthể gọi', 'khôngthể không', 'khôngthể nuốt', 'khôngthể nuốt nổi', 'khôngthể nổi', 'khôngthể tưởngtượng', 'khôngthể tả', 'khôngthể yêuthương', 'khúc bạch', 'khẩuvị không', 'khỏi bàn', 'khỏi chê', 'khỏi ngon', 'khỏi quán', 'kia không', 'kia xong', 'kia đường', 'kim chi', 'kim chi gọi', 'kim chi không', 'kim châm', 'kim liên', 'kim mã', 'king bq', 'kinh gọi', 'kinh không', 'kinh đi', 'kiwi lô', 'kiwi lô hội', 'kiếm chỗ', 'kiểmtra lại', 'kiểu bánh', 'kiểu cổ', 'kiểu gọi', 'kiểu hàn', 'kiểu hơi', 'kiểu không', 'kiểu lại', 'kiểu mà', 'kiểu mấy', 'kiểu nhàhàng', 'kiểu nhânviên', 'kiểu nhật', 'kiểu pha', 'kiểu phụcvụ', 'kiểu quán', 'kiểu sữa', 'kiểu thịt', 'kiểu tiền', 'kiểu trà', 'kiểu xong', 'kiểu đi', 'kiểu đuổi', 'kiểu đông', 'kiểu đồ', 'km mua', 'km mua tặng', 'kèm bánh', 'kèm bánh mỳ', 'kèm bánhmì', 'kèm bát', 'kèm cơm', 'kèm giá', 'kèm gọi', 'kèm khoaitây', 'kèm khá', 'kèm không', 'kèm kim', 'kèm kim chi', 'kèm mà', 'kèm mì', 'kèm rau', 'kèm salad', 'kèm sốt', 'kèm thịt', 'kèm đĩa', 'kèm đồ', 'kém chấtlượng', 'kê bàn', 'kêu không', 'kì kì', 'kịp chụp', 'kịp chụp ảnh', 'lan trứng', 'lan trứng muối', 'lau bàn', 'lau không', 'les jours', 'liêntục không', 'lon coca', 'long biên', 'ly kem', 'ly trà', 'làmăn không', 'làmăn kiểu', 'làmăn phátđạt', 'lá dứa', 'lá nếp', 'lá rau', 'lã vọng', 'lèotèo miếng', 'lê đạihành', 'lò visóng', 'lô hội', 'lý kiệt', 'lương định', 'lạ lạ', 'lạ mà', 'lạ ngon', 'lạc long', 'lại bàn', 'lại bánh', 'lại bát', 'lại bê', 'lại bình', 'lại bìnhthường', 'lại bảo', 'lại bọn', 'lại chán', 'lại chạy', 'lại chả', 'lại chấtlượng', 'lại chắchắn', 'lại chẳng', 'lại chỗ', 'lại chờ', 'lại chụp', 'lại chủ', 'lại câu', 'lại cơsở', 'lại cảmgiác', 'lại cốc', 'lại dàidài', 'lại dịp', 'lại ghé', 'lại giá', 'lại gọi', 'lại hai', 'lại hàng', 'lại hôm', 'lại hơi', 'lại hươngvị', 'lại hợp', 'lại kem', 'lại khá', 'lại không', 'lại không lại', 'lại không ngon', 'lại không quán', 'lại không đồ', 'lại khôngian', 'lại kiểu', 'lại kêu', 'lại lại', 'lại lẩu', 'lại mua', 'lại mà', 'lại mãi', 'lại món', 'lại mấy', 'lại mặcdù', 'lại ngon', 'lại nhàhàng', 'lại nhânviên', 'lại nhạt', 'lại nửa', 'lại order', 'lại phụcvụ', 'lại piza', 'lại quán', 'lại quán không', 'lại quán mà', 'lại quên', 'lại rẻ', 'lại rủ', 'lại siêu', 'lại suất', 'lại thành', 'lại tháiđộ', 'lại thèm', 'lại thưởngthức', 'lại thạch', 'lại thất', 'lại thấtvọng', 'lại thịt', 'lại thử', 'lại thử món', 'lại tiếng', 'lại tiếp', 'lại tiền', 'lại toàn', 'lại tầng', 'lại tệ', 'lại tỏ', 'lại uống', 'lại view', 'lại vs', 'lại vị', 'lại xe', 'lại xong', 'lại ănở', 'lại đi', 'lại đông', 'lại đĩa', 'lại đấy', 'lại đầu', 'lại đắt', 'lại địađiểm', 'lại đồ', 'lại đồ uống', 'lại đồ ănkhông', 'lại đổi', 'lại đợi', 'lại ưng', 'lại ấntượng', 'lại ủnghộ', 'lạnh không', 'lạnh lạnh', 'lẩu bò', 'lẩu giá', 'lẩu gọi', 'lẩu hảisản', 'lẩu khá', 'lẩu không', 'lẩu kim', 'lẩu kim chi', 'lẩu lẩu', 'lẩu mà', 'lẩu món', 'lẩu ngon', 'lẩu nhânviên', 'lẩu nướng', 'lẩu nấm', 'lẩu quán', 'lẩu riêu', 'lẩu riêu cua', 'lẩu sườn', 'lẩu thái', 'lẩu thịt', 'lẩu đồ', 'lắm bánh', 'lắm bát', 'lắm chỗ', 'lắm giá', 'lắm gọi', 'lắm hơi', 'lắm khá', 'lắm không', 'lắm kiểu', 'lắm lại', 'lắm lắm', 'lắm mà', 'lắm mà không', 'lắm món', 'lắm ngon', 'lắm nhânviên', 'lắm phụcvụ', 'lắm quán', 'lắm trà', 'lắm view', 'lắm vị', 'lắm đi', 'lắm đồ', 'lẽ quán', 'lịchsự không', 'lối đi', 'lỗi không', 'lớp bánh', 'lớp kem', 'lớp vỏ', 'lợ không', 'lợ lợ', 'mai hắc', 'mai hắc đế', 'mai lại', 'matcha không', 'may mà', 'menu bàn', 'menu ghi', 'menu gọi', 'menu hơi', 'menu khá', 'menu không', 'menu mà', 'menu món', 'menu phong', 'menu phongphú', 'menu quán', 'menu đadạng', 'menu đi', 'menu đồ', 'menu đồ uống', 'mix vị', 'miến trộn', 'miếng bánh', 'miếng bé', 'miếng bạchtuộc', 'miếng chả', 'miếng cá', 'miếng gà', 'miếng gọi', 'miếng không', 'miếng miếng', 'miếng mà', 'miếng rau', 'miếng thịt', 'miếng thịt bò', 'miếng thịt gà', 'miếng thịt mỏng', 'miếng xong', 'miếng đào', 'miếng đầu', 'miền nam', 'miễn bàn', 'miễn chê', 'mk không', 'mong nhàhàng', 'mong quán', 'mouse chanh', 'mouse trà', 'mua bánh', 'mua bực', 'mua chè', 'mua cốc', 'mua gọi', 'mua hàng', 'mua hộp', 'mua kem', 'mua không', 'mua mà', 'mua mấy', 'mua nhânviên', 'mua suất', 'mua sẵn', 'mua thử', 'mua tặng', 'mua uống', 'mua voucher', 'mua xong', 'mua đi', 'mua đông', 'mua đồ', 'must try', 'muối không', 'muộn mà', 'mà bàn', 'mà bánh', 'mà bát', 'mà bé', 'mà bê', 'mà bìnhthường', 'mà bảo', 'mà bọn', 'mà bụng', 'mà chs', 'mà chán', 'mà chạy', 'mà chả', 'mà chấtlượng', 'mà chấtlượng không', 'mà chẳng', 'mà chỗ', 'mà chờ', 'mà chủ', 'mà chủ quán', 'mà côngnhận', 'mà căng', 'mà cảmgiác', 'mà cốc', 'mà cửahàng', 'mà cực', 'mà dịp', 'mà giá', 'mà giá khá', 'mà giá không', 'mà giá lại', 'mà giá rẻ', 'mà giácả', 'mà giácả lại', 'mà giòn', 'mà gà', 'mà gọi', 'mà gọi không', 'mà hai', 'mà hàng', 'mà hìnhnhư', 'mà hôm', 'mà hôm đấy', 'mà hômnay', 'mà hơi', 'mà kem', 'mà khen', 'mà khá', 'mà không', 'mà không bánh', 'mà không chỗ', 'mà không dám', 'mà không gọi', 'mà không hề', 'mà không không', 'mà không lại', 'mà không ngon', 'mà không quán', 'mà không vị', 'mà không đi', 'mà không đồ', 'mà khôngian', 'mà khôngthể', 'mà kiểu', 'mà kèm', 'mà lèotèo', 'mà lại', 'mà lại không', 'mà lẩu', 'mà lắm', 'mà may', 'mà miếng', 'mà mua', 'mà mà', 'mà màu', 'mà mãi', 'mà mãi không', 'mà mê', 'mà món', 'mà mấy', 'mà mấy nhânviên', 'mà mặt', 'mà ng', 'mà ngon', 'mà nhàhàng', 'mà nhânviên', 'mà nhânviên không', 'mà nhạt', 'mà nv', 'mà nửa', 'mà order', 'mà phát', 'mà phòng', 'mà phụcvụ', 'mà quán', 'mà quán không', 'mà quán đông', 'mà quên', 'mà review', 'mà rẻ', 'mà siêu', 'mà suất', 'mà sốt', 'mà tháiđộ', 'mà tháiđộ nhânviên', 'mà tháiđộ phụcvụ', 'mà thèm', 'mà thơm', 'mà thất', 'mà thấtvọng', 'mà thịt', 'mà thử', 'mà tiếc', 'mà tiếng', 'mà tiền', 'mà toàn', 'mà trà', 'mà trông', 'mà tầng', 'mà tận', 'mà tối', 'mà uống', 'mà vui', 'mà vị', 'mà xe', 'mà xong', 'mà yêu', 'mà yêu nhàhàng', 'mà ănkhông', 'mà ănở', 'mà đi', 'mà đói', 'mà đông', 'mà đĩa', 'mà đấy', 'mà đầu', 'mà đắt', 'mà đẹp', 'mà đọc', 'mà đồ', 'mà đồ không', 'mà đồ uống', 'mà độ', 'mà đợi', 'mà đứa', 'mà đứng', 'mà ưng', 'màlại không', 'màlại ngon', 'màlại rẻ', 'màu hồng', 'màu nâu', 'màu trắng', 'màu vàng', 'màu xanh', 'màu đen', 'màu đỏ', 'màusắc mà', 'màusắc mà yêu', 'mát không', 'mát lạnh', 'mát lắm', 'mát mà', 'mát mát', 'mát nhânviên', 'mát rộng', 'mát trời', 'mát đồ', 'mã giảmgiá', 'mãi chả', 'mãi chẳng', 'mãi không', 'mãi mà', 'mãi quán', 'mãi đồ', 'mãimãi không', 'mê món', 'mê quán', 'mì cay', 'mì không', 'mì quảng', 'mì sốt', 'mì tôm', 'mì xào', 'mì đen', 'món bufet', 'món bánh', 'món bánhbao', 'món bánhtráng', 'món bò', 'món bún', 'món bảo', 'món bọn', 'món canh', 'món chán', 'món cháo', 'món chè', 'món chả', 'món chả cá', 'món chấtlượng', 'món chẳng', 'món cua', 'món cá', 'món cơm', 'món cơm gà', 'món cơmrang', 'món cảmnhận', 'món giá', 'món gà', 'món gà xào', 'món gọi', 'món gọi món', 'món huế', 'món hàn', 'món hàu', 'món há', 'món há cảo', 'món hômnay', 'món hơi', 'món hảisản', 'món hảisản tươi', 'món hấpdẫn', 'món kem', 'món khaivị', 'món khá', 'món không', 'món không gọi', 'món không ngon', 'món khôngthể', 'món kiểu', 'món kèm', 'món kêu', 'món lạ', 'món lại', 'món lại không', 'món lẩu', 'món lắm', 'món menu', 'món mà', 'món mà không', 'món mì', 'món món', 'món món không', 'món mấy', 'món mặn', 'món mỳ', 'món ngon', 'món ngon không', 'món nhàhàng', 'món nhânviên', 'món nv', 'món nướng', 'món nấm', 'món order', 'món phụ', 'món phụcvụ', 'món quán', 'món rau', 'món salad', 'món sườn', 'món sốt', 'món tháiđộ', 'món thịt', 'món thử', 'món tiền', 'món trà', 'món trángmiệng', 'món trứng', 'món tôm', 'món tươi', 'món tươi ngon', 'món tầm', 'món tủ', 'món uống', 'món vặt', 'món vị', 'món xong', 'món xào', 'món xôi', 'món âu', 'món ănkhông', 'món ănở', 'món đadạng', 'món đi', 'món đấy', 'món đặctrưng', 'món đồ', 'món đồ uống', 'món đợi', 'món ưng', 'món ấntượng', 'món ốc', 'mùa hè', 'mùa đông', 'mùa đông mùa', 'mùi bánh', 'mùi bột', 'mùi càphê', 'mùi dầumỡ', 'mùi dừa', 'mùi hôi', 'mùi hơi', 'mùi không', 'mùi kinh', 'mùi mùi', 'mùi thơm', 'mùi thịt', 'mùi trà', 'mùi đồ', 'mùivị không', 'mùng tết', 'mưa không', 'mưa đi', 'mấy anhchị', 'mấy bàn', 'mấy bánh', 'mấy bát', 'mấy chỗ', 'mấy chục', 'mấy cọng', 'mấy cốc', 'mấy ghế', 'mấy gọi', 'mấy hàng', 'mấy hôm', 'mấy kem', 'mấy không', 'mấy lại', 'mấy miếng', 'mấy miếng thịt', 'mấy mà', 'mấy mèo', 'mấy món', 'mấy món mà', 'mấy mấy', 'mấy ng', 'mấy nhânviên', 'mấy nv', 'mấy phụcvụ', 'mấy quán', 'mấy review', 'mấy thằng', 'mấy toàn', 'mấy tầng', 'mấy vị', 'mấy đi', 'mấy đĩa', 'mấy đồ', 'mấy đứa', 'mắc chút', 'mắmtôm không', 'mắt không', 'mặc đồngphục', 'mặcdù khá', 'mặcdù không', 'mặcdù quán', 'mặcdù đông', 'mặn khá', 'mặn không', 'mặn mà', 'mặn món', 'mặn mặn', 'mặt bàn', 'mặt khó', 'mặt không', 'mặt kiểu', 'mặt lại', 'mặt lạnh', 'mặt mà', 'mặt nhânviên', 'mặt quán', 'mặtbằng quán', 'mặtđường chợ', 'mặtđường hàng', 'mặtđường khá', 'mặtđường nguyễn', 'mặtđường quán', 'mẹ gọi', 'mẹ không', 'mẹ đi', 'mềm bánh', 'mềm giòn', 'mềm không', 'mềm mà', 'mềm mềm', 'mềm mịn', 'mềm ngon', 'mềm oặt', 'mềm sốt', 'mềm tan', 'mềm thơm', 'mềm vị', 'mỉm cười', 'mỏi mồm', 'mốc mồm', 'mồm mà', 'mỡ hành', 'mực chiên', 'mực không', 'mỳ cay', 'mỳ chảo', 'mỳ gọi', 'mỳ hơi', 'mỳ khá', 'mỳ không', 'mỳ ngon', 'mỳ nướng', 'mỳ sốt', 'mỳ sốt bò', 'mỳ trộn', 'mỳ tôm', 'mỳ udon', 'mỳ vằnthắn', 'mỳ đen', 'mỳ đĩa', 'nam không', 'nam nhânviên', 'nam phụcvụ', 'nc chấm', 'nc không', 'nc lẩu', 'nc lọc', 'nc mà', 'nc sốt', 'nem khoai', 'nem không', 'nem nem', 'nem nướng', 'nemchua rán', 'never come', 'never come back', 'ng bàn', 'ng gọi', 'ng khen', 'ng không', 'ng mua', 'ng mà', 'ng ng', 'ng ta', 'ng đi', 'ngang ngang', 'ngang quán', 'nghi tàm', 'nghiện bánh', 'nghiện mà', 'nghiện món', 'nghiện trà', 'nghĩa tân', 'ngon bánh', 'ngon bánhbao', 'ngon bát', 'ngon bình', 'ngon bổ', 'ngon bổ rẻ', 'ngon chè', 'ngon chút', 'ngon chả', 'ngon chất', 'ngon chấtlượng', 'ngon chẳng', 'ngon chỗ', 'ngon chủ', 'ngon chủ quán', 'ngon cólẽ', 'ngon cảmgiác', 'ngon cực', 'ngon dã', 'ngon dãman', 'ngon giá', 'ngon giá hơi', 'ngon giácả', 'ngon giácả hợplý', 'ngon giòn', 'ngon gà', 'ngon gấp', 'ngon gọi', 'ngon huhu', 'ngon hàng', 'ngon hànội', 'ngon hôm', 'ngon hơi', 'ngon hấp', 'ngon hấpdẫn', 'ngon hẳn', 'ngon hồi', 'ngon hợpkhẩuvị', 'ngon kem', 'ngon khá', 'ngon không', 'ngon không chê', 'ngon không ngon', 'ngon khôngian', 'ngon khỏi', 'ngon khỏi chê', 'ngon kinh', 'ngon kiểu', 'ngon lại', 'ngon lại không', 'ngon lẩu', 'ngon lắm', 'ngon lắm lắm', 'ngon lắm mà', 'ngon miếng', 'ngon miễn', 'ngon mong', 'ngon mua', 'ngon mà', 'ngon mà giá', 'ngon mà không', 'ngon mà rẻ', 'ngon màlại', 'ngon mát', 'ngon món', 'ngon mấy', 'ngon mấy mà', 'ngon mềm', 'ngon ngon', 'ngon nhân', 'ngon nhânviên', 'ngon nướcdùng', 'ngon nướchấm', 'ngon phết', 'ngon phụcvụ', 'ngon piza', 'ngon quán', 'ngon rẻ', 'ngon siêu', 'ngon sạch', 'ngon sốt', 'ngon tháiđộ', 'ngon tháiđộ nhânviên', 'ngon thơm', 'ngon thấtvọng', 'ngon thịt', 'ngon thử', 'ngon trà', 'ngon tuyệt', 'ngon tuyệtvời', 'ngon tí', 'ngon tầm', 'ngon tội', 'ngon uống', 'ngon view', 'ngon viên', 'ngon vs', 'ngon vị', 'ngon vừamiệng', 'ngon xong', 'ngon xuất', 'ngon ănở', 'ngon đi', 'ngon đông', 'ngon đầu', 'ngon đầyđặn', 'ngon đậm', 'ngon đắt', 'ngon đặc', 'ngon đặcsắc', 'ngon đẹp', 'ngon đồ', 'ngon đồ uống', 'ngon ốc', 'ngoàitrời tầng', 'ngoạn ngắm', 'nguyên không', 'nguyễn chí', 'nguyễn hữu', 'nguyễn hữu huân', 'nguyễn trường', 'nguyễn trường tộ', 'nguyễn đình', 'nguyễn đình thi', 'nguyễn đình tây', 'nguội không', 'ngán không', 'ngán lắm', 'ngã tư', 'ngã tư hàng', 'ngô chiên', 'ngõ không', 'ngõ quán', 'ngõ trung', 'ngõ đi', 'ngũ xã', 'ngườita không', 'ngấy không', 'ngấy kinh', 'ngấy lắm', 'ngấy tí', 'ngấy tận', 'ngập mồm', 'ngậy béo', 'ngậy không', 'ngậy mà', 'ngậy ngậy', 'ngậy thơm', 'ngậy vị', 'ngắm cảnh', 'ngắm hồ', 'ngắm phố', 'ngắm đườngphố', 'ngọc hiếu', 'ngửi mùi', 'nh không', 'nha đam', 'nhan vien', 'nhanhnhẹn nhiệt', 'nhg không', 'nhg lại', 'nhiệt chu', 'nhiệt giá', 'nhiệt giácả', 'nhiệt gọi', 'nhiệt không', 'nhiệt khôngian', 'nhiệt lại', 'nhiệt lễ', 'nhiệt món', 'nhiệt quán', 'nhiệt thân', 'nhiệt thânthiện', 'nhiệt đồ', 'nhiệt đồ uống', 'nhiệtình chu', 'nhiệtình dắt', 'nhiệtình không', 'nhiệtình lắm', 'nhiệtình nhanhnhẹn', 'nhiệtình nhânviên', 'nhiệtình phụcvụ', 'nhiệtình quán', 'nhiệtình thân', 'nhiệtình thânthiện', 'nhiệtình vui', 'nhiệtình đi', 'nhiệtình đồ', 'nhàhàng chấtlượng', 'nhàhàng chỗ', 'nhàhàng duthuyền', 'nhàhàng khá', 'nhàhàng không', 'nhàhàng khôngian', 'nhàhàng lại', 'nhàhàng mà', 'nhàhàng món', 'nhàhàng nhàhàng', 'nhàhàng nằm', 'nhàhàng potomac', 'nhàhàng potomac thiết', 'nhàhàng sangtrọng', 'nhàhàng đông', 'nhàhàng đồ', 'nhài sữa', 'nhân bánh', 'nhân khá', 'nhân không', 'nhân nhânviên', 'nhân phụcvụ', 'nhân quán', 'nhân thịt', 'nhân tôm', 'nhân đầyđặn', 'nhânviên bàn', 'nhânviên bê', 'nhânviên bê bát', 'nhânviên bưng', 'nhânviên bảo', 'nhânviên bảo không', 'nhânviên bảo đợi', 'nhânviên bảovệ', 'nhânviên bận', 'nhânviên bếp', 'nhânviên bọn', 'nhânviên chuyên', 'nhânviên chào', 'nhânviên chạy', 'nhânviên chả', 'nhânviên chậm', 'nhânviên chỗ', 'nhânviên chủ', 'nhânviên chủ quán', 'nhânviên cốc', 'nhânviên cực', 'nhânviên cựckì', 'nhânviên cựckỳ', 'nhânviên dắt', 'nhânviên dắt xe', 'nhânviên dễthương', 'nhânviên dọn', 'nhânviên giúp', 'nhânviên giớithiệu', 'nhânviên gọi', 'nhânviên hàng', 'nhânviên hơi', 'nhânviên khá', 'nhânviên khó', 'nhânviên khóchịu', 'nhânviên không', 'nhânviên không nhiệtình', 'nhânviên kiểu', 'nhânviên kêu', 'nhânviên lại', 'nhânviên lễ', 'nhânviên lễphép', 'nhânviên lịch', 'nhânviên lịchsự', 'nhânviên mà', 'nhânviên mấy', 'nhânviên mặt', 'nhânviên nam', 'nhânviên ngoan', 'nhânviên nhanhnhẹn', 'nhânviên nhiệt', 'nhânviên nhiệt quán', 'nhânviên nhiệtình', 'nhânviên nhàhàng', 'nhânviên nhânviên', 'nhânviên nhẹnhàng', 'nhânviên nóichuyện', 'nhânviên nữ', 'nhânviên order', 'nhânviên phục', 'nhânviên phụcvụ', 'nhânviên phụcvụ chu', 'nhânviên phụcvụ chuyên', 'nhânviên phụcvụ chuđáo', 'nhânviên phụcvụ gọi', 'nhânviên phụcvụ khá', 'nhânviên phụcvụ không', 'nhânviên phụcvụ nhiệt', 'nhânviên phụcvụ nhiệtình', 'nhânviên phụcvụ tháiđộ', 'nhânviên phụcvụ tận', 'nhânviên phụcvụ tậntình', 'nhânviên phụcvụ vôcùng', 'nhânviên phụcvụ đồ', 'nhânviên quán', 'nhânviên quán phụcvụ', 'nhânviên siêu', 'nhânviên tháiđộ', 'nhânviên tháiđộ không', 'nhânviên thân', 'nhânviên thânthiện', 'nhânviên thânthiện nhiệt', 'nhânviên thôngbáo', 'nhânviên toàn', 'nhânviên trông', 'nhânviên trông xe', 'nhânviên trảlời', 'nhânviên tưvấn', 'nhânviên tầng', 'nhânviên tậntình', 'nhânviên vui', 'nhânviên vuivẻ', 'nhânviên vẻ', 'nhânviên xinlỗi', 'nhânviên xong', 'nhânviên xếp', 'nhânviên yêu', 'nhânviên đi', 'nhânviên đông', 'nhânviên đồ', 'nhânviên đồ uống', 'nhânviên đứng', 'nhúng lẩu', 'nhúng lẩu không', 'nhưg không', 'nhạc không', 'nhạc quán', 'nhạt chả', 'nhạt chả vị', 'nhạt không', 'nhạt không vị', 'nhạt mà', 'nhạt thịt', 'nhạt vị', 'nhạtnhẽo không', 'nhạtnhẽo mà', 'nhầm chỗ', 'nhầm không', 'nhầm đồ', 'nhậnxét quán', 'nhật không', 'nhật mà', 'nhật ngon', 'nhật quán', 'nhắc không', 'nhắc lại', 'nhắc nhânviên', 'nhắc đi', 'nhẹ không', 'nhẽ lại', 'nhớt nhớt', 'niềm không', 'niềmnở nhiệtình', 'nui xào', 'nuốt không', 'nuốt nổi', 'nv bê', 'nv bảo', 'nv gọi', 'nv không', 'nv lại', 'nv nam', 'nv nhiệtình', 'nv order', 'nv phụcvụ', 'nv xếp', 'nv đi', 'ny không', 'nát nát', 'nét huế', 'nêm nếm', 'nóichuyện không', 'nóng giòn', 'nóng hôi', 'nóng không', 'nóng lại', 'nóng mà', 'nóng ngon', 'nướcdùng hơi', 'nướcdùng không', 'nướcdùng nhạt', 'nướcdùng đậm', 'nướchấm hơi', 'nướchấm không', 'nướchấm nhạt', 'nướchấm thịt', 'nướclọc mà', 'nướcốt dừa', 'nướng bàn', 'nướng bơ', 'nướng cháy', 'nướng chín', 'nướng giá', 'nướng gọi', 'nướng hàn', 'nướng hơi', 'nướng khá', 'nướng không', 'nướng kiểu', 'nướng lại', 'nướng lẩu', 'nướng mà', 'nướng món', 'nướng mậtong', 'nướng ngon', 'nướng nhânviên', 'nướng phômai', 'nướng quán', 'nướng sốt', 'nướng thịt', 'nướng tẩm', 'nướng tẩm ướp', 'nướng xong', 'nạc vai', 'nấm gà', 'nấm không', 'nấm kim', 'nấm kim châm', 'nấu không', 'nấu lại', 'nằm chỗ', 'nằm cạnh', 'nằm khu', 'nằm khuônviên', 'nằm mặt', 'nằm mặtđường', 'nằm ngã', 'nằm ngã tư', 'nằm ngõ', 'nằm phố', 'nằm sâu', 'nằm trungtâm', 'nằm tầng', 'nằm đoạn', 'nằm đường', 'nằm đầu', 'nếm thử', 'nồi lẩu', 'nồi lẩu mà', 'nồng vị', 'nổi bát', 'nổi không', 'nổi mà', 'nổi mấy', 'nổi nhânviên', 'nổi quán', 'nổi thịt', 'nổibật quán', 'nổitiếng không', 'nổitiếng quán', 'nở nụ', 'nụ cười', 'nửa bát', 'nửa không', 'nửa miếng', 'nửa tiếng', 'nữ không', 'ok giá', 'ok không', 'ok mà', 'ok quán', 'order bàn', 'order bánh', 'order không', 'order lại', 'order mà', 'order món', 'order mấy', 'order nhânviên', 'order nhầm', 'order nv', 'order set', 'order suất', 'order trà', 'order xong', 'order đồ', 'order đồ không', 'order đồ uống', 'order đợi', 'paris gateaux', 'pate không', 'pate trứng', 'pha hơi', 'pha không', 'pha loãng', 'pha ngon', 'phan đình', 'phi xe', 'phomai ngon', 'phongcách phục', 'phongcách phụcvụ', 'phongcách trangtrí', 'phuc vu', 'phát không', 'phí ship', 'phí tiền', 'phòng khá', 'phòng không', 'phòng tầng', 'phòng điềuhoà', 'phômai không', 'phômai ngon', 'phút không', 'phút mà', 'phút món', 'phút nhânviên', 'phút đồ', 'phạm hàm', 'phạm ngọcthạch', 'phố cổ', 'phố huế', 'phố hàng', 'phố không', 'phố lý', 'phố nguyễn', 'phố yên', 'phố đi', 'phở chiên', 'phở chiên phồng', 'phở ngon', 'phở thịt', 'phở trộn', 'phở xào', 'phụ vụ', 'phục không', 'phục nhânviên', 'phục quán', 'phụcvụ bàn', 'phụcvụ bàn không', 'phụcvụ bánh', 'phụcvụ bìnhthường', 'phụcvụ bảo', 'phụcvụ chu', 'phụcvụ chuyên', 'phụcvụ chuyênghiệp', 'phụcvụ chuđáo', 'phụcvụ chán', 'phụcvụ chả', 'phụcvụ chấtlượng', 'phụcvụ chậm', 'phụcvụ chậm không', 'phụcvụ chậmchạp', 'phụcvụ chỗ', 'phụcvụ chủ', 'phụcvụ cực', 'phụcvụ cựckì', 'phụcvụ dễthương', 'phụcvụ giá', 'phụcvụ giácả', 'phụcvụ gọi', 'phụcvụ gọi đồ', 'phụcvụ hôm', 'phụcvụ hơi', 'phụcvụ hơi chậm', 'phụcvụ khá', 'phụcvụ kháchàng', 'phụcvụ không', 'phụcvụ không nhiệtình', 'phụcvụ không thèm', 'phụcvụ khôngian', 'phụcvụ khôngthể', 'phụcvụ kiểu', 'phụcvụ kém', 'phụcvụ lại', 'phụcvụ lịch', 'phụcvụ mà', 'phụcvụ món', 'phụcvụ mấy', 'phụcvụ mặt', 'phụcvụ nhanhnhẹn', 'phụcvụ nhiệt', 'phụcvụ nhiệt đồ', 'phụcvụ nhiệtình', 'phụcvụ nhiệtình chu', 'phụcvụ nhàhàng', 'phụcvụ nhân', 'phụcvụ nhânviên', 'phụcvụ nhânviên không', 'phụcvụ niềm', 'phụcvụ ok', 'phụcvụ order', 'phụcvụ phụcvụ', 'phụcvụ quán', 'phụcvụ siêu', 'phụcvụ tháiđộ', 'phụcvụ thân', 'phụcvụ thânthiện', 'phụcvụ toàn', 'phụcvụ tận', 'phụcvụ tậntình', 'phụcvụ tệ', 'phụcvụ vôcùng', 'phụcvụ vẻ', 'phụcvụ đi', 'phụcvụ đông', 'phụcvụ đồ', 'phụcvụ đồ uống', 'phụcvụ đợi', 'phụcvụ ổn', 'piza bánh', 'piza bò', 'piza cỡ', 'piza gà', 'piza gọi', 'piza hut', 'piza hơi', 'piza khá', 'piza không', 'piza lại', 'piza mà', 'piza ngon', 'piza nhân', 'piza piza', 'piza quán', 'piza đế', 'potomac chilout', 'potomac duthuyền', 'potomac duthuyền hồ', 'potomac thiết', 'potomac tặng', 'quan không', 'quang bửu', 'que kem', 'quen không', 'quen uống', 'quyếtâm thử', 'quyếtđịnh không', 'quyếtđịnh thử', 'quyếtđịnh đi', 'quyển menu', 'quà tặng', 'quán bufet', 'quán bàitrí', 'quán bàn', 'quán bánh', 'quán bánh mỳ', 'quán bánhtráng', 'quán bé', 'quán bé bé', 'quán bình', 'quán bìnhdân', 'quán bìnhthường', 'quán bún', 'quán bảo', 'quán bẩn', 'quán cafe', 'quán cf', 'quán chiều', 'quán chè', 'quán chạy', 'quán chả', 'quán chảnh', 'quán chấtlượng', 'quán chật', 'quán chẳng', 'quán chỗ', 'quán chụp', 'quán chủ', 'quán chủ quán', 'quán càphê', 'quán cũ', 'quán cơm', 'quán cơsở', 'quán cạnh', 'quán cảithiện', 'quán cảmgiác', 'quán cộng', 'quán cực', 'quán cựckì', 'quán decor', 'quán decor khá', 'quán decor đẹp', 'quán dàidài', 'quán dịp', 'quán fody', 'quán gian', 'quán giá', 'quán giácả', 'quán gà', 'quán góc', 'quán gọi', 'quán hai', 'quán hàn', 'quán hàng', 'quán hôm', 'quán hômnay', 'quán hơi', 'quán hơi bé', 'quán hơi khó', 'quán hồi', 'quán kem', 'quán khu', 'quán khá', 'quán khá bàn', 'quán khá ngon', 'quán khá rộng', 'quán khá đông', 'quán khó', 'quán không', 'quán không hề', 'quán không khó', 'quán không lại', 'quán không mấy', 'quán không rộng', 'quán không vệsinh', 'quán không đông', 'quán khônggian', 'quán khôngian', 'quán khôngian thoáng', 'quán khôngian đẹp', 'quán kiểu', 'quán kịp', 'quán loteria', 'quán làmăn', 'quán lại', 'quán lại không', 'quán lại quán', 'quán lẩu', 'quán lắm', 'quán lịch', 'quán menu', 'quán mong', 'quán mà', 'quán mà không', 'quán món', 'quán mùi', 'quán mấy', 'quán mặcdù', 'quán mặt', 'quán mặtđường', 'quán ngon', 'quán ngõ', 'quán nhiệt', 'quán nhiệtình', 'quán nhânviên', 'quán nhânviên nhiệt', 'quán nhânviên phụcvụ', 'quán nhật', 'quán nv', 'quán nướng', 'quán nằm', 'quán nằm khu', 'quán nằm mặtđường', 'quán nằm ngã', 'quán nằm ngõ', 'quán nằm phố', 'quán nằm sâu', 'quán nằm tầng', 'quán nằm đường', 'quán nằm đầu', 'quán nổi', 'quán nổitiếng', 'quán ok', 'quán phongcách', 'quán phố', 'quán phở', 'quán phụcvụ', 'quán piza', 'quán quen', 'quán quán', 'quán quảngcáo', 'quán review', 'quán ruột', 'quán rộng', 'quán rộng thoáng', 'quán rộngrãi', 'quán ship', 'quán siêu', 'quán sạch', 'quán sạch nhânviên', 'quán sạchsẽ', 'quán sứ', 'quán sửa', 'quán thoáng', 'quán thoáng mát', 'quán tháiđộ', 'quán thânthiện', 'quán thịt', 'quán thử', 'quán tiếng', 'quán tiền', 'quán toàn', 'quán trangtrí', 'quán trà', 'quán trà sữa', 'quán trông', 'quán trưa', 'quán trường', 'quán tầm', 'quán tầng', 'quán tặng', 'quán tối', 'quán uống', 'quán view', 'quán viên', 'quán viết', 'quán vôcùng', 'quán vắng', 'quán vắngtanh', 'quán vẻ', 'quán vệsinh', 'quán vỉa', 'quán vỉahè', 'quán vị', 'quán xe', 'quán xinh', 'quán xong', 'quán xôi', 'quán yên', 'quán yêu', 'quán đi', 'quán đóngcửa', 'quán đông', 'quán đông không', 'quán đông mà', 'quán đông nhânviên', 'quán đông phụcvụ', 'quán đông quán', 'quán đông đồ', 'quán đường', 'quán đượcái', 'quán đấy', 'quán đầu', 'quán đắt', 'quán đẹp', 'quán đẹp nhânviên', 'quán đồ', 'quán đồ ngon', 'quán đồ uống', 'quán đổi', 'quán ưng', 'quán ấm', 'quán ấntượng', 'quán ồn', 'quán ổn', 'quên chụp', 'quên không', 'quên không chụp', 'quên món', 'quên nhânviên', 'quên order', 'quên đồ', 'quạt không', 'quảnlý không', 'quảnlý lại', 'quầy bar', 'quế ngon', 'rang muối', 'rau cải', 'rau củ', 'rau gọi', 'rau không', 'rau kim', 'rau kèm', 'rau lẩu', 'rau rửa', 'rau thịt', 'rau xàlách', 'rau xào', 'red velvet', 'review chê', 'review fody', 'review hômnay', 'review khen', 'review khá', 'review không', 'review mà', 'review quán', 'riêu cua', 'rong biển', 'rán không', 'rán lại', 'rán ngon', 'rán sốt', 'rõràng không', 'rõràng quán', 'rút kinhnghiệm', 'rút xương', 'rẻ bánh', 'rẻ chả', 'rẻ chất', 'rẻ chấtlượng', 'rẻ chỗ', 'rẻ không', 'rẻ lại', 'rẻ mà', 'rẻ ngon', 'rẻ nhânviên', 'rẻ phụcvụ', 'rẻ quán', 'rẻ rẻ', 'rẻ vs', 'rẻ đi', 'rẻ đồ', 'rẻ đồ uống', 'rộng bàn', 'rộng chỗ', 'rộng decor', 'rộng không', 'rộng khôngian', 'rộng lắm', 'rộng mà', 'rộng nhânviên', 'rộng quán', 'rộng sạch', 'rộng thoáng', 'rộng thoáng mát', 'rộng thoải', 'rộng trangtrí', 'rộng tầng', 'rộng view', 'rộng đi', 'rộng đẹp', 'rộng đồ', 'rộngrãi không', 'rộngrãi thoáng', 'rộngrãi thoáng mát', 'rộngrãi thoảimái', 'rủ bạnbè', 'rủ đi', 'rửa bát', 'rửa không', 'salad cáhồi', 'salad không', 'salad ngon', 'salad rau', 'salad rong', 'say godbye', 'se lạnh', 'sen tây', 'sen tây hồ', 'set cơm', 'set lẩu', 'set món', 'set nướng', 'set trà', 'ship bánh', 'ship hàng', 'ship không', 'ship đơn', 'ship đồ', 'sinhviên quán', 'size mà', 'size trânchâu', 'siêu chán', 'siêu chậm', 'siêu không', 'siêu mà', 'siêu món', 'siêu ngon', 'siêu nhiệtình', 'siêu quán', 'siêu rẻ', 'siêu siêu', 'siêu siêu siêu', 'siêu yêu', 'siêu đông', 'siêu đẹp', 'socola không', 'su kem', 'sumo bq', 'suất bánh', 'suất bít', 'suất bít tết', 'suất bò', 'suất búnchả', 'suất cơm', 'suất giá', 'suất gà', 'suất gà xào', 'suất không', 'suất lẩu', 'suất mà', 'suất nướng', 'suất thịt', 'suất đi', 'suất đầyđủ', 'sâm dứa', 'sân vườn', 'sâu ngõ', 'sò điệp', 'sườn bò', 'sườn không', 'sườn mà', 'sườn ngon', 'sườn nướng', 'sườn sụn', 'sạch gọi', 'sạch không', 'sạch món', 'sạch nhânviên', 'sạch phụcvụ', 'sạch quán', 'sạch đồ', 'sạchsẽ không', 'sạchsẽ lắm', 'sạchsẽ mà', 'sạchsẽ ngon', 'sạchsẽ thoáng', 'sắpxếp bàn', 'sẵn không', 'sốlượng bàn', 'sống ảo', 'sốt bq', 'sốt bò', 'sốt bò băm', 'sốt chua', 'sốt chuangọt', 'sốt chấm', 'sốt cà', 'sốt càchua', 'sốt hơi', 'sốt kem', 'sốt khá', 'sốt không', 'sốt không vị', 'sốt kèm', 'sốt mỳ', 'sốt ngon', 'sốt nấm', 'sốt phomai', 'sốt phômai', 'sốt sốt', 'sốt thơm', 'sốt thịt', 'sốt tiêu', 'sốt tiêu đen', 'sốt vang', 'sốt vị', 'sốt đậm', 'sốt đậu', 'sợ già', 'sợ không', 'sợi bún', 'sợi mì', 'sợi mỳ', 'sụn gà', 'sụn gà rang', 'sủi bọt', 'sủi cảo', 'sửa lại', 'sữa dừa', 'sữa giá', 'sữa gọi', 'sữa hơi', 'sữa khá', 'sữa không', 'sữa mà', 'sữa ngon', 'sữa ngô', 'sữa socola', 'sữa thái', 'sữa trà', 'sữa trânchâu', 'sữa uống', 'sữa vị', 'sữa đá', 'sữa đậu', 'sữa đậunành', 'sữa đặc', 'sữachua mít', 'ta lại', 'take away', 'tan miệng', 'tart trứng', 'thanhtoán không', 'thanhtoán mà', 'thanhtoán thẻ', 'thanhtoán tiền', 'thay vỉ', 'thay vỉ nướng', 'thi tây', 'thi tây hồ', 'thiết quan', 'thoangthoảng mùi', 'thoái mái', 'thoáng không', 'thoáng mát', 'thoáng nhânviên', 'thoáng rộng', 'thoáng đồ', 'thoải nhânviên', 'thoải quán', 'thoải đồ', 'thoảimái mà', 'thoảimái quán', 'thu tiền', 'thành món', 'thành quán', 'thành vị', 'thái chuacay', 'thái hà', 'thái không', 'thái miếng', 'thái mỏng', 'thái thịnh', 'thái trà', 'thái xanh', 'tháiđộ chủ', 'tháiđộ hàng', 'tháiđộ khó', 'tháiđộ khóchịu', 'tháiđộ không', 'tháiđộ không chấpnhận', 'tháiđộ kiểu', 'tháiđộ nhân', 'tháiđộ nhânviên', 'tháiđộ nhânviên khá', 'tháiđộ nhânviên không', 'tháiđộ nhânviên phụcvụ', 'tháiđộ nv', 'tháiđộ phục', 'tháiđộ phụcvụ', 'tháiđộ phụcvụ không', 'tháiđộ phụcvụ kém', 'tháiđộ phụcvụ nhân', 'tháiđộ phụcvụ nhânviên', 'tháiđộ phụcvụ quán', 'tháiđộ đi', 'thân không', 'thân lại', 'thân phụcvụ', 'thân quán', 'thân đi', 'thân đồ', 'thânthiện nhiệt', 'thânthiện nhiệtình', 'thânthiện quán', 'thânthiện đồ', 'thèm bánh', 'thèm câu', 'thèm gọi', 'thèm không', 'thèm lại', 'thèm đồ', 'thìa dĩa', 'thìa không', 'thíchợp đi', 'thùng rác', 'thúc kháng', 'thăn bò', 'thơm béo', 'thơm hơi', 'thơm không', 'thơm lại', 'thơm lắm', 'thơm mà', 'thơm mùi', 'thơm mềm', 'thơm ngon', 'thơm ngậy', 'thơm thơm', 'thơm thịt', 'thơm uống', 'thơm vị', 'thư giãn', 'thươnghiệu nổitiếng', 'thươnghiệu trà', 'thưởngthức món', 'thưởngthức đồ', 'thạch dừa', 'thạch găng', 'thạch không', 'thạch lá', 'thạch raucâu', 'thạch trà', 'thạch vị', 'thất gọi', 'thất không', 'thất nhânviên', 'thất quán', 'thấtvọng chấtlượng', 'thấtvọng không', 'thấtvọng không lại', 'thấtvọng lắm', 'thấtvọng phụcvụ', 'thấtvọng quán', 'thấtvọng tháiđộ', 'thấtvọng toàn', 'thấtvọng toàntập', 'thấtvọng tràn', 'thấtvọng tràntrề', 'thấtvọng vô', 'thấtvọng đi', 'thấtvọng đồ', 'thẳng hồ', 'thẻ giảmgiá', 'thẻ tích', 'thề không', 'thề không lại', 'thịt bachỉ', 'thịt bánh', 'thịt bò', 'thịt bò dai', 'thịt bò không', 'thịt bò mềm', 'thịt bò sốt', 'thịt bò thịt', 'thịt băm', 'thịt chín', 'thịt chó', 'thịt chả', 'thịt cá', 'thịt cảmgiác', 'thịt cừu', 'thịt gà', 'thịt gọi', 'thịt heo', 'thịt hun', 'thịt hun khói', 'thịt hơi', 'thịt khá', 'thịt không', 'thịt kiểu', 'thịt lại', 'thịt lợn', 'thịt miếng', 'thịt mà', 'thịt món', 'thịt mềm', 'thịt mỏng', 'thịt mỡ', 'thịt ngon', 'thịt nguội', 'thịt nhúng', 'thịt nhúng lẩu', 'thịt nhạt', 'thịt nướchấm', 'thịt nướng', 'thịt rau', 'thịt sườn', 'thịt sốt', 'thịt thái', 'thịt thịt', 'thịt toàn', 'thịt tôm', 'thịt tươi', 'thịt tẩm', 'thịt tẩm ướp', 'thịt viên', 'thịt vị', 'thịt xiên', 'thịt xáxíu', 'thịt ănkhông', 'thịt đĩa', 'thịt đậm', 'thịt ướp', 'thời baocấp', 'thức uống', 'thừa không', 'thử bánh', 'thử cảmnhận', 'thử gọi', 'thử hơi', 'thử kem', 'thử khá', 'thử không', 'thử không lại', 'thử lại', 'thử lẩu', 'thử mà', 'thử món', 'thử mấy', 'thử mỳ', 'thử ngon', 'thử nhânviên', 'thử quán', 'thử thấtvọng', 'thử trà', 'thử trà sữa', 'thử uống', 'thử vị', 'thử đi', 'thử đầu', 'thử đồ', 'thử đồ uống', 'thử ấntượng', 'tim ho', 'tim ho wan', 'tiramisu ngon', 'tiêu đen', 'tiếc hôm', 'tiếc không', 'tiếc tiền', 'tiếng không', 'tiếng lại', 'tiếng mà', 'tiếng nhật', 'tiếng đồ', 'tiếng đồnghồ', 'tiếp không', 'tiếp đồ', 'tiền bàn', 'tiền bảo', 'tiền bọn', 'tiền chấtlượng', 'tiền giá', 'tiền gọi', 'tiền gửi', 'tiền gửi xe', 'tiền hơi', 'tiền khá', 'tiền không', 'tiền không lại', 'tiền lại', 'tiền lắm', 'tiền mua', 'tiền mà', 'tiền mà không', 'tiền mấy', 'tiền nhânviên', 'tiền phụcvụ', 'tiền quán', 'tiền thừa', 'tiền tiền', 'tiền xong', 'tiền đi', 'tiền đấy', 'tiền đồ', 'tiệc sinhnhật', 'tiệc ưu', 'tiệm bánh', 'tiện đường', 'tokyo deli', 'toping không', 'toping trânchâu', 'tous les', 'tous les jours', 'toàn bột', 'toàn giá', 'toàn gọi', 'toàn không', 'toàn kiểu', 'toàn mua', 'toàn món', 'toàn mùi', 'toàn mấy', 'toàn mỡ', 'toàn quên', 'toàn rau', 'toàn thịt', 'toàn trai', 'toàn trai xinh', 'toàn uống', 'toàn vị', 'toàn ănở', 'toàn đi', 'toàn đá', 'toàn đồ', 'trai xinh', 'trai xinh gái', 'trangtrí khá', 'trangtrí khá đẹp', 'trangtrí không', 'trangtrí khôngian', 'trangtrí kiểu', 'trangtrí phongcách', 'trangtrí quán', 'trangtrí đơngiản', 'trangtrí đẹp', 'trc gọi', 'trc không', 'trc mà', 'trc mặt', 'trc quán', 'trc đi', 'treo đầu', 'treo đầu dê', 'triệu việt', 'triệu việt vương', 'trung khá', 'trung không', 'trung món', 'trung quốc', 'trungtâm thànhphố', 'trà bánh', 'trà bình', 'trà chanh', 'trà dâu', 'trà gạo', 'trà gọi', 'trà hoa', 'trà hơi', 'trà kem', 'trà khá', 'trà không', 'trà lại', 'trà mà', 'trà ngon', 'trà nhài', 'trà nhânviên', 'trà pha', 'trà quán', 'trà sữa', 'trà sữa khá', 'trà sữa không', 'trà sữa mà', 'trà sữa ngon', 'trà sữa socola', 'trà sữa thái', 'trà sữa trà', 'trà sữa trânchâu', 'trà sữa uống', 'trà sữa vị', 'trà thái', 'trà thơm', 'trà trà', 'trà táo', 'trà uống', 'trà vị', 'trà xanh', 'trà xanh kem', 'trà xanh ngon', 'trà xanh sữa', 'trà xanh uống', 'trà xoài', 'trà đào', 'trà đào cam', 'trà đào không', 'trà đá', 'trà đậm', 'tràng tiền', 'tráng trộn', 'trángmiệng không', 'trân trâu', 'trânchâu dai', 'trânchâu không', 'trânchâu sợi', 'trânchâu trà', 'trânchâu trắng', 'trânchâu uống', 'trânchâu đen', 'trình ápdụng', 'trìnhbày đẹp', 'trí quán', 'trí đẹp', 'trông khá', 'trông không', 'trông vẻ', 'trông xe', 'trông yêu', 'trúc bạch', 'trưa không', 'trưa mà', 'trưa quán', 'trưa tối', 'trưa đi', 'trưa đông', 'trường tộ', 'trường đạihọc', 'trải bàn', 'trải nghiệm', 'trảlời không', 'trần hưng', 'trần quốc', 'trần đạinghĩa', 'trắng trắng', 'trộn khá', 'trộn không', 'trộn mà', 'trời lạnh', 'trời mưa', 'trời nóng', 'trời nắng', 'trở đi', 'trởlại quán', 'trứng béo', 'trứng cút', 'trứng gà', 'trứng hấp', 'trứng không', 'trứng muối', 'trứng mà', 'trứng ngon', 'trứng sữa', 'trứng trứng', 'trứng ốp', 'trừ duynhất', 'trừ không', 'trừ món', 'trừ quán', 'trừ đồ', 'tuyệt cúmèo', 'tuyệt không', 'tuyệt món', 'tuyệt nhânviên', 'tuần không', 'tuần lại', 'tuần mua', 'tuần mà', 'tuần quán', 'tuần đi', 'tuần đông', 'tàophớ dâutằm', 'tàophớ không', 'tây hồ', 'tây không', 'tìnhcờ đi', 'tí gọi', 'tí không', 'tí mà', 'tí mùi', 'tí mấy', 'tí nhânviên', 'tóm lại', 'tóm lại không', 'tô bún', 'tô hiến', 'tô hiệu', 'tôm bé', 'tôm không', 'tôm thịt', 'tông màu', 'túitiền sinhviên', 'túm lại', 'tý thịt', 'tư hàng', 'tưvấn món', 'tưvấn nhiệtình', 'tưvấn đồ', 'tươi hơi', 'tươi không', 'tươi khôngian', 'tươi mà', 'tươi ngon', 'tươi đồ', 'tương cà', 'tươngxứng giá', 'tưởng không', 'tưởng mà', 'tưởng ngon', 'tưởng quán', 'tượng quán', 'tạ quang', 'tạ quang bửu', 'tạm chấpnhận', 'tạm giá', 'tạm gọi', 'tạm hơi', 'tạm không', 'tạm mà', 'tạm món', 'tạm tạm', 'tạm ổn', 'tạmbiệt không', 'tạmbiệt tạmbiệt', 'tả nổi', 'tấtnhiên không', 'tấtnhiên lại', 'tầm chiều', 'tầm chục', 'tầm giá', 'tầm không', 'tầm mà', 'tầm nhânviên', 'tầm phút', 'tầm quán', 'tầm trưa', 'tầm trở', 'tầm tối', 'tầm đồ', 'tầng bàn', 'tầng chỗ', 'tầng gọi', 'tầng hai', 'tầng hơi', 'tầng khu', 'tầng khá', 'tầng kháchsạn', 'tầng không', 'tầng khôngian', 'tầng mà', 'tầng ngoàitrời', 'tầng nhânviên', 'tầng nv', 'tầng quán', 'tầng rộng', 'tầng rộngrãi', 'tầng thoáng', 'tầng tầng', 'tầng tối', 'tầng view', 'tầng đi', 'tầng đẹp', 'tẩm bột', 'tẩm ướp', 'tẩm ướp khá', 'tẩm ướp không', 'tẩm ướp ngon', 'tẩm ướp đậm', 'tận cổ', 'tận mà', 'tận nhânviên', 'tận đồ', 'tặng bánh', 'tặng không', 'tặng kèm', 'tặng voucher', 'tẹo mà', 'tết hoè', 'tết hoè nhai', 'tết không', 'tết sốt', 'tết âm', 'tệ không', 'tệ mà', 'tệ đi', 'tỏ khóchịu', 'tỏ tháiđộ', 'tối hôm', 'tối khá', 'tối không', 'tối lại', 'tối mà', 'tối quán', 'tối tuần', 'tối đi', 'tối đông', 'tối đẹp', 'tổchức họp', 'tổchức sinhnhật', 'tội giá', 'tội giá hơi', 'tội hơi', 'tội không', 'tội quán', 'tội đồ', 'tờ giấy', 'tụtập bạnbè', 'tủ bánh', 'tủ nhânviên', 'tứ xuyên', 'tựnhiên không', 'tựu lại', 'uống bia', 'uống bánh', 'uống bình', 'uống bình không', 'uống bìnhthường', 'uống bìnhthường không', 'uống cafe', 'uống cafe trứng', 'uống chai', 'uống chán', 'uống chấtlượng', 'uống càphê', 'uống cốc', 'uống giá', 'uống giácả', 'uống gọi', 'uống gọi trà', 'uống hơi', 'uống kem', 'uống khá', 'uống khá ngon', 'uống khá ổn', 'uống không', 'uống không ngon', 'uống không vị', 'uống không đặc', 'uống khôngian', 'uống khỏi', 'uống kèm', 'uống lại', 'uống matcha', 'uống miễn', 'uống mà', 'uống mấy', 'uống ngon', 'uống ngon giá', 'uống ngon lắm', 'uống ngon mà', 'uống ngụm', 'uống nhânviên', 'uống nhạt', 'uống pha', 'uống phụcvụ', 'uống quán', 'uống size', 'uống siêu', 'uống thơm', 'uống thử', 'uống thử trà', 'uống trà', 'uống trà sữa', 'uống trânchâu', 'uống tạm', 'uống uống', 'uống view', 'uống vị', 'uống xong', 'uống đa', 'uống đadạng', 'uống đi', 'uống đắt', 'uống đồ', 'uống đồ uống', 'ven hồ', 'view hồ', 'view khá', 'view khá đẹp', 'view không', 'view nhânviên', 'view quán', 'view thẳng', 'view thẳng hồ', 'view tầng', 'view đường', 'view đẹp', 'view đồ', 'vincom triệu', 'viên kem', 'viên khá', 'viên không', 'viên lịch', 'viên lịchsự', 'viên nhanhnhẹn', 'viên nhiệt', 'viên nhiệtình', 'viên phụcvụ', 'viên phụcvụ không', 'viên phụcvụ nhiệt', 'viên phụcvụ nhiệtình', 'viên phụcvụ tháiđộ', 'viên quán', 'viên tháiđộ', 'viên thân', 'viên thânthiện', 'viên vị', 'viết review', 'việt nam', 'việt quất', 'việt vương', 'vs bánh', 'vs chấtlượng', 'vs giá', 'vs không', 'vs khôngian', 'vs mấy', 'vs nhânviên', 'vs quán', 'vs đồ', 'vui không', 'váng đậu', 'vé không', 'vé xe', 'vón cục', 'vô không', 'vôcùng không', 'vũ phạm', 'vũ phạm hàm', 'vắng không', 'vẻ hơi', 'vẻ khá', 'vẻ khó', 'vẻ không', 'vẻ mặt', 'vẻ ngon', 'vệsinh không', 'vệsinh quán', 'vệsinh sạch', 'vỉ nướng', 'vỉahè chỗ', 'vỉahè khá', 'vỉahè không', 'vỉahè mà', 'vỉahè quán', 'vị bánh', 'vị béo', 'vị bình', 'vị bìnhthường', 'vị bò', 'vị bơ', 'vị cay', 'vị chanh', 'vị chua', 'vị chẳng', 'vị dừa', 'vị giá', 'vị gà', 'vị gọi', 'vị hơi', 'vị kem', 'vị khá', 'vị không', 'vị khôngian', 'vị kiểu', 'vị lạ', 'vị lại', 'vị matcha', 'vị matcha không', 'vị mà', 'vị mà không', 'vị mát', 'vị mì', 'vị món', 'vị mặn', 'vị ngon', 'vị ngấy', 'vị ngậy', 'vị nhài', 'vị nhạt', 'vị nhạtnhẽo', 'vị phômai', 'vị quán', 'vị socola', 'vị sốt', 'vị sữa', 'vị thơm', 'vị thịt', 'vị thử', 'vị trà', 'vị trà sữa', 'vị trà xanh', 'vị uống', 'vị vani', 'vị viên', 'vị vị', 'vị đường', 'vị đậm', 'vị đậmđà', 'vị đắng', 'vị đặc', 'vị đồ', 'vỏ bánh', 'vỏ bánh không', 'vỏ giòn', 'vỏ không', 'vỏ nhân', 'vốn không', 'vội không', 'vội đi', 'vụ khá', 'vụ không', 'vụ nhiệt', 'vụ nhiệtình', 'vừamiệng không', 'wifi căng', 'wifi không', 'xanh kem', 'xanh không', 'xanh ngon', 'xanh sữa', 'xanh uống', 'xe bus', 'xe bảovệ', 'xe chả', 'xe chỗ', 'xe cửa', 'xe dắt', 'xe giúp', 'xe gọi', 'xe gửi', 'xe hộ', 'xe khá', 'xe không', 'xe không tiện', 'xe khôngian', 'xe kiểu', 'xe lại', 'xe miễnphí', 'xe mà', 'xe mà không', 'xe nhiệt', 'xe nhiệtình', 'xe nhânviên', 'xe phụcvụ', 'xe quán', 'xe rộng', 'xe rộngrãi', 'xe thoải', 'xe thoảimái', 'xe tháiđộ', 'xe tiền', 'xe xe', 'xe ôtô', 'xe đi', 'xe đường', 'xe đấy', 'xe đầu', 'xinh gái', 'xinh yêu', 'xinlỗi mà', 'xiên nướng', 'xong bảo', 'xong bữa', 'xong chả', 'xong chẳng', 'xong chờ', 'xong cốc', 'xong gọi', 'xong hôm', 'xong hơi', 'xong không', 'xong kiểu', 'xong lại', 'xong mà', 'xong món', 'xong mấy', 'xong mặt', 'xong ng', 'xong nhânviên', 'xong thanhtoán', 'xong thấtvọng', 'xong tiền', 'xong xe', 'xong đi', 'xong đi không', 'xong đồ', 'xong đứa', 'xong đứng', 'xong đứng dậy', 'xoài kem', 'xào bò', 'xào bơ', 'xào bắp', 'xào bắpcải', 'xào không', 'xào thịt', 'xáxíu ngon', 'xã đàn', 'xíumại tôm', 'xôi chè', 'xôi gà', 'xôi không', 'xôi ngon', 'xôi nấm', 'xôi rán', 'xôi xôi', 'xôi yến', 'xếp bàn', 'xếp chỗ', 'xếphàng mua', 'xứngđáng giá', 'xứngđáng tiền', 'yên bình', 'yên không', 'yên phụ', 'yêu gọi', 'yêu không', 'yêu lại', 'yêu lắm', 'yêu nhàhàng', 'yêu nhàhàng potomac', 'yêu quán', 'ám mùi', 'ánh mắt', 'át vị', 'ôi mẹ', 'ôi ngon', 'ôi thề', 'ýđịnh lại', 'ăngiá không', 'ănkhông hề', 'ănkhông không', 'ănkhông mà', 'ănkhông ngon', 'ănkhông ngon mà', 'ănkhông vị', 'ănkhông đặc', 'ănuống khá', 'ănở chán', 'ănở chấtlượng', 'ănở cơsở', 'ănở gọi', 'ănở hàng', 'ănở hôm', 'ănở hồi', 'ănở khá', 'ănở không', 'ănở mà', 'ănở món', 'ănở mấy', 'ănở ngon', 'ănở nhàhàng', 'ănở piza', 'ănở quán', 'ănở đấy', 'ănở đầu', 'ănở đồ', 'đa món', 'đa nhânviên', 'đadạng lắm', 'đadạng phongphú', 'đau bụng', 'đem lại', 'đem đồ', 'đen không', 'đen xì', 'đen đen', 'đeo kính', 'đi bufet', 'đi bàn', 'đi bánh', 'đi bát', 'đi bún', 'đi bạnbè', 'đi bảo', 'đi bọn', 'đi cafe', 'đi chiên', 'đi chiều', 'đi chạy', 'đi chả', 'đi chấtlượng', 'đi chẳng', 'đi chỗ', 'đi chờ', 'đi chụp', 'đi chủ', 'đi cơm', 'đi cửa', 'đi dạo', 'đi ghé', 'đi giađình', 'đi giá', 'đi giácả', 'đi gọi', 'đi gọi combo', 'đi gọi món', 'đi gọi nồi', 'đi gọi suất', 'đi gửi', 'đi hai', 'đi hàng', 'đi hànội', 'đi hôm', 'đi hômnay', 'đi hơi', 'đi học', 'đi hồi', 'đi kem', 'đi khá', 'đi không', 'đi không lại', 'đi không trởlại', 'đi khôngian', 'đi khỏi', 'đi kiểu', 'đi kèm', 'đi lòngvòng', 'đi lại', 'đi lẩu', 'đi lễ', 'đi mua', 'đi muộn', 'đi mà', 'đi mà gọi', 'đi mà không', 'đi mãi', 'đi món', 'đi mấy', 'đi mộtmình', 'đi ng', 'đi ng gọi', 'đi ngang', 'đi ngon', 'đi ngõ', 'đi nhàhàng', 'đi nhânviên', 'đi nhắc', 'đi nồi', 'đi order', 'đi phim', 'đi phố', 'đi quán', 'đi quán khá', 'đi quán đông', 'đi taxi', 'đi tháiđộ', 'đi thưởngthức', 'đi thấtvọng', 'đi thẳng', 'đi thử', 'đi thử món', 'đi thử quán', 'đi tiếp', 'đi tiền', 'đi toàn', 'đi trưa', 'đi trời', 'đi tuyệt', 'đi tuần', 'đi tầm', 'đi tầng', 'đi tối', 'đi uống', 'đi uống trà', 'đi voucher', 'đi vs', 'đi vòng', 'đi vị', 'đi xe', 'đi xemáy', 'đi xong', 'đi ăngười', 'đi ănhàng', 'đi ănkhông', 'đi ănuống', 'đi ănxin', 'đi ănở', 'đi ănở quán', 'đi đi', 'đi đi không', 'đi đilại', 'đi đoạn', 'đi đông', 'đi đường', 'đi đầu', 'đi đồ', 'đi đợi', 'đi đợt', 'đi đứa', 'đi đứng', 'điềuhoà không', 'điềuhoà mát', 'điện bàn', 'đuổi không', 'đành gọi', 'đào cam', 'đào cam sả', 'đào không', 'đào ngon', 'đào trà', 'đá bào', 'đá không', 'đá mà', 'đá uống', 'đá xay', 'đình thi', 'đình thi tây', 'đình tây', 'đói gọi', 'đói mà', 'đói đói', 'đông bàn', 'đông bánh', 'đông chật', 'đông chỗ', 'đông chờ', 'đông dãman', 'đông gọi', 'đông hơi', 'đông khá', 'đông không', 'đông không chỗ', 'đông khôngian', 'đông lại', 'đông lắm', 'đông mà', 'đông mùa', 'đông mấy', 'đông ng', 'đông nhânviên', 'đông nhânviên phụcvụ', 'đông phụcvụ', 'đông phụcvụ hơi', 'đông quán', 'đông tưởng', 'đông tầm', 'đông tối', 'đông xếphàng', 'đông đi', 'đông đông', 'đông đồ', 'đông đợi', 'đông ồn', 'đùi gà', 'đĩa bánh', 'đĩa bé', 'đĩa bò', 'đĩa bún', 'đĩa cơm', 'đĩa không', 'đĩa lèotèo', 'đĩa miếng', 'đĩa mì', 'đĩa mỳ', 'đĩa rau', 'đĩa thịt', 'đĩa thịt bò', 'đĩa thịt đĩa', 'đĩa đĩa', 'đĩa đồ', 'đĩa đựng', 'đơn không', 'đơngiản mà', 'đường gọi', 'đường khá', 'đường không', 'đường mà', 'đường nguyễn', 'đường quán', 'đường đi', 'đấy bánh', 'đấy bảo', 'đấy bọn', 'đấy chả', 'đấy gọi', 'đấy không', 'đấy lại', 'đấy mua', 'đấy mà', 'đấy món', 'đấy ngon', 'đấy nhânviên', 'đấy quán', 'đấy đi', 'đấy đồ', 'đầu dê', 'đầu dê thịt', 'đầu gọi', 'đầu hơi', 'đầu không', 'đầu mà', 'đầu ngon', 'đầu ngõ', 'đầu nhânviên', 'đầu phố', 'đầu phụcvụ', 'đầu quán', 'đầu thử', 'đầu tưởng', 'đầu uống', 'đầu ănở', 'đầu đi', 'đầu đường', 'đầu đồ', 'đầyđặn không', 'đầyđặn mà', 'đầyđủ mà', 'đậm chất', 'đậm chất nhật', 'đậm món', 'đậm vị', 'đập mắt', 'đậu không', 'đắng không', 'đắt bánh', 'đắt chất', 'đắt chấtlượng', 'đắt chỗ', 'đắt gọi', 'đắt không', 'đắt mà', 'đắt mà không', 'đắt quán', 'đắt rẻ', 'đắt tiền', 'đắt vs', 'đắt đồ', 'đặc bánh', 'đặc bát', 'đặc giá', 'đặc gọi', 'đặc không', 'đặc món', 'đặc quán', 'đặc vị', 'đặc đồ', 'đặcsắc giá', 'đặcsắc không', 'đặcsắc lắm', 'đặcsắc mà', 'đặctrưng quán', 'đẹp giá', 'đẹp hơi', 'đẹp hồ', 'đẹp khá', 'đẹp không', 'đẹp khôngian', 'đẹp khỏi', 'đẹp lại', 'đẹp lắm', 'đẹp mà', 'đẹp món', 'đẹp nhânviên', 'đẹp quán', 'đẹp thoáng', 'đẹp trời', 'đẹp tầng', 'đẹp đi', 'đẹp đẹp', 'đẹp đồ', 'đẹp đồ uống', 'đẹp ấmcúng', 'đế bánh', 'đế dày', 'đế mỏng', 'đếnỗi mà', 'đềnghị đổi', 'đểý quán', 'địa nằm', 'địachỉ quán', 'địađiểm hơi', 'địađiểm khá', 'địađiểm lýtưởng', 'địađiểm quán', 'địađiểm đẹp', 'định gọi', 'định không', 'định lại', 'định đi', 'định đứng', 'đọc coment', 'đọc review', 'đọc review khen', 'đọng lại', 'đỏ không', 'đối vs', 'đốidiện trường', 'đống đa', 'đồ bia', 'đồ bufet', 'đồ bàn', 'đồ bánh', 'đồ bát', 'đồ bê', 'đồ bình', 'đồ bìnhthường', 'đồ bìnhthường mà', 'đồ bảo', 'đồ bọn', 'đồ chuẩn', 'đồ chán', 'đồ chả', 'đồ chất', 'đồ chấtlượng', 'đồ chậm', 'đồ chẳng', 'đồ chờ', 'đồ cốc', 'đồ cực', 'đồ dịchvụ', 'đồ giá', 'đồ giácả', 'đồ gọi', 'đồ huế', 'đồ hàn', 'đồ hôm', 'đồ hômnay', 'đồ hơi', 'đồ hảisản', 'đồ kem', 'đồ khá', 'đồ khá giá', 'đồ khá ngon', 'đồ không', 'đồ không ngon', 'đồ không đặc', 'đồ khôngian', 'đồ khôngian quán', 'đồ kiểu', 'đồ kèm', 'đồ lại', 'đồ lẩu', 'đồ menu', 'đồ mà', 'đồ mà không', 'đồ món', 'đồ mấy', 'đồ ngon', 'đồ ngon giá', 'đồ ngon không', 'đồ nguội', 'đồ nhàhàng', 'đồ nhânviên', 'đồ nhânviên không', 'đồ nhânviên phụcvụ', 'đồ nhúng', 'đồ nhật', 'đồ nv', 'đồ nóng', 'đồ nướng', 'đồ order', 'đồ phong', 'đồ phụcvụ', 'đồ piza', 'đồ quán', 'đồ rẻ', 'đồ siêu', 'đồ thanhtoán', 'đồ thái', 'đồ tháiđộ', 'đồ tháiđộ phụcvụ', 'đồ thịt', 'đồ thịt bò', 'đồ trà', 'đồ tráng', 'đồ trángmiệng', 'đồ tươi', 'đồ tươi ngon', 'đồ tạm', 'đồ tạm ổn', 'đồ tầm', 'đồ tẩm', 'đồ tẩm ướp', 'đồ tối', 'đồ uống', 'đồ uống bánh', 'đồ uống bình', 'đồ uống bìnhthường', 'đồ uống chán', 'đồ uống chấtlượng', 'đồ uống giá', 'đồ uống giácả', 'đồ uống gọi', 'đồ uống hơi', 'đồ uống khá', 'đồ uống không', 'đồ uống khôngian', 'đồ uống khỏi', 'đồ uống lại', 'đồ uống mà', 'đồ uống ngon', 'đồ uống nhânviên', 'đồ uống quán', 'đồ uống siêu', 'đồ uống trà', 'đồ uống tạm', 'đồ uống uống', 'đồ uống view', 'đồ uống đadạng', 'đồ uống đắt', 'đồ uống đồ', 'đồ vặt', 'đồ xong', 'đồ ăngiá', 'đồ ăngiácả', 'đồ ănkhông', 'đồ ănkhông ngon', 'đồ ănkhông đặc', 'đồ ănuống', 'đồ ănở', 'đồ ănở không', 'đồ ănở ngon', 'đồ đa', 'đồ đadạng', 'đồ đem', 'đồ đi', 'đồ đĩa', 'đồ đấy', 'đồ đắt', 'đồ đồ', 'đồ đồ uống', 'đồ ướp', 'đồng giá', 'đồngtiền bát', 'đồngtiền bát gạo', 'đổi chủ', 'đổi gió', 'đổi lại', 'đổi thành', 'đổi đĩa', 'đỗ xe', 'đỗ đen', 'độ giòn', 'độ không', 'độ ngon', 'độ nhânviên', 'độ phụcvụ', 'độ phụcvụ nhânviên', 'đội cấn', 'độingũ nhânviên', 'độn toàn', 'đỡ phí', 'đợi cổ', 'đợi gọi', 'đợi hơi', 'đợi khá', 'đợi không', 'đợi mà', 'đợi mãi', 'đợi mãi không', 'đợi món', 'đợi nhânviên', 'đợi nửa', 'đợi nửa tiếng', 'đợi phút', 'đợi tiếng', 'đợi tầm', 'đợi xong', 'đợi đồ', 'đứa bảo', 'đứa bọn', 'đứa congái', 'đứa cố', 'đứa gọi', 'đứa không', 'đứa lại', 'đứa mà', 'đứa thân', 'đứa đi', 'đứa đứa', 'đứng buôn', 'đứng chờ', 'đứng cạnh', 'đứng cửa', 'đứng dậy', 'đứng dậy đi', 'đứng không', 'đứng nướng', 'đứng quầy', 'đứng đi', 'đứng đấy', 'đứng đợi', 'đừng gọi', 'ưng chỗ', 'ưng không', 'ưng lắm', 'ưng món', 'ưng nhânviên', 'ưng quán', 'ưng đồ', 'ướp giavị', 'ướp hơi', 'ướp khá', 'ướp không', 'ướp ngon', 'ướp thịt', 'ướp vị', 'ướp đậm', 'ướp đậmđà', 'ảnh bánh', 'ảnh check', 'ảnh chụp', 'ảnh không', 'ảnh mà', 'ảnh đẹp', 'ấm bụng', 'ấm nhânviên', 'ấm phụcvụ', 'ấm trà', 'ấntượng banđầu', 'ấntượng không', 'ấntượng khôngian', 'ấntượng món', 'ấntượng nhânviên', 'ấntượng quán', 'ấntượng đầu', 'ốc không', 'ốc ngon', 'ốc quế', 'ốc ốc', 'ống hút', 'ổn chấtlượng', 'ổn giá', 'ổn hơi', 'ổn không', 'ổn khôngian', 'ổn lắm', 'ổn mà', 'ổn nhânviên', 'ổn quán', 'ủnghộ dàidài', 'ủnghộ nhàhàng', 'ủnghộ quán']\n",
            "(5914, 5413)\n"
          ],
          "name": "stdout"
        }
      ]
    },
    {
      "cell_type": "code",
      "metadata": {
        "id": "nGzvN0mi0od6",
        "outputId": "1bb5c0a3-9615-4801-d401-fb8929634daf",
        "colab": {
          "base_uri": "https://localhost:8080/"
        }
      },
      "source": [
        "tfidf_vec.shape"
      ],
      "execution_count": 142,
      "outputs": [
        {
          "output_type": "execute_result",
          "data": {
            "text/plain": [
              "(5914, 5413)"
            ]
          },
          "metadata": {
            "tags": []
          },
          "execution_count": 142
        }
      ]
    },
    {
      "cell_type": "code",
      "metadata": {
        "id": "H3ZdtXTv0od-",
        "outputId": "dbbe4227-298f-42a4-b445-b9a976e48250",
        "colab": {
          "base_uri": "https://localhost:8080/"
        }
      },
      "source": [
        "bag.shape"
      ],
      "execution_count": 143,
      "outputs": [
        {
          "output_type": "execute_result",
          "data": {
            "text/plain": [
              "(5914, 5413)"
            ]
          },
          "metadata": {
            "tags": []
          },
          "execution_count": 143
        }
      ]
    },
    {
      "cell_type": "code",
      "metadata": {
        "id": "fr0hjtWb0oeC"
      },
      "source": [
        "spliter = int(bag.shape[0]*0.8)\n",
        "bag_train = bag[:spliter, :]\n",
        "bag_test = bag[spliter:, :]\n",
        "tfidf_train = tfidf_vec[:spliter,:]\n",
        "tfidf_test = tfidf_vec[spliter:, :]\n",
        "labels_train = labels[:spliter]\n",
        "labels_test = labels[spliter:]"
      ],
      "execution_count": 132,
      "outputs": []
    },
    {
      "cell_type": "code",
      "metadata": {
        "id": "kRqG4Wh10oeF"
      },
      "source": [
        "from sklearn.naive_bayes import MultinomialNB\n",
        "nbc = MultinomialNB()"
      ],
      "execution_count": 133,
      "outputs": []
    },
    {
      "cell_type": "code",
      "metadata": {
        "id": "w_-rhl5g0oeI"
      },
      "source": [
        "from sklearn.metrics import accuracy_score\n",
        "from sklearn.metrics import f1_score\n",
        "from sklearn.metrics import classification_report"
      ],
      "execution_count": 124,
      "outputs": []
    },
    {
      "cell_type": "code",
      "metadata": {
        "id": "U765r8UK0oeM",
        "outputId": "0807bc5f-7e4d-4c9d-a859-fa9fac9c0a4c",
        "colab": {
          "base_uri": "https://localhost:8080/"
        }
      },
      "source": [
        "print(labels_train.isna().sum())"
      ],
      "execution_count": 114,
      "outputs": [
        {
          "output_type": "stream",
          "text": [
            "0\n"
          ],
          "name": "stdout"
        }
      ]
    },
    {
      "cell_type": "code",
      "metadata": {
        "id": "DCXfIYmY0oeQ"
      },
      "source": [
        "nbc.fit(bag_train.toarray(), labels_train)\n",
        "labels_pred = nbc.predict(bag_test.toarray())"
      ],
      "execution_count": 144,
      "outputs": []
    },
    {
      "cell_type": "code",
      "metadata": {
        "id": "z1F-7Fd80oeZ",
        "outputId": "ac135ebb-685e-420f-87db-510af8628a5f",
        "colab": {
          "base_uri": "https://localhost:8080/"
        }
      },
      "source": [
        "print(accuracy_score(labels_test, labels_pred))\n",
        "print(f1_score(labels_test, labels_pred, average = 'macro'))"
      ],
      "execution_count": 145,
      "outputs": [
        {
          "output_type": "stream",
          "text": [
            "0.7743026204564666\n",
            "0.6333905747717835\n"
          ],
          "name": "stdout"
        }
      ]
    },
    {
      "cell_type": "code",
      "metadata": {
        "id": "2b931tYa0oed"
      },
      "source": [
        "nbc.fit(tfidf_train.toarray(), labels_train)\n",
        "labels_pred = nbc.predict(tfidf_test.toarray())"
      ],
      "execution_count": 146,
      "outputs": []
    },
    {
      "cell_type": "code",
      "metadata": {
        "id": "O9_q5q6-0oeh",
        "outputId": "36e26467-54aa-45bb-d6b6-f2bb6b6fc191",
        "colab": {
          "base_uri": "https://localhost:8080/"
        }
      },
      "source": [
        "print(accuracy_score(labels_test, labels_pred))\n",
        "print(f1_score(labels_test, labels_pred, average = 'macro'))"
      ],
      "execution_count": 147,
      "outputs": [
        {
          "output_type": "stream",
          "text": [
            "0.7861369399830939\n",
            "0.5576277608256656\n"
          ],
          "name": "stdout"
        }
      ]
    },
    {
      "cell_type": "code",
      "metadata": {
        "id": "ctLJtfkw0oek"
      },
      "source": [
        "from sklearn.linear_model import LogisticRegression\n"
      ],
      "execution_count": 119,
      "outputs": []
    },
    {
      "cell_type": "code",
      "metadata": {
        "id": "pGrqbPKt0oen",
        "outputId": "907ddcbd-5d5c-4197-86f5-0b9fc75763e6",
        "colab": {
          "base_uri": "https://localhost:8080/"
        }
      },
      "source": [
        "lor = LogisticRegression()\n",
        "lor.fit(bag_train.toarray(), labels_train)\n",
        "labels_pred = lor.predict(bag_test.toarray())\n",
        "print(accuracy_score(labels_test, labels_pred))\n",
        "print(f1_score(labels_test, labels_pred, average = 'macro'))"
      ],
      "execution_count": 148,
      "outputs": [
        {
          "output_type": "stream",
          "text": [
            "0.760777683854607\n",
            "0.6130800830089501\n"
          ],
          "name": "stdout"
        },
        {
          "output_type": "stream",
          "text": [
            "/usr/local/lib/python3.6/dist-packages/sklearn/linear_model/_logistic.py:940: ConvergenceWarning: lbfgs failed to converge (status=1):\n",
            "STOP: TOTAL NO. of ITERATIONS REACHED LIMIT.\n",
            "\n",
            "Increase the number of iterations (max_iter) or scale the data as shown in:\n",
            "    https://scikit-learn.org/stable/modules/preprocessing.html\n",
            "Please also refer to the documentation for alternative solver options:\n",
            "    https://scikit-learn.org/stable/modules/linear_model.html#logistic-regression\n",
            "  extra_warning_msg=_LOGISTIC_SOLVER_CONVERGENCE_MSG)\n"
          ],
          "name": "stderr"
        }
      ]
    },
    {
      "cell_type": "code",
      "metadata": {
        "id": "DkDv4PmK0oeq",
        "outputId": "5121297e-1d62-469e-9fec-78e3a92d88ac",
        "colab": {
          "base_uri": "https://localhost:8080/"
        }
      },
      "source": [
        "lor.fit(tfidf_train.toarray(), labels_train)\n",
        "labels_pred = lor.predict(tfidf_test.toarray())\n",
        "print(accuracy_score(labels_test, labels_pred))\n",
        "print(f1_score(labels_test, labels_pred, average = 'macro'))\n",
        "print(classification_report(labels_test, labels_pred))"
      ],
      "execution_count": 149,
      "outputs": [
        {
          "output_type": "stream",
          "text": [
            "0.7996618765849535\n",
            "0.592010655009258\n",
            "              precision    recall  f1-score   support\n",
            "\n",
            "        -1.0       0.78      0.88      0.83       495\n",
            "         0.0       0.55      0.04      0.08       144\n",
            "         1.0       0.82      0.93      0.87       544\n",
            "\n",
            "    accuracy                           0.80      1183\n",
            "   macro avg       0.72      0.62      0.59      1183\n",
            "weighted avg       0.77      0.80      0.76      1183\n",
            "\n"
          ],
          "name": "stdout"
        }
      ]
    },
    {
      "cell_type": "code",
      "metadata": {
        "id": "nDrEr5s00oev"
      },
      "source": [
        "from sklearn.tree import DecisionTreeClassifier\n",
        "dtc = DecisionTreeClassifier(max_depth = None)"
      ],
      "execution_count": null,
      "outputs": []
    },
    {
      "cell_type": "code",
      "metadata": {
        "id": "RutnkQtl0oey",
        "outputId": "f4513589-46b6-439a-ec9f-7cf64eec9e86",
        "colab": {
          "base_uri": "https://localhost:8080/"
        }
      },
      "source": [
        "dtc.fit(bag_train.toarray(), labels_train)\n",
        "labels_pred = dtc.predict(bag_test.toarray())\n",
        "print(accuracy_score(labels_test, labels_pred))\n",
        "print(f1_score(labels_test, labels_pred, average = 'macro'))"
      ],
      "execution_count": null,
      "outputs": [
        {
          "output_type": "stream",
          "text": [
            "0.5908706677937448\n",
            "0.47942422776472665\n"
          ],
          "name": "stdout"
        }
      ]
    },
    {
      "cell_type": "code",
      "metadata": {
        "id": "1VtvXo9B0oe1",
        "outputId": "88d98d5e-eb3a-49fa-a930-d870e4b9c005",
        "colab": {
          "base_uri": "https://localhost:8080/"
        }
      },
      "source": [
        "dtc.fit(tfidf_train.toarray(), labels_train)\n",
        "labels_pred = dtc.predict(tfidf_test.toarray())\n",
        "print(accuracy_score(labels_test, labels_pred))\n",
        "print(f1_score(labels_test, labels_pred, average = 'macro'))"
      ],
      "execution_count": null,
      "outputs": [
        {
          "output_type": "stream",
          "text": [
            "0.6052409129332206\n",
            "0.48527338673250947\n"
          ],
          "name": "stdout"
        }
      ]
    },
    {
      "cell_type": "code",
      "metadata": {
        "id": "SX9ZpFXO0oe4"
      },
      "source": [
        "from sklearn.ensemble import RandomForestClassifier\n",
        "rfc = RandomForestClassifier(max_depth = None, random_state = 0)"
      ],
      "execution_count": 106,
      "outputs": []
    },
    {
      "cell_type": "code",
      "metadata": {
        "id": "rLIhI8qb0oe8",
        "outputId": "0ec25416-e768-4308-8407-0dadcad6fdbd",
        "colab": {
          "base_uri": "https://localhost:8080/"
        }
      },
      "source": [
        "rfc.fit(bag_train.toarray(), labels_train)\n",
        "labels_pred = rfc.predict(bag_test.toarray())\n",
        "print(accuracy_score(labels_test, labels_pred))\n",
        "print(f1_score(labels_test, labels_pred, average = 'macro'))"
      ],
      "execution_count": 122,
      "outputs": [
        {
          "output_type": "stream",
          "text": [
            "0.7692307692307693\n",
            "0.5779230246118193\n"
          ],
          "name": "stdout"
        }
      ]
    },
    {
      "cell_type": "code",
      "metadata": {
        "id": "dsx3qJ4G0oe_",
        "outputId": "da457ae1-1131-47e0-86d1-95e38af26776",
        "colab": {
          "base_uri": "https://localhost:8080/"
        }
      },
      "source": [
        "rfc.fit(tfidf_train.toarray(), labels_train)\n",
        "labels_pred = rfc.predict(tfidf_test.toarray())\n",
        "print(accuracy_score(labels_test, labels_pred))\n",
        "print(f1_score(labels_test, labels_pred, average = 'macro'))"
      ],
      "execution_count": 123,
      "outputs": [
        {
          "output_type": "stream",
          "text": [
            "0.7658495350803043\n",
            "0.5641697104385265\n"
          ],
          "name": "stdout"
        }
      ]
    },
    {
      "cell_type": "code",
      "metadata": {
        "id": "eu1yQhSo0ofE"
      },
      "source": [
        "from sklearn.neural_network import MLPClassifier\n",
        "mlp = MLPClassifier()"
      ],
      "execution_count": 151,
      "outputs": []
    },
    {
      "cell_type": "code",
      "metadata": {
        "id": "E1T9VpT642P4",
        "outputId": "ab3930eb-cc59-4cf5-88da-d1688594a5ad",
        "colab": {
          "base_uri": "https://localhost:8080/"
        }
      },
      "source": [
        "mlp.fit(bag_train, labels_train)\n",
        "labels_pred_mlp = mlp.predict(bag_test)\n",
        "print(classification_report(labels_test, labels_pred_mlp))"
      ],
      "execution_count": 152,
      "outputs": [
        {
          "output_type": "stream",
          "text": [
            "              precision    recall  f1-score   support\n",
            "\n",
            "        -1.0       0.78      0.79      0.79       495\n",
            "         0.0       0.26      0.22      0.24       144\n",
            "         1.0       0.81      0.83      0.82       544\n",
            "\n",
            "    accuracy                           0.74      1183\n",
            "   macro avg       0.62      0.62      0.62      1183\n",
            "weighted avg       0.73      0.74      0.74      1183\n",
            "\n"
          ],
          "name": "stdout"
        }
      ]
    },
    {
      "cell_type": "code",
      "metadata": {
        "id": "I4kfGr6KLC3P",
        "outputId": "b2d56e90-8a7b-42a1-c25b-ffcce0fc9d85",
        "colab": {
          "base_uri": "https://localhost:8080/"
        }
      },
      "source": [
        "mlp.fit(tfidf_train, labels_train)\n",
        "labels_pred_mlp = mlp.predict(tfidf_test)\n",
        "print(classification_report(labels_test, labels_pred_mlp))"
      ],
      "execution_count": 155,
      "outputs": [
        {
          "output_type": "stream",
          "text": [
            "              precision    recall  f1-score   support\n",
            "\n",
            "        -1.0       0.77      0.80      0.78       495\n",
            "         0.0       0.31      0.18      0.23       144\n",
            "         1.0       0.81      0.87      0.84       544\n",
            "\n",
            "    accuracy                           0.76      1183\n",
            "   macro avg       0.63      0.62      0.62      1183\n",
            "weighted avg       0.73      0.76      0.74      1183\n",
            "\n"
          ],
          "name": "stdout"
        }
      ]
    },
    {
      "cell_type": "code",
      "metadata": {
        "id": "V33J2BgMKsm9"
      },
      "source": [
        "import lightgbm as lgbm"
      ],
      "execution_count": 153,
      "outputs": []
    },
    {
      "cell_type": "code",
      "metadata": {
        "id": "iitru9K4KvuX"
      },
      "source": [
        "from sklearn.preprocessing import StandardScaler\n",
        "sc = StandardScaler(with_mean= False)"
      ],
      "execution_count": 157,
      "outputs": []
    },
    {
      "cell_type": "code",
      "metadata": {
        "id": "UI77mxBjK2e9"
      },
      "source": [
        "bag_train = sc.fit_transform(bag_train)\n",
        "bag_test = sc.fit_transform(bag_test)"
      ],
      "execution_count": 158,
      "outputs": []
    },
    {
      "cell_type": "code",
      "metadata": {
        "id": "_k9erbBAOUt5"
      },
      "source": [
        "y_train = np.array(labels_train)+1\n",
        "y_train\n",
        "y_test = np.array(labels_test)+1"
      ],
      "execution_count": 168,
      "outputs": []
    },
    {
      "cell_type": "code",
      "metadata": {
        "id": "if-9mAsqLNAa"
      },
      "source": [
        "d_train = lgbm.Dataset(bag_train, label=y_train)\n",
        "params = {}\n",
        "params['learning_rate'] = 0.003\n",
        "params['boosting_type'] = 'gbdt'\n",
        "params['objective'] = 'binary'\n",
        "params['metric'] = 'binary_logloss'\n",
        "params['num_leaves'] = 10\n",
        "clf_lgb = lgbm.train(params, d_train, 100)"
      ],
      "execution_count": 188,
      "outputs": []
    },
    {
      "cell_type": "code",
      "metadata": {
        "id": "i3ukkyYXPEL8",
        "outputId": "a2388f7a-f991-41c2-aafa-c723a8a4e074",
        "colab": {
          "base_uri": "https://localhost:8080/"
        }
      },
      "source": [
        "y_train_pred = clf_lgb.predict(bag_train)\n",
        "y_pred = clf_lgb.predict(bag_test)\n",
        "print(y_pred)\n",
        "y_classified = []\n",
        "for i in range(len(y_pred)):\n",
        "  if y_pred[i] > 0.62:\n",
        "    y_classified.append(2)\n",
        "  elif y_pred[i] < 0.52:\n",
        "    y_classified.append(0)\n",
        "  else:\n",
        "    y_classified.append(1)\n",
        "print(y_classified)\n",
        "print(classification_report(y_test, y_classified)) "
      ],
      "execution_count": 214,
      "outputs": [
        {
          "output_type": "stream",
          "text": [
            "[0.64 0.57 0.48 ... 0.66 0.48 0.66]\n",
            "[2, 1, 0, 2, 1, 1, 2, 2, 0, 2, 1, 2, 1, 2, 1, 2, 2, 2, 2, 2, 2, 1, 2, 1, 2, 0, 1, 1, 0, 2, 1, 0, 1, 1, 2, 1, 2, 1, 1, 2, 2, 2, 2, 2, 2, 2, 1, 2, 1, 2, 2, 0, 2, 2, 0, 0, 1, 2, 2, 2, 2, 2, 2, 0, 1, 2, 2, 1, 2, 1, 2, 1, 1, 1, 2, 1, 2, 2, 1, 0, 1, 0, 1, 0, 2, 2, 2, 0, 0, 2, 0, 1, 2, 2, 0, 2, 0, 2, 2, 0, 2, 2, 1, 2, 2, 1, 1, 2, 0, 1, 2, 2, 1, 2, 1, 2, 0, 1, 2, 0, 1, 2, 2, 2, 0, 2, 0, 1, 1, 2, 2, 0, 0, 2, 2, 1, 2, 2, 0, 1, 1, 2, 0, 1, 0, 2, 1, 0, 1, 1, 1, 2, 1, 2, 2, 1, 1, 2, 0, 2, 1, 1, 2, 2, 2, 0, 2, 2, 1, 2, 2, 2, 0, 2, 2, 0, 2, 0, 2, 1, 0, 2, 2, 2, 1, 0, 2, 2, 0, 1, 2, 1, 2, 1, 2, 0, 2, 1, 2, 0, 2, 1, 0, 2, 2, 1, 2, 1, 2, 0, 2, 1, 1, 2, 0, 1, 2, 1, 2, 0, 1, 1, 2, 1, 1, 1, 2, 2, 2, 0, 2, 2, 2, 1, 2, 2, 2, 2, 0, 0, 0, 2, 2, 2, 1, 1, 1, 2, 2, 2, 2, 2, 0, 2, 0, 1, 1, 1, 2, 1, 2, 2, 2, 2, 1, 2, 1, 2, 0, 2, 0, 0, 1, 1, 1, 0, 2, 1, 2, 2, 2, 2, 2, 2, 1, 1, 2, 1, 1, 2, 1, 2, 2, 2, 2, 1, 2, 1, 1, 2, 2, 0, 1, 0, 2, 2, 2, 2, 0, 2, 2, 0, 2, 0, 2, 0, 2, 0, 1, 1, 1, 2, 0, 1, 2, 2, 2, 0, 0, 1, 1, 0, 2, 2, 2, 1, 1, 0, 2, 1, 2, 1, 1, 2, 1, 2, 2, 1, 1, 2, 0, 1, 1, 2, 0, 2, 2, 1, 2, 0, 1, 1, 1, 0, 2, 1, 2, 2, 1, 2, 1, 2, 0, 2, 1, 1, 2, 1, 0, 1, 0, 2, 2, 2, 0, 1, 2, 2, 2, 2, 0, 0, 2, 1, 2, 1, 2, 2, 1, 1, 1, 1, 2, 2, 1, 0, 1, 1, 2, 1, 2, 1, 2, 1, 0, 0, 2, 1, 1, 2, 2, 1, 0, 1, 2, 1, 2, 1, 2, 2, 1, 2, 0, 1, 1, 1, 1, 2, 1, 2, 1, 1, 1, 2, 2, 0, 2, 2, 1, 1, 2, 0, 2, 1, 2, 2, 2, 1, 2, 1, 2, 2, 2, 2, 1, 2, 0, 2, 2, 1, 0, 0, 2, 1, 0, 2, 2, 2, 0, 1, 2, 0, 2, 1, 2, 2, 2, 2, 2, 1, 2, 1, 0, 2, 2, 2, 1, 2, 2, 2, 1, 0, 0, 2, 2, 1, 2, 2, 0, 2, 2, 2, 2, 2, 1, 0, 0, 2, 2, 2, 0, 2, 1, 1, 2, 2, 2, 1, 2, 1, 0, 1, 2, 2, 0, 1, 1, 1, 2, 0, 0, 0, 0, 2, 1, 1, 1, 1, 2, 1, 0, 2, 2, 2, 1, 2, 2, 1, 0, 0, 1, 1, 1, 2, 2, 2, 1, 2, 2, 0, 2, 1, 0, 2, 0, 0, 2, 2, 2, 1, 1, 2, 0, 2, 1, 2, 0, 1, 2, 2, 0, 2, 2, 2, 1, 2, 2, 0, 2, 1, 0, 2, 1, 0, 1, 2, 1, 2, 1, 2, 0, 1, 2, 2, 2, 1, 1, 2, 2, 2, 0, 1, 1, 0, 1, 1, 2, 1, 1, 2, 2, 2, 2, 2, 2, 0, 1, 1, 2, 0, 0, 2, 2, 2, 2, 1, 2, 1, 0, 1, 1, 1, 1, 2, 1, 2, 2, 1, 2, 2, 1, 0, 0, 2, 2, 0, 2, 1, 2, 0, 0, 2, 2, 2, 2, 0, 1, 2, 2, 2, 2, 2, 1, 1, 0, 0, 0, 2, 1, 2, 2, 2, 0, 0, 2, 2, 2, 2, 0, 1, 2, 0, 1, 0, 1, 1, 0, 2, 1, 1, 0, 1, 2, 0, 2, 2, 2, 2, 1, 0, 0, 2, 2, 2, 0, 1, 2, 2, 2, 0, 2, 2, 2, 2, 0, 1, 2, 2, 2, 2, 2, 1, 1, 1, 1, 0, 1, 2, 2, 2, 1, 1, 2, 0, 1, 1, 1, 1, 2, 1, 2, 2, 1, 1, 1, 2, 0, 2, 1, 2, 2, 0, 0, 1, 2, 1, 2, 2, 1, 2, 0, 2, 2, 0, 2, 1, 0, 1, 2, 1, 2, 0, 1, 1, 0, 2, 1, 1, 0, 1, 2, 2, 2, 0, 1, 2, 1, 2, 0, 2, 0, 2, 2, 2, 2, 0, 2, 2, 2, 1, 2, 1, 2, 2, 2, 1, 2, 0, 1, 2, 2, 0, 2, 2, 2, 2, 0, 0, 0, 0, 1, 1, 1, 1, 1, 1, 1, 2, 0, 0, 0, 2, 2, 2, 2, 0, 2, 1, 2, 1, 0, 0, 2, 0, 1, 2, 0, 2, 0, 2, 1, 1, 2, 0, 1, 1, 1, 1, 0, 0, 0, 2, 0, 2, 0, 2, 2, 1, 2, 1, 1, 1, 2, 2, 1, 2, 2, 2, 2, 2, 1, 1, 1, 2, 1, 1, 1, 2, 2, 2, 2, 0, 1, 1, 2, 2, 2, 1, 2, 1, 2, 0, 2, 1, 0, 2, 0, 2, 1, 1, 2, 1, 0, 2, 2, 2, 0, 2, 2, 2, 0, 1, 2, 2, 2, 1, 1, 1, 0, 2, 0, 2, 1, 2, 1, 1, 1, 1, 0, 1, 2, 0, 1, 0, 2, 1, 2, 2, 1, 1, 2, 1, 2, 2, 1, 1, 2, 2, 2, 2, 1, 2, 0, 0, 2, 2, 2, 2, 2, 2, 0, 2, 0, 2, 2, 2, 0, 2, 2, 2, 1, 1, 2, 2, 0, 2, 2, 1, 0, 2, 2, 1, 2, 2, 2, 2, 2, 1, 1, 1, 0, 2, 0, 0, 2, 2, 2, 1, 1, 1, 2, 1, 1, 2, 2, 1, 2, 2, 1, 2, 1, 1, 1, 2, 1, 2, 0, 2, 0, 2, 1, 1, 2, 2, 2, 1, 1, 1, 0, 1, 1, 2, 2, 2, 1, 2, 2, 2, 0, 2, 1, 1, 2, 2, 2, 1, 1, 2, 2, 2, 1, 2, 2, 1, 2, 1, 0, 0, 0, 1, 2, 1, 1, 2, 1, 1, 1, 1, 2, 2, 1, 1, 1, 2, 2, 0, 1, 0, 1, 2, 2, 2, 0, 2, 2, 0, 0, 1, 0, 2, 2, 2, 2, 2, 0, 0, 1, 2, 2, 0, 0, 1, 2, 1, 2, 2, 0, 0, 0, 2, 0, 0, 1, 1, 2, 2, 1, 2, 2, 2, 1, 2, 2, 2, 1, 2, 2, 2, 1, 1, 1, 2, 2, 2, 1, 2, 1, 0, 0, 1, 2, 2, 1, 0, 2, 2, 0, 0, 1, 2, 2, 0, 2]\n",
            "              precision    recall  f1-score   support\n",
            "\n",
            "         0.0       0.74      0.34      0.47       495\n",
            "         1.0       0.16      0.41      0.23       144\n",
            "         2.0       0.70      0.74      0.72       544\n",
            "\n",
            "    accuracy                           0.53      1183\n",
            "   macro avg       0.53      0.50      0.47      1183\n",
            "weighted avg       0.65      0.53      0.55      1183\n",
            "\n"
          ],
          "name": "stdout"
        }
      ]
    },
    {
      "cell_type": "code",
      "metadata": {
        "id": "IMIGbRfbQm3S"
      },
      "source": [
        ""
      ],
      "execution_count": null,
      "outputs": []
    }
  ]
}