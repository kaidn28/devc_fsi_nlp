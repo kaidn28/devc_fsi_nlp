{
  "nbformat": 4,
  "nbformat_minor": 0,
  "metadata": {
    "colab": {
      "name": "va_notva.ipynb",
      "provenance": []
    },
    "kernelspec": {
      "name": "python3",
      "display_name": "Python 3"
    }
  },
  "cells": [
    {
      "cell_type": "code",
      "metadata": {
        "id": "owAz7RAcwBsp"
      },
      "source": [
        "import numpy as np\n",
        "import pandas as pd"
      ],
      "execution_count": 1,
      "outputs": []
    },
    {
      "cell_type": "code",
      "metadata": {
        "id": "kc1GVoYtwIn2",
        "outputId": "cd7b2e0e-1e93-4d15-9179-39084249312e",
        "colab": {
          "base_uri": "https://localhost:8080/"
        }
      },
      "source": [
        "!pip3 install pyvi"
      ],
      "execution_count": 2,
      "outputs": [
        {
          "output_type": "stream",
          "text": [
            "Collecting pyvi\n",
            "\u001b[?25l  Downloading https://files.pythonhosted.org/packages/10/e1/0e5bc6b5e3327b9385d6e0f1b0a7c0404f28b74eb6db59a778515b30fd9c/pyvi-0.1-py2.py3-none-any.whl (8.5MB)\n",
            "\u001b[K     |████████████████████████████████| 8.5MB 1.4MB/s \n",
            "\u001b[?25hRequirement already satisfied: scikit-learn in /usr/local/lib/python3.6/dist-packages (from pyvi) (0.22.2.post1)\n",
            "Collecting sklearn-crfsuite\n",
            "  Downloading https://files.pythonhosted.org/packages/25/74/5b7befa513482e6dee1f3dd68171a6c9dfc14c0eaa00f885ffeba54fe9b0/sklearn_crfsuite-0.3.6-py2.py3-none-any.whl\n",
            "Requirement already satisfied: numpy>=1.11.0 in /usr/local/lib/python3.6/dist-packages (from scikit-learn->pyvi) (1.18.5)\n",
            "Requirement already satisfied: joblib>=0.11 in /usr/local/lib/python3.6/dist-packages (from scikit-learn->pyvi) (0.17.0)\n",
            "Requirement already satisfied: scipy>=0.17.0 in /usr/local/lib/python3.6/dist-packages (from scikit-learn->pyvi) (1.4.1)\n",
            "Requirement already satisfied: tabulate in /usr/local/lib/python3.6/dist-packages (from sklearn-crfsuite->pyvi) (0.8.7)\n",
            "Requirement already satisfied: tqdm>=2.0 in /usr/local/lib/python3.6/dist-packages (from sklearn-crfsuite->pyvi) (4.41.1)\n",
            "Requirement already satisfied: six in /usr/local/lib/python3.6/dist-packages (from sklearn-crfsuite->pyvi) (1.15.0)\n",
            "Collecting python-crfsuite>=0.8.3\n",
            "\u001b[?25l  Downloading https://files.pythonhosted.org/packages/95/99/869dde6dbf3e0d07a013c8eebfb0a3d30776334e0097f8432b631a9a3a19/python_crfsuite-0.9.7-cp36-cp36m-manylinux1_x86_64.whl (743kB)\n",
            "\u001b[K     |████████████████████████████████| 747kB 34.5MB/s \n",
            "\u001b[?25hInstalling collected packages: python-crfsuite, sklearn-crfsuite, pyvi\n",
            "Successfully installed python-crfsuite-0.9.7 pyvi-0.1 sklearn-crfsuite-0.3.6\n"
          ],
          "name": "stdout"
        }
      ]
    },
    {
      "cell_type": "code",
      "metadata": {
        "id": "BLKQcwclwSUy"
      },
      "source": [
        "from pyvi import ViTokenizer, ViPosTagger"
      ],
      "execution_count": 3,
      "outputs": []
    },
    {
      "cell_type": "code",
      "metadata": {
        "id": "BzmqT4rEwmI5",
        "outputId": "490a1ec3-303a-4111-f9b3-00153dd3f9f3",
        "colab": {
          "base_uri": "https://localhost:8080/",
          "height": 419
        }
      },
      "source": [
        "data = pd.read_csv('./reviews.csv')\n",
        "data"
      ],
      "execution_count": 4,
      "outputs": [
        {
          "output_type": "execute_result",
          "data": {
            "text/html": [
              "<div>\n",
              "<style scoped>\n",
              "    .dataframe tbody tr th:only-of-type {\n",
              "        vertical-align: middle;\n",
              "    }\n",
              "\n",
              "    .dataframe tbody tr th {\n",
              "        vertical-align: top;\n",
              "    }\n",
              "\n",
              "    .dataframe thead th {\n",
              "        text-align: right;\n",
              "    }\n",
              "</style>\n",
              "<table border=\"1\" class=\"dataframe\">\n",
              "  <thead>\n",
              "    <tr style=\"text-align: right;\">\n",
              "      <th></th>\n",
              "      <th>Review</th>\n",
              "      <th>Label</th>\n",
              "    </tr>\n",
              "  </thead>\n",
              "  <tbody>\n",
              "    <tr>\n",
              "      <th>0</th>\n",
              "      <td>Ở đây nổi tiếng caramen nhưng mà mình lại biế...</td>\n",
              "      <td>1.0</td>\n",
              "    </tr>\n",
              "    <tr>\n",
              "      <th>1</th>\n",
              "      <td>Bánh mì sốt vang Thái Thịnh nổi nay mới được ...</td>\n",
              "      <td>-1.0</td>\n",
              "    </tr>\n",
              "    <tr>\n",
              "      <th>2</th>\n",
              "      <td>Nghe tên quán đã lâu hôm nay mới có dịp đến ă...</td>\n",
              "      <td>1.0</td>\n",
              "    </tr>\n",
              "    <tr>\n",
              "      <th>3</th>\n",
              "      <td>Mua vé online các sự kiện tổ chức ở</td>\n",
              "      <td>1.0</td>\n",
              "    </tr>\n",
              "    <tr>\n",
              "      <th>4</th>\n",
              "      <td>chăng so không gian cây xanh ban cây ai cây v...</td>\n",
              "      <td>1.0</td>\n",
              "    </tr>\n",
              "    <tr>\n",
              "      <th>...</th>\n",
              "      <td>...</td>\n",
              "      <td>...</td>\n",
              "    </tr>\n",
              "    <tr>\n",
              "      <th>5909</th>\n",
              "      <td>Hôm mùng tết có đi qa đây mua cốc trà Topping...</td>\n",
              "      <td>-1.0</td>\n",
              "    </tr>\n",
              "    <tr>\n",
              "      <th>5910</th>\n",
              "      <td>Trà sữa socola ngon nhất trong những quán đã ...</td>\n",
              "      <td>1.0</td>\n",
              "    </tr>\n",
              "    <tr>\n",
              "      <th>5911</th>\n",
              "      <td>Quán bé do quán vắng mình chó đến ngồi ngoài ...</td>\n",
              "      <td>-1.0</td>\n",
              "    </tr>\n",
              "    <tr>\n",
              "      <th>5912</th>\n",
              "      <td>Hôm nay lần đầu đến quán cảm thấy ăn cũng nhâ...</td>\n",
              "      <td>-1.0</td>\n",
              "    </tr>\n",
              "    <tr>\n",
              "      <th>5913</th>\n",
              "      <td>Chị chủ và anh chủ siêu siêu dễ Menu các món ...</td>\n",
              "      <td>1.0</td>\n",
              "    </tr>\n",
              "  </tbody>\n",
              "</table>\n",
              "<p>5914 rows × 2 columns</p>\n",
              "</div>"
            ],
            "text/plain": [
              "                                                 Review  Label\n",
              "0      Ở đây nổi tiếng caramen nhưng mà mình lại biế...    1.0\n",
              "1      Bánh mì sốt vang Thái Thịnh nổi nay mới được ...   -1.0\n",
              "2      Nghe tên quán đã lâu hôm nay mới có dịp đến ă...    1.0\n",
              "3                   Mua vé online các sự kiện tổ chức ở    1.0\n",
              "4      chăng so không gian cây xanh ban cây ai cây v...    1.0\n",
              "...                                                 ...    ...\n",
              "5909   Hôm mùng tết có đi qa đây mua cốc trà Topping...   -1.0\n",
              "5910   Trà sữa socola ngon nhất trong những quán đã ...    1.0\n",
              "5911   Quán bé do quán vắng mình chó đến ngồi ngoài ...   -1.0\n",
              "5912   Hôm nay lần đầu đến quán cảm thấy ăn cũng nhâ...   -1.0\n",
              "5913   Chị chủ và anh chủ siêu siêu dễ Menu các món ...    1.0\n",
              "\n",
              "[5914 rows x 2 columns]"
            ]
          },
          "metadata": {
            "tags": []
          },
          "execution_count": 4
        }
      ]
    },
    {
      "cell_type": "code",
      "metadata": {
        "id": "1LnmueGXwzOU",
        "outputId": "a0b39ea9-7dce-4699-f80f-4952a3b7c022",
        "colab": {
          "base_uri": "https://localhost:8080/"
        }
      },
      "source": [
        "data.Label.value_counts()"
      ],
      "execution_count": 5,
      "outputs": [
        {
          "output_type": "execute_result",
          "data": {
            "text/plain": [
              " 1.0    2779\n",
              "-1.0    2416\n",
              " 0.0     715\n",
              "Name: Label, dtype: int64"
            ]
          },
          "metadata": {
            "tags": []
          },
          "execution_count": 5
        }
      ]
    },
    {
      "cell_type": "code",
      "metadata": {
        "id": "_BmMkdd6w7Wl",
        "outputId": "2a3eb234-a7b4-4d35-a30d-1cee35042011",
        "colab": {
          "base_uri": "https://localhost:8080/"
        }
      },
      "source": [
        "data.Label.isna().sum()"
      ],
      "execution_count": 6,
      "outputs": [
        {
          "output_type": "execute_result",
          "data": {
            "text/plain": [
              "4"
            ]
          },
          "metadata": {
            "tags": []
          },
          "execution_count": 6
        }
      ]
    },
    {
      "cell_type": "code",
      "metadata": {
        "id": "DFp8U3eKxMx6"
      },
      "source": [
        "data.fillna(0., inplace = True)"
      ],
      "execution_count": 7,
      "outputs": []
    },
    {
      "cell_type": "code",
      "metadata": {
        "id": "Pm2OkU5oxcsh",
        "outputId": "45e0ef29-2bc9-41f0-8843-4a36ff198bde",
        "colab": {
          "base_uri": "https://localhost:8080/"
        }
      },
      "source": [
        "X = data[\"Review\"]\n",
        "y = data[\"Label\"]\n",
        "X"
      ],
      "execution_count": 11,
      "outputs": [
        {
          "output_type": "execute_result",
          "data": {
            "text/plain": [
              "0        Ở đây nổi tiếng caramen nhưng mà mình lại biế...\n",
              "1        Bánh mì sốt vang Thái Thịnh nổi nay mới được ...\n",
              "2        Nghe tên quán đã lâu hôm nay mới có dịp đến ă...\n",
              "3                     Mua vé online các sự kiện tổ chức ở\n",
              "4        chăng so không gian cây xanh ban cây ai cây v...\n",
              "                              ...                        \n",
              "5909     Hôm mùng tết có đi qa đây mua cốc trà Topping...\n",
              "5910     Trà sữa socola ngon nhất trong những quán đã ...\n",
              "5911     Quán bé do quán vắng mình chó đến ngồi ngoài ...\n",
              "5912     Hôm nay lần đầu đến quán cảm thấy ăn cũng nhâ...\n",
              "5913     Chị chủ và anh chủ siêu siêu dễ Menu các món ...\n",
              "Name: Review, Length: 5914, dtype: object"
            ]
          },
          "metadata": {
            "tags": []
          },
          "execution_count": 11
        }
      ]
    },
    {
      "cell_type": "code",
      "metadata": {
        "id": "meI4XzBeyGFF",
        "outputId": "cd4d8736-5d7a-427a-9264-2973a84f2afe",
        "colab": {
          "base_uri": "https://localhost:8080/",
          "height": 1000
        }
      },
      "source": [
        "englishwords = pd.read_json(\"./englishwords.json\")\n",
        "englishwords.set_index(\"english\", inplace = True)\n",
        "shortform = pd.read_json(\"./shortform.json\")\n",
        "shortform.set_index(\"short\", inplace = True)\n",
        "englishwords"
      ],
      "execution_count": 12,
      "outputs": [
        {
          "output_type": "execute_result",
          "data": {
            "text/html": [
              "<div>\n",
              "<style scoped>\n",
              "    .dataframe tbody tr th:only-of-type {\n",
              "        vertical-align: middle;\n",
              "    }\n",
              "\n",
              "    .dataframe tbody tr th {\n",
              "        vertical-align: top;\n",
              "    }\n",
              "\n",
              "    .dataframe thead th {\n",
              "        text-align: right;\n",
              "    }\n",
              "</style>\n",
              "<table border=\"1\" class=\"dataframe\">\n",
              "  <thead>\n",
              "    <tr style=\"text-align: right;\">\n",
              "      <th></th>\n",
              "      <th>vietnamese</th>\n",
              "    </tr>\n",
              "    <tr>\n",
              "      <th>english</th>\n",
              "      <th></th>\n",
              "    </tr>\n",
              "  </thead>\n",
              "  <tbody>\n",
              "    <tr>\n",
              "      <th>fun</th>\n",
              "      <td>vui</td>\n",
              "    </tr>\n",
              "    <tr>\n",
              "      <th>phone</th>\n",
              "      <td>điện thoại</td>\n",
              "    </tr>\n",
              "    <tr>\n",
              "      <th>funny</th>\n",
              "      <td>hay ho</td>\n",
              "    </tr>\n",
              "    <tr>\n",
              "      <th>concept</th>\n",
              "      <td>ý tưởng</td>\n",
              "    </tr>\n",
              "    <tr>\n",
              "      <th>idea</th>\n",
              "      <td>ý tưởng</td>\n",
              "    </tr>\n",
              "    <tr>\n",
              "      <th>smartphone</th>\n",
              "      <td>điện thoại thông minh</td>\n",
              "    </tr>\n",
              "    <tr>\n",
              "      <th>no</th>\n",
              "      <td>không</td>\n",
              "    </tr>\n",
              "    <tr>\n",
              "      <th>yes</th>\n",
              "      <td>có</td>\n",
              "    </tr>\n",
              "    <tr>\n",
              "      <th>capable</th>\n",
              "      <td>có thể</td>\n",
              "    </tr>\n",
              "    <tr>\n",
              "      <th>available</th>\n",
              "      <td>có sẵn</td>\n",
              "    </tr>\n",
              "    <tr>\n",
              "      <th>simp</th>\n",
              "      <td>dại gái</td>\n",
              "    </tr>\n",
              "    <tr>\n",
              "      <th>tech</th>\n",
              "      <td>công nghệ</td>\n",
              "    </tr>\n",
              "    <tr>\n",
              "      <th>string</th>\n",
              "      <td>chuỗi</td>\n",
              "    </tr>\n",
              "    <tr>\n",
              "      <th>camera</th>\n",
              "      <td>máy ảnh</td>\n",
              "    </tr>\n",
              "    <tr>\n",
              "      <th>earphone</th>\n",
              "      <td>tai nghe</td>\n",
              "    </tr>\n",
              "    <tr>\n",
              "      <th>headphone</th>\n",
              "      <td>tai nghe</td>\n",
              "    </tr>\n",
              "    <tr>\n",
              "      <th>workshop</th>\n",
              "      <td>buổi tọa đàm</td>\n",
              "    </tr>\n",
              "    <tr>\n",
              "      <th>talkshow</th>\n",
              "      <td>buổi tọa đàm</td>\n",
              "    </tr>\n",
              "    <tr>\n",
              "      <th>share</th>\n",
              "      <td>chia sẻ</td>\n",
              "    </tr>\n",
              "    <tr>\n",
              "      <th>doc</th>\n",
              "      <td>tài liệu</td>\n",
              "    </tr>\n",
              "    <tr>\n",
              "      <th>avoid</th>\n",
              "      <td>tránh</td>\n",
              "    </tr>\n",
              "    <tr>\n",
              "      <th>mobile</th>\n",
              "      <td>điện thoại</td>\n",
              "    </tr>\n",
              "    <tr>\n",
              "      <th>game</th>\n",
              "      <td>trò chơi</td>\n",
              "    </tr>\n",
              "    <tr>\n",
              "      <th>app</th>\n",
              "      <td>ứng dụng</td>\n",
              "    </tr>\n",
              "    <tr>\n",
              "      <th>run</th>\n",
              "      <td>chạy</td>\n",
              "    </tr>\n",
              "    <tr>\n",
              "      <th>startup</th>\n",
              "      <td>khởi nghiệp</td>\n",
              "    </tr>\n",
              "    <tr>\n",
              "      <th>start-up</th>\n",
              "      <td>khởi nghiệp</td>\n",
              "    </tr>\n",
              "    <tr>\n",
              "      <th>comment</th>\n",
              "      <td>bình luận</td>\n",
              "    </tr>\n",
              "    <tr>\n",
              "      <th>like</th>\n",
              "      <td>thích</td>\n",
              "    </tr>\n",
              "    <tr>\n",
              "      <th>wow</th>\n",
              "      <td>ồ</td>\n",
              "    </tr>\n",
              "    <tr>\n",
              "      <th>oh</th>\n",
              "      <td>à</td>\n",
              "    </tr>\n",
              "    <tr>\n",
              "      <th>ah</th>\n",
              "      <td>à</td>\n",
              "    </tr>\n",
              "    <tr>\n",
              "      <th>bye</th>\n",
              "      <td>tạm biệt</td>\n",
              "    </tr>\n",
              "  </tbody>\n",
              "</table>\n",
              "</div>"
            ],
            "text/plain": [
              "                       vietnamese\n",
              "english                          \n",
              "fun                           vui\n",
              "phone                  điện thoại\n",
              "funny                      hay ho\n",
              "concept                   ý tưởng\n",
              "idea                      ý tưởng\n",
              "smartphone  điện thoại thông minh\n",
              "no                          không\n",
              "yes                            có\n",
              "capable                    có thể\n",
              "available                  có sẵn\n",
              "simp                      dại gái\n",
              "tech                    công nghệ\n",
              "string                      chuỗi\n",
              "camera                    máy ảnh\n",
              "earphone                 tai nghe\n",
              "headphone                tai nghe\n",
              "workshop             buổi tọa đàm\n",
              "talkshow             buổi tọa đàm\n",
              "share                     chia sẻ\n",
              "doc                      tài liệu\n",
              "avoid                       tránh\n",
              "mobile                 điện thoại\n",
              "game                     trò chơi\n",
              "app                      ứng dụng\n",
              "run                          chạy\n",
              "startup               khởi nghiệp\n",
              "start-up              khởi nghiệp\n",
              "comment                 bình luận\n",
              "like                        thích\n",
              "wow                             ồ\n",
              "oh                              à\n",
              "ah                              à\n",
              "bye                      tạm biệt"
            ]
          },
          "metadata": {
            "tags": []
          },
          "execution_count": 12
        }
      ]
    },
    {
      "cell_type": "code",
      "metadata": {
        "id": "IoZOIu3WzQ5H"
      },
      "source": [
        "# Loại bỏ kí tự đặc biệt và chuyển thành chữ cái viết thường\n",
        "import re \n",
        "\n",
        "def preprocessor(text):\n",
        "    \"\"\" Return a cleaned version of text\n",
        "    \"\"\"\n",
        "    # Remove HTML markup\n",
        "    text = re.sub('<[^>]*>', '', text)\n",
        "    # Save emoticons for later appending\n",
        "    emoticons = re.findall('(?::|;|=)(?:-)?(?:\\)|\\(|D|P)', text)\n",
        "    # Remove any non-word character and append the emoticons,\n",
        "    # removing the nose character for standarization. Convert to lower case\n",
        "    text = (re.sub('[\\W]+', ' ', text.lower()) + ' ' + ' '.join(emoticons).replace('-', ' '))\n",
        "    \n",
        "    #Loại bỏ các chữ cái lặp nhau\n",
        "    length = len(text)\n",
        "    char = 0\n",
        "    while char <length-1:\n",
        "        if text[char] == text[char+1]:\n",
        "            text = text[:char]+text[char+1:]\n",
        "            #print(text)\n",
        "            length-=1\n",
        "            continue\n",
        "        char+=1\n",
        "    #loại bỏ số  và các chữ cái lạ:\n",
        "    digits_and_characters = 'aăâbcdđeêfghijklmnoôơpqrstuưvxywzáàảãạắằẳẵặấầẩẫậéèẻẽẹếềểễệíìỉĩịóòỏõọốồổỗộớờởỡợúùủũụứừửữựýỳỷỹỵ(?::|;|=)(?:-)?(?:\\)|\\(|D|P)_ '\n",
        "    text = ''.join([i for i in text if i in digits_and_characters])\n",
        "\n",
        "    text_split = text.split()\n",
        "    #print(text_split)\n",
        "    for i in range(len(text_split)):\n",
        "      t = text_split[i]\n",
        "      if t in englishwords.index:\n",
        "        text_split[i] = str(englishwords.loc[t, \"vietnamese\"])\n",
        "      elif t in shortform.index:\n",
        "        text_split[i] = str(shortform.loc[t,\"long\"]) \n",
        "    #print(text_split)\n",
        "    text = ' '.join(text_split)\n",
        "    return text"
      ],
      "execution_count": 13,
      "outputs": []
    },
    {
      "cell_type": "code",
      "metadata": {
        "id": "7FMssWkfzVjk",
        "outputId": "a1a8cb9b-77a6-4dba-acd6-2040260fa7a1",
        "colab": {
          "base_uri": "https://localhost:8080/"
        }
      },
      "source": [
        "# get rid of special characters and convert to lower case\n",
        "for i in range (X.shape[0]):\n",
        "    X.loc[i] = preprocessor(X.loc[i])\n",
        "X.head(10)"
      ],
      "execution_count": 17,
      "outputs": [
        {
          "output_type": "stream",
          "text": [
            "/usr/local/lib/python3.6/dist-packages/pandas/core/indexing.py:670: SettingWithCopyWarning: \n",
            "A value is trying to be set on a copy of a slice from a DataFrame\n",
            "\n",
            "See the caveats in the documentation: https://pandas.pydata.org/pandas-docs/stable/user_guide/indexing.html#returning-a-view-versus-a-copy\n",
            "  iloc._setitem_with_indexer(indexer, value)\n"
          ],
          "name": "stderr"
        },
        {
          "output_type": "execute_result",
          "data": {
            "text/plain": [
              "0    ở đây nổi tiếng caramen nhưng mà mình lại biết...\n",
              "1    bánh mì sốt vang thái thịnh nổi nay mới được đ...\n",
              "2    nghe tên quán đã lâu hôm nay mới có dịp đến ăn...\n",
              "3                  mua vé online các sự kiện tổ chức ở\n",
              "4    chăng so không gian cây xanh ban cây ai cây vi...\n",
              "5          trà sữa ngon nhân viên bán hàng nhiệt thích\n",
              "6    không thể mê nổi thái độ của nhân viên từ đầu ...\n",
              "7    đây là trong những quán ăn mà mình rất vị trí ...\n",
              "8    ngoài món chính cơm niêu xá xíu và bò tiêu đen...\n",
              "9    nếu đi từ hàng bồ vào cẩn thận các bạn sẽ nhầm...\n",
              "Name: Review, dtype: object"
            ]
          },
          "metadata": {
            "tags": []
          },
          "execution_count": 17
        }
      ]
    },
    {
      "cell_type": "code",
      "metadata": {
        "id": "m57CXEHBzdM0",
        "outputId": "8d015ceb-828d-49e7-9311-b32434018fd3",
        "colab": {
          "base_uri": "https://localhost:8080/",
          "height": 69
        }
      },
      "source": [
        "X.loc[10]"
      ],
      "execution_count": 19,
      "outputs": [
        {
          "output_type": "execute_result",
          "data": {
            "application/vnd.google.colaboratory.intrinsic+json": {
              "type": "string"
            },
            "text/plain": [
              "'thái độ nhân viên phục vụ không mê mà trước giờ trừ gv ra thì mình chưa mê được thái độ nhân viên pg ở đâu nhìn khách như kiểu mày muốn gì mày nhanh nhanh nói với khách cũng với kiểu khách là pet còn các bạn ấy là xin lạy của em một lạy không gian học bài ở đây không ồn mỗi tội ít chỗ quá nên lần nào mình đến cũng không tìm được chỗ ngồi đồ uống bình được cái mình thích ăn thạch ở mát'"
            ]
          },
          "metadata": {
            "tags": []
          },
          "execution_count": 19
        }
      ]
    },
    {
      "cell_type": "code",
      "metadata": {
        "id": "1P6gOJ4pzyt-",
        "outputId": "2cccd977-05cc-432c-a5de-38f85afc1d6c",
        "colab": {
          "base_uri": "https://localhost:8080/"
        }
      },
      "source": [
        "ViPosTagger.postagging(ViTokenizer.tokenize(X.loc[10]))"
      ],
      "execution_count": 22,
      "outputs": [
        {
          "output_type": "execute_result",
          "data": {
            "text/plain": [
              "(['thái_độ',\n",
              "  'nhân_viên',\n",
              "  'phục_vụ',\n",
              "  'không',\n",
              "  'mê',\n",
              "  'mà',\n",
              "  'trước',\n",
              "  'giờ',\n",
              "  'trừ',\n",
              "  'gv',\n",
              "  'ra',\n",
              "  'thì',\n",
              "  'mình',\n",
              "  'chưa',\n",
              "  'mê',\n",
              "  'được',\n",
              "  'thái_độ',\n",
              "  'nhân_viên',\n",
              "  'pg',\n",
              "  'ở',\n",
              "  'đâu',\n",
              "  'nhìn',\n",
              "  'khách',\n",
              "  'như',\n",
              "  'kiểu',\n",
              "  'mày',\n",
              "  'muốn',\n",
              "  'gì',\n",
              "  'mày',\n",
              "  'nhanh',\n",
              "  'nhanh',\n",
              "  'nói',\n",
              "  'với',\n",
              "  'khách',\n",
              "  'cũng',\n",
              "  'với',\n",
              "  'kiểu',\n",
              "  'khách',\n",
              "  'là',\n",
              "  'pet',\n",
              "  'còn',\n",
              "  'các',\n",
              "  'bạn',\n",
              "  'ấy',\n",
              "  'là',\n",
              "  'xin',\n",
              "  'lạy',\n",
              "  'của',\n",
              "  'em',\n",
              "  'một',\n",
              "  'lạy',\n",
              "  'không_gian',\n",
              "  'học',\n",
              "  'bài',\n",
              "  'ở',\n",
              "  'đây',\n",
              "  'không',\n",
              "  'ồn',\n",
              "  'mỗi',\n",
              "  'tội',\n",
              "  'ít',\n",
              "  'chỗ',\n",
              "  'quá',\n",
              "  'nên',\n",
              "  'lần',\n",
              "  'nào',\n",
              "  'mình',\n",
              "  'đến',\n",
              "  'cũng',\n",
              "  'không',\n",
              "  'tìm',\n",
              "  'được',\n",
              "  'chỗ',\n",
              "  'ngồi',\n",
              "  'đồ',\n",
              "  'uống',\n",
              "  'bình',\n",
              "  'được',\n",
              "  'cái',\n",
              "  'mình',\n",
              "  'thích',\n",
              "  'ăn',\n",
              "  'thạch',\n",
              "  'ở',\n",
              "  'mát'],\n",
              " ['V',\n",
              "  'N',\n",
              "  'V',\n",
              "  'R',\n",
              "  'V',\n",
              "  'C',\n",
              "  'E',\n",
              "  'N',\n",
              "  'V',\n",
              "  'N',\n",
              "  'V',\n",
              "  'C',\n",
              "  'P',\n",
              "  'R',\n",
              "  'V',\n",
              "  'R',\n",
              "  'V',\n",
              "  'N',\n",
              "  'V',\n",
              "  'E',\n",
              "  'P',\n",
              "  'V',\n",
              "  'N',\n",
              "  'C',\n",
              "  'N',\n",
              "  'P',\n",
              "  'V',\n",
              "  'P',\n",
              "  'P',\n",
              "  'A',\n",
              "  'A',\n",
              "  'V',\n",
              "  'E',\n",
              "  'N',\n",
              "  'R',\n",
              "  'E',\n",
              "  'N',\n",
              "  'N',\n",
              "  'V',\n",
              "  'N',\n",
              "  'C',\n",
              "  'L',\n",
              "  'N',\n",
              "  'P',\n",
              "  'V',\n",
              "  'V',\n",
              "  'V',\n",
              "  'E',\n",
              "  'N',\n",
              "  'M',\n",
              "  'N',\n",
              "  'N',\n",
              "  'V',\n",
              "  'N',\n",
              "  'E',\n",
              "  'P',\n",
              "  'R',\n",
              "  'A',\n",
              "  'M',\n",
              "  'N',\n",
              "  'A',\n",
              "  'N',\n",
              "  'R',\n",
              "  'C',\n",
              "  'N',\n",
              "  'P',\n",
              "  'P',\n",
              "  'V',\n",
              "  'R',\n",
              "  'R',\n",
              "  'V',\n",
              "  'R',\n",
              "  'N',\n",
              "  'V',\n",
              "  'N',\n",
              "  'V',\n",
              "  'N',\n",
              "  'R',\n",
              "  'Nc',\n",
              "  'P',\n",
              "  'V',\n",
              "  'V',\n",
              "  'N',\n",
              "  'E',\n",
              "  'A'])"
            ]
          },
          "metadata": {
            "tags": []
          },
          "execution_count": 22
        }
      ]
    },
    {
      "cell_type": "code",
      "metadata": {
        "id": "xdtawOUi0Iiv"
      },
      "source": [
        "vanva = set()\n",
        "pos_to_consider = ('A','R', 'S','T', 'V')"
      ],
      "execution_count": 58,
      "outputs": []
    },
    {
      "cell_type": "code",
      "metadata": {
        "id": "rhuAPfs_2Upg",
        "outputId": "2f2e4068-cad4-4082-81e9-992ff27de3f1",
        "colab": {
          "base_uri": "https://localhost:8080/"
        }
      },
      "source": [
        "def tokenizer(text):\n",
        "  text = ViTokenizer.tokenize(text)\n",
        "  return text\n",
        "print(tokenizer(\"một bí mật\"))"
      ],
      "execution_count": 37,
      "outputs": [
        {
          "output_type": "stream",
          "text": [
            "một bí_mật\n"
          ],
          "name": "stdout"
        }
      ]
    },
    {
      "cell_type": "code",
      "metadata": {
        "id": "AH2OU0nK4VOv"
      },
      "source": [
        "def getVanva(text):\n",
        "  postag = ViPosTagger.postagging(text)\n",
        "  #print(postag)\n",
        "  for i in range (len(postag[1])):\n",
        "    if postag[1][i] in pos_to_consider:\n",
        "      vanva.add(postag[0][i])\n",
        "  #print(vanva)\n",
        "  return vanva "
      ],
      "execution_count": 55,
      "outputs": []
    },
    {
      "cell_type": "code",
      "metadata": {
        "id": "trW2GvZm7E_2",
        "outputId": "cda82ccb-5591-40d9-fabe-29b8ec0fa16c",
        "colab": {
          "base_uri": "https://localhost:8080/"
        }
      },
      "source": [
        "getVanva(\"một con chó\")"
      ],
      "execution_count": 56,
      "outputs": [
        {
          "output_type": "execute_result",
          "data": {
            "text/plain": [
              "set()"
            ]
          },
          "metadata": {
            "tags": []
          },
          "execution_count": 56
        }
      ]
    },
    {
      "cell_type": "code",
      "metadata": {
        "id": "eX8NJXJA7Lkz",
        "outputId": "1c5ca491-d30e-46bd-b067-95c919c74648",
        "colab": {
          "base_uri": "https://localhost:8080/"
        }
      },
      "source": [
        "getVanva(\"đẹp tuyệt vời\")"
      ],
      "execution_count": 57,
      "outputs": [
        {
          "output_type": "execute_result",
          "data": {
            "text/plain": [
              "{'tuyệt', 'đẹp'}"
            ]
          },
          "metadata": {
            "tags": []
          },
          "execution_count": 57
        }
      ]
    },
    {
      "cell_type": "code",
      "metadata": {
        "id": "VtXyCE1e7X4z"
      },
      "source": [
        "getVanva(\"tuyệt vời quá\")"
      ],
      "execution_count": null,
      "outputs": []
    },
    {
      "cell_type": "code",
      "metadata": {
        "id": "vPuZeroP796H",
        "outputId": "ad793f39-a2b6-4bc8-f90c-21fc5f2f33e1",
        "colab": {
          "base_uri": "https://localhost:8080/"
        }
      },
      "source": [
        "getVanva(\"quá đẹp_trai\")"
      ],
      "execution_count": 42,
      "outputs": [
        {
          "output_type": "stream",
          "text": [
            "(['quá', 'đẹp_trai'], ['R', 'A'])\n",
            "{'đẹp', 'tuyệt', 'quá', 'đẹp_trai'}\n"
          ],
          "name": "stdout"
        },
        {
          "output_type": "execute_result",
          "data": {
            "text/plain": [
              "{'quá', 'tuyệt', 'đẹp', 'đẹp_trai'}"
            ]
          },
          "metadata": {
            "tags": []
          },
          "execution_count": 42
        }
      ]
    },
    {
      "cell_type": "code",
      "metadata": {
        "id": "_vK6gY338Hq7",
        "outputId": "7c2a3d5d-a31f-4325-95bf-a6d3c9c267be",
        "colab": {
          "base_uri": "https://localhost:8080/"
        }
      },
      "source": [
        "for i in range (X.shape[0]):\n",
        "  vanva = getVanva(tokenizer(preprocessor(X.loc[i])))\n",
        "print(vanva)\n"
      ],
      "execution_count": 59,
      "outputs": [
        {
          "output_type": "stream",
          "text": [
            "{'bụp', 'nghi_ngút', 'khinh_miệt', 'hãy', 'trôi', 'phụ_thuộc', 'fealing', 'mushrom', 'thông_cảm', 'lẽ_ra', 'mắm_nêm', 'sĩ', 'nhát', 'bận_tâm', 'hàu', 'churo', 'từ_chối', 'bán_nước', 'vừa_ý', 'bánh_trái', 'túm_tụm', 'rần_rần', 'ạ', 'vụng', 'gà_tây_viên', 'hô_hào', 'mine', 'sành', 'cty', 'bắn_mỡ', 'bó', 'sốt_me', 'mng', 'nhju', 'olive', 'chuyên_hóa', 'căng', 'impatiently', 'mùi_vị_thế', 'cao_cấp', 'tìn', 'abc', 'ê', 'ngừng_nghỉ', 'thạnh', 'mâm_xôi', 'canot', 'nhần', 'nói_chung', 'cắn_răng', 'lót_dạ', 'ngọt_cốc', 'nạc', 'húng', 'chịu_khó', 'xfim', 'phiên_âm', 'chìm_ngập', 'nhạy', 'liên_lạc', 'lọc_cọc', 'any', 'trôg', 'bắn', 'nhỏgiot', 'gạt_tàn', 'tn', 'gui', 'có_học', 'cho_cùng', 'gia_giảm', 'khay', 'velved', 'cắt', 'vui_tươi', 'không_khéo', 'lợi_dụng', 'ngoại_giao_tiếp', 'vị_giác', 'thật_thà', 'phấp', 'chen_chúc', 'miệng_ăn', 'chewy', 'vẻn_vẹn', 'out', 'hợp_lí', 'hủ', 'mag', 'desnd', 'xem_xét', 'đả_động', 'ngấy', 'choai_choai', 'season', 'chắc_ăn_đứt', 'trình', 'cua_bể', 'thuwong', 'chào_đón', 'dặn', 'tối_thiểu', 'xuyên', 'hết_nước', 'y', 'dải_thịt', 'chuoi', 'tinh_hoa', 'nói_tục_tĩu', 'dẻo_dai', 'khô', 'xảy', 'vo_ve', 'sưu_tập', 'thưa_gửi', 'ngỡ', 'ăn_mặc', 'tắt', 'du', 'nức_tiếng', 'tưng', 'giải_cứu', 'rút', 'băc', 'giả_tạo', 'tình_cảm_đọc', 'xa_vời', 'hệ_thống', 'ỳ', 'chật_viên', 'nôn', 'tập', 'cãi_cọ', 'alo', 'ước_tính', 'ỗn', 'hơi_hướng', 'xuống_đường', 'hải_sản_xuất_sắc', 'thiếu_gì', 'ngoài_mặt', 'bánh_tắt', 'bgom', 'bun', 'khônh', 'quản_lý', 'hợp_lý_viên', 'chọn', 'velvet', 'lâng_lâng', 'phi_xài', 'núm', 'fermented', 'bitey', 'lâu_lâu', 'crm', 'kiểm_chứng', 'bất_hợp', 'tác_phong', 'tay_đôi', 'khởi_nghiệp', 'chừ', 'họi', 'méo_xệch', 'hại', 'gọi_là', 'để_phần', 'phun', 'ngách', 'dodong', 'mô_phỏng', 'lạ', 'đánh_bóng', 'đằng_đẵng', 'chắt', 'rảnh', 'ngen', 'ăn_đồ', 'cao_giá', 'chán_nản', 'tuôc', 'lắt_léo', 'cũg', 'extremly', 'trang_phục_vụ', 'thực_sự', 'nhuộm', 'hướng', 'sanh_sánh', 'hợ', 'toàn_thể_loại', 'nhất_thiết', 'quá_ư', 'thich', 'tốt_bụng', 'khó_tính', 'ct', 'dở_ăn', 'trầm_lặng', 'cứng', 'riết', 'fe', 'một_mạch', 'doraemon', 'ngỏ', 'hủy_đơn', 'đens', 'tẩm_bổ', 'chứa', 'đựng', 'cảm_xúc', 'phá', 'gái_gọi', 'hekca', 'rữa', 'đại_nghĩa', 'lan', 'này', 'make', 'lẳng', 'cứu_thế', 'toàn_phần', 'ăn_mặc_dù', 'chăm_chăm', 'dở_hơi', 'như_vệ', 'kid', 'valentine', 'thiêng_liêng', 'lễ_độ', 'trổ', 'cạn_lời', 'tạm', 'chào_hỏi', 'dân_dã', 'vét', 'hát', 'khăng_khăng', 'đương_nhiên', 'salad', 'mhđ', 'xúc', 'cái', 'thun_thút', 'tài', 'nhâm', 'chét', 'súc', 'tập_trung', 'mới_lạ', 'váy', 'cora', 'mành', 'mở_cửa', 'mania', 'kimbap', 'cạo', 'kíp', 'tấp', 'thế_ra', 'lầ', 'quy_định', 'bnhieu', 'minhd', 'tàn', 'chung_quy', 'ba_chỉ', '_mình', 'nhanh_nhạy', 'quyện', 'nhếc', 'chu', 'promotion', 'xối', 'lừa_dối', 'cả_cục', 'an_toàn', 'ấn_tượng', 'liệu', 'vơ', 'chả', 'biêth', 'yên_vị', 'blach', 'nội_thất', 'nóg', 'piza', 'bep', 'nên_thơ', 'cút', 'có_lý_do', 'câc', 'chúng_mìh', 'đam_mê', 'đan', 'quán_tính', 'trầm_tư', 'cắm', 'nghiện', 'diner_and_melodious_violon_music', 'siro', 'khéo_léo', 'mắng_mỏ', 'm', 'quẹt', 'khoẻ_mạnh', 'vững', 'lak', 'bq', 'õng', 'chạy_bàn', 'cực', 'non_nớt', 'ngại', 'mất_công', 'law', 'sát_sạt', 'biêta', 'giác', 'thốt_nốt', 'cf', 'ví_dụ', 'nóng_vội', 'restaurant', 'diễn_tả', 'hưng', 'hằng', 'hot_trend', 'forever', 'adres', 'xì_xào', 'sớm', 'chiêu_đãi', 'họp_mặt', 'big', 'nv', 'dốc', 'cá_chiên', 'shocked', 'bất_chợt', 'tất', 'đả', 'giành', 'tùng_phèo', 'bã', 'hixhix', 'yên_đồ', 'thủ_công', 'xueshan', 'thuần', 'trộn', 'mắ', 'hòm', 'nguy', 'thí', 'ỉu', 'nhấp_nhổm', 'washabi', 'khát', 'blackbal', 'đời_nào', 'tanh', 'olong', 'cả', 'dụ', 'xấu', 'ord', 'nightmare', 'hủ_tiếu', 'tái', 'gục', 'mịt_mù', 'alacarte', 'mềm', 'làm_tròn', 'chẩy', 'kinh_ngạc', 'giáng', 'setup', 'được_việc', 'mint', 'nông', 'lìn', 'tương_tác', 'totaly', 'vệ_sinh', 'hất', 'căng_thẳng', 'dã', 'nộm', 'lềnh_bềnh', 'chuyện_trò', 'number', 'invoice', 'lự', 'cố_gắng', 'salmon', 'phân_vân', 'dzách', 'bị', 'buồn_ngủ', 'lưng_chừng', 'tóp_mỡ', 'nhẽo', 'đúc', 'vùng_vằng', 'miêu_tả', 'cú_mèo', 'quí', 'ập', 'thử_thách', 'lasi', 'hs', 'đốt', 'dại', 'gãy', 'cá_cảnh', 'low', 'mìn', 'kiểm_soát', 'rau_câu', 'đón_tiếp', 'nhìu', 'khâu', 'kem_que', 'đẫy', 'mắc_kẹt', 'gặp_gỡ', 'ở', 'úc', 'tràntrề', 'sinh_nhật_giảm', 'bis', 'chua_ngọt', 'người_làm', 'gợi_ý_đồ', 'xuexan', 'dasani', 'hằn', 'ăn_nằm', 'tầm_mắt', 'kể_cả', 'chương', 'đồ_sộ', 'ghi_nhận', 'hò', 'hó_hé', 'ace', 'tiniest', 'đặc', 'cà_tím', 'khac', 'hổ_lốn', 'tried', 'dọa', 'ủy', 'tin_hin', 'dòm_ngó', 'bé_con_con', 'thỳ', 'cs', 'cúe', 'quỳnh', 'us', 'xe_nôi', 'độc_hại', 'ủ', 'nguyen', 'coco', 'nước_tiểu', 'deserved', 'rộng_rãi', 'da_diết', 'hài_lòng', 'li', 'bread', 'mừng', 'đĩa', 'gre', 'vĩnh', 'hòa_mát', 'chie', 'y_nguyên', 'thái', 'thiu_thiu', 'lớn_lao', 'bừa_bộn', 'xuất_hiện', 'chiếm_dụng', 'tasteles', 'linh', 'samudri', 'thah', 'boba', 'làm_thịt', 'cày', 'sò_huyết', 'đầu', 'nâng', 'di_this', 'chúng_tuyệt', 'pourquoi', 'nhỉ', 'lãi', 'vĩnh_biệt', 'sình', 'trở_bánh', 'cực_lực', 'vaiz', 'hối', 'im', 'bài_trí', 'tuỳ', 'khó_chịu', 'cắp', 'đôi_khi', 'sauce', 'hoàn_thiện', 'cá_ngừ', 'bèn', 'aroi', 'tầm_thường', 'chocolat', 'khoanh_tay', 'ngửi', 'đồ', 'hihohiho', 'phơi', 'bàn', 'nhớ_đời', 'đắc', 'bỏ_túi', 'fairly', 'kiêu_căng', 'hùa', 'oặt', 'lạ_thường', 'lưu_manh', 'nhé_thí', 'nhăn', 'kha_khá', 'sắp_đặt', 'check', 'vác', 'there', 'dodói', 'cùng', 'mascapone', 'injeomi', 'huyền_bí', 'ngưỡng_mộ', 'tạm_biệt', 'ỷ_lại', 'đẹp_mắt', 'quy_đổi', 'net', 'loang_lổ', 'ngọt_xớt', 'mê_ly', 'riêu', 'nói_điêu', 'lo', 'biêt', 'không_thể_nào', 'vô_đạo_đức', 'đồng_hồ_đồ', 'bứt_rứt', 'đông_nghẹt_thở', 'tkành', 'thèm_muốn', 'sống_nhăn', 'tinh_nghịch', 'bĩu', 'lemon', 'tăng', 'n', 'chán_chường', 'hiện_tượng', 'đoàn_kết', 'dặn_dò', 'thường_trực', 'toand', 'oc', 'suzy', 'clear', 'càng', 'nước_ngọt', 'ức_chế', 'đặc_sản', 'earl', 'chiêu', 'dt', 'tráng_miệng', 'tậm_tịt', 'đĩa_lạc', 'sugar', 'cáo_lỗi', 'hiếm_hoi', 'bánh', 'giá_trị', 'mỉnh', 'fruit', 'gọi', 'ê_chề', 'oi_bức', 'mõi', 'kichi', 'tép', 'biếyd', 'dãi', 'vô_danh', 'cso', 'vạn', 'thố', 'nhóm', 'bỏ_mình', 'nhẵn_mặt', 'kimsa', 'trát', 'thô_lỗ', 'lòi_dom', 'lần_mò', 'trân', 'ăn_xin', 'cũ_kỹ', 'đỉnh', 'of', 'ràng', 'chứ', 'tưng_tửng', 'may', 'pax', 'sumo', 'phè_phỡn', 'a', 'tháo', 'lỡ_vậy', 'việc', 'khuya', 'hợp_tác', 'reveiw', 'loạn', 'hỗ_trợ', 'ỏder', 'dầy', 'ngon_ngọt', 'ngồi_không', 'nợ', 'giam', 'chi_nhánh', 'kịp', 'đón_nhận', 'chính_thức', 'xô_bồ', 'sài_gòn', 'cứng_cáp', 'đor', 'hana', 'mk', 'nhiệt_tình', 'lủi_thủi', 'láo', 'điên_cuồng', 'sơ_sài', 'cười_trừ', 'ngon_ăn', 'ra_lò', 'ủng', 'hổ', 'ăn_ở', 'táp', 'quẩy', 'ròn', 'trịu', 'xéo', 'lặp_lặp', 'give', 'lấm_lét', 'fine', 'hiuhiu', 'khoai_lang', 'sắp_xếp', 'les', 'representative', 'nuoecd', 'se_se', 'dong', 'góp', 'bàn_cãi', 'ntnao', 'ngừi', 'nhề', 'ồn', 'bội', 'rón', 'kiểm_tra', 'bừng', 'tempura', 'khoái_chí', 'rung_động', 'xương_xẩu', 'that', 'duy', 'mình', 'toan', 'xơi', 'xịt', 'nghe', 'cobf', 'đối_xử', 'bery', 'cân', 'xúc_xích', 'cắn', 'khao_khát', 'vất', 'jacks', 'dọn_vệ', 'nhữg', 'tham_số', 'ban_đầu_vào', 'nhãn_mác', 'phản_ánh', 'xl', 'tịch_thu', 'địa', 'ụu', 'cải_tiến', 'write', 'đượm', 'xen_lẫn', 'cọng', 'xíu_mại', 'rắc', 'đội_giá', 'sà', 'mín', 'xuyến', 'du_học', 'lật', 'suy_nghĩ_lại', 'trước_nửa', 'thoáng', 'phân_cách', 'tủ_đá', 'theo_đuôi', 'matcha', 'câng', 'là_lạ', 'dining', 'khẩu', 'ceasar', 'trở_hệ', 'tùy_dimsum', 'điều_hoà', 'tắm', 'ấm_áp', 'gộp', 'mã', 'toài', 'ngâm', 'mouse', 'hẹn_hò', 'vàng', 'nhẹ', 'đét', 'lưa', 'one', 'liểng_xiểng', 'pesi', 'jenga', 'klq', 'đối_đồ', 'sản_phẩm_chất_lượng', 'mon_men', 'dính', 'dở_mếu', 'len_lỏi', 'tẹt', 'lôi', 'khao', 'xjnh', 'hiu_hiu', 'thông_thạo', 'quesadilas', 'dù', 'bún_bò', 'váng', 'xồ', 'thèm_thuồng', 'ngại_ngùng', 'plastic', 'bái', 'có_điều', 'nằm', 'ọe', 'hờ_hững', 'trội', 'bẵng', 'chắc_ăn_không', 'phủ_phê', 'chien', 'nhai_lại', 'di_động', 'chể', 'nhầm_lẫn', 'mều', 'sặc', 'thỏa_mãn', 'vát', 'huỷ_hoại', 'phớt_lờ', 'bgio', 'stret', 'thám', 'nhừ', 'pepsi', 'cao_thế', 'ô_mai', 'gấu', 'finger', 'thua_kém', 'roled', 'dòi', 'xì', 'ngoại_giao', 'dội', 'hơi', 'ấp_úng', 'nhanh_nhẩu', 'xoá', 'thưởng', 'oải', 'chuyên_trị', 'quảng_trường', 'đồ_hàng', 'phong_cảnh', 'chăm', 'mật', 'sự_đời', 'chẻ', 'lân_cận', 'ăn_người_ngợm', 'ruột', 'part', 'nhắm', 'xách_đồ', 'không_trách', 'yuletide', 'tocotoco', 'coi_thường', 'ding', 'double', 'học_tập', 'âm', 'cố_định', 'coctail', 'mufin', 'số_lượng', 'buter', 'gọn_gàng', 'son_sắt', 'ti_tỉ', 'nguyễn', 'hào_hứng', 'cjo', 'bơ_vơ', 'tiramisu', 'ngta', 'ngob', 'khó_ở', 'gia', 'ngày_nay', 'lợm', 'lòg', 'insipid', 'gia_truyền_hóa', 'già', 'trah', 'hoá_giải', 'cầu', 'đăc', 'chẳng_thể', 'bơi', 'đãi', 'nao', 'bản_vị', 'bỡ_ngỡ', 'lếch_thếch', 'xa', 'nhào', 'troai', 'cồn', 'chín_tới', 'nghiêp', 'giỡn', 'cố_ý', 'thoánh', 'found', 'om', 'nhạy_cảm', 'yên_thế', 'nhạc_sống', 'đứt', 'đầu_tư_trang_trí', 'loãng_toẹt', 'queue', 'vời', 'nói', 'provide', 'kong', 'sơn', 'toi', 'charge', 'complaint', 'chanvkắm', 'tỏi', 'sượng', 'face', 'bat', 'tsua', 'chiếu', 'đúng_mực', 'mãi', 'cẩn_thận', 'hồng_tâm', 'lèo_nhèo', 'đầu_tư_trang', 'wifi', 'quảng_menu', 'notice', 'buồn_cười', 'repeat', 'vuốt', 'dừa', 'here', 'ngoại_trừ', 'chéo', 'kéo_dài', 'truyền_thống', 'lỏng_lẻo', 'phó_mặc', 'chui', 'nvề', 'mò_mẫm', 'la_ó', 'phònh', 'làu_bàu', 'quảng', 'bluan', 'giật_mình', 'hội_tụ', 'thỏ_thẻ', 'câu_kéo', 'nh', 'cúi', 'tiger', 'lôm', 'hiện_hữu', 'êm', 'nhiêu', 'mĩ_quan', 'voucher', 'hoảng', 'color', 'lác', 'ngon', 'sôi_nổi', 'siêu_nhân', 'time', 'bike', 'hotel', 'nan', 'tuy', 'nhởn', 'bl', 'để_bụng', 'uông', 'bùnh', 'dột', 'garlic', 'lad', 'mhanh', 'ăn_nói_chung', 'tương_xứng', 'thien', 'điều', 'vu_vơ', 'hạn_chế', 'hài_hòa', 'makes', 'đẹp', 'ngộ', 'nổ', 'tức', 'guys', 'chuỗi', 'ẻm', 'trương', 'dập', 'khui', 'tốt_nghiệp', 'dựng', 'especialy', 'jour', 'quang', 'tái_nhợt', 'quan_hệ', 'phớ', 'tác', 'gãi', 'chúc_mừng', 'level', 'dish', 'ru_rú', 'quán_xá', 'chà', 'đợi_chờ', 'kén', 'cỏn', 'dai', 'đậu_cốc', 'triple', 'ngũ_vị', 'gập', 'quốc_tế', 'nhẫy', 'vòng_quanh', 'tomyum', 'kinh_thiên_động', 'trãi', 'lân', 'nhấp_nháy', 'tdh', 'hắc', 'phản', 'even', 'khản', 'thù', 'tiện_lợi', 'nhiêt', 'tom', 'gợn', 'đùn', 'e', 'cứ', 'hịihih', 'sợi', 'straw', 'cungz', 'việt_nam', 'hờn', 'êm_dịu', 'same', 'tung_tăng', 'cơ_vẻ', 'kéo', 'sặc_sụa', 'cac', 'nghiệm', 'chát', 'bản_thân', 'hụt_hẫng', 'duy_nhất', 'lãng_mạn', 'trình_diễn', 'chia_tay', 'rì', 'ngót_nghét', 'dẫn', 'canh', 'ck', 'sài', 'khăn_ăn', 'va_quệt', 'ừ', 'thừ', 'giang', 'ram', 'cải_tạo', 'kp', 'phải_lòng', 'lên_cơn', 'delivery', 'thúc', 'âu', 'o', 'cary', 'đính', 'kì_công_phu', 'qên', 'nươngs', 'in_hóa_đơn', 'qlai', 'đấm', 'để_ý', 'cộc_lốc', 'crep', 'hotline', 'năn_nỉ', 'ngào_ngạt', 'xui', 'kia', 'dưng', 'lạnh_lùng', 'liên_hoan', 'dâm', 'trông_chờ', 'hé', 'mn', 'gthích', 'reo', 'chật_hẹp', 'xúc_động', 'nạt', 'còng', 'cóm', 'mới', 'quát_tháo', 'ok', 'wine', 'trag', 'đj', 'cô_đọng', 'bừa', 'công_phu', 'trét', 'jh', 'khôg', 'tra', 'vút', 'find', 'kỉ', 'swing', 'locations', 'ăn_cắp', 'thết', 'company', 'xơi_xơi', 'pho', 'sẵn', 'lớ', 'chăngr', 'pahir', 'viê', 'vô_cảm_giác', 'hình_ảnh', 'lúc_lắc', 'thức_ăn_hỏi', 'about', 'kmai', 'tổ_sư', 'ối', 'kéo_theo', 'loanh', 'sủa', 'độp', 'chảy', 'hương_vị', 'san_sát', 'ngơ', 'ngắm', 'thường_xuyên', 'căn_hộ', 'lui_tới', 'bào_ngư', 'naog', 'ohair', 'thúc_giục', 'trả_lời', 'thuế_thực', 'đong', 'rep', 'trở_mình', 'thơm_lừng', 'cold', 'túa', 'chỏng_chơ', 'tràn', 'nghế', 'cách', 'ôn', 'countdown', 'my', 'đag', 'điểm', 'brithday', 'dòm', 'gượng_gạo', 'nhan', 'rau_dưa', 'cợt', 'giấy_ăn_ở', 'vỡ_lẽ_ra', 'chỉ', 'rôm_rả', 'kì_vọng', 'phần_nhiều', 'đề_cao', 'đềf', 'tâm_lí', 'mủn', 'mốc_meo', 'chung_chung', 'disapointed', 'thăng', 'nà', 'belgium', 'thỏang', 'lờ_đờ', 'cups', 'chờ', 'đy', 'cudng', 'donuts', 'tong_tỏng', 'khíp', 'mãn_nguyện', 'tiếp', 'có_vẻ', 'nên_người', 'lò_đúc', 'bất_bình', 'the', 'tụm', 'ưng_an', 'niềm_nở', 'lễ_hội', 'vớt', 'sang_trọng', 'cùi', 'khít', 'tổng_hoá_đơn', 'túc_trực', 'khảo_sát', 'opening', 'thx', 'yên_thân', 'chạy_tầng', 'ticket', 'befy', 'sưu_tầm', 'acountant', 'sáng', 'phụ_thu', 'ahuhu', 'mở_rộng', 'ăn_chay', 'đơiụ', 'ngọt_bùi', 'choco', 'tân_đồ', 'sồng', 'út', 'rai', 'online', 'lạ_mắt', 'pow', 'muộn', 'êm_ấm', 'vắng', 'hawaian', 'bá', 'cánh_cụt', 'nghĩa_là', 'cupcake', 'nhỏ_xíu', 'trong_trẻo', 'tuy_vậy_mà', 'help', 'ó', 'nhàn_hạ', 'lẻ_tẻ', 'watching', 'hồng', 'choẹ', 'hổ_danh', 'xế', 'cực_độ', 'mượn', 'bự', 'lang_thang', 'lau_chùi', 'an_di', 'lăng_xê', 'vietsub', 'cola', 'rảnh_rang', 'su', 'chóe', 'đáng_lẽ', 'vuông', 'lai_rai', 'thanh_minh', 'cfe', 'lọt', 'càg', 'lòm', 'nữa', 'max', 'mạnh', 'hoá_ra', 'nóng_hổi', 'dang', 'phần_phật', 'oto', 'blizard', 'té_ra', 'hê', 'vuông_vức', 'đinh', 'rửa', 'ném_đĩa', 'hải', 'ồn_ào', 'considering', 'khổ', 'hải_sản', 'xẽ', 'bún_chả', 'tụ_tập', 'đại_cồ', 'tròn', 'kĩ', 'ghi_chú', 'nui', 'đặc_viên', 'lăn_quay', 'freze', 'đen_ngòm', 'sơ_sơ', 'đồng_bộ', 'hàn', 'lọ', 'tê_tái', 'mât', 'mê_mẩn', 'ròng_ròng', 'sốt_chất', 'ớt', 'ná', 'sạch', 'ki_bo', 'cứng_nhắc', 'oánh', 'tung', 'bõ', 'bụng_dạ', 'ngúng', 'mới_mẻ', 'ướp_lạnh', 'trinh', 'lìa', 'spageti', 'có_ăn_đủ', 'khiếu_nại', 'chênh_lệch', 'xó', 'hơn_vui', 'converse', 'tức_là', 'may_ra', 'khiếp', 'nhận_thức', 'nguội_ngắt', 'dưa', 'cho', 'nhọ', 'mật_ong', 'celebrate', 'mại', 'recoment', 'khai', 'truong', 'sứ', 'tróc', 'mọc', 'xấc', 'mog', 'đành', 'top', 'niêu', 'hâm', 'mong', 'đáng_giá', 'mắng_chửi', 'ước_mong', 'xệ', 'quét', 'choice', 'dậy_mùi', 'lộ_liễu', 'lần_lượt', 'sáng_suốt', 'smart', 'chưa', 'london', 'tlj', 'đông_đúc', 'ôi_thôi', 'vô_thức', 'sieu', 'chạm_mặt', 'mộc_mạc', 'nộp', 'chon', 'nước_chấm', 'lên', 'vô_cùng', 'quite', 'bề', 'tầm_tầm', 'mia', 'oi', 'mile', 'dở', 'mềm_dẻo', 'thriving', 'trốn', 'mời', 'xog', 'bong', 'tu', 'vệ', 'vô_vị', 'lác_đác', 'thịt_xá', 'vênh_váo', 'from', 'phảng_phất', 'lấn_át', 'lộng', 'thị', 'thét', 'lạ_lẫm', 'bắt_đầu', 'câu_khách_hàng', 'tokbuki', 'xỉn', 'containing', 'khả', 'chua_loét', 'kê', 'thạo', 'chói', 'ngư_vọng', 'buồn_tình', 'su_hào', 'thiện_cảm', 'tàu_hũ', 'sam', 'suites', 'lưng', 'đồn', 'croisant', 'gọt_đẽo', 'ae', 'such', 'ngầy_ngậy', 'peperonis', 'thiể', 'bảng', 'bất_ngờ', 'hấp_dẫn', 'tá_hoả', 'huân', 'come', 'literaly', 'huỳnh', 'lặp', 'hịn', 'say_đắm', 'mạc', 'dịu_dàng', 'âm_thầm', 'australia', 'test', 'hahaha', 'tiình', 'chực', 'nguoi', 'thực', 'hiểm_trở', 'nhất_quán', 'quan_trọng_hoá', 'salat', 'hongkong', 'đóng_đô', 'ra_điều', 'trộm', 'kín', 'man_mát', 'bần_cùng', 'riêg', 'rât', 'đăng_ký', 'tức_giận', 'quậy', 'công_chúa', 'tềnh', 'đổi_mới', 'sì', 'hướg', 'nhung_nhúc', 'selection', 'ming', 'giả', 'joma', 'ngoảnh', 'hiếm', 'ốp_lết', 'vệt', 'tâng_bốc', 'sầm_uất', 'thơm', 'giục', 'trở_bảng', 'thừa_nhận', 'kịp_thời', 'nhg', 'xọi', 'ít_đồ', 'đôi_co', 'áo_dụng', 'nhặt', 'ừa', 'phi_tít', 'ghim', 'sụp_đổ', 'milo', 'thoi', 'karhai', 'meanwhile', 'mất_dạy', 'ơ', 'cos', 'trịch', 'không_lẽ', 'chama', 'loè', 'diện', 'tìm', 'ăn_thua', 'giữu', 'bét_nhè', 'thô_sơ', 'hoang_mang', 'đều_đặn', 'binsu', 'nest', 'lí_tưởng', 'xuống_cấp', 'cheater', 'phếch', 'nguyên_liệu', 'đề_xuất', 'ngày_càng', 'coconut', 'nhếch_nhác', 'đẩy_mạnh', 'lờ_tịt', 'cancel', 'thanh_thanh', 'giơ', 'rưỡi', 'mùi_vị', 'đề', 'bình_giá', 'bđầu', 'gián', 'vườn_trường', 'chachago', 'không_thể', 'dầm', 'thổ', 'ngờ_ngợ', 'gấp', 'baoh', 'quá_thể', 'cang', 'dốt', 'scalops', 'ofice', 'trầm_lắng', 'lách_cách', 'patê', 'to_tướng', 'yên_đơn', 'ròy', 'mãng_cầu', 'nestea', 'gyoza', 'thoả_đáng', 'sẵng', 'bảo_vệ', 'mạn_phép', 'ăn_chơi', 'đầm', 'giá_thành', 'vụn', 'thư_thả', 'im_lặng', 'amounts', 'thảo', 'trú_ẩn', 'mịa', 'on', 'danisa', 'quốc_sư', 'ny', 'nói_riêng', 'bulgogi', 'lạ_đời', 'cửa_hàng', 'fajitas', 'ở_trần', 'cạy', 'yên_tầng', 'ra_tay', 'flavorful', 'cám_ơn', 'rầm', 'trâu', 'lớ_ngớ', 'sao', 'nươngz', 'lăn', 'góp_phần', 'da_nhung', 'thú_vị', 'đậu_nành', 'đang', 'dưa_góp', 'lừng', 'chạm', 'die', 'thòm_thèm', 'luônu', 'twiter', 'tún', 'đành_hủy', 'khắm_lặm', 'bánh_tôm', 'confirm', 'breast', 'lày', 'vò', 'lết', 'cực_kì', 'nguyên_thuỷ', 'giống', 'trịnh', 'lố', 'huỷ', 'tươi_cười', 'đậm_đà', 'beter', 'gói', 'now', 'khôgn', 'sochu', 'wals', 'xứng_đáng', 'kiếm', 'trìu_mến', 'nghĩ_ngợi', 'đa_phần', 'đíp', 'persons', 'tận_hưởng', 'sộc', 'lăn_lộn', 'kiêu', 'sất', 'quản', 'sn', 'ào', 'bán_rong', 'lớn', 'chanh', 'alfrseco', 'nem_lụi', 'cholimex', 'f', 'thu_ngân', 'italian', 'yên_ấm_cúng', 'bản_sắc', 'tối_mù', 'indor', 'du_nhập', 'ngắn_gọn', 'có_thể', 'dối', 'tiu_nghỉu', 'liên_tưởng', 'dồi', 'ổn_định', 'thư_giãn', 'không_tưởng', 'chào_thua', 'mê_li', 'khép', 'chi_chít', 'xem', 'smel', 'nồng_nàn', 'chóng_mặt', 'frapu', 'chần_chừ', 'tổn_thương', 'các_tông', 'sống_động', 'chĩa', 'điểm_cao', 'nhợt', 'eating', 'thi', 'cai', 'thăc', 'cg', 'bài_trung_tâm', 'sáimi', 'first', 'teo_tóp', 'thở', 'chà_mỡ', 'rata', 'hay', 'rv', 'chân_giò', 'thưởng_thức', 'nhấy', 'nỡ', 'bất_chấp', 'dưa_chuột', 'như_vậy', 'something', 'trg', 'hiền_hoà', 'mua_lẻ', 'đổi_thay', 'bap', 'tẩy_chay', 'iu', 'ít_nhiều', 'kèm', 'thấm_đẫm', 'trên_dưới', 'trông_đợi', 'làm_phiền', 'setmenu_', 'ta', 'đau_đầu', 'lăng_thế', 'bác', 'nghe_ra', 'khs', 'nước_lọc', 'tổ_béo', 'nhẹp', 'hướng_dẫn', 'loking', 'bất_ổn', 'thôg', 'đièu', 'phí_hoài', 'à', 'vao', 'bút', 'đóng', 'tea', 'mắt_ếch', 'công_bằng', 'nước_hoa_quả', 'mất_hút', 'cốc', 'khua', 'phắn', 'đúng', 'khó_khăn', 'phiếu', 'vênh', 'nhích', 'ngẻ', 'bận_rộn', 'meting', 'hầm', 'đâm', 'nhỏ_tuổi', 'bánh_phồng_tôm', 'di_nên', 'tính_toán', 'thiết_yếu', 'đắt', 'phi_thơm', 'nghỉ_ngơi', 'vois', 'xâm', 'course', 'đếm_xỉa', 'lầm_lầm', 'topings', 'bánh_tráng', 'đảm_bảo_vệ', 'cạn', 'điển_hình', 'đầy_đủ', 'folow', 'hô', 'family', 'nhậu', 'quý', 'sáo', 'tiểu', 'quần_áo', 'cô_đơn', 'thực_lòng', 'oval', 'nhanh_cốc', 'ngập_ngụa', 'tokyo', 'vạch', 'gateux', 'frh', 'đơpcj', 'thijt', 'rộng', 'câu_đầu', 'phỉ_nhổ', 'lai', 'thoải_mái', 'stil', 'kiêu_kì', 'salt', 'cực_kỳ_thú', 'cất_tiếng', 'tầm_vĩnh', 'nhấm', 'xe', 'bét', 'puding', 'đóng_góp', 'đônh', 'trà_quế', 'lesen', 'bù_đắp', 'instead', 'nấu', 'sốt_cay', 'ngát', 'nhòe', 'xây', 'bắt_mắt', 'nhà_hàng_phục_vụ', 'động_viên', 'mòi', 'loanb', 'cay', 'tét', 'tùy_trà', 'oan_nghiệt', 'chai', 'bao_cấp', 'kích_thích', 'gỡ', 'remember', 'hoài', 'đn', 'mặt_mày', 'zui', 'tuna', 'khát_khao', 'injeolmi', 'giây', 'hạ_gục', 'nhưg', 'xuýt', 'cảm_a', 'alike', 'nước_lèo', 'lui', 'hay_ho', 'yết', 'back', 'nt', 'gắng', 'tiramíu', 'nham_nhở', 'như_nửa', 'tiramitsu', 'tái_chanh', 'xác_nhận', 'quá_tải', 'xuất_sắc', 'kìm', 'ngẩn', 'tỉ_mỉ', 'feast', 'fa', 'playlist', 'enjoying', 'khuê', 'khách_hàng', 'bứ', 'lườm', 'cứng_ngắc', 'paris', 'luac', 'tayoyaki', 'mochi', 'ăn_kiêng', 'niềm', 'từng_trải', 'há', 'ăn_người', 'rập', 'tương_ớt', 'mah', 'thập_cẩm', 'tặc_lưỡi', 'ngẫu_nhiên', 'security', 'tq', 'lườn', 'bình_dị', 'dear', 'phồng_tôm', 'phấn', 'red', 'vẽ', 'hơ', 'vấn', 'rạc', 'ăn_cướp', 'nhướn', 'sáng_tạo', 'nôit', 'tưbgf', 'dằng_dặc', 'sơ', 'place', 'gadern', 'thân_thuộc', 'cảm_quan', 'rủng_rỉnh', 'gấp_bội', 'tốt', 'trở_trình', 'rộng_lớn', 'blubery', 'đần', 'server', 'hùng', 'minh', 'kfc', 'chatime', 'sụt_sùi', 'urban', 'ngủ', 'hut', 'some', 'nhank', 'bok', 'nghẹn', 'suy', 'tặng', 'thấy_kinh', 'thờ', 'nha_hehehe', 'ngái', 'kẹo_bông', 'vèo', 'monday', 'sốt_viên', 'dẹt', 'ổn', 'bộ_đàm', 'thế_mà', 'thoái', 'chịn', 'gù', 'under', 'macarons', 'mắc', 'bước_đi', 'gạ', 'thách_thức', 'cảnh_báo', 'trước_sau', 'ahihi', 'chia', 'đắp', 'khoi', 'hãm', 'lách', 'xếp_hàng', 'đại_diện', 'xập', 'suyt', 'ngôi', 'văn', 'nhóm_họp', 'cổ_kính', 'bruta', 'xuất', 'đùng', 'phomat', 'gào', 'fredom', 'mê_hoặc', 'làm_việc', 'đối_diện', 'chak', 'gợi_ý', 'boutique', 'nếm', 'tart', 'quyết_thắng', 'ực', 'thân_thiện_ý', 'ăn_mừng', 'tạnh', 'xẩu', 'hoàn_hảo', 'bento', 'hoà', 'trời_ơi', 'tarort', 'lchắc', 'watch', 'vat', 'chết', 'lơif', 'la_liệt', 'bóp', 'tiếp_xúc', 'espreso', 'hứng_khởi', 'nôn_trôn', 'tonight', 'rơi_vãi', 'tôn_vinh_vẻ', 'gưir', 'tham_quan', 'gong', 'phân_biệt', 'thoải_em', 'lạnh', 'sago', 'dải_sườn', 'cảm_thấy', 'nhiệt_độ', 'lưu_í', 'nhin', 'chi_là', 'mipec', 'anh_chị', 'vô_lí', 'quả_quyết', 'included', 'nhận_biết', 'new', 'cao_điểm', 'gáo', 'kinda', 'ăn_sương', 'bẩn_thỉu', 'bạch_tuộc', 'nản', 'nươc', 'bối', 'vàng_mát', 'kiệt', 'hy_vọng', 'warm', 'chứng_nhận', 'loăng_quăng', 'thay_mặt', 'ẹ', 'tạp_phẩm', 'chứng_kiến', 'sợ', 'đợi', 'vân', 'cò_quay', 'khiêu', 'quen', 'bơ', 'rõ', 'mệnh', 'pizas', 'mặc', 'tako', 'qá', 'thân', 'hcm', 'but', 'trêu_chọc', 'tốn', 'đặc_biệt', 'chần_chờ', 'làm_ăn_tệ', 'indian', 'phù', 'xanh_tươi', 'nem_chua', 'tái_nạm', 'wana', 'vi', 'metropole', 'hà', 'đt', 'ảnh_hưởng', 'jouri', 'nguội', 'chiên', 'crowded', 'òi', 'rén', 'búi', 'ẩm_thấp', 'nhấp', 'michelin', 'cậy', 'thầm', 'hôo', 'quau', 'thankhá', 'lấc', 'ấn', 'ra', 'bửa', 'medium', 'xa_cách', 'cạnh', 'khé', 'đek', 'ntnay', 'bình_giá_cả', 'bmi', 'ý_đồ', 'me', 'an', 'discount', 'bảo_quản', 'hoạt_động', 'cảnh_tỉnh', 'du_ngoạn_trên_hồ', 'ngoái', 'bao_tử', 'vẩy', 'thg', 'we', 'đơn_giản', 'đen', 'nốt', 'đánh_giá', 'luc', 'là', 'văn_minh', 'chí_cốt', 'likes', 'hục', 'dệt', 'mớ', 'koh', 'osin', 't_còn', 'thụt', 'dạ_dày', 'chọnm', 'thật_ra', 'hứng_thú', 'đắt_đỏ', 'huy', 'bô', 'hàn_huyên', 'tin_tưởng', 'lầm', 'bobapop', 'dền', 'qđ', 'camt', 'thuỷ', 'gửi', 'bảo_dưỡng', 'một_chiều', 'nthe', 'htp', 'sở_thích', 'nức_nở', 'gân', 'day', 'giả_lả', 'khóc', 'sò', 'riverside', 'bụi_bặm', 'lĩnh', 'nảy_sinh', 'cần_trình', 'lối', 'lo_sợ', 'ố', 'đối_mặt', 'seflie', 'bày', 'their', 'ăn_đủ', 'thạch_hoa', 'sơ_mi', 'thừa', 'đesn', 'cũng', 'buốt', 'hận', 'lót', 'ping', 'ngụm', 'việt_quất', 'giữ', 'ùa', 'nge', 'quát', 'hoa_quả', 'trang_chủ_đề', 'tởn', 'thậm_chí', 'đưa_đẩy', 'enjoy', 'giao_tiếp', 'ca_ngợi', 'phùng', 'giứ', 'mặt', 'hững_hờ', 'chef', 'xỉa', 'trà_quất', 'cười', 'theo_dõi', 'qua', 'ưa_chuộng', 'kỳ_khôi', 'xa_xỉ', 'nêncòn', 'lúm', 'dằn_mặt', 'khuất', 'thần_thánh', 'lặn', 'chà_thịt', 'khoai_môn', 'ngặm', 'chíu', 'tọt', 'siêu_thịt', 'đưng', 'gan', 'đầu_tiên', 'block', 'văn_học_sinh', 'prevent', 'chicken', 'chuẩn_bị', 'đắn_đo', 'ngẩng', 'như_cốc', 'thanks', 'ă', 'họp_hành', 'het', 'oang', 'túi', 'bếch', 'thoả', 'tan_tầm', 'ngoạp', 'kỹ', 'quết', 'thuyên_giảm', 'quất', 'ngũ', 'tan', 'madame', 'tạp_hoá', 'nóng_sốt', 'gần', 'mệt_mỏi', 'cap', 'tg', 'ngắc_ngứ', 'yogurt', 'cập_nhật', 'dolce', 'thức_ăn', 'bánh_phở', 'di_an', 'hẹn', 'còn', 'toà', 'nhò', 'vẫ', 'hậu_quả', 'nồng', 'xả', 'damashi', 'lòng_vòng', 'were', 'yêu_chiều', 'humberger', 'dễ_chịu', 'phiền_phức', 'chìa', 'rốt_cuộc', 'thể_loại', 'noel', 'try', 'mỏg', 'dầm_mỡ', 'bụng', 'overpriced', 'mảnh', 'vô_hình', 'chỉ_dẫn', 'shushi', 'lay', 'creme', 'bus', 'garden', 'land', 'ngơ_ngơ_ngác', 'bức', 'dí', 'cảm_ơn', 'bọt', 'chê_trách', 'trúng', 'tầng_', 'tởm', 'chậm_chạp', 'chơf', 'nhiền', 'hỡi', 'ly', 'yêu_quý', 'khoẻ', 'tung_tẩy', 'bùng', 'biểu_tượng', 'meat', 'nặng', 'thủ', 'cong', 'ca_cao', 'chắp', 'toèn_toẹt', 'làm_loạn', 'vô_độ', 'cminh', 'long_nhãn', 'oạt', 'đại_khái', 'sambodia', 'xoá_sổ', 'láo_nháo', 'bậy', 'g', 'vơi', 'tè', 'thang_máy', 'đế', 'nghi', 'mayonaise', 'chép', 'sứt', 'duyệt', 'thuyết_minh', 'cá_lăng', 'uh', 'cx', 'delicious', 'hoà_tấu', 'gây_dựng', 'bền', 'bu', 'so', 'line', 'ưng_ý', 'halzenut', 'trùng', 'giòn_tan', 'vì_thế_mà', 'xắn', 'mr', 'nvien', 'n_vị', 'ngớ', 'stk', 'rưới', 'ngó_ngàng', 'phớt', 'tun', 'vui', 'vấp', 'đầy_đặn', 'hài_hoà', 'đũa', 'ghia', 'nhơm_nhớp', 'fanta', 'vậy_mà', 'phổ_tớ', 'tự_xưng', 'mải', 'dìu_dịu', 'tost', 'quốc_hội', 'cốt', 'tóan', 'biạ', 'đèn_lồng', 'trú', 'tưởng', 'chăng', 'đố', 'này_nọ', 'chặt', 'ưỡn_ẹo', 'hibicus', 'hix', 'coton', 'vp', 'úa', 'ấu', 'ngơ_ngơ', 'lung', 'chén', 'almaz', 'yakulk', 'pasion', 'shiper', 'vố', 'phi_gỡ', 'chua_lè', 'tốt_đẹp', 'choá', 'nhanh_nhảu', 'nín_nhịn', 'loại', 'loteria', 'chim_ngói', 'trọn', 'capriciosa', 'lượn', 'ườn', 'một_cách', 'cuồng_nhiệt', 'óc', 'xén', 'bới', 'nườm_nượp', 'thơm_phức', 'crab', 'về', 'thà', 'tuyệt_nhiên', 'xởi_lởi', 'ăn_giá_cả', 'highlands', 'tìm_hiểu', 'cằn', 'sáng_loáng', 'hình_như', 'nhã_nhặn', 'xẹp_lép', 'mây_ăn', 'đề_huề', 'chất_lượng', 'watery', 'nước_lã', 'bắp_cải', 'trung', 'nói_tục', 'xác_thực', 'cruise', 'rieu', 'thôi', 'sapa', 'lẩu', 'frap', 'nên', 'cấn', 'rượt', 'xứng', 'trần', 'cơm_chiên', 'lộng_gió', 'vâng', 'tơ', 'z', 'sinh_sống', 'bóp_cổ', 'tìm_tòi', 'nơm_nớp', 'vitamin', 'dư_âm', 'rồi', 'đánh_đổ', 'dâu_tây', 'tài_trợ', 'nghe_vẻ', 'bami', 'nguyện', 'ăn_nói_trống', 'ghê_gớm', 'desert', 'chanh_tuyết', 'cân_bằng', 'mơi', 'fries', 'buồn', 'viu', 'rang', 'bsfn', 'bóng_mỡ', 'mêli', 'cokie', 'thẳng', 'quá_đỗi', 'hớ', 'kề', 'dến', 'quá', 'biêys', 'mỳnquang', 'sử_dụng', 'sinh_tố', 'nghiệp_dư', 'quyết_định', 'rót', 'highly', 'cà_ri_ăn', 'lick', 'đồng_cảm_nhận', 'kombo', 'hoàn_tiên', 'deco', 'mãn', 'cm', 'tgif', 'nôn_chôn', 'tường_thuật', 'chuyển_mình', 'thông_qua', 'chẳng', 'le_te', 'kiêm', 'miếc', 'uy_tín', 'giá_như', 'cổ', 'tích_cực', 'đảm_bảo', 'ham_hố', 'ỏ', 'liên_kết', 'chỉ_dẫn_nhiệt_tình', 'nép', 'tabasco', 'đến_nỗi', 'vã', 'biet', 'phanh', 'gía', 'nhài', 'từ_bỏ', 'alisan', 'yên', 'chăm_chú', 'nưax', 'bé_nhỏ', 'hoạnh_hoẹ', 'bánh_bao', 'dimsum', 'mùo', 'cứ_việc', 'phát_hành', 'tiếp_chuyện', 'điềm_tĩnh', 'nhẹ_nhàng', 'xloi', 'mát_mắt', 'tàng', 'ngã_tư', 'with', 'bắt_chẹt', 'dứt', 'khương_tử', 'teo', 'mh', 'lava', 'black', 'tranh_giành', 'tối_ưu', 'tra_tấn', 'tokboki', 'ủa', 'y_sì', 'khều', 'ăn_cốc', 'lưu', 'thịt', 'mập_mờ', 'ample', 'đầu_đuôi', 'tách_biệt', 'chọc', 'dùng', 'inbox', 'phang', 'thanh_lọc', 'bánh_mì', 'dở_thịt', 'cuốn_gói', 'mượt_mà', 'phí', 'trừ', 'giao', 'lôi_kéo', 'laf', 'trước', 'dơ', 'nổi_trội', 'over', 'tĩnh', 'tinh_tế', 'hách_dịch', 'nhiêm', 'ăn_không', 'toping', 'tóm', 'giải_lao', 'hoàn', 'thay_thế', 'giải_quyết', 'mozerla', 'chu_đáo', 'loan', 'nặng_ký', 'thậm', 'muôn_đời', 'thếch', 'rice', 'nạ', 'cổ_điển', 'blobla', 'trống_trơn', 'hàng', 'cục_tính', 'giòn', 'mua', 'riêng', 'sofa', 'counter', 'liêu_xiêu', 'tug', 'tin', 'vờ', 'tái_chanh_ăn', 'often', 'sái', 'ngợp', 'vị_thế_nào', 'lễ_phục_vụ', 'ql', 'kinh_hồn', 'ánh_sáng', 'lỗ_chỗ', 'baked', 'nghiện_ngập', 'đề_nghị', 'hectic', 'yeah', 'lạnh_tanh', 'nghiên_cứu', 'sầ', 'orde', 'suýt', 'serve', 'bo', 'tặc', 'mở_hàng', 'cảm_nhận', 'đệm', 'mưa_nắng', 'lưu_niệm', 'ọp', 'kiwi', 'u_tuyết', 'long_lanh', 'xộc_xệch', 'hk', 'thays', 'vui_tai', 'hđ', 'tình_nhân', 'lộn_xộn', 'rớt', 'vui_trí', 'machito', 'trug', 'web', 'khong', 'cà_chua', 'ice', 'cất', 'than', 'metro', 'hầu_hết', 'xinh_đẹp', 'cam_kết', 'rare', 'vì_vậy_mà', 'vĩ_đại', 'đối_xử_thế', 'tán_gẫu', 'lead', 'bât', 'khách_quan', 'kha', 'tiếp_tục', 'nói_năng', 'prepaid', 'nĩa', 'tát', 'phóng', 'gối_đầu', 've_nguoi', 'viêm', 'to_tiếng', 'sticky', 'tình', 'fedback', 'gia_vị', 'gia_truyền', 'gặp', 'chỉ_định', 'nhấn_mạnh', 'chúng_nó', 'tren', 'phomai', 'ngược_lại', 'sviên', 'chen', 'ngô', 'tiêu_tan', 'toả', 'bàng_quan', 'feling', 'mat', 'đánh_bài', 'công', 'gemini', 'vỗ_tay', 'xỉu', 'performances', 'xập_xình', 'rols', 'nhiễm_trùng', 'nửa', 'does', 'nhạc', 'đấy', 'cỡ', 'phần_mỡ', 'spam', 'ln', 'ngột_ngạt', 'day_dứt', 'sầu', 'bao_lâu_nay', 'filed', 'nhv', 'realy', 'oàng', 'hoàng', 'tú_hụ', 'hằn_học', 'alisa', 'vô_ý_thức', 'lềnh_phềnh', 'tổng_hợp', 'much', 'cod', 'hết_ý', 'nhức', 'around', 'trệt', 'km', 'nhốn', 'phút', 'lịch', 'vủa', 'ỏi', 'kim_sa', 'ăn_may', 'bực', 'singapore', 'ngay_ngắn', 'có_mang', 'more', 'đẻ', 'ngoải', 'tái_sốt', 'hừng_hực', 'hẳn_hoi', 'cau_có', 'tạng', 'nam_giới', 'ngon_mắt', 'tv', 'khai_vi', 'ạh', 'chose', 'toco', 'thanh_xuân', 'thái_bình_thường', 'bực_bội', 'quẩn', 'tồi_tàn', 'ấm_cúng', 'chảng', 'ănpate', 'pub', 'ngất', 'mẹt', 'la_cà', 'taiyaki', 'gi', 'thòm', 'vối', 'gio', 'l', 'vung_vãi', 'bất_kể', 'mang_tiếng', 'hiếu_khách', 'sốt_ruột', 'tèm', 'lèo_tèo', 'gưi', 'dám', 'đèn_đóm', 'thổi', 'hết_sức_mấy', 'chi_ung', 'cắm_cúi', 'thần_tốc', 'vớt_vát', 'advertise', 'chọn_lựa', 'tẻ_nhạt', 'trẻ_con', 'bày_tỏ', 'hp', 'dìm', 'muỗi', 'dễ_tính', 'túm', 'dở_vậy', 'lacked', 'bắt_buộc', 'chằng_chịt', 'gọn', 'kinh_giới', 'bốp', 'đầm_đìa', 'nhòm', 'bất_tiện', 'chênh', 'giọt', 'nvậy', 'làm_khách', 'vỏ', 'lối_thoát', 'úng', 'nhúng', 'đúp', 'đỏ_lòm', 'rực', 'ghế_ngồi', 'fai', 'ktra', 'nóng_ăn', 'chừa', 'xong_xuôi', 'chắc_ăn', 'lên_mặt', 'bjo', 'destroyed', 'tuyệt_hảo', 'chém', 'shrimp', 'xơ', 'sâu_sắc', 'kiad', 'ăn_uống', 'haiz', 'chẳng_lẽ', 'to', 'chào', 'cb', 'báh', 'đùg', 'quây', 'nhắng_nhít', 'điệp_mỡ', 'bõ_bèn', 'công_nghiệp_hóa', 'não_lòng', 'dvu', 'cá_quả', 'ham', 'tiêu_hoá', 'vì', 'quoc', 'tâm_sự', 'moktail', 'nóng_tính', 'ăn_giá', 'nhắn', 'mắn', 'che', 'khai_quật', 'copy', 'tri', 'chăm_sóc', 'xep', 'đepj', 'bảo', 'hình_tượng', 'size', 'cute', 'tuyêt', 'mất', 'bình_tĩnh', 'tunhf', 'đúc_kết', 'ngọc', 'alarcarte', 'khoằm', 'chesy', 'ngưỡng', 'óng_ánh', 'chốt', 'hệt', 'miễn', 'kín_đáo', 'bức_bối', 'mổ', 'có_thể_loại', 'to_nhỏ', 'ự', 'lội', 'xinh_xinh', 'nhấc', 'luna', 'náo_nhiệt', 'tịt', 'hào', 'nhập_viện', 'nôn_nao', 'thoai', 'rụng', 'hợpsẽ', 'thanh_lịch', 'sly', 'để_dành', 'smal', 'chấp', 'tương_tự', 'thui', 'tủ_lạnh', 'phục', 'khơi_gợi', 'xóa_mất', 'mù_chữ', 'vô_nghĩa', 'khiêm', 'ầm', 'nhịn_đói', 'potomac_chilout', 'húê', 'phi_thường', 'ngúng_nguẩy', 'bạch', 'chột_dạ', 'ngừ', 'phung', 'vincom', 'trợn', 'thân_nhân_viên', 'hời', 'học_hỏi', 'nuoc', 'tồn_tại', 'vietnam', 'manor', 'thìa', 'hum', 'hẳn_cốc', 'jan', 'áa', 'khá', 'mayo', 'nghĩa', 'trà_đá', 'bồng', 'đông_đảo', 'lạm_dụng', 'hpbd', 'gt_', 'giấu', 'ma_nhan', 'dải_phomai', 'nhúm', 'ướp', 'ra_sức', 'hân_hoan', 'cá_bò', 'banchan', 'phong_cách_nhật', 'sáng_trưng', 'ăn_đong', 'xoăn', 'chăn', 'đô', 'nầm', 'chắc', 'mal', 'ampid', 'tổng_cộng', 'huống_hồ', 'thêm', 'ecard', 'cgi', 'gầu', 'cẩn', 'lạ_miệng', 'bậu', 'trang_trí_cốc', 'tổng_tiền', 'cung_văn_hóa', 'chập', 'tiện_thể', 'soi', 'quanh_quẩn_tóm', 'phấn_khởi', 'hà_thành', 'nail', 'suy_nghĩ', 'again', 'tiếg', 'tròn_trịa', 'nhanh_nhách', 'loáng_thoáng', 'đãi_ngộ', 'đồng', 'đêmk', 'miễn_phí', 'xào_nấu', 'ngol', 'ho', 'nhét', 'dieu', 'xanh', 'dẫn_xác', 'opa', 'thanh_tịnh', 'đậu_phụ', 'háo_hức', 'ngiệt', 'lộng_lẫy', 'bênh', 'note', 'tàm', 'xẻng', 'have', 'yuksam', 'boyfriend', 'few', 'đông_trừ', 'tào_phớ', 'pz', 'trá', 'phog', 'lạo_xạo', 'lướt', 'hạ_nhiệt', 'kháng', 'lãng_phí', 'một_khi', 'vui_gia', 'taiwam', 'chiện', 'đam', 'xay', 'mù_tạt', 'hức', 'nhởm', 'thưa_thớt', 'mocktail', 'lộn', 'chs', 'teokboki', 'tì', 'biét', 'htrà', 'chăm_chút', 'duy_tân', 'kiểu', 'thông_cảm_việc', 'nhì', 'bá_tước', 'xa_xôi', 'lâu_đời', 'yểu_điệu', 'san', 'nghịch', 'ức', 'dạ', 'chỉ_bảo', 'hiến', 'tự_giác', 'thải', 'giáp', 'lưỡng_lự', 'rỉa', 'ramsay', 'gimbab', 'di_chuyển', 'xấu_hổ', 'hít', 'giá', 'lầy', 'huyền', 'dùm', 'giản', 'thức', 'u', 'đưa_hóa', 'đề_đạt', 'ba_rọi', 'fast', 'mìng', 'should', 'st', 'lon', 'ra_lệnh', 'đói', 'kia_mà', 'đi_lại', 'đắc_địa', 'ấn_đồ', 'be', 'đăng_kí', 'lasagna', 'biết', 'đều', 'có_nghĩa_là', 'thật_sự_thật', 'nhệt', 'lạnh_ngắt', 'goi', 'cục', 'vỡ_lẽ', 'bingso', 'tâng', 'rành', 'dòng_chảy', 'vu', 'cream', 'thống_nhất', 'hoè', 'xoài', 'mãi_mãi', 'tĩnh_tâm', 'đèo', 'lý_giải', 'sa_lát', 'li_ti', 'phụ', 'mán', 'hòa_quyện', 'hăm_hở', 'chuyển_khoản', 'frapucino', 'tĩnh_lặng', 'hiếu', 'rờn', 'tốc', 'phị', 'thua', 'tý', 'lấc_cấc', 'ăn_hàng', 'party', 'siu', 'are', 'khen', 'sửng_sốt', 'thìa_là', 'kể_lể', 'vị', 'scla', 'ong', 'thỏa_ước_mơ', 'nhai_vậy', 'haha', 'thể', 'thỉng', 'thú_thật', 'gấp_rút', 'lượn_lờ', 'hình_dung', 'nóng_bỏng', 'lảm_nhảm', 'lẳng_lặng', 'nearly', 'lồi', 'bình_yên_tĩnh_lặng', 'chín', 'quện', 'băng', 'quả_nhiên', 'tien', 'mango', 'được_cái', 'nậm', 'hổi', 'thông_cảm_đợi', 'cụt', 'thênh', 'cube', 'jimy', 'bách_khoa', 'dứng', 'gtgt', 'ruồi_trâu', 'chấn_chỉnh', 'gật_gù', 'dở_vậy_mà', 'rướn', 'thoát', 'chơ', 'chiụ', 'ruốc', 'chán', 'table', 'bực_dọc', 'trời', 'fil', 'qc', 'ảm_đạm', 'giới_thiệu', 'lipton', 'ung', 'just', 'tí_hon', 'di_tặng', 'băn_khoăn', 'nặng_mùi', 'peps', 'đói_thế', 'thực_tình', 'phạt', 'treck', 'mặc_định', 'ghét', 'toán', 'trained', 'cũ_kĩ', 'đon', 'kiên_nhẫn', 'thân_thiện', 'cứt_gián', 'tiểu_tiết', 'nhanh_chóng', 'từ_vị', 'cao', 'cưỡng_ép', 'nhìn_chung', 'khai_trương', 'tắc', 'hạch', 'coi_trọng', 'vận_chuyển', 'ntn', 'ói', 'tươm_tất', 'hàng_đầu', 'vủng', 'rảnh_rỗi', 'ăn_nan', 'xuýt_xoa', 'bốc_hơi', 'many', 'đỏ', 'thiếu', 'ủng_hộ', 'sinh_quán', 'xé_lẻ', 'nỗ_lực', 'kết_hợp', 'xoa', 'sót', 'găt', 'gyu', 'bingsu', 'gia_nhập', 'thử', 'hung', 'thắc_mắc_vậy', 'khuyết_tật', 'kin', 'trêu', 'tù_tì', 'sd', 'sushibar', 'as', 'nchung', 'cà_muối', 'ps', 'tụ', 'nhắc_tắt', 'bhuw', 'của', 'lổn', 'khói', 'chia_sẻ', 'lợ', 'nổi', 'litle', 'chuộng', 'hỏi_thăm', 'khác', 'che_chắn', 'rủ', 'doan', 'function', 'động_não', 'môzi', 'post', 'biếu', 'kiểu_cách', 'nhục', 'gán', 'heard', 'kì_thực', 'đâm_ra', 'đòi', 'nostra', 'thieu', 'lả', 'thành_lập', 'bóng_loáng', 'tràng', 'chianti', 'bao_tải', 'điệp', 'sandwich', 'nem', 'vắng_tanh', 'plan', 'đậu_tương', 'đén', 'cake', 'bánh_canh', 'blended', 'miếg', 'nưa', 'lên_nước', 'hey', 'lên_đèn', 'khắp_nửa', 'thậm_tệ', 'buổ', 'leo', 'làm', 'quả', 'thỏa_đi', 'xấc_xược', 'tàm_tạm', 'signature', 'đèn_xanh', 'xước', 'đo', 'nguời', 'strawbery', 'cao_tốc', 'chat', 'học_hành', 'popcorn', 'bluebery', 'xả_láng', 'du_lịch', 'patbingsu', 'gợi', 'pop', 'welington', 'bằm', 'như_không', 'rậy', 'ẩu', 'kết', 'đặt_hàng', 'vọc', 'mong_chờ', 'marketing', 'ưu_tiên', 'they', 'hốt', 'chả_bù', 'trót', 'always', 'chộp', 'nthật', 'sống', 'hời_hợt', 'đầu_tiên_nhân_viên', 'dẹp', 'yên_lặng', 'pink', 'nhượng_bộ', 'kiên', 'đẹp_trai', 'cá_nhân', 'sẫm', 'không_gian', 'ưng_đồ', 'bể', 'tiêng', 'trong', 'bào', 'thơm_tho', 'friend', 'nhằm', 'star', 'mồm', 'thuyết_phục', 'udon', 'khô_khốc', 'hương_hoa', 'cửa_kính', 'nếp', 'quay_phim', 'hạch_sách', 'gặm', 'há_hốc', 'kể', 'bắt_đầu_từ', 'mỡ_màng', 'nối_đuôi', 'tuyệt_đối', 'non', 'ác_cảm', 'té', 'nhen', 'ngoắt', 'xị', 'bồi_hồi', 'hiển_nhiên', 'nua', 'vè', 'danh_tiếng', 'trở', 'lịm', 'kẹp', 'hoét', 'báo', 'biết_ơn', 'lênh_láng', 'ngấm', 'ví_như', 'j_hóa', 'tế_nhị', 'vênh_vênh', 'tam_giác', 'hỏi_han', 'sền', 'cẩu_thả', 'tới_lui', 'bẩn', 'í', 'vãn', 'takoyaki', 'rạng_rỡ', 'thig', 'có_ăn', 'vịnh', 'mớm', 'chỗ', 'lắc_đầu', 'forest', 'nuốt', 'nhả', 'bik', 'uay', 'ramen', 'shock', 'trung_tâm', 'sát_nhân_viên', 'tourists', 'gợi_cảm_giác', 'nghèo_nàn', 'cua_gạch', 'mot', 'ciu', 'bóc', 'mút', 'handmade', 'đểu', 'luôn', 'chống', 'chanh_leo', 'thở_dài', 'rõ_ràng', 'ăn_khách', 'hôi_hổi', 'điếc', 'ăn_theo', 'tột_cùng', 'phủ_nhận', 'bit', 'rối_rít', 'your', 'ra_viên', 'đêý', 'tranh_cãi', 'xé_phay', 'đắ', 'viễn', 'refreshing', 'thoàng', 'kinh_doanh', 'mã_tấu', 'customer', 'tàn_bạo', 'thành_thử', 'đưa', 'vô_lại', 'xôi', 'hằm', 'tươi_mát', 'điển', 'vừa_rồi', 'trách_mắng', 'salmonoid', 'hăng', 'chỉ_điểm', 'thất_vọng', 'tặg', 'kỹ_tính', 'chẩt_lượng', 'dep', 'khép_kín', 'tưới', 'tẻo', 'dâu_tằm', 'ngoi', 'bí_đao', 'sukem', 'lô', 'clasic', 'ngon_miệng', 'niêm_yết', 'saturday', 'panchan', 'khu_đồ', 'if', 'lớn_tiếng', 'tạt', 'nấu_ăn', 'mũm_mĩm', 'thỏi', 'fraser', 'sx', 'siêu_nhân_viên', 'bóng', 'hụt', 'khuyến_cáo', 'to_lớn', 'rut', 'chăm_chỉ', 'cầu_thang_máy', 'đăng', 'leo_thang_máy', 'bởi_vậy', 'tuyệt_vời', 'như_đồ', 'trầm', 'hớp', 'ghi_hóa_đơn', 'ng', 'có_nhân', 'ái', 'thớt', 'tđộ', 'ksao', 'nì', 'because', 'chếch', 'card', 'hoá_học', 'nêu', 'kbt', 'biến_tấu', 'nóng_nực', 'hạt_dẻ', 'mỡ', 'ngậm', 'bp', 'sudenly', 'công_nhận_mặt', 've_nhan', 'nghiêng', 'ném', 'teacups', 'vượt', 'bâng_quơ', 'xem_thường', 'ậm_ừ', 'kệ', 'ngập_ngừng', 'ô', 'choén', 'huế', 'ngắc', 'shine', 'yum', 'juicy', 'deserts', 'tần_suất', 'nín', 'romantic', 'gặo', 'frescos', 'tê_dại', 'nhưngz', 'lạnh_nhạt', 'ngoại_tỉnh', 'break', 'bị_thương', 'tiêu_cực', 'chúc', 'rõ_rệt', 'fika', 'tasting', 'stres', 'crepe', 'kiể', 'hạn_hẹp', 'qua_ngày', 'ngoạn', 'vừa_vặn', 'gia_công', 'lâng', 'bốc', 'băm', 'chẹp', 'se', 'indulge', 'drinks', 'nhỉnh', 'êm_đềm', 'củ', 'bửn', 'tím', 'nhịn', 'how', 'xóc', 'uniquenes', 'vô_giá', 'giương', 'vòng', 'dàn', 'mướt_mượt', 'tối', 'gạt', 'đếm', 'khương', 'would', 'hành_động', 'rút_gọn', 'rẻ_tiền', 'tứa', 'xuống', 'nhieu', 'thì_chớ', 'ngay_lập', 'cởi', 'gren', 'thuyết', 'chuyên_nghiệp', 'bần', 'trích', 'rui', 'ngăms', 'nhồi', 'chily', 'giải_đáp', 'lỏn', 'borelo', 'hài', 'mđến', 'chắcvif', 'cố_tình', 'đến', 'khối', 'đáng_kể', 'cười_cợt', 'quá_đáng_kể', 'đề_phòng', 'nào', 'hành', 'tang', 'tầm_tã', 'cừoi', 'nghỉ_hè', 'ướt_át', 'gimbap', 'phiền', 'tóm_lại', 'lau', 'hợp_ý', 'có_giá', 'mua_cốc', 'la_minh', 'phuc', 'dai_nhách', 'danh', 'quá_đà', 'rơi', 'nung', 'shoe', 'phở', 'níu_kéo', 'sêm', 'nối', 'match', 'fomai', 'nhanh_nhẹn', 'ngsạt', 'hộ', 'thí_bỏ', 'xông', 'tuyển', 'chư', 'vất_vả', 'đứg', 'tiếp_đãi', 'địa_chỉ', 'col', 'royal', 'thoải', 'híc', 'đồng_loạt', 'basil', 'giọng_điệu', 'ngắt', 'nê', 'nhắc', 'xoa_dịu', 'lơ_thơ', 'nhãn', 'hưởng', 'chua_cay', 'lake', 'tái_hiện', 'dsk', 'thoy', 'vón', 'ru', 'trò_chuyện', 'chả_là', 'décor', 'trướng', 'buội', 'sính', 'thách', 'nhờ', 'bực_tức', 'second', 'đàng_gian', 'quyến', 'flan', 'đối_tác', 'trứng', 'tèn', 'triển', 'đậm_nét', 'quãng', 'return', 'luộm', 'chac', 'cô_vẻ', 'lắng_nghe', 'trực_tiếp', 'bánh_chả', 'quyến_rũ', 'đừơng', 'rượu', 'khoảng', 'lễ_tân', 'quý_khách_hàng', 'trừng', 'chụp', 'dúi', 'chợt', 'nóng_bức', 'ưng', 'kiem', 'bằng_lòng', 'mơn', 'date', 'lẻ', 'told', 'nsoup', 'tinh_túy', 'ngỗng', 'thoại_đuôi', 'toàn', 'nah', 'refresh', 'tiếp_đón', 'nama', 'tham', 'chiến', 'mến', 'miếng', 'đồng_nát', 'lãng_đãng', 'junior', 'khoét', 'phân_bua', 'đươngf', 'tận_tay', 'oành', 'van', 'nhờ_nhờ', 'gỏi', 'wek', 'xởi', 'bia_hơi', 'máy_khoan', 'hôm_qua_ngày', 'qán', 'wuas', 'overloaded', 'ụ', 'bèo', 'sight', 'kbj', 'vô_vàn', 'mai_kia', 'gặm_nhấm', 'công_thức', 'lẩm_bẩm', 'pas', 'lọc', 'đăng_nhập', 'bánh_mì_gối', 'nhởn_nha', 'bề_bề', 'champagne', 'ới', 'has', 'thọ', 'rùi', 'korean', 'mọng', 'nhật', 'điều_chỉnh', 'hỉnh', 'tươi_tỉnh', 'khả_dĩ', 'tkì', 'qanh', 'xôi_xéo', 'vk', 'ẩm', 'hòa', 'áo_dài', 'kì_thị', 'xanh_lè', 'kg', 'tih', 'bên', 'trưng_bày', 'đè', 'than_ôi', 'nghìn_nghịt', 'mách', 'vb', 'grentea', 'già_dặn', 'sơ_suất', 'cho_dù_sao', 'hả', 'tổng_hết', 'trà_sen', 'tái_ăn', 'từg', 'hí_hửng', 'tính_vậy', 'hướng_dương', 'đánh', 'cũ', 'sunshine', 'í_ới', 'gd', 'bac', 'căn_bản', 'đau_thương', 'độn', 'tiếp_thu', 'quá_tay', 'tính', 'location', 'bưa', 'que', 'bói', 'tín', 'phi_ngậy', 'ninh', 'luong', 'kgian', 'tây_ban', 'chấm', 'lần_lữa', 'lồi_lõm', 's', 'pasta', 'mệt_nghỉ', 'chiết_khấu', 'xẹp', 'selfie', 'cáu_bẳn', 'tùy_vị', 'kế_tiếp', 'café', 'giúp_đỡ', 'topcare', 'mòn_mỏi', 'lao', 'khởi', 'hòa_hợp', 'sáng_giá', 'tống', 'chỉn_chu', 'tới_tấp', 'lít', 'private', 'hỏng', 'nhất_định', 'fresh', 'chanb', 'giáng_sinh', 'khấu', 'rê', 'ngoan_ngoãn', 'start', 'dihma', 'saying', 'phối', 'long', 'đào_tạo', 'brownie', 'bal', 'cungx', 'nước_cốt', 'recomend', 'hoy', 'dia', 'bỏ_dở_nửa', 'comes', 'rên', 'trí', 'giốg', 'đuợc', 'ra_hiệu', 'cộc', 'socola', 'luowjng', 'để', 'đoạn', 'túi_bóng', 'bó_tay', 'vc', 'hnao', 'mang', 'hem', 'phũ', 'strong', 'quan_sát', 'chỏ', 'nhộn_nhịp', 'nong', 'vanila', 'liên_hệ', 'đáo', 'hôi_hám', 'tất_cả', 'lừng_danh', 'sần_sật', 'tranh_luận', 'dò', 'chình_ình', 'đăm_đăm', 'dắt', 'cầu_kì', 'ngoài_trời', 'tập_thể_dục', 'hanoi', 'hay_là', 'baby', 'tức_tưởi', 'chanh_thấy', 'trần_nghiệp', 'thâyd', 'page', 'đbiet', 'đông_viên', 'phả', 'xử_lý', 'thử_hỏi', 'ready', 'lặng', 'tạo', 'tế', 'hiền_lành', 'một_ít', 'cơm_rang', 'be_bét', 'con_con', 'truy', 'bỏ_dở', 'mẻ', 'nũng', 'admin', 'tất_nhiên', 'bình_thuỷ_tinh', 'tưoi_viên', 'tứ', 'single', 'đi_sâu', 'bla', 'múa_may', 'kỷ_niệm', 'chỉnh_đốn', 'nch', 'hihi', 'dày', 'hãi', 'cay_phô', 'two', 'ham_mê', 'bắp', 'hợp', 'this', 'ít_nữa', 'nhầy', 'đảo_lộn', 'bở', 'xđ', 'giảm_giá', 'túi_bụi', 'nhao_nhao', 'xón', 'lắc', 'đục_ngầu', 'box', 'lm', 'phởn', 'câu_đầu_tiên', 'thanh_cao', 'vô_tư', 'chiều', 'laptop', 'tứ_tung', 'kéo_lại', 'đep', 'hâm_nóng', 'mù', 'giải', 'dingtea', 'bad', 'bắt', 'hội_thoại', 'mây', 'lôm_côm', 'ns', 'president', 'quý_vị', 'mệt', 'mạn', 'xinh', 'xd', 'vô_lý', 'think', 'hoàn_thành', 'vn', 'toilet', 'nhạt', 'măm', 'in_hóa', 'hảo', 'at', 'dửng_dưng', 'khá_khẩm', 'phải', 'xuka', 'bil', 'chút_xíu', 'cúc', 'comeback', 'lúng', 'sưng', 'góc_cạnh', 'đề_cử', 'sẵn_sàng', 'vip', 'tour', 'thơ', 'chờ_đợi', 'vắg', 'either', 'giữ_gìn', 'nhi', 'tùy_món', 'nếu_như', 'trau', 'trươngtrinhf', 'code', 'chổ', 'cay_cay', 'bối_rối', 'vừa_phải', 'ngay', 'barista', 'phản_cảm', 'hau', 'tỉ_tê', 'kep', 'bất_kỳ', 'mứt', 'ló_mặt', 'dựng_đứng', 'gf', 'nước_ngoài_ra', 'atmosphere', 'toét', 'xe_hơi', 'dinh_dính', 'neverland', 'spagheti', 'công_viên', 'đậu', 'tồi', 'quyêt', 'phạm', 'đáng_ra', 'đệ', 'trơi', 'iph', 'chán_chê', 'vọng', 'alone', 'where', 'chiu', 'nilon', 'thẻ', 'lobster', 'sệt', 'yêu_cầu', 'salas', 'đàu', 'voka', 'tốt_tính', 'kẹo_lượng', 'thế', 'nhập_nhèm', 'care', 'đặm', 'thiẹn', 'giòn_rụm', 'được', 'surely', 'had', 'trải', 'tí_ti', 'nhàn', 'móng_giò', 'xát', 'gu', 'mát_lòng', 'prety', 'ceaser', 'duoc', 'ăn_nói', 'bơi_lội', 'kodo', 'kaka', 'phịc', 'hoá_đơn', 'ô_nhiễm', 'báo_giá', 'ấn_viên', 'quayblaji', 'rỗ', 'phân_chia', 'tấm_tắc', 'ý_kiến', 'shoping', 'dài_mồm', 'nhà_chung', 'kềnh', 'sòng', 'cắt_cổ', 'di', 'bánh_bò', 'tinh_khôi', 'mừn', 'xuôi_ngược', 'vỉa', 'cung_cách', 'hành_xác', 'wangtea', 'chỉ_đạo', 'divine', 'nhớt', 'xanh_tươi_mát', 'kỳ_vọng', 'khoa_học', 'chật', 'diet', 'pine', 'lên_tiếng', 'recom', 'eny', 'bôi', 'ngón_cái', 'buy', 'chúng_tớ', 'lởi', 'vote', 'area', 'nguẩy', 'gourmet', 'đông_lạnh_tanh', 'hoa', 'lôi_kéo_vậy', 'so_le', 'zời', 'đánh_tiếng', 'hok', 'nhẽ', 'seler', 'wafle', 'đôi', 'mỏng_dính', 'mang_đồ', 'đánh_liều', 'p', 'xẻ', 'ghê', 'ngán', 'dịch_vụ', 'ngốt', 'khó_tính_chuyện', 'bất_kì', 'giành_giật', 'đồn_thổi', 'có_hạn', 'ghi_âm', 'runam', 'giai', 'tự_phát', 'dâu', 'hàg', 'kết_nối', 'tết', 'ngấu_nghiến', 'hắt', 'vai', 'bù', 'hy', 'since', 'hot_chocolate', 'trụ', 'đông_vậy', 'nè', 'nhỏ_nhắn', 'curators', 'kinh_khủng', 'roasted', 'pha_trò', 'dè', 'khâm', 'nhỉn', 'rì_rầm', 'khánh', 'ading', 'câu', 'in', 'gây', 'điện', 'ẻo', 'mít', 'ngẫm', 'thuận_lợi', 'tưng_bừng', 'cấp', 'ký', 'xích_đu', 'đinh_ninh', 'dụg', 'ốm', 'hích', 'kẻo', 'vẹn', 'ful', 'tone', 'starbocks', 'đi', 'sen', 'eat', 'làm_chủ_nhật', 'tranh_thủ', 'thất_truyền', 'kiên_quyết', 'niềng', 'cafe', 'hao_hao', 'ngõ_hẻm', 'nắng', 'chế', 'traveling', 'đánh_rơi', 'đầu_đọc', 'hà_cay', 'cần', 'mộc_nhĩ', 'đk', 'xòn', 'nổi_bật', 'phềng', 'thực_tế', 'amazing', 'làm_quà', 'ngót', 'dĩ', 'donut', 'tẹo', 'cong_cớn', 'hoành_thánh_xá_xíu', 'xuống_dốc', 'cho_dù', 'nhàn_nhạt', 'trưowc', 'giao_lưu', 'gthieu', 'tô', 'lễ_phép', 'rétaurant', 'át', 'dữ', 'coi', 'đã', 'ơi', 'thích_đáng', 'tái_chín', 'chân_thành', 'ưa', 'đảm', 'liên_tiếp', 'nhet', 'đg', 'chococake', 'ổ_cắm', 'spon', 'tịu', 'mỗi_tội', 'quả_thật', 'working', 'coc', 'sấy', 'háu', 'hợp_lý', 'nhưnh', 'bánh_nan', 'ngơi', 'thỏa', 'kl', 'fit', 'pana', 'gogi', 'nhẩm', 'ngờ', 'khổng_lồ', 'phe_phẩy', 'vụt', 'văn_hoá', 'nghi_vấn', 'đặt_cọc', 'khả_quan', 'pị', 'linh_hoạt', 'bonus', 'ngoai', 'hoàng_đạo', 'open', 'wel', 'đậm_đặc', 'trễ', 'bất_cẩn', 'yêu', 'hong', 'ôx', 'oan', 'mê_đắm', 'coke', 'khoe', 'diferent', 'tranh_chấp', 'tần', 'buoc', 'eden', 'phất', 'xin', 'hút', 'tối_om', 'bao_lâu', 'bưc', 'thiết', 'đồng_thời', 'ngất_ngây', 'hách', 'mất_mạng', 'thuỷ_tinh', 'rốt', 'thăm', 'thịnh_soạn', 'quạt', 'nhụt', 'mỹ', 'dịch', 'lí', 'thực_ra', 'cbh', 'cô_mình', 'rượu_vang', 'rễ', 'thú_thực', 'phá_hoại', 'cấm', 'sôi', 'lòng_đào', 'lê_la', 'mền', 'đạm', 'vừ', 'nhuệt', 'instagram', 'ngừng', 'giết', 'ăn_hiếp', 'du_thuyền', 'tận_dụng', 'gri', 'yêu_chuộng', 'quán', 'nhàm', 'kinha', 'phátđiên', 'nhắm_mắt', 'dần', 'gave', 'hianf', 'tít', 'nhá', 'quản_lí', 'hề', 'kinh_tế', 'bán_hoa', 'trữc', 'dưa_hấu', 'buông', 'hạnh', 'len', 'veiw', 'nghiên', 'xịn', 'xen', 'tính_tình', 'thảo_mộc_hương', 'chơi_bời', 'tươi_rói', 'sạch_sẽ', 'nhạt_nhẽo', 'mơ_vậy', 'đêu', 'na', 'trỏng', 'colonthre', 'thời_buổi', 'rộng_lượng', 'khô_đét', 'hiu', 'zai', 'na_ná', 'xuất_hóa_đơn', 'giữ_mình', 'làm_nên', 'bolognese', 'portfolio', 'khoan', 'chung_thuỷ', 'điễm', 'đỗ', 'tự_ý', 'phịch', 'sáng_láng', 'kêu_ca', 'giật', 'thuồn', 'luôn_luôn', 'sụp', 'oke', 'not', 'bao_nhiêu', 'vô_kể', 'ngân_nga', 'ak', 'cơ_mà', 'nhứt', 'ăn_đậm', 'nhée', 'bất_cứ', 'tăm', 'cở', 'ănowr', 'đh', 'tả', 'lầm_lũi', 'túi_tiền', 'dính_mỡ', 'ăn_vã', 'nhường', 'xé', 'sử', 'tuỳ_thích', 'may_mà', 'lol', 'hết', 'teriyaki', 'bao_bì', 'ếu', 'khinh_khỉnh', 'đầu_tiên_cảm_thấy', 'katsu', 'ngộn', 'tốn_kém', 'nhà_nhà', 'mang_vẻ', 'định', 'ghi_chép', 'ghiền', 'trươc', 'vnd', 'đậm', 'nhái', 'xàm', 'hém', 'chương_trình_diễn', 'đôằn', 'biết_bao', 'sơ_chế', 'khen_ngợi', 'chao_ôi', 'ầm_ĩ', 'ú_ớ', 'nói_ngọt_ngào', 'mở', 'giao_thừa', 'tiu', 'ăn_liền', 'ưa_thích', 'nogs', 'liệt_kê', 'soạn', 'ứng_xử', 'yên_ắng', 'vừa_lòng', 'tôm_hùm', 'cứu', 'thanh', 'giả_cầy', 'le', 'befsteak', 'christmas_eve', 'ăn_khỏe', 'ăn_chia', 'suport', 'kbaoh', 'conecting', 'healthy', 'nghẻ', 'mềm_nhũn', 'phân_tích', 'tnay', 'tết_nhất', 'hoà_quyện', 'dằn', 'bấy', 'list', 'yên_tĩnh', 'lưu_luyến', 'sai', 'thìn', 'thông_báo', 'tokpoki', 'dít', 'nồng_nhiệt', 'đón_chào', 'hẵng', 'tò_mò', 'trang_trí_họa', 'xác_định', 'tự_túc', 'hổng', 'thong_thả', 'khử', 'mông', 'bơm', 'search', 'lớp', 'tinh', 'xoành', 'bang', 'thuận', 'văng_vẳng', 'ngó_nghiêng', 'nhộn', 'mix', 'sưã', 'tự', 'táng', 'ngừoi', 'đãng_trí', 'du_ngoạn_quanh_hồ_tây', 'kĩ_tính', 'group', 'thính', 'chìa_khoá', 'tan_nát', 'wafles', 'mơis', 'vĩnh_viễn', 'tồi_tệ', '_hôm', 'xưa', 'thoảng', 'mặt_trăng', 'lười', 'cuối_cùng', 'thế_nào', 'hiều', 'ts', 'ghe', 'phè', 'half', 'tươi_sống', 'chú_trọng', 'kế', 'giàu', 'souvenir', 'oder', 'đeo', 'nếu', 'vila', 'thành_công', 'ngũ_cốc', 'rất_đỗi', 'xém', 'acoustic', 'nề_hà', 'puf', 'điều_hành', 'dù_rằng', 'chợ_búa', 'quốc', 'thân_nhiệt', 'lông_nheo', 'vây', 'xây_dựng', 'fre', 'ầm_ầm', 'chắn', 'gật', 'rauta', 'một_tẹo', 'nặc', 'dân_phố', 'ngư', 'cứu_hộ', 'hẳn', 'sem', 'teas', 'nghe_đâu', 'xưn', 'up', 'dọn_dẹp', 'thăn', 'đông_lạnh', 'bầu', 'một_tí', 'smokers', 'gọt', 'khang_trang', 'ngon_vậy', 'kệch_cỡm', 'tổng_thấy', 'đua', 'ứng_dụng', 'ăn_cánh', 'thaideli', 'ngán_ngẩm', 'bản', 'đướng', 'qdinh', 'hối_hận', 'ứ_hự', 'ngưng', 'nhắc_nhỏm', 'không_căng_rốn', 'lặng_thinh', 'nước_dùng', 'loked', 'bảo_đảm', 'sướng', 'bèo_nhèo', 'aeon', 'nutela', 'cạnh_tranh', 'tái_ngộ', 'cua', 'ít', 'qđịnh', 'thiết_kế_vị', 'ngờ_đâu', 'dài_dòng', 'chúng_mình', 'đút', 'bò', 'dọn', 'drink', 'giỏi', 'waiter', 'sjnh', 'tỏ', 'dần_dần', 'gato', 'sum', 'bon', 'tà_phớ', 'đos', 'design', 'lânj', 'xô', 'supervisor', 'cổ_xưa', 'thang', 'khớp', 'tự_nhủ', 'xời', 'tropical', 'nct', 'nhầm_đồ', 'hoá', 'ms', 'comon', 'mua_sắm', 'gọn_lỏn', 'choi', 'dày_cộp', 'mòn', 'ngác', 'dung', 'cung_cấp', 'kei', 'hẹp', 'jack', 'lăn_lóc', 'during', 'béo', 'nhàa', 'pv', 'definitely', 'cơ_số', 'nạnh', 'cưa', 'lúng_túng', 'mùng', 'kiềm_chế', 'phản_cư_xử', 'lồ_lộ', 'spicy', 'bánh_gối', 'sắc_màu', 'dư', 'rau', 'gầm', 'nổ_vậy', 'dọc', 'chô', 'xofa', 'trừng_trừng', 'mỏi', 'miệng', 'thaya', 'served', 'đội_ngũ', 'mèo', 'cập_kênh', 'nhập_nhằng', 'bầy', 'săn', 'mấy_khi', 'quyết', 'trái_ngược', 'sếp', 'quầy', 'họng', 'okie', 'soufle', 'ngải', 'ngô_viên', 'hạnh_phúc', 'daruma', 'cury', 'món', 'khỉnh', 'lục_bục', 'rời', 'gác', 'hot_milk', 'tất_niên', 'âm_thanh', 'réo', 'ẩm_thực', 'đẩy', 'xút', 'kicked', 'hờ', 'hoa_mĩ', 'cùi_chỏ', 'vực', 'nhăn_răng', 'mún', 'hì_hục', 'dài_dài', 'hope', 'carot', 'tụ_họp', 'phủ_đầu', 'xấu_tính', 'nhiên', 'thông', 'làm_bạn', 'nhặng', 'chầu', 'fish', 'giới_hạn', 'vật', 'thiếu_thốn', 'phai', 'chút', 'mở_màn', 'ngột', 'nek', 'phắt', 'mê_mệt', 'còm', 'phong', 'đạt', 'highland', 'tê_tê', 'cải_thiện', 'bổ', 'be_bé', 'sật', 'php', 'rất', 'frape', 'paradise', 'khọt', 'lạ_lùng', 'toát', 'chuẩn', 'vĩ', 'vắng_vẻ', 'conect', 'khach', 'dửng', 'thì_thầm', 'phũ_phàng', 'ngây', 'đb', 'dờ', 'get', 'biết_đâu', 'yến', 'chuốt', 'đòi_hỏi', 'fải', 'nịnh', 'halowen', 'lắp', 'lèo', 'hưng_phấn', 'văng', 'xào', 'trắng_đen', 'nhỏ_giọt', 'khiếp_đảm', 'sumer', 'ưu_ái', 'chậm', 'thực_đơn', 'giâ', 'nchug', 'tác_nghiệp', 'có_lý', 'loanh_quanh', 'rầm_rầm', 'nước_đá', 'thành_ra', 'keu', 'bếp', 'phô', 'hàng_mã', 'bibimbap', 'phong_đồ', 'thay_đổi', 'gà', 'tù', 'chủ_yếu', 'sửa', 'nạo', 'nứt', 'nghiền', 'reserve', 'mùa', 'nhốt', 'snow', 'lý', 'loai', 'chửi_bới', 'obama', 'nghĩ_lại', 'chong_chóng', 'ké', 'bobabop', 'island', 'mi', 'kinh_tởm', 'tưởng_tượng', 'lè', 'thiết_kế', 'quyết_tâm', 'meats', 'invite', 'càm', 'bánh_nướng', 'bọc', 'stone', 'phàn', 'tips', 'ngổn_ngang', 'fu', 'ktoan', 'bánh_gai', 'y_như', 'thân_thích', 'maiz', 'nhai', 'đã_đành', 'xung_đồ', 'chổng', 'ì', 'dac', 'ra_mắt', 'thuý', 'láo_lếu', 'né', 'vãi', 'min', 'lined', 'ti_toe', 'nông_choèn', 'hoảng_loạn', 'đồng_ý', 'eo_ôi', 'ngủa', 'cáu', 'bụi', 'mau_miệng', 'xét_nét', 'coca', 'tiết_kiệm', 'dễ_dãi', 'nâu', 'phụ_phí', 'đăng_đắng', 'thát', 'chong', 'thò', 'tăng_giá', 'mệnh_danh', 'chip', 'va', 'dưới', 'đào', 'tiến', 'vòng_vèo', 'khắt', 'tràn_trề', 'mỳ', 'trứng_nước', 'd', 'buồm', 'tỉ_lệ_thuận', 'xộc', 'keke', 'kinh_thề', 'december', 'cuộn', 'biệt', 'fanpage', 'dừ', 'tém', 'tư', 'rước', 'dam', 'ngọt_nhạt', 'combo', 'gian_lận', 'hòa_đồ', 'lọt_lưới', 'phong_cách', 'chg', 'chứ_lị', 'hú', 'breadtalk', 'trống', 'khuyến_mãi', 'bùi', 'việt', 'mắng', 'sach', 'lửng', 'giảm_giá_thành', 'mục', 'lầy_lội', 'ăn_đứt', 'eg', 'dư_vị', 'đa', 'ốc', 'ever', 'sâu', 'đánh_chén', 'thê', 'icecream', 'last', 'lắm', 'nhiệt', 'thiết_nghĩ', 'hứng', 'món_chính', 'serves', 'râu_dài', 'nhiều', 'geting', 'tastes', 'sát', 'nhạc_nhẹ', 'trúc', 'mợ', 'sum_họp', 'xun_xoe', 'ngồi', 'hùng_hục', 'diã', 'chủ_nhật', 'có_khi', 'lừa', 'charges', 'tđn', 'ấm', 'lẫn_lộn', 'bụg', 'hảo_hạng', 'tỏ_vẻ', 'mạnh_dạn', 'thệm', 'đơn_giá', 'bươu', 'pr', 'củng', 'mỉm', 'sale', 'trực', 'cảm_động', 'bồi_bàn', 'cer', 'luôn_thể', 'must', 'gắn', 'refil', 'fody', 'nghỉ_chân', 'trao_đổi', 'quý_khách', 'lam', 'thành', 'tự_động', 'vị_trí', 'tiy', 'háo', 'thật', 'cam', 'tự_dưng', 'afternon', 'cải_thảo', 'hiệu_quả', 'dạng', 'xin_xỏ', 'lâu_xá', 'phượt', 'update', 'mát_rượi', 'thực_chất', 'sực', 'đầu_vào', 'gelato', 'hưu', 'xứg', 'dậy', 'tma', 'igongcha', 'lỡ_ra', 'lược', 'nhè', 'teriaki', 'ngang_ngửa', 'decorations', 'ưg', 'nóichung', 'đánh_dấu', 'kiến_trúc', 'tử', 'linh_động', 'xừ', 'tống_cổ', 'đz', 'loang', 'bánh_xe', 'ki', 'đứng_tuổi', 'tướt', 'giận', 'am_hiểu', 'sáng_rực', 'treat', 'độc_đáo', 'tổng_chi_phí', 'đó', 'mò', 'hieu', 'chậm_trễ', 'rã', 'bao_quát', 'phết', 'phong_vị', 'king', 'lợn_cà_ri', 'đông', 'phi_qua', 'làm_thuê', 'hoàn_toàn', 'lẩu_cua', 'vương_vấn', 'buộc', 'méo', 'xá_xíu', 'beverage', 'vằn_thắn', 'the_bank', 'vảng', 'buôn_bán', 'tợn', 'gạo_cội', 'bồi_bổ', 'nhều', 'tận', 'quan_trọng', 'đèn_vàng', 'lăsm', 'people', 'nam', 'review', 'tánh', 'space', 'tổng_đâu', 'vứt', 'bẳn', 'tinh_ý', 'tưởng_chừng', 'why', 'hawai', 'cứu_vớt', 'xét', 'vội_vàng', 'phát', 'khô_cứng', 'đục', 'cua_nước', 'feta', 'không_khí_nhạc_sống', 'ngoại', 'thèm_vào', 'thảnh_thơi', 'chèo_kéo', 'hộp', 'bà_cốt', 'option', 'thiếu_điều', 'quả_thực', 'có_lẽ', 'cận', 'ngữ', 'diếc', 'chuửi', 'nghỉ', 'cà', 'giục_giã', 'đồng_nghĩa', 'mềnh', 'ù', 'biến_dị', 'ứa', 'nhở', 'tí_teo', 'bề_ngoài', 'khuyến_khích', 'khó', 'milk', 'ngáo', 'tầng', 'vương_vãi', 'xua_tan', 'xoã', 'bthg', 'thân_hình_như', 'đông_đồ', 'gáu', 'macaron', 'nhiệt_năng_động', 'quay_cuồng', 'lừa_đảo', 'tăngj', 'nghi_ngờ', 'lắng', 'lở', 'pizabox', 'đì', 'ỉu_xìu', 'rầm_rộ', 'tổng_người', 'vz', 'xót', 'chim', 'choáng_ngợp', 'hét', 'châc', 'thơ_mộng', 'chần', 'lễ', 'freship', 'truoc', 'decor', 'dẻo', 'phải_cái', 'đôngf', 'thất_vong', 'tham_gia', 'king_giang', 'duổi', 'nắng_nôi', 'đi_đôi', 'relax', 'lất_phất', 'phụ_trách', 'giá_cả', 'tgian', 'hạ', 'recomended', 'mẳt', 'xúc_phạm', 'starbucks', 'ntin', 'trá_hình_thành', 'nhièu', 'trông_coi', 'khò', 'ăn_nhập', 'tạm_bợ', 'sơ_bộ', 'olympic', 'tụt', 'br', 'trái', 'away', 'khoai', 'cũng_nên', 'đat', 'house', 'thiệp', 'cal', 'trở_thành', 'ngậy', 'giảm', 'lớn_tuổi', 'xao_xuyến', 'éo', 'management', 'neu', 'úp', 'lquan', 'nhân_viên', 'thói', 'chorizo', 'vàg', 'thối', 'xú_uế', 'ủi', 'wtf', 'đường_mật_ong', 'khă', 'rủ_rê', 'ngắc_ngoải', 'trà_dâu', 'chevi', 'hững', 'lanh', 'âm_u', 'trà_hóa', 'thỏa_thích', 'quy', 'cặp', 'spinach', 'tái_chiên', 'hn', 'nhìn', 'hết_sức', 'múi', 'đau', 'bánh_xèo', 'bigc', 'shugun', 'một_hai', 'đơn_thuần', 'bôi_đen', 'sạn', 'tuấn', 'có_chăng', 'mì', 'tơi_bời', 'chi_tiết', 'đối', 'nhân_tiện', 'biến', 'dímum', 'nhà_in', 'chi', 'vay', 'bà_ba', 'bình_dân_dã', 'quá_đáng', 'homemade', 'fanciful', 'lên_đường', 'tháp', 'nhẩy', 'đoái', 'bạn', 'măng', 'tiếc', 'trang_trọng', 'bê', 'quyết_định_giá', 'tôi', 'yên_tâm', 'chễm_chệ', 'vả_lại', 'bung', 'rúc', 'tẩy', 'bmc', 'nhè_nhẹ', 'cởi_mở', 'thập', 'bưởi', 'thing', 'value', 'dễ_thương', 'bọn', 'potomac', 'vụng_về', 'thừa_thãi', 'hoành_tráng', 'tổ_chức', 'abd', 'terible', 'xin_lỗi', 'ăn_bẩn', 'bất_chủ', 'vinh', 'giở_giọng', 'phản_chỗ', 'hàm', 'bao_giờ', 'white', 'unbelievable', 'lumia', 'hấp', 'tơi', 'resembled', 'vì_sao', 'chịu', 'từ_tốn', 'tình_hình_như', 'hu', 'bê_tái_chanh', 'cựu', 'thể_hiện', 'thông_thường', 'lâm_viên', 'chiều_chuộng', 'đầu_lưỡi', 'lượng', 'biển_hiệu', 'nho_nhỏ', 'xử', 'lưowjt', 'tha_hồ', 'thi_thoảng', 'guốc', 'nhờn', 'deli', 'bước', 'giúp_việc', 'hihih', 'chuyeẹn', 'cụng', 'tầm_viên', 'trung_binh', 'tượng', 'ước', 'ồn_ã', 'ost', 'chai_nươc_khoáng', 'jely', 'lợn', 'gian_dối', 'galbi', 'dấm', 'nhẫn_nhịn', 'béo_múp', 'hoc', 'xinh_xắn', 'deliverynow', 'trào', 'parking', 'cưỡng', 'thị_giá_như', 'xa_hoa', 'vào', 'xu_thế', 'nhớ', 'đx', 'piano', 'đến_nơi', 'thích_hợp', 'xù', 'miso', 'sashimi', 'muon', 'mịn', 'nổi_tiếng', 'chảnh', 'vớ', 'bột', 'tén', 'phục_vụ', 'mặt_đường', 'muối', 'gâteaux', 'kịn', 'si', 'chỉ_tội', 'thật_sự', 'thịnh_vượng', 'có_hậu', 'tích', 'vẫn', 'sưởi', 'save', 'cua_đồng', 'lưu_ý', 'ac', 'dựa', 'thôi_thì', 'chứng_tỏ', 'thả', 'muôi', 'điên_tiết', 'omami', 'khắc', 'đồng_hành', 'xem_ra', 'court', 'finaly', 'tới', 'đáng', 'nêm', 'đồn_đại', 'dâud', 'ui', 'bận', 'hầu', 'giải_thích', 'lên_đời', 'trồng', 'vàng_khè', 'kỉ_niệm', 'sốt_ăn', 'lựa_chọn', 'chán_vậy', 'châu', 'đa_canh', 'tội_nghiệp', 'tông', 'hớn_hở', 'liều', 'đía', 'ghép', 'lãng', 'phù_hộ', 'định_mệnh', 'vani', 'soup', 'dẫm', 'thiếp', 'chiến_thắng', 'chập_chờn', 'smeled', 'húp', 'thực_hiện', 'trọng', 'chơi', 'nhăn_nhó', 'vâng_dạ', 'phá_sản', 'năng_động', 'liền', 'trở_thịt', 'đọc', 'mát_mẻ', 'hsau', 'tú', 'thuê', 'trung_thực', 'nổi_tiếng_thế_nào', 'sạt', 'chuyền', 'phi_thẳng', 'nạm', 'như_thường', 'đen_thui', 'không_đâu', 'survey', 'hơpj', 'to_mồm', 'thề', 'until', 'dạo', 'nkữg', 'takomaru', 'mề', 'gẫy', 'nghiêm_trọng', 'mìnhcho', 'nhão', 'tậm', 'scl', 'từ_biệt', 'tây', 'tơi_tả', 'taylor', 'pari', 'favorite', 'cua_thịt', 'hối_hả', 'lép', 'hồi_hộp', 'quan_tâm', 'lẹ', 'ừng', 'lơ_đãng', 'thik', 'khám', 'lisom', 'asian', 'thoáng_đãng', 'băn', 'tuyên_bố', 'trỏn', 'phèo', 'dơi', 'xám_xịt', 'lap', 'lẫn', 'tok', 'spaghety', 'nhắc_nhở', 'reset', 'an_tâm', 'chang', 'đắng_ngắt', 'ngươi', 'whoever', 'cụ_thể', 'nbotonamsanh', 'miệg', 'kinh_dị', 'cgx', 'tiện', 'aen', 'outside', 'chủ_đạo', 'ragu', 'rải', 'níu', 'nhàm_chán', 'sụn', 'hậm_hực', 'giải_khát', 'quấn', 'doi', 'churos', 'phoma', 'nyưng', 'làm_ơn', 'sùng_sục', 'mộ', 'friendly', 'bánh_in', 'soda', 'tự_do', 'vừa_miệng', 'đùi', 'bm', 'hoả', 'huấn_luyện', 'vnđ', 'kỳ_thị', 'rẻ', 'chiac', 'lõng', 'dao_động', 'thân_nhiệt_tình', 'zing', 'chíp', 'nhếch', 'ngc', 'nến', 'úi', 'ghẹ', 'ị', 'ăn_không_căng_rốn', 'bửu', 'nhà_vậy', 'xè', 'thuờng', 'v', 'ngạc', 'before', 'ân', 'xám', 'tàng_hình', 'trở_aply', 'oy', 'đặc_trưng', 'bình_thường', 'đầy', 'hêt', 'qay', 'vặn', 'phòng_ốc', 'bết', 'chẳng_hạn', 'dẹp_tiệm', 'toản', 'khoai_tây', 'đắng', 'xăm', 'vữa', 'vui_lòng', 'têt', 'service', 'lăng_xăng', 'nhèo', 'đàng_hoàng', 'mỏng', 'cò_cưa', 'cướp', 'de', 'đóng_gói', 'el', 'hon', 'ăn_ý', 'reading', 'cost', 'đái', 'điên_đảo', 'lõng_bõng', 'khẳng_định', 'náo', 'binh', 'phát_triển', 'giản_dị', 'god', 'chủ_động', 'khủng_khiếp', 'dừmg', 'mặt_trời', 'rest', 'mụi', 'rông', 'căn', 'hản', 'áp_dụng', 'oa_oa', 'cầu_hôn', 'q_cốc', 'bâu', 'xúi', 'vaif', 'tràn_ngập', 'chính_hiệu', 'ui_hóa', 'birthday', 'danish', 'phiên', 'nx', 'flush', 'tay_cầm', 'gởi', 'ráo', 'giãn', 'great', 'với', 'grens', 'hình_như_không', 'tê', 'sung', 'siêu_thị', 'qui', 'ý_kiến_thiết_nghĩ', 'dở_tệ', 'thanh_đạm', 'bớt', 'ma', 'đày', 'bình', 'sịn', 'ngố', 'vội', 'kếp', 'trơn', 'strawber', 'bế', 'nhận', 'quáa', 'xốp', 'chậu', 'tí_xíu', 'làm_khó', 'nước_khoáng', 'sâm', 'trong_lành', 'tag', 'ngoách', 'lận', 'hàm_lượng', 'bình_dân', 'thiên', 'mãng', 'khác_biệt', 'chè', 'choảnh', 'gắt', 'chung', 'rỗng', 'đuổi', 'trở_lại', 'the_note', 'sỉ', 'đùn_đẩy', 'hên', 'tiết', 'hoành_thánh', 'teribly', 'choka', 'lưu_tâm', 'lù_lù', 'quisela', 'ươm', 'vphòng', 'đậu_xanh', 'hit', 'treo', 'chem', 'lùn', 'hokaido', 'jambon', 'mau', 'bắc', 'chống_đối', 'sán', 'stop', 'ác', 'nghiến', 'nhà_hàng', 'cường', 'ngy', 'nha', 'nayd', 'so_sánh', 'vốn', 'kêu', 'ghi_nhớ', 'chau', 'hải_dương', 'chồng_chất', 'kìm_nén', 'vưa', 'vỡ_cốc', 'nhà_sách', 'chày', 'hợp_khẩu', 'khan', 'vien', 'mồi', 'rực_rỡ', 'kĩ_lưỡng', 'tráo_đổi', 'triều_châu', 'minh_hoạ', 'ư', 'nen', 'lúi_húi', 'sau_cùng', 'vòa', 'ban_công', 'triển_lãm', 'chủ_ngữ', 'kiu', 'tầm', 'ngữa', 'blend', 'thấu', 'dạy', 'thẩm_mĩ', 'nưoc', 'training', 'tầm_cỡ', 'thức_tỉnh', 'vài_ba', 'tấn', 'lớn_mạnh', 'đem', 'claus', 'thấm_tháp', 'tiêu_biểu', 'thanh_long', 'choáng', 'sần', 'rau_cần', 'trc', 'lứt', 'muôn', 'n_', 'tham_khảo', 'láng', 'lờ', 'đông_nghẹt', 'snack', 'quấy', 'c', 'tôn_trọng', 'welcome', 'cũngf', 'nấm', 'somerset', 'kiên_định', 'viêng', 'lạp', 'ưa_nhìn', 'chửi', 't_t', 'caramen', 'cụt_hứng', 'bán_lẻ', 'store', 'phaie', 'tọa_lạc', 'hội_họp', 'mất_vệ', 'tù_túng', 'buôn', 'xưng', 'buộc_lòng', 'vui_chơi', 'tuyệt', 'gạo', 'brule', 'ảo', 'bth', 'phan', 'dễ_dàng', 'tươi', 'bé', 'cải', 'quá_lắm', 'khuyên', 'tái_hiện_thực_thụ', 'bịn', 'phảh', 'ngập_tràn', 'khóa', 'chảo', 'sạc', 'mong_muốn', 'muachung', 'trái_cây', 'cozy', 'botanica', 'phê', 'mắm_tôm', 'ồng_ộc', 'lỡ', 'lù', 'bánh_rán', 'ky', 'lìu', 'wang', 'toàn_tập', 'trà', 'đầy_ắp', 'tiên', 'okay', 'đóng_cửa', 'kìa', 'cảm_giúi', 'nbánh', 'hary', 'lỗi', 'hôi', 'lây', 'bưg', 'trút', 'chật_chội', 'chùi', 'rét', 'cofe', 'lạt', 'đích_thân', 'nhốn_nháo', 'xanh_rờn', 'cồ', 'nhất_quyết', 'đền', 'làm_hàng', 'rọi', 'quánh', 'pha_tạp', 'prefer', 'tị_nạnh', 'nước_ăn', 'đéo', 'có', 'khuyến_mại', 'chi_phối', 'vậy', 'hiểu', 'thanh_bình', 'apertizer', 'lăn_tăn', 'dễ_thương_nhân_viên', 'swet', 'cug', 'tip', 'mạnh_mẽ', 'đức', 'lag', 'hot', 'phát_hiện', 'ngỡ_ngàng', 'nigiri', 'menu', 'ghé', 'ngàn', 'cảm_nhân', 'ai_bảo', 'tương_đương', 'xá', 'xắt', 'lão', 'od', 'fan', 'chú_tâm', 'ủnh', 'tvt', 'cashback', 'than_phiền', 'tổng_thiệt_hại', 'bao', 'phản_hồi', 'uốg', 'mih', 'giấy_ăn', 'cả_gói', 'nhập_nhoạng', 'phàn_nàn', 'cảm', 'trữ', 'hun', 'cơ_bản', 'ấp_ủ', 'đồng_phục', 'tuân_thủ', 'thỏa_sở_thích', 'fods', 'đẹp_đẽ', 'lung_tung', 'tim', 'đu_đưa', 'nôi', 'hàng_quán', 'nặn', 'ít_ỏi', 'y_bánh', 'say_sưa', 'nsalad', 'bốc_thăm', 'lịch_thiệp', 'tóe', 'hạnh_nhân', 'an_ủi', 'tìm_kiếm', 'đội', 'truyện', 'okinawa', 'wildbery', 'hạt_tiêu', 'đóa', 'thóa', 'tiếp_theo', 'đỉnh_điểm', 'trượt', 'ib', 'xấu_xí', 'áp_chảo', 'gateaux', 'tỉnh_bơ', 'bất_nhã', 'đứng', 'khó_chấp', 'lạnh_giá', 'mơí', 'chám', 'lạc_đề', 'order', 'chí', 'thâm', 'rasbery', 'by', 'cảm_giác', 'tiềm', 'vô_tình', 'nóng_chảy', 'sá', 'chụng', 'anh_vũ', 'phào', 'xốt', 'cáu_kỉnh', 'truyền', 'tí_tẹo', 'lổm', 'đăch', 'hơn_nữa', 'tự_tin', 'tỉ_phú', 'rau_sống', 'quên', 'made', 'xử_lí', 'hằm_hằm', 'quan', 'gặp_mặt', 'lại', 'thât', 'cẩu', 'xâm_nhập', 'biệ', 'toẹt', 'j', 'cầm_lòng', 'chuộc', 'bình_luận', 'mà', 'duy_trì', 'táo', 'yếu', 'regarding', 'hóng', 'hình_thức_đặt_bàn', 'sở_hữu', 'khích', 'rolcake', 'hồn', 'dừa_xiêm', 'điêu', 'bỉn', 'chọn_lọc', 'nhue', 'sio', 'hic', 'xếp', 'sung_sướng', 'other', 'sầu_riêng', 'nquý', 'phát_đạt', 'hữu_ích', 'tch', 'phải_chăng', 'giở', 'kém_cạnh', 'giàu_có', 'cảm_giấc', 'nhũn', 'gê', 'presents', 'địa_điểm', 'nhòa', 'asked', 'lộ', 'khuôn', 'bãi', 'trân_châu', 'dây', 'sũa', 'quẳng', 'nói_khó', 've_rui', 'hương_sen', 'đảo', 'thought', 'bông', 'eo', 'chặn', 'hẻo_lánh', 'thảo_mộc', 'cà_pháo', 'dự', 'phình', 'honey', 'dở_đồ', 'duong', 'dịu', 'đánh_rắm', 'ks', 'trẻ', 'gắn_bó', 'gật_gật', 'đổ_bộ', 'xo', 'pháp', 'bí', 'thượng', 'nướg', 'when', 'mái', 'đên', 'lạp_xưởng', 'qua_lại', 'noi', 'mắm', 'nhom', 'bình_yên', 'rìa', 'ncr', 'chi_phí', 'kết_hợp_số', 'kiến', 'vương', 'đề_cập', 'nước_xốt', 'loe', 'cá_sấu', 'ngang_dạ', 'ăn_đường', 'dậo', 'bạt_ngàn', 'lo_lắng', 'ordered', 'tuốt', 'đúg', 'lịch_sự', 'sản', 'bất_đắc_dĩ', 'tata', 'bóng_bẩy', 'càn', 'r', 'nhỡ', 'move', 'liên', 'nothing', 'what', 'zữ', 'suất', 'nhiêug', 'nviên', 'phi_tiêu', 'điển_hình_như', 'chìm', 'thịt_thà', 'xiên', 'lâu_lâu_lâu', 'su_su', 'nguội_lạnh', 'liệt', 'nói_nhỏ', 'khai_vị_trí', 'lờ_lợ', 'hehe', 'uong', 'quái', 'nc', 'thuộc', 'machiato', 'hâm_mộ', 'n_không', 'ướt', 'trông_mong', 'bưng', 'hết_mình', 'quào', 'show', 'grey', 'oil', 'thập_cẩm_cốc', 'nướng', 'diêu', 'đâu', 'độ_ẩm', 'chese', 'gìơ', 'hơn', 'vck', 'vụ', 'đon_đả', 'mài', 'pate', 'hamburger', 'hôi_thối', 'sờ', 'tủ', 'đương', 'mặn_chát', 'ngoài_lề', 'hí', 'hạn', 'nguyên', 'trở_nên', 'rẽ', 'tỏ_tình', 'nhất', 'trog', 'cơm', 'hầu_bao', 'crepes', 'nhầy_nhụa', 'jaz', 'làm_giàu', 'gơ', 'directions', 'popeyes', 'cửa_hàng_phục_vụ', 'đà_nẵng', 'vắt', 'cộng', 'unique', 'thục_mạng', 'quá_lửa', 'bất_cần', 'tianf', 'trưng_dụng', 'róc_rách', 'tận_tình', 'xôi_ngô', 'linh_tinh', 'nhất_trí', 'lơ', 'biết_bao_nhiêu', 'những_ai', 'whiping', 'ưu', 'chiếm_giữ', 'cầu_thang', 'ngang', 'hoa_cúc', 'nhạt_nhoà', 'ngạt', 'trên_cơ', 'sốt_quyện', 'clg', 'ăen', 'ăn_bám', 'or', 'quá_hóa', 'íi', 'ngọt_sắc', 'đánh_lừa', 'song', 'phù_hợp', 'đổ', 'chêm', 'salami', 'sai_lầm', 'cokies', 'trong_ngoài', 'blah', 'cảm_giac', 'hết_hồn', 'dở_vô', 'chềnh_ềnh', 'khiyên', 'lám', 'đưa_đám', 'thươnf', 'chất', 'cà_khịa', 'oanh', 'bf', 'linguini', 'gỉ', 'rối', 'te', 'đáp_ứng', 'kinh_hoàng', 'cty_vậy', 'tùng', 'ngắm_nghía', 'ăn_hỏi', 'ghi', 'phòng', 'than_trắng_xoá', 'nhiễm_khuẩn', 'bao_gồm', 'nước_mắm', 'toạ_lạc', 'tiêu_dùng', 'kết_cấu', 'quệt', 'bún_thang', 'dẫu', 'nhà_văn_phong', 'đặc_sệt', 'hậu_hĩnh', 'lột', 'mìh', 'tuột', 'hùng_hậu', 'never', 'năm_học', 'parfait', 'ý', 'bene', 'phồng', 'ngọt_ngào', 'nói_chuyện', 'xí', 'chẳng_qua', 'nhao', 'tolet', 'hi', 'lấy', 'bất_vs', 'tận_tâm', 'bố', 'means', 'fulfil', 'giải_nhiệt', 'ne', 'chuyển_hóa', 'diên', 'quan_ngại', 'húc', 'rum', 'dỡ', 'điểm_xuyết', 'bỏ_bê', 'cmt', 'cư_xử', 'ncái', 'nhấm_nháp', 'vắt_vẻo', 'rộn', 'lập_cập', 'chay', 'photo', 'ngộp', 'son', 'terayaki', 'ôi', 'lợi', 'khúc', 'vỡ', 'mai', 'ngạc_nhiên', 'quảng_an', 'got', 'burito', 'tín_đồ', 'trẻ_ranh', 'pía', 'kêu_phần', 'kinchi', 'to_đùng', 'thử_nghiệm', 'bẩy', 'bấm', 'moto', 'lưỡi', 'tăm_tối', 'seafod', 'em_em', 'cầm', 'high', 'ót', 'thu', 'châu_chấu', 'cowboy', 'do', 'cãi', 'đổi', 'ấy', 'trăng', 'dakgalbi', 'chóng', 'sel', 'en', 'chocobana', 'lưu_giữ', 'orange', 'giảng', 'lân_la', 'carbonara', 'okonomiyaki', 'dán', 'rộn_ràng', 'ám', 'bắt_nạt', 'bon_chen', 'say', 'chịu_đựng', 'thờ_ơ', 'thắng', 'tích_luỹ', 'truốt', 'rụng_rời', 'giống_hệt', 'q', 'tuần_lộc', 'thường', 'cá_măng', 'bitches', 'kbg', 'thịnh_hành', 'coktai', 'bố_trí', 'củ_cải', 'quầy_quậy', 'pm', 'lòng_đỏ', 'đi_ngoài', 'nguyên_chất', 'khủng', 'tel', 'man', 'dông', 'fresco', 'lững_thững', 'cologate', 'giải_trí', 'trang_nhã', 'lãm', 'tư_vấn', 'beancurd', 'ngây_ngấy', 'nắng_nóng', 'kì', 'nhan_nhản', 'macha', 'nghị', 'hồn_nhiên', 'sđt', 'qtrog', 'cưng', 'cứu_vãn', 'có_mặt', 'bacon', 'mì_chính', 'là_hơi', 'tùm', 'mà_hóa', 'margherita', 'vs', 'kín_mít', 'thái_độ', 'ăn_gian', 'bách', 'đánh_bại', 'lép_vế', 'nganh', 'pháo', 'nhịêt', 'tâm_can', 'xích', 'perfect', 'thanh_tao', 'iêu', 'texture', 'jlegu', 'bò_tơ_năm_sánh', 'bực_mình', 'vũ', 'vui_sướng', 'set', 'giám', 'lườm_nguýt', 'quay', 'phăng', 'đồ_dùng', 'nha_ngao', 'vang', 'kết_quả', 'điên', 'chez', 'nhã', 'coment', 'nghèo', 'cưu_mang', 'đầy_tháng', 'thót_tim', 'chúc_mừng_tuổi', 'thíc', 'thê_thảm', 'vịt', 'dở_wifi', 'đơx', 'niêm', 'delay', 'nhổ', 'chinh_phục', 'nguyên_bản', 'đập', 'sắp', 'mặc_dù', 'starbuck', 'đặc_vụ', 'trách', 'lặn_lội', 'tách', 'toáng', 'chấp_nhận', 'sốc', 'luckily', 'eaten', 'ngon_lành', 'lạc', 'ví', 'giời', 'nhiẹt', 'rau_thơm', 'cho_nên', 'lấp', 'như_ý', 'nguỵ', 'nhỏ_bé', 'biên_thuỳ', 'could', 'xóa', 'hiẻu', 'side', 'lỡ_duyên', 'đồ_mát', 'đột_nhiên', 'súp', 'shoved', 're', 'hạ_nhục', 'nhập_khẩu', 'la', 'tán', 'kute', 'mồm_cốc', 'nhắn_tin', 'rán', 'đại', 'next', 'phát_huy', 'giờ', 'tình_cờ', 'ỷ', 'bs', 'tập_hợp', 'ơr', 'cũnh', 'chủ_đề', 'tuy_vậy', 'caramel', 'nguôi', 'siêu', 'lt', 'lời', 'nhấn', 'chân_thật', 'ship', 'smothie', 'phan_nan', 'ruồi_nhặng', 'troi', 'goc', 'lunch', 'dồ', 'least', 'bồn', 'một_chút', 'tiếp_nhận', 'chót', 'thanh_tĩnh', 'khiết', 'mập', 'bị_thịt', 'uổng', 'nhận_xét', 'crazy', 'trở_lên', 'cà_ri', 'vô_ý', 'chago', 'mẩu', 'came', 'cashier', 'phó_đức', 'cbi', 'đảm_bảo_vệ_sinh', 'vo', 'ngồi_bệt', 'trứ_danh', 'chối', 'diệu', 'burger', 'rong', 'led', 'ha_ha', 'mềm_mại', 'mụ', 'yếu_kém', 'tươi_tắn', 'cảo', 'kiểm', 'sốt_phủ', 'đầu_bếp', 'rò', 'kiệm', 'nga', 'học', 'trangs', 'lên_men', 'tăm_hơi', 'nhưngx', 'ngược', 'old', 'lí_do', 'khét', 'bánh_giò', 'right', 'sắt', 'ọt', 'travelers', 'ân_cần', 'mặc_kệ', 'nếp_cẩm', 'hoài_niệm', 'đỉa', 'thất_bại', 'dù_sao', 'ngan', 'ôxy_hoá', 'bánh_cuốn', 'chính_xác', 'daz', 'minh_họa', 'aple', 'trả', 'boa', 'tò', 'ứ', 'thuận_tiện', 'hỗn_độn', 'lằng_nhằng', 'giât', 'uốnh', 'đoi', 'bì', 'ít_ra', 'lảu', 'trôi_nổi', 'xem_hóa', 'withwine', 'sasin', 'chèn_ép', 'giàu_có_mang', 'xông_pha', 'tội', 'places', 'vỡ_mộng', 'lang', 'dv', 'lq', 'chẳng_nhẽ', 'ăn_mòn', 'ti', 'dã_man', 'cộc_cằn', 'trình_bày', 'hapy', 'trsữa', 'chocolate', 'tình_tứ', 'thân_yêu', 'sag', 'loãng', 'thô', 'ngặc', 'ngĩ', 'thân_thiết', 'lê', 'lăm', 'couple', 'bar', 'you', 'nghon', 'quỵt', 'bánh_đúc', 'bao_trùm', 'xin_vậy', 'cuồng', 'mini', 'nhân', 'tân', 'đường_đường', 'bỏng', 'cà_rốt', 'bakery', 'chúng_mày', 'mìnhnen', 'quá_bộ', 'fb', 'biẹt', 'clump', 'tình_trạng', 'trống_không', 'bát', 'chào_mời', 'bươc', 'ha', 'hái', 'đậu_đỏ', 'dài_ngoằng_ngoẵng', 'waited', 'miếnh', 'phí_phạm', 'can_tội', 'thấp', 'bổ_sung', 'thế_thì', 'xuể', 'khảo', 'nhím', 'phủi', 'thạch', 'complements', 'héo', 'ống', 'sing', 'đời', 'cá_nước', 'hiện', 'tí', 'chê_bai', 'trưng', 'xạo', 'sandwhich', 'chăng_nữa', 'đồng_tiền', 'bạc_hà', 'thơm_nức', 'tùy', 'đọng', 'đủng', 'sửa_sang', 'đỏ_ngầu', 'nọ', 'sở_thị', 'ngao', 'uk', 'hóa', 'biểu_diễn', 'pha_chế', 'phuy', 'bỗng', 'hồi_tưởng', 'nõn', 'gr', 'nhội', 'thông_cảm_đằng', 'thảm_hại', 'đùa', 'cồn_cào', 'banana', 'live', 'buồn_nôn', 'bạn_bè', 'dôi', 'lần', 'đệp', 'rát', 'checkin', 'đuối', 'đá', 'nice', 'dùng_bữa', 'late', 'chen_lấn', 'tâm_đắc', 'puked', 'chội', 'hoang', 'salsa', 'bạc', 'viết', 'lấu', 'hiểm', 'lý_tưởng', 'thid', 'ngộ_độc', 'lặc_lè', 'mải_mê', 'kinh', 'ra_công_nhận', 'đối_đãi', 'ôm', 'yêu_cầu_xin', 'nhà_thờ', 'nói_thẳng', 'xử_sự', 'chỉ_áp_dụng_từ', 'kiểm_duyệt', 'dài', 'create', 'tạm_thời', 'sau_hết', 'quét_dọn', 'bánh_bèo', 'khởi_hành', 'đươch', 'chằm_chằm', 'kẹo', 'khuấy', 'cảm_hứa', 'vẫy', 'sền_sệt', 'năng', 'khinh_thường', 'bồi_thường', 'liếm', 'beloveds', 'beat', 'thuong', 'dân_dã_giản', 'nhàn_rỗi', 'hoa_lá_cành', 'đơ', 'lọt_thỏm', 'hoài_cổ', 'ghi_điểm', 'cản', 'nhỏ', 'xoắn', 'mong_ước', 'bệt', 'trên', 'ảnh', 'tr', 'gongcha', 'hòa_viên', 'trang', 'bao_xa_vậy', 'loạt', 'mnhf', 'lùi', 'staf', 'mĩ', 'rùng', 'which', 'nhạt_thếch', 'nuôi', 'is', 'giúp', 'ghêa', 'ra_gì', 'nhât', 'miễn_cưỡng', 'ad', 'chyên', 'dùg', 'bảnh', 'cuốn', 'nữ', 'mojito', 'sup', 'dăm', 'ngăn', 'cok', 'hoàng_tộc', 'violon', 'dương', 'thai', 'nhiet', 'đoán', 'kiêu_sa', 'nhug', 'kampong', 'nghìn', 'điền', 'thốt', 'best', 'ngập', 'tì_tì', 'đàn', 'phia', 'lot', 'cá_hồi', 'la_làng', 'liên_hệ_thống', 'cháy', 'arất', 'only', 'xa_tít_tắp_lự', 'okonomyaki', 'quai_hàm', 'bày_biện', 'nước_trắng', 'lục', 'ăn_quỵt', 'nho', 'trang_trí', 'thành_hình', 'may_rủi', 'nhoe', 'thỏa_mái', 'nhoằng', 'ảgento', 'liếc', 'hoi', 'tận_mắt', 'vi_sóng', 'chân_chính', 'xài', 'bite', 'dừng', 'hôi_tanh', 'gói_ghém', 'ngăn_nắp', 'wholes', 'reviews', 'sườn', 'thắt', 'ai_đời', 'lòn', 'vật_vã', 'ocupying', 'dk', 'lằng', 'rỗng_không', 'khám_phá', 'máy_chiếu', 'huhu', 'khẩu_vị', 'ươn', 'vegetarian', 'lựa', 'đax', 'nhập', 'xung', 'main', 'thèm', 'quế', 'tỉ_mẩn', 'chăcs', 'opera', 'óp', 'tùy_thích', 'phản_ảnh', 'ofer', 'hối_tiếc', 'kết_thúc', 'bằng', 'xì_dầu', 'lem_luốc', 'vietnamese', 'nhon', 'đậu_đen', 'lia', 'lsau', 'phân_công', 'đãn', 'most', 'ròng_rã', 'also', 'bồ_kết', 'kiểm_định', 'làm_chủ', 'nàu', 'ngọt', 'đẫm', 'tb', 'tấp_nập', 'lưỡng', 'nồi', 'thoả_thích', 'nhảy', 'lvc', 'mắc_lừa', 'trung_bình', 'miến', 'kêu_mỡ', 'lơ_ngơ', 'hà_nội', 'thồ', 'chật_vật', 'kimchi', 'khoa', 'thất', 'ốp', 'lung_linh', 'ktx', 'nhễ_nhại', 'phiền_toái', 'hậu', 'khô_ráo', 'ten', 'dở_tẹo', 'trật', 'bình_phục_vụ', 'hứa_hẹn', 'văng_tục', 'it', 'ngóng', 'lạ_mặt', 'cảm_tưởng', 'quanh_quẩn', 'đtien', 'den', 'ngó', 'nhơ', 'mới_đầu', 'tboáng', 'lắt', 'bạc_màu', 'tằng', 'cải_làn', 'đỡ', 'chê', 'hết_lòng', 'stick', 'máu_me', 'gt', 'mù_mịt', 'bánh_viên', 'xếp_hàng_hoá_ra', 'oko', 'trong_vắt', 'bây', 'địa_điểm_tâm', 'special', 'sinh', 'xíu', 'tsao', 'chưởng', 'pancha', 'lảng', 'brlée', 'chã', 'funy', 'vừa', 'mất_vía', 'spring', 'mặt_phố', 'chén_cốc', 'bài_tập', 'co', 'lập', 'our', 'zẻ', 'tấm', 'car', 'ăn_đậm_đà', 'áy_náy', 'tây_ta', 'quá_sức', 'xương', 'potomac_cruise', 'rồi_đây', 'cất_công', 'rầu', 'ám_quẻ', 'child', 'múc', 'dường_như', 'quyển', 'hỗn', 'ú', 'ra_mặt', 'đính_chính', 'nở', 'tã', 'cân_đối_với', 'gẩy', 'quảng_cáo', 'tuyển_chọn', 'lành_lạnh', 'ngoan', 'kỹ_lưỡng', 'bóng_ma', 'móc', 'chữ_nhật', 'đồng_đều', 'đầm_ấm', 'nhiều_nhặn', 'tối_giản', 'khắt_khe', 'đủ', 'sushi', 'lg', 'tâm', 'nực_cười', 'cmsn', 'thích_đồ', 'tạo_hình', 'từ_trường', 'lòi', 'thay', 'thuỷ_chung', 'men', 'khắp', 'phản_ứng', 'cash', 'bắt_chước', 'luận', 'extra', 'để_tâm', 'gắp', 'ngượng', 'soft', 'sốt', 'đàng', 'trắng', 'plaza', 'thanh_toán', 'whiped', 'rung_rinh', 'lượm', 'dã_ngoại', 'gían', 'know', 'ngả_ngốn', 'cơ', 'tập_kết', 'nào_ngờ', 'bớt_xén', 'tổng_kết', 'kim', 'đáp', 'anh_em_em', 'rhan', 'bưu', 'sg', 'salted', 'fake', 'coa', 'quans', 'góp_ý_kiến', 'bố_láo', 'hiện_tại', 'đu', 'ngọc_thạch', 'tấc', 'lủng', 'ngáy', 'ji', 'vache', 'lom_khom', 'cạch', 'đi_ở', 'tầm_cốc', 'shaker', 'thú_thực_tớ', 'rách', 'tổ_bố', 'nhà_hàng_potomac', 'kết_luận', 'ber', 'hinhd', 'hầu_như', 'chôn', 'lẽ', 'trọc', 'thiện', 'hót', 'thản_nhiên', 'từng', 'ám_ảnh', 'qa', 'vinhomes', 'riêng_biệt', 'lùng', 'thàng', 'tựu', 'sẵn_lòng', 'nội', 'cố', 'gà_sao', 'mát', 'hân', 'thất_thường', 'tai_nghe', 'chanhtuyết', 'sốt_thấm', 'khỏ', 'cho_qua', 'ọp_ẹp', 'bỏ_qua', 'thưa', 'cặn', 'mấ', 'pha_trộn', 'xùm', 'vch', 'nói_xấu', 'chắ', 'kien', 'luon', 'chạy', 'bâng_khuâng', 'ăn', 'uống', 'bất_trình', 'đụng', 'chesecake', 'lích_kích', 'viền', 'cay_trừ', 'dĩ_nhiên', 'làm_vì', 'ăn_dài', 'bay', 'dà', 't_thấy', 'nhà_vệ', 'áp', 'hakata', 'gìon', 'cá_hồng', 'mătj', 'ô_tô', 'gut', 'thịnh', 'tèo', 'creamchese', 'lạy', 'nhanh', 'suy_giảm', 'pải', 'masala', 'nha_tho', 'tet', 'rếp', 'đặt', 'thì_thôi', 'khua_khoắng', 'ngoài_ra', 'ku', 'bít', 'kb', 'nem_rán', 'nhâm_nhi', 'chết_mê', 'thiệt_hại', 'wide', 'mằn_mặn', 'gian', 'emoticon', 'dồn', 'có_nhân_viên', 'ctrinh', 'ridiculous', 'kì_công', 'ép', 'ýt', 'taste', 'nựng', 'qtam', 'vào_khoảng', 'ếch', 'phổ', 'ơn', 'thỉnh_thoảng', 'sôcola', 'bufer', 'đơn', 'xiu', 'thú', 'bánh_ướt', 'wasabi', 'wc', 'dbsk', 'thoăn', 'ngoài', 'mưa', 'package', 'nghiêm_túc', 'mùi', 'oẹ', 'nhé', 'ủn', 'tôm', 'hoành', 'vui_vẻ', 'xoay', 'lem', 'rol', 'suốt', 'họp', 'town', 'kem', 'chời', 'vô_số', 'nguyên_văn', 'bật', 'ăm', 'sả', 'thông_tin', 'hôn_hít', 'bàn_tán', 'ran', 'cá_tính', 'dúm', 'tiny', 'bef', 'vô_hạn', 'nhac', 'muội', 'ngoa', 'ờ', 'separate', 'hứa', 'đúng_ra', 'độc_thân', 'phô_mai', 'trung_hoà', 'xúm', 'vặt', 'ri', 'hitle', 'đầu_ra', 'chug', 'như_thế', 'á', 'xép', 'gần_gũi', 'chắc_chắn', 'muống', 'chưng', 'ớn', 'japanese', 'stomach', 'seoul', 'tuyệt_viên', 'bí_bách', 'toán_loạn', 'đen_đủi', 'trẻ_trung', 'thit', 'thông_minh', 'chở', 'viên', 'lã', 'khôn', 'sầm', 'mam', 'thiu', 'dễ', 'worth', 'kia_hóa', 'um', 'khéo', 'diem', 'creamer', 'cấp_độ', 'vui_nhiệt', 'ồ', 'đăm', 'kh', 'tril', 'za', 'rút_tiền', 'đông_nghịt', 'thiêu', 'lâu', 'khồn', 'mặt_mũi', 'bôi_nhọ', 'nạp', 'cùg', 'river', 'lôi_cuốn', 'ôlong', 'nôm', 'hự', 'giảm_hóa', 'quái_dị', 'đầu_tư', 'cẩm', 'nhop', 'thấy', 'comfortable', 'đặc_công_nhận', 'qớ', 'xử_thế', 'tần_tật', 'ra_vẻ', 'bốn_phương', 'dầu_mỡ', 'khởi_đầu', 'visiting', 'lỏng', 'talk', 'nháo_nhác', 'trơ', 'thiếu_sót', 'tap', 'luộc', 'dị_ứng', 'khấu_đuôi', 'ẩm_ương', 'thạch_ăn', 'taxi', 'kimpap', 'gồm', 'dẽ', 'cota', 'bẹp', 'trág', 'ai_ngờ', 'hat', 'tối_trời', 'bỏ', 'qua_loa', 'quản_lý_thuyết_phục', 'sec', 'hq', 'chui_rúc', 'hữu', 'lặp_đi', 'hãi_hùng', 'nháo_nhào', 'kém', 'thanh_thản', 'afogato', 'chú_ý', 'rấg', 'thư', 'dở_kem', 'bổ_dưỡng', 'chắc_hẳn', 'chuyên', 'lởm', 'bức_xúc', 'tiên_phong', 'tuệ', 'gives', 'phức_tạp', 'lập_tức', 'fod', 'đơn_cử', 'sành_điệu', 'gom', 'cau', 'thích_thú', 'patrait', 'lương_thực_phẩm', 'tạo_dựng', 'đành_rằng', 'hô_hố', 'tòan', 'tệ', 'yêu_thương', 'đun', 'ngòn_ngọt', 'nghĩ', 'lóc_cóc', 'ngớt', 'oreo', 'hi_vọng', 'tri_kỷ', 'bát_đàn', 'ntrong', 'kị', 'đói_meo', 'nhu', 'cầm_hóa', 'nhân_thân_thiện', 'nươcs', 'sát_thủ', 'làm_dáng', 'nấm_hương', 'khỏi', 'chăn_nuôi', 'nghen', 'chọp', 'trơ_mắt', 'gàn', 'hàn_quốc', 'khung_cảnh', 'đươc', 'lề_mề', 'sáng_sủa', 'and', 'trk', 'đón', 'chanh_chua', 'chuốc', 'đèu', 'ngay_tầng', 'rưng_rưng', 'chips', 'decord', 'nước_miếng', 'tỷ_lệ_nghịch', 'nóng', 'thấu_hiểu', 'view', 'baskin', 'từ_đường', 'mới_tinh', 'gạch', 'parlour', 'chân_đất', 'pha', 'dsuoc', 'prices', 'biết_nghĩ', 'uất', 'don', 'làm_ăn', 'thân_ái', 'tự_nhiên', 'bđ', 'pepe', 'chilout', 'ẹc', 'gap', 'nhà_quê', 'thu_hút', 'vintage', 'buồn_tẹo', 'ì_ạch', 'đú', 'chua', 'phong_phú', 'bất_lịch', 'thif', 'mốc', 'khiến', 'bày_đặt', 'tại_chỗ', 'ẩm_ướt', 'thảm', 'thấm', 'đứa', 'đống', 'biên', 'ý_vị', 'sems', 'sốt_chanh', 'tuôn', 'dòn', 'đậy', 'thiệt', 'nhật_thực_đơn', 'típ', 'ukie', 'tuy_nhiên', 'bảo_hiểm', 'báo_hại', 'tương_đối', 'hỏi', 'liên_quan', 'lộc', 'ketchup', 'đu_đủ', 'cằn_nhằn', 'từ_thiện', 'kaf', 'châm', 'doubt', 'suki', 'băng_chuyền', 'đặng', 'goik', 'mixed', 'nâng_cấp', 'duyên', 'ớ', 'mực', 'chìa_chìa', 'khinh', 'măc', 'thư_thái', 'thé', 'bufe', 'nheo', 'ẩm_mốc', 'isushi', 'y_hệt', 'chỉnh', 'cân_nhắc', 'bufet', 'cj', 'hiền', 'bán_dạo', 'bất_suất', 'lote', 'trung_thành', 'kiếm_ăn', 'sang', 'trông', 'sủi', 'tiêu', 'film', 'lôi_thôi', 'bám', 'vội_vã', 'mướt', 'lũn', 'mà_lại', 'hnoi', 'quây_quần', 'rape', 'thường_phục_vụ', 'xa_lạ', 'kho', 'dờn', 'tào', 'hiện_đại', 'vớ_vẩn', 'them', 'ngăn_cách', 'tửng', 'nu', 'trị_giá', 'xao', 'vầm', 'mau_lẹ', 'xách', 'phổ_biến', 'thảo_quả', 'moi', 'vô_duyên', 'độc', 'rat', 'capu', 'thousand', 'tồn', 'guilingao', 'giám_sát', 'hiem', 'tức_tốc', 'sập', 'nghệ', 'riêng_tư', 'steak', 'khai_vị', 'liên_tục', 'va_chạm', 'along', 'felt', 'vu_khống', 'công_nhận', 'trung_thu', 'uyển_chuyển', 'sau', 'cọ', 'trở_mặt', 'hồ_hởi', 'trân_trọng', 'cuối', 'tích_hợp', 'đình', 'dứt_khoát', 'hotdog', 'tà_lèo', 'lỗ_vốn', 'tuborg', 'lẩn_lút', 'phiền_lòng', 'vói', 'khôi_hài', 'dành', 'springrol', 'expensive', 'lượg', 'che_khuất', 'chẳg', 'hasol', 'lá_sen', 'tủi_thân', 'vô', 'tranh', 'lồng_bàn', 'đã_đời', 'authentic', 'gate', 'chiếm', 'banc', 'godbye', 'tắt_thở', 'lênh', 'mang_hóa_đơn', 'sỉu', 'nguy_hiểm', 'fail', 'nhầm', 'nhấ', 'đào_thần', 'gầy', 'pg', 'ưu_đãi', 'vật_giá', 'ngắn', 'vướng', 'tao_nhã', 'động', 'thcs', 'center', 'fuc', 'khắc_phục', 'rười', 'kimbab', 'dị', 'quy_trình', 'nhân_dịp', 'tưoi', 'xoi', 'nằng_nặc', 'xu_nịnh', 'chiều_tối', 'ngổi', 'ngả_lưng', 'danh_giá', 'sa', 'bấm_bụng', 'đi_giải', 'huyền_ảo', 'mờ', 'manager', 'she', 'hèn_nào', 'sôi_động', 'đuoi', 'he', 'take', 'lặng_lẽ', 'tự_trọng', 'times', 'bâyh', 'cao_ngất', 'hạt', 'dinh_dưỡng', 'thu_dọn', 'vê', 'prefered', 'ễnh', 'điểm_tâm', 'tỉ_lệ_nghịch', 'tớ', 'nhảy_dựng', 'hào_phóng', 'nhượng', 'tạ', 'hài_hước', 'trừ_phi', 'jours', 'kiều', 'may_mắn', 'ngoe_nguẩy', 'luông', 'festive', 'niên', 'muốn', 'public', 'kho_tộ', 'ngọ_nguậy', 'chật_ních', 'nắm', 'mặt_tiền', 'trọn_vẹn', 'nhỏ_nhẹ', 'phômai', 'mọe', 'cacao', 'đại_tiệc', 'chà_bá', 'al', 'bate', 'stock', 'sv', 'tin_cậy', 'thuyên', 'hoà_trộn', 'tha_thiết', 'tot', 'sz', 'nhiu', 'theo', 'bồng_bềnh', 'xong', 'không', 'thích', 'mờ_ảo', 'ingredients', 'tự_hào', 'unles', 'calo', 'đau_khổ', 'vừa_mới', 'trầm_trọng', 'bún', 'thắc_mắc', 'tráng', 'chan', 'đặt_chân', 'úông', 'fix', 'mơ', 'màu_mè', 'sản_xuất', 'bịch', 'sánh', 'nhat', 'quầ', 'ph', 'hở', 'vui_tính', 'chế_biến', 'đặc_sắc', 'tương', 'capuchino', 'xèo', 'nhằn', 'hành_tinh', 'mê', 'hợp_khẩu_vị', 'phán', 'ngậm_ngùi', 'lụi', 'quai', 'phìa', 'tĩnh_tại', 'kính', 'mời_chào', 'price', 'khoái', 'non_choẹt', 'xô_đẩy', 'ước_mơ', 'very', 'ahip', 'ngơ_ngáo', 'sẽ', 'bất_lợi', 'khảng', 'mậu', 'nhem', 'nhớn', 'ngã', 'tránh', 'for', 'sôi_sục', 'chán_phè', 'độc_quyền', 'phỏng', 'đa_dạng', 'potomac_cofe', 'lươn', 'cót', 'tài_tình', 'ứng', 'lơn', 'khuyến', 'bán', 'vx', 'thương', 'thân_quen', 'gánh', 'diễn', 'đảo_điên', 'cần_thiết', 'bỗng_dưng', 'cari', 'bánh_chưng', 'ngoại_tình', 'com', 'toe_toét', 'như_thể', 'thân_sinh', 'đại_loại', 'chek', 'chuyển', 'gì', 'rỗi_rãi', 'nhuyễn', 'thoang_thoảng', 'x', 'toehoe', 'dĩa', 'đen_sì', 'chop', 'thay_vì', 'rợp', 'bánh_quế', 'ale', 'nấu_nướng', 'rời_rạc', 'đây', 'hạt_é', 'nhe', 'team', 'amazed', 'tous', 'gắt_gỏng', 'kì_cục', 'ngơ_ngác', 'lóng_ngóng', 'phi', 'lường', 'soya', 'nát', 'dời', 'quen_thuộc', 'tử_tế', 'mê_cung', 'địh', 'giã', 'ngu', 'chuối', 'sữa_chua', 'công_tâm', 'was', 'hôm_qua', 'gét', 'nchuyen', 'hết_lời', 'tasty', 'đừng', 'huề', 'chặt_chẽ', 'điện_thoại', 'bưng_bê', 'lọ_mọ', 'ngẫm_nghĩ', 'mon', 'xem_lại', 'smothies', 'đạp', 'lun', 'lặp_lại', 'góp_ý', 'tối_tăm', 'bất', 'lì', 'từ_trần', 'bục', 'tệ_hại', 'after', 'cố_chấp_nhận', 'juice', 'vì_vậy', 'ga', 'xâm_phạm', 'địa_thế', 'nghĩ_bụng', 'vận_động', 'ăn_bớt', 'cat', 'nhảy_múa', 'rate', 'hổ_thẹn', 'xem_xét_lại', 'bẻ', 'khất', 'du_dương', 'aots', 'giùm', 'cưới', 'mong_đợi', 'home', 'viet', 'cực_kỳ', 'phúc', 'hxhx', 'mặn', 'sắc', 'loay_hoay', 'chính', 'càu_nhàu', 'tẩm', 'lấp_liếm', 'manzi', 'hến', 'mik', 'oạch', 'phú', 'mượt', 'phủ', 'thái_quá', 'bc'}\n"
          ],
          "name": "stdout"
        }
      ]
    },
    {
      "cell_type": "code",
      "metadata": {
        "id": "arm1MCUm9uyA",
        "outputId": "6c03c64f-3f61-4e24-cb95-cda343b6bf4a",
        "colab": {
          "base_uri": "https://localhost:8080/"
        }
      },
      "source": [
        "print(len(vanva))"
      ],
      "execution_count": 50,
      "outputs": [
        {
          "output_type": "stream",
          "text": [
            "8091\n"
          ],
          "name": "stdout"
        }
      ]
    },
    {
      "cell_type": "code",
      "metadata": {
        "id": "MeN-0mQy-UTK",
        "outputId": "f7183ef9-f37b-492d-968e-c821da1824d1",
        "colab": {
          "base_uri": "https://localhost:8080/"
        }
      },
      "source": [
        "vanva_bag = sorted(vanva)\n",
        "print(vanva_bag) "
      ],
      "execution_count": 52,
      "outputs": [
        {
          "output_type": "stream",
          "text": [
            "['_hôm', '_mình', 'a', 'abc', 'abd', 'about', 'ac', 'ace', 'acountant', 'acoustic', 'ad', 'ading', 'admin', 'adres', 'advertise', 'ae', 'aen', 'aeon', 'afogato', 'after', 'afternon', 'again', 'ahihi', 'ahip', 'ahuhu', 'ai_bảo', 'ai_ngờ', 'ai_đời', 'ak', 'al', 'alacarte', 'alarcarte', 'ale', 'alfrseco', 'alike', 'alisa', 'alisan', 'almaz', 'alo', 'alone', 'along', 'also', 'always', 'am_hiểu', 'amazed', 'amazing', 'amounts', 'ampid', 'ample', 'an', 'an_di', 'an_toàn', 'an_tâm', 'an_ủi', 'and', 'anh_chị', 'anh_em_em', 'anh_vũ', 'any', 'aots', 'apertizer', 'aple', 'are', 'area', 'aroi', 'around', 'arất', 'as', 'asian', 'asked', 'at', 'atmosphere', 'australia', 'authentic', 'away', 'ba_chỉ', 'ba_rọi', 'baby', 'bac', 'back', 'bacon', 'bad', 'baked', 'bakery', 'bal', 'bami', 'ban_công', 'ban_đầu_vào', 'banana', 'banc', 'banchan', 'bang', 'bao', 'bao_bì', 'bao_cấp', 'bao_giờ', 'bao_gồm', 'bao_lâu', 'bao_lâu_nay', 'bao_nhiêu', 'bao_quát', 'bao_trùm', 'bao_tải', 'bao_tử', 'bao_xa_vậy', 'baoh', 'bap', 'bar', 'barista', 'basil', 'baskin', 'bat', 'bate', 'bay', 'bc', 'be', 'be_bé', 'be_bét', 'beancurd', 'beat', 'because', 'bef', 'before', 'befsteak', 'befy', 'belgium', 'beloveds', 'bene', 'bento', 'bep', 'ber', 'bery', 'best', 'beter', 'beverage', 'bf', 'bgio', 'bgom', 'bhuw', 'bia_hơi', 'bibimbap', 'biet', 'big', 'bigc', 'bik', 'bike', 'bil', 'bingso', 'bingsu', 'binh', 'binsu', 'birthday', 'bis', 'bit', 'bitches', 'bite', 'bitey', 'biét', 'biên', 'biên_thuỳ', 'biêt', 'biêta', 'biêth', 'biêys', 'biạ', 'biẹt', 'biến', 'biến_dị', 'biến_tấu', 'biết', 'biết_bao', 'biết_bao_nhiêu', 'biết_nghĩ', 'biết_đâu', 'biết_ơn', 'biếu', 'biếyd', 'biển_hiệu', 'biểu_diễn', 'biểu_tượng', 'biệ', 'biệt', 'bjo', 'bl', 'bla', 'blach', 'black', 'blackbal', 'blah', 'blend', 'blended', 'blizard', 'blobla', 'block', 'bluan', 'blubery', 'bluebery', 'bm', 'bmc', 'bmi', 'bnhieu', 'bo', 'boa', 'boba', 'bobabop', 'bobapop', 'bok', 'bolognese', 'bon', 'bon_chen', 'bong', 'bonus', 'borelo', 'botanica', 'boutique', 'box', 'boyfriend', 'bp', 'bq', 'br', 'bread', 'breadtalk', 'break', 'breast', 'brithday', 'brlée', 'brownie', 'brule', 'bruta', 'bs', 'bsfn', 'bth', 'bthg', 'bu', 'bufe', 'bufer', 'bufet', 'bulgogi', 'bun', 'bung', 'buoc', 'burger', 'burito', 'bus', 'but', 'buter', 'buy', 'buôn', 'buôn_bán', 'buông', 'buốt', 'buồm', 'buồn', 'buồn_cười', 'buồn_ngủ', 'buồn_nôn', 'buồn_tình', 'buồn_tẹo', 'buổ', 'buộc', 'buộc_lòng', 'buội', 'by', 'bà_ba', 'bà_cốt', 'bài_trung_tâm', 'bài_trí', 'bài_tập', 'bàn', 'bàn_cãi', 'bàn_tán', 'bàng_quan', 'bào', 'bào_ngư', 'bày', 'bày_biện', 'bày_tỏ', 'bày_đặt', 'bá', 'bá_tước', 'bác', 'bách', 'bách_khoa', 'báh', 'bái', 'bám', 'bán', 'bán_dạo', 'bán_hoa', 'bán_lẻ', 'bán_nước', 'bán_rong', 'bánh', 'bánh_bao', 'bánh_bèo', 'bánh_bò', 'bánh_canh', 'bánh_chưng', 'bánh_chả', 'bánh_cuốn', 'bánh_gai', 'bánh_giò', 'bánh_gối', 'bánh_in', 'bánh_mì', 'bánh_mì_gối', 'bánh_nan', 'bánh_nướng', 'bánh_phồng_tôm', 'bánh_phở', 'bánh_quế', 'bánh_rán', 'bánh_trái', 'bánh_tráng', 'bánh_tôm', 'bánh_tắt', 'bánh_viên', 'bánh_xe', 'bánh_xèo', 'bánh_đúc', 'bánh_ướt', 'báo', 'báo_giá', 'báo_hại', 'bát', 'bát_đàn', 'bâng_khuâng', 'bâng_quơ', 'bât', 'bâu', 'bây', 'bâyh', 'bã', 'bãi', 'bèn', 'bèo', 'bèo_nhèo', 'bé', 'bé_con_con', 'bé_nhỏ', 'béo', 'béo_múp', 'bét', 'bét_nhè', 'bê', 'bê_tái_chanh', 'bên', 'bênh', 'bì', 'bình', 'bình_dân', 'bình_dân_dã', 'bình_dị', 'bình_giá', 'bình_giá_cả', 'bình_luận', 'bình_phục_vụ', 'bình_thuỷ_tinh', 'bình_thường', 'bình_tĩnh', 'bình_yên', 'bình_yên_tĩnh_lặng', 'bí', 'bí_bách', 'bí_đao', 'bít', 'bò', 'bò_tơ_năm_sánh', 'bó', 'bó_tay', 'bóc', 'bói', 'bóng', 'bóng_bẩy', 'bóng_loáng', 'bóng_ma', 'bóng_mỡ', 'bóp', 'bóp_cổ', 'bô', 'bôi', 'bôi_nhọ', 'bôi_đen', 'bông', 'bõ', 'bõ_bèn', 'bù', 'bù_đắp', 'bùi', 'bùng', 'bùnh', 'búi', 'bún', 'bún_bò', 'bún_chả', 'bún_thang', 'bút', 'băc', 'băm', 'băn', 'băn_khoăn', 'băng', 'băng_chuyền', 'bđ', 'bđầu', 'bĩu', 'bơ', 'bơ_vơ', 'bơi', 'bơi_lội', 'bơm', 'bưa', 'bưc', 'bưg', 'bưng', 'bưng_bê', 'bưu', 'bươc', 'bươu', 'bước', 'bước_đi', 'bưởi', 'bạc', 'bạc_hà', 'bạc_màu', 'bạch', 'bạch_tuộc', 'bạn', 'bạn_bè', 'bạt_ngàn', 'bản', 'bản_sắc', 'bản_thân', 'bản_vị', 'bảng', 'bảnh', 'bảo', 'bảo_dưỡng', 'bảo_hiểm', 'bảo_quản', 'bảo_vệ', 'bảo_đảm', 'bấm', 'bấm_bụng', 'bất', 'bất_bình', 'bất_chấp', 'bất_chợt', 'bất_chủ', 'bất_cần', 'bất_cẩn', 'bất_cứ', 'bất_hợp', 'bất_kì', 'bất_kể', 'bất_kỳ', 'bất_lịch', 'bất_lợi', 'bất_ngờ', 'bất_nhã', 'bất_suất', 'bất_tiện', 'bất_trình', 'bất_vs', 'bất_đắc_dĩ', 'bất_ổn', 'bấy', 'bần', 'bần_cùng', 'bầu', 'bầy', 'bẩn', 'bẩn_thỉu', 'bẩy', 'bận', 'bận_rộn', 'bận_tâm', 'bật', 'bậu', 'bậy', 'bắc', 'bắn', 'bắn_mỡ', 'bắp', 'bắp_cải', 'bắt', 'bắt_buộc', 'bắt_chước', 'bắt_chẹt', 'bắt_mắt', 'bắt_nạt', 'bắt_đầu', 'bắt_đầu_từ', 'bằm', 'bằng', 'bằng_lòng', 'bẳn', 'bẵng', 'bẹp', 'bẻ', 'bế', 'bếch', 'bếp', 'bết', 'bề', 'bề_bề', 'bề_ngoài', 'bền', 'bể', 'bệt', 'bỉn', 'bị', 'bị_thương', 'bị_thịt', 'bịch', 'bịn', 'bọc', 'bọn', 'bọt', 'bỏ', 'bỏ_bê', 'bỏ_dở', 'bỏ_dở_nửa', 'bỏ_mình', 'bỏ_qua', 'bỏ_túi', 'bỏng', 'bố', 'bố_láo', 'bố_trí', 'bốc', 'bốc_hơi', 'bốc_thăm', 'bối', 'bối_rối', 'bốn_phương', 'bốp', 'bồ_kết', 'bồi_bàn', 'bồi_bổ', 'bồi_hồi', 'bồi_thường', 'bồn', 'bồng', 'bồng_bềnh', 'bổ', 'bổ_dưỡng', 'bổ_sung', 'bỗng', 'bỗng_dưng', 'bộ_đàm', 'bội', 'bột', 'bới', 'bớt', 'bớt_xén', 'bở', 'bởi_vậy', 'bỡ_ngỡ', 'bục', 'bụg', 'bụi', 'bụi_bặm', 'bụng', 'bụng_dạ', 'bụp', 'bứ', 'bức', 'bức_bối', 'bức_xúc', 'bứt_rứt', 'bừa', 'bừa_bộn', 'bừng', 'bửa', 'bửn', 'bửu', 'bự', 'bực', 'bực_bội', 'bực_dọc', 'bực_mình', 'bực_tức', 'c', 'ca_cao', 'ca_ngợi', 'cac', 'cacao', 'cafe', 'café', 'cai', 'cake', 'cal', 'calo', 'cam', 'cam_kết', 'came', 'camt', 'can_tội', 'cancel', 'cang', 'canh', 'canot', 'cao', 'cao_cấp', 'cao_giá', 'cao_ngất', 'cao_thế', 'cao_tốc', 'cao_điểm', 'cap', 'capriciosa', 'capu', 'capuchino', 'car', 'caramel', 'caramen', 'carbonara', 'card', 'care', 'cari', 'carot', 'cary', 'cash', 'cashback', 'cashier', 'cat', 'cau', 'cau_có', 'cay', 'cay_cay', 'cay_phô', 'cay_trừ', 'cb', 'cbh', 'cbi', 'ceasar', 'ceaser', 'celebrate', 'center', 'cer', 'cf', 'cfe', 'cg', 'cgi', 'cgx', 'chac', 'chachago', 'chago', 'chai', 'chai_nươc_khoáng', 'chak', 'chama', 'champagne', 'chan', 'chanb', 'chang', 'chanh', 'chanh_chua', 'chanh_leo', 'chanh_thấy', 'chanh_tuyết', 'chanhtuyết', 'chanvkắm', 'chao_ôi', 'charge', 'charges', 'chat', 'chatime', 'chau', 'chay', 'che', 'che_chắn', 'che_khuất', 'cheater', 'check', 'checkin', 'chef', 'chek', 'chem', 'chen', 'chen_chúc', 'chen_lấn', 'chese', 'chesecake', 'chesy', 'chevi', 'chewy', 'chez', 'chg', 'chi', 'chi_chít', 'chi_là', 'chi_nhánh', 'chi_phí', 'chi_phối', 'chi_tiết', 'chi_ung', 'chia', 'chia_sẻ', 'chia_tay', 'chiac', 'chianti', 'chicken', 'chie', 'chien', 'child', 'chilout', 'chily', 'chim', 'chim_ngói', 'chinh_phục', 'chip', 'chips', 'chiu', 'chiên', 'chiêu', 'chiêu_đãi', 'chiếm', 'chiếm_dụng', 'chiếm_giữ', 'chiến', 'chiến_thắng', 'chiết_khấu', 'chiếu', 'chiều', 'chiều_chuộng', 'chiều_tối', 'chiện', 'chiụ', 'cho', 'cho_cùng', 'cho_dù', 'cho_dù_sao', 'cho_nên', 'cho_qua', 'choai_choai', 'choco', 'chocobana', 'chococake', 'chocolat', 'chocolate', 'choi', 'choice', 'choka', 'cholimex', 'chon', 'chong', 'chong_chóng', 'chop', 'chorizo', 'chose', 'choá', 'choáng', 'choáng_ngợp', 'choén', 'choảnh', 'choẹ', 'christmas_eve', 'chs', 'chu', 'chu_đáo', 'chua', 'chua_cay', 'chua_loét', 'chua_lè', 'chua_ngọt', 'chug', 'chui', 'chui_rúc', 'chung', 'chung_chung', 'chung_quy', 'chung_thuỷ', 'chuoi', 'churo', 'churos', 'chuyeẹn', 'chuyên', 'chuyên_hóa', 'chuyên_nghiệp', 'chuyên_trị', 'chuyền', 'chuyển', 'chuyển_hóa', 'chuyển_khoản', 'chuyển_mình', 'chuyện_trò', 'chuẩn', 'chuẩn_bị', 'chuốc', 'chuối', 'chuốt', 'chuỗi', 'chuộc', 'chuộng', 'chuửi', 'chyên', 'chà', 'chà_bá', 'chà_mỡ', 'chà_thịt', 'chào', 'chào_hỏi', 'chào_mời', 'chào_thua', 'chào_đón', 'chày', 'chám', 'chán', 'chán_chê', 'chán_chường', 'chán_nản', 'chán_phè', 'chán_vậy', 'chát', 'cháy', 'châc', 'châm', 'chân_chính', 'chân_giò', 'chân_thành', 'chân_thật', 'chân_đất', 'châu', 'châu_chấu', 'chã', 'chè', 'chèn_ép', 'chèo_kéo', 'chém', 'chén', 'chén_cốc', 'chéo', 'chép', 'chét', 'chê', 'chê_bai', 'chê_trách', 'chêm', 'chênh', 'chênh_lệch', 'chìa', 'chìa_chìa', 'chìa_khoá', 'chìm', 'chìm_ngập', 'chình_ình', 'chí', 'chí_cốt', 'chín', 'chín_tới', 'chính', 'chính_hiệu', 'chính_thức', 'chính_xác', 'chíp', 'chíu', 'chóe', 'chói', 'chóng', 'chóng_mặt', 'chót', 'chô', 'chôn', 'chùi', 'chú_trọng', 'chú_tâm', 'chú_ý', 'chúc', 'chúc_mừng', 'chúc_mừng_tuổi', 'chúng_mày', 'chúng_mìh', 'chúng_mình', 'chúng_nó', 'chúng_tuyệt', 'chúng_tớ', 'chút', 'chút_xíu', 'chăcs', 'chăm', 'chăm_chú', 'chăm_chút', 'chăm_chăm', 'chăm_chỉ', 'chăm_sóc', 'chăn', 'chăn_nuôi', 'chăng', 'chăng_nữa', 'chăngr', 'chĩa', 'chơ', 'chơf', 'chơi', 'chơi_bời', 'chư', 'chưa', 'chưng', 'chương', 'chương_trình_diễn', 'chưởng', 'chạm', 'chạm_mặt', 'chạy', 'chạy_bàn', 'chạy_tầng', 'chả', 'chả_bù', 'chả_là', 'chảng', 'chảnh', 'chảo', 'chảy', 'chấm', 'chấn_chỉnh', 'chấp', 'chấp_nhận', 'chất', 'chất_lượng', 'chần', 'chần_chờ', 'chần_chừ', 'chầu', 'chẩt_lượng', 'chẩy', 'chậm', 'chậm_chạp', 'chậm_trễ', 'chập', 'chập_chờn', 'chật', 'chật_chội', 'chật_hẹp', 'chật_ních', 'chật_viên', 'chật_vật', 'chậu', 'chắ', 'chắc', 'chắc_chắn', 'chắc_hẳn', 'chắc_ăn', 'chắc_ăn_không', 'chắc_ăn_đứt', 'chắcvif', 'chắn', 'chắp', 'chắt', 'chằm_chằm', 'chằng_chịt', 'chẳg', 'chẳng', 'chẳng_hạn', 'chẳng_lẽ', 'chẳng_nhẽ', 'chẳng_qua', 'chẳng_thể', 'chặn', 'chặt', 'chặt_chẽ', 'chẹp', 'chẻ', 'chế', 'chế_biến', 'chếch', 'chết', 'chết_mê', 'chềnh_ềnh', 'chể', 'chễm_chệ', 'chỉ', 'chỉ_bảo', 'chỉ_dẫn', 'chỉ_dẫn_nhiệt_tình', 'chỉ_tội', 'chỉ_áp_dụng_từ', 'chỉ_điểm', 'chỉ_đạo', 'chỉ_định', 'chỉn_chu', 'chỉnh', 'chỉnh_đốn', 'chịn', 'chịu', 'chịu_khó', 'chịu_đựng', 'chọc', 'chọn', 'chọn_lọc', 'chọn_lựa', 'chọnm', 'chọp', 'chỏ', 'chỏng_chơ', 'chối', 'chống', 'chống_đối', 'chốt', 'chồng_chất', 'chổ', 'chổng', 'chỗ', 'chội', 'chộp', 'chột_dạ', 'chờ', 'chờ_đợi', 'chời', 'chở', 'chợ_búa', 'chợt', 'chụng', 'chụp', 'chủ_ngữ', 'chủ_nhật', 'chủ_yếu', 'chủ_đạo', 'chủ_đề', 'chủ_động', 'chứ', 'chứ_lị', 'chứa', 'chứng_kiến', 'chứng_nhận', 'chứng_tỏ', 'chừ', 'chừa', 'chửi', 'chửi_bới', 'chữ_nhật', 'chực', 'ciu', 'cj', 'cjo', 'ck', 'clasic', 'claus', 'clear', 'clg', 'clump', 'cm', 'cminh', 'cmsn', 'cmt', 'co', 'coa', 'cobf', 'coc', 'coca', 'coco', 'coconut', 'coctail', 'cod', 'code', 'cofe', 'coi', 'coi_thường', 'coi_trọng', 'cok', 'coke', 'cokie', 'cokies', 'coktai', 'col', 'cola', 'cold', 'cologate', 'colonthre', 'color', 'com', 'combo', 'come', 'comeback', 'coment', 'comes', 'comfortable', 'comon', 'company', 'complaint', 'complements', 'con_con', 'conect', 'conecting', 'confirm', 'cong', 'cong_cớn', 'considering', 'containing', 'converse', 'copy', 'cora', 'cos', 'cost', 'cota', 'coton', 'could', 'countdown', 'counter', 'couple', 'course', 'court', 'cowboy', 'cozy', 'crab', 'crazy', 'cream', 'creamchese', 'creamer', 'create', 'creme', 'crep', 'crepe', 'crepes', 'crm', 'croisant', 'crowded', 'cruise', 'cs', 'cso', 'ct', 'ctrinh', 'cty', 'cty_vậy', 'cua', 'cua_bể', 'cua_gạch', 'cua_nước', 'cua_thịt', 'cua_đồng', 'cube', 'cudng', 'cug', 'cung_cách', 'cung_cấp', 'cung_văn_hóa', 'cungx', 'cungz', 'cupcake', 'cups', 'curators', 'cury', 'customer', 'cute', 'cuối', 'cuối_cùng', 'cuốn', 'cuốn_gói', 'cuồng', 'cuồng_nhiệt', 'cuộn', 'cx', 'cà', 'cà_chua', 'cà_khịa', 'cà_muối', 'cà_pháo', 'cà_ri', 'cà_ri_ăn', 'cà_rốt', 'cà_tím', 'càg', 'càm', 'càn', 'càng', 'càu_nhàu', 'cày', 'cá_bò', 'cá_chiên', 'cá_cảnh', 'cá_hồi', 'cá_hồng', 'cá_lăng', 'cá_măng', 'cá_ngừ', 'cá_nhân', 'cá_nước', 'cá_quả', 'cá_sấu', 'cá_tính', 'các_tông', 'cách', 'cái', 'cám_ơn', 'cánh_cụt', 'cáo_lỗi', 'cáu', 'cáu_bẳn', 'cáu_kỉnh', 'câc', 'cân', 'cân_bằng', 'cân_nhắc', 'cân_đối_với', 'câng', 'câu', 'câu_khách_hàng', 'câu_kéo', 'câu_đầu', 'câu_đầu_tiên', 'cãi', 'cãi_cọ', 'cò_cưa', 'cò_quay', 'còm', 'còn', 'còng', 'có', 'có_chăng', 'có_giá', 'có_hạn', 'có_hậu', 'có_học', 'có_khi', 'có_lý', 'có_lý_do', 'có_lẽ', 'có_mang', 'có_mặt', 'có_nghĩa_là', 'có_nhân', 'có_nhân_viên', 'có_thể', 'có_thể_loại', 'có_vẻ', 'có_ăn', 'có_ăn_đủ', 'có_điều', 'cóm', 'cót', 'cô_mình', 'cô_vẻ', 'cô_đơn', 'cô_đọng', 'công', 'công_bằng', 'công_chúa', 'công_nghiệp_hóa', 'công_nhận', 'công_nhận_mặt', 'công_phu', 'công_thức', 'công_tâm', 'công_viên', 'cùg', 'cùi', 'cùi_chỏ', 'cùng', 'cú_mèo', 'cúc', 'cúe', 'cúi', 'cút', 'căn', 'căn_bản', 'căn_hộ', 'căng', 'căng_thẳng', 'cũ', 'cũ_kĩ', 'cũ_kỹ', 'cũg', 'cũng', 'cũng_nên', 'cũngf', 'cũnh', 'cơ', 'cơ_bản', 'cơ_mà', 'cơ_số', 'cơ_vẻ', 'cơm', 'cơm_chiên', 'cơm_rang', 'cư_xử', 'cưa', 'cưng', 'cưu_mang', 'cưới', 'cướp', 'cười', 'cười_cợt', 'cười_trừ', 'cường', 'cưỡng', 'cưỡng_ép', 'cạch', 'cạn', 'cạn_lời', 'cạnh', 'cạnh_tranh', 'cạo', 'cạy', 'cả', 'cả_cục', 'cả_gói', 'cải', 'cải_làn', 'cải_thiện', 'cải_thảo', 'cải_tiến', 'cải_tạo', 'cảm', 'cảm_a', 'cảm_giac', 'cảm_giác', 'cảm_giúi', 'cảm_giấc', 'cảm_hứa', 'cảm_nhân', 'cảm_nhận', 'cảm_quan', 'cảm_thấy', 'cảm_tưởng', 'cảm_xúc', 'cảm_động', 'cảm_ơn', 'cản', 'cảnh_báo', 'cảnh_tỉnh', 'cảo', 'cấm', 'cấn', 'cấp', 'cấp_độ', 'cất', 'cất_công', 'cất_tiếng', 'cầm', 'cầm_hóa', 'cầm_lòng', 'cần', 'cần_thiết', 'cần_trình', 'cầu', 'cầu_hôn', 'cầu_kì', 'cầu_thang', 'cầu_thang_máy', 'cẩm', 'cẩn', 'cẩn_thận', 'cẩu', 'cẩu_thả', 'cận', 'cập_kênh', 'cập_nhật', 'cậy', 'cắm', 'cắm_cúi', 'cắn', 'cắn_răng', 'cắp', 'cắt', 'cắt_cổ', 'cằn', 'cằn_nhằn', 'cặn', 'cặp', 'cọ', 'cọng', 'cỏn', 'cố', 'cố_chấp_nhận', 'cố_gắng', 'cố_tình', 'cố_ý', 'cố_định', 'cốc', 'cốt', 'cồ', 'cồn', 'cồn_cào', 'cổ', 'cổ_kính', 'cổ_xưa', 'cổ_điển', 'cộc', 'cộc_cằn', 'cộc_lốc', 'cộng', 'cở', 'cởi', 'cởi_mở', 'cỡ', 'cợt', 'cụ_thể', 'cục', 'cục_tính', 'cụng', 'cụt', 'cụt_hứng', 'củ', 'củ_cải', 'của', 'củng', 'cứ', 'cứ_việc', 'cứng', 'cứng_cáp', 'cứng_ngắc', 'cứng_nhắc', 'cứt_gián', 'cứu', 'cứu_hộ', 'cứu_thế', 'cứu_vãn', 'cứu_vớt', 'cừoi', 'cửa_hàng', 'cửa_hàng_phục_vụ', 'cửa_kính', 'cực', 'cực_kì', 'cực_kỳ', 'cực_kỳ_thú', 'cực_lực', 'cực_độ', 'cựu', 'd', 'da_diết', 'da_nhung', 'dac', 'dai', 'dai_nhách', 'dakgalbi', 'dam', 'damashi', 'dang', 'danh', 'danh_giá', 'danh_tiếng', 'danisa', 'danish', 'dao_động', 'daruma', 'dasani', 'date', 'day', 'day_dứt', 'daz', 'dbsk', 'de', 'dear', 'december', 'deco', 'decor', 'decorations', 'decord', 'definitely', 'delay', 'deli', 'delicious', 'delivery', 'deliverynow', 'den', 'dep', 'desert', 'deserts', 'deserved', 'design', 'desnd', 'destroyed', 'di', 'di_an', 'di_chuyển', 'di_nên', 'di_this', 'di_tặng', 'di_động', 'dia', 'die', 'diem', 'diet', 'dieu', 'diferent', 'dihma', 'dimsum', 'diner_and_melodious_violon_music', 'ding', 'dingtea', 'dinh_dính', 'dinh_dưỡng', 'dining', 'directions', 'disapointed', 'discount', 'dish', 'divine', 'diã', 'diên', 'diêu', 'diếc', 'diễn', 'diễn_tả', 'diện', 'diệu', 'dk', 'do', 'doan', 'dodong', 'dodói', 'does', 'doi', 'dolce', 'don', 'dong', 'donut', 'donuts', 'doraemon', 'double', 'doubt', 'drink', 'drinks', 'dsk', 'dsuoc', 'dt', 'du', 'du_dương', 'du_học', 'du_lịch', 'du_ngoạn_quanh_hồ_tây', 'du_ngoạn_trên_hồ', 'du_nhập', 'du_thuyền', 'dung', 'duoc', 'duong', 'during', 'duy', 'duy_nhất', 'duy_trì', 'duy_tân', 'duyên', 'duyệt', 'duổi', 'dv', 'dvu', 'dzách', 'dà', 'dài', 'dài_dài', 'dài_dòng', 'dài_mồm', 'dài_ngoằng_ngoẵng', 'dàn', 'dành', 'dày', 'dày_cộp', 'dám', 'dán', 'dâm', 'dân_dã', 'dân_dã_giản', 'dân_phố', 'dâu', 'dâu_tây', 'dâu_tằm', 'dâud', 'dây', 'dã', 'dã_man', 'dã_ngoại', 'dãi', 'dè', 'décor', 'dìm', 'dìu_dịu', 'dí', 'dímum', 'dính', 'dính_mỡ', 'dít', 'dò', 'dòi', 'dòm', 'dòm_ngó', 'dòn', 'dòng_chảy', 'dôi', 'dông', 'dù', 'dù_rằng', 'dù_sao', 'dùg', 'dùm', 'dùng', 'dùng_bữa', 'dúi', 'dúm', 'dăm', 'dĩ', 'dĩ_nhiên', 'dĩa', 'dơ', 'dơi', 'dư', 'dư_vị', 'dư_âm', 'dưa', 'dưa_chuột', 'dưa_góp', 'dưa_hấu', 'dưng', 'dương', 'dưới', 'dường_như', 'dạ', 'dạ_dày', 'dại', 'dạng', 'dạo', 'dạy', 'dải_phomai', 'dải_sườn', 'dải_thịt', 'dấm', 'dầm', 'dầm_mỡ', 'dần', 'dần_dần', 'dầu_mỡ', 'dầy', 'dẫm', 'dẫn', 'dẫn_xác', 'dẫu', 'dậo', 'dập', 'dậy', 'dậy_mùi', 'dắt', 'dằn', 'dằn_mặt', 'dằng_dặc', 'dặn', 'dặn_dò', 'dẹp', 'dẹp_tiệm', 'dẹt', 'dẻo', 'dẻo_dai', 'dẽ', 'dến', 'dền', 'dễ', 'dễ_chịu', 'dễ_dàng', 'dễ_dãi', 'dễ_thương', 'dễ_thương_nhân_viên', 'dễ_tính', 'dệt', 'dị', 'dị_ứng', 'dịch', 'dịch_vụ', 'dịu', 'dịu_dàng', 'dọa', 'dọc', 'dọn', 'dọn_dẹp', 'dọn_vệ', 'dốc', 'dối', 'dốt', 'dồ', 'dồi', 'dồn', 'dội', 'dột', 'dờ', 'dời', 'dờn', 'dở', 'dở_hơi', 'dở_kem', 'dở_mếu', 'dở_thịt', 'dở_tẹo', 'dở_tệ', 'dở_vô', 'dở_vậy', 'dở_vậy_mà', 'dở_wifi', 'dở_ăn', 'dở_đồ', 'dỡ', 'dụ', 'dụg', 'dứng', 'dứt', 'dứt_khoát', 'dừ', 'dừa', 'dừa_xiêm', 'dừmg', 'dừng', 'dửng', 'dửng_dưng', 'dữ', 'dự', 'dựa', 'dựng', 'dựng_đứng', 'e', 'earl', 'eat', 'eaten', 'eating', 'ecard', 'eden', 'eg', 'either', 'el', 'em_em', 'emoticon', 'en', 'enjoy', 'enjoying', 'eny', 'eo', 'eo_ôi', 'especialy', 'espreso', 'even', 'ever', 'expensive', 'extra', 'extremly', 'f', 'fa', 'face', 'fai', 'fail', 'fairly', 'fajitas', 'fake', 'family', 'fan', 'fanciful', 'fanpage', 'fanta', 'fast', 'favorite', 'fb', 'fe', 'fealing', 'feast', 'fedback', 'feling', 'felt', 'fermented', 'festive', 'feta', 'few', 'fika', 'fil', 'filed', 'film', 'finaly', 'find', 'fine', 'finger', 'first', 'fish', 'fit', 'fix', 'flan', 'flavorful', 'flush', 'fod', 'fods', 'fody', 'folow', 'fomai', 'for', 'forest', 'forever', 'found', 'frap', 'frape', 'frapu', 'frapucino', 'fraser', 'fre', 'fredom', 'fresco', 'frescos', 'fresh', 'freship', 'freze', 'frh', 'friend', 'friendly', 'fries', 'from', 'fruit', 'fu', 'fuc', 'ful', 'fulfil', 'function', 'funy', 'fải', 'g', 'ga', 'gadern', 'galbi', 'gan', 'gap', 'garden', 'garlic', 'gate', 'gateaux', 'gateux', 'gato', 'gave', 'gd', 'gelato', 'gemini', 'get', 'geting', 'gf', 'ghe', 'ghi', 'ghi_chép', 'ghi_chú', 'ghi_hóa_đơn', 'ghi_nhận', 'ghi_nhớ', 'ghi_âm', 'ghi_điểm', 'ghia', 'ghim', 'ghiền', 'ghé', 'ghép', 'ghét', 'ghê', 'ghê_gớm', 'ghêa', 'ghẹ', 'ghế_ngồi', 'gi', 'gia', 'gia_công', 'gia_giảm', 'gia_nhập', 'gia_truyền', 'gia_truyền_hóa', 'gia_vị', 'giai', 'giam', 'gian', 'gian_dối', 'gian_lận', 'giang', 'giao', 'giao_lưu', 'giao_thừa', 'giao_tiếp', 'gimbab', 'gimbap', 'gio', 'give', 'gives', 'già', 'già_dặn', 'giành', 'giành_giật', 'giàu', 'giàu_có', 'giàu_có_mang', 'giá', 'giá_cả', 'giá_như', 'giá_thành', 'giá_trị', 'giác', 'giám', 'giám_sát', 'gián', 'giáng', 'giáng_sinh', 'giáp', 'giâ', 'giât', 'giây', 'giã', 'giãn', 'giòn', 'giòn_rụm', 'giòn_tan', 'giùm', 'giúp', 'giúp_việc', 'giúp_đỡ', 'giơ', 'giương', 'giả', 'giả_cầy', 'giả_lả', 'giả_tạo', 'giải', 'giải_cứu', 'giải_khát', 'giải_lao', 'giải_nhiệt', 'giải_quyết', 'giải_thích', 'giải_trí', 'giải_đáp', 'giảm', 'giảm_giá', 'giảm_giá_thành', 'giảm_hóa', 'giản', 'giản_dị', 'giảng', 'giấu', 'giấy_ăn', 'giấy_ăn_ở', 'giận', 'giật', 'giật_mình', 'giết', 'giọng_điệu', 'giọt', 'giỏi', 'giốg', 'giống', 'giống_hệt', 'giới_hạn', 'giới_thiệu', 'giờ', 'giời', 'giở', 'giở_giọng', 'giỡn', 'giục', 'giục_giã', 'giứ', 'giữ', 'giữ_gìn', 'giữ_mình', 'giữu', 'goc', 'god', 'godbye', 'gogi', 'goi', 'goik', 'gom', 'gong', 'gongcha', 'got', 'gourmet', 'gr', 'gre', 'great', 'gren', 'grens', 'grentea', 'grey', 'gri', 'group', 'gt', 'gt_', 'gtgt', 'gthieu', 'gthích', 'gu', 'gui', 'guilingao', 'gut', 'guys', 'guốc', 'gyoza', 'gyu', 'gà', 'gà_sao', 'gà_tây_viên', 'gàn', 'gào', 'gác', 'gái_gọi', 'gán', 'gánh', 'gáo', 'gáu', 'gân', 'gâteaux', 'gây', 'gây_dựng', 'gãi', 'gãy', 'gét', 'gê', 'gì', 'gìon', 'gìơ', 'gía', 'gían', 'góc_cạnh', 'gói', 'gói_ghém', 'góp', 'góp_phần', 'góp_ý', 'góp_ý_kiến', 'gù', 'găt', 'gơ', 'gưi', 'gưir', 'gượng_gạo', 'gạ', 'gạch', 'gạo', 'gạo_cội', 'gạt', 'gạt_tàn', 'gấp', 'gấp_bội', 'gấp_rút', 'gấu', 'gầm', 'gần', 'gần_gũi', 'gầu', 'gầy', 'gẩy', 'gẫy', 'gập', 'gật', 'gật_gù', 'gật_gật', 'gắn', 'gắn_bó', 'gắng', 'gắp', 'gắt', 'gắt_gỏng', 'gặm', 'gặm_nhấm', 'gặo', 'gặp', 'gặp_gỡ', 'gặp_mặt', 'gỉ', 'gọi', 'gọi_là', 'gọn', 'gọn_gàng', 'gọn_lỏn', 'gọt', 'gọt_đẽo', 'gỏi', 'gối_đầu', 'gồm', 'gộp', 'gởi', 'gỡ', 'gợi', 'gợi_cảm_giác', 'gợi_ý', 'gợi_ý_đồ', 'gợn', 'gục', 'gửi', 'ha', 'ha_ha', 'had', 'haha', 'hahaha', 'haiz', 'hakata', 'half', 'halowen', 'halzenut', 'ham', 'ham_hố', 'ham_mê', 'hamburger', 'hana', 'handmade', 'hanoi', 'hao_hao', 'hapy', 'hary', 'has', 'hasol', 'hat', 'hau', 'have', 'hawai', 'hawaian', 'hay', 'hay_ho', 'hay_là', 'hcm', 'he', 'healthy', 'heard', 'hectic', 'hehe', 'hekca', 'help', 'hem', 'here', 'het', 'hey', 'hi', 'hi_vọng', 'hianf', 'hibicus', 'hic', 'hiem', 'hieu', 'high', 'highland', 'highlands', 'highly', 'hihi', 'hihih', 'hihohiho', 'hinhd', 'hit', 'hitle', 'hiu', 'hiu_hiu', 'hiuhiu', 'hix', 'hixhix', 'hiẻu', 'hiếm', 'hiếm_hoi', 'hiến', 'hiếu', 'hiếu_khách', 'hiền', 'hiền_hoà', 'hiền_lành', 'hiều', 'hiểm', 'hiểm_trở', 'hiển_nhiên', 'hiểu', 'hiện', 'hiện_hữu', 'hiện_tượng', 'hiện_tại', 'hiện_đại', 'hiệu_quả', 'hk', 'hn', 'hnao', 'hnoi', 'ho', 'hoa', 'hoa_cúc', 'hoa_lá_cành', 'hoa_mĩ', 'hoa_quả', 'hoang', 'hoang_mang', 'hoc', 'hoi', 'hok', 'hokaido', 'home', 'homemade', 'hon', 'honey', 'hong', 'hongkong', 'hope', 'hot', 'hot_chocolate', 'hot_milk', 'hot_trend', 'hotdog', 'hotel', 'hotline', 'house', 'how', 'hoy', 'hoà', 'hoà_quyện', 'hoà_trộn', 'hoà_tấu', 'hoài', 'hoài_cổ', 'hoài_niệm', 'hoàn', 'hoàn_hảo', 'hoàn_thiện', 'hoàn_thành', 'hoàn_tiên', 'hoàn_toàn', 'hoàng', 'hoàng_tộc', 'hoàng_đạo', 'hoành', 'hoành_thánh', 'hoành_thánh_xá_xíu', 'hoành_tráng', 'hoá', 'hoá_giải', 'hoá_học', 'hoá_ra', 'hoá_đơn', 'hoè', 'hoét', 'hoạnh_hoẹ', 'hoạt_động', 'hoả', 'hoảng', 'hoảng_loạn', 'hp', 'hpbd', 'hq', 'hs', 'hsau', 'htp', 'htrà', 'hu', 'huhu', 'hum', 'humberger', 'hun', 'hung', 'hut', 'huy', 'huyền', 'huyền_bí', 'huyền_ảo', 'huân', 'huấn_luyện', 'huế', 'huề', 'huống_hồ', 'huỳnh', 'huỷ', 'huỷ_hoại', 'hxhx', 'hy', 'hy_vọng', 'hà', 'hà_cay', 'hà_nội', 'hà_thành', 'hàg', 'hài', 'hài_hoà', 'hài_hòa', 'hài_hước', 'hài_lòng', 'hàm', 'hàm_lượng', 'hàn', 'hàn_huyên', 'hàn_quốc', 'hàng', 'hàng_mã', 'hàng_quán', 'hàng_đầu', 'hành', 'hành_tinh', 'hành_xác', 'hành_động', 'hào', 'hào_hứng', 'hào_phóng', 'hàu', 'há', 'há_hốc', 'hách', 'hách_dịch', 'hái', 'háo', 'háo_hức', 'hát', 'háu', 'hâm', 'hâm_mộ', 'hâm_nóng', 'hân', 'hân_hoan', 'hãi', 'hãi_hùng', 'hãm', 'hãy', 'hèn_nào', 'hé', 'hém', 'héo', 'hét', 'hê', 'hên', 'hêt', 'hì_hục', 'hình_dung', 'hình_như', 'hình_như_không', 'hình_thức_đặt_bàn', 'hình_tượng', 'hình_ảnh', 'hí', 'hí_hửng', 'híc', 'hích', 'hít', 'hò', 'hòa', 'hòa_hợp', 'hòa_mát', 'hòa_quyện', 'hòa_viên', 'hòa_đồ', 'hòm', 'hó_hé', 'hóa', 'hóng', 'hót', 'hô', 'hô_hào', 'hô_hố', 'hôi', 'hôi_hám', 'hôi_hổi', 'hôi_tanh', 'hôi_thối', 'hôm_qua', 'hôm_qua_ngày', 'hôn_hít', 'hôo', 'hùa', 'hùng', 'hùng_hậu', 'hùng_hục', 'hú', 'húc', 'húng', 'húp', 'hút', 'húê', 'hăm_hở', 'hăng', 'hđ', 'hơ', 'hơi', 'hơi_hướng', 'hơn', 'hơn_nữa', 'hơn_vui', 'hơpj', 'hưng', 'hưng_phấn', 'hưu', 'hương_hoa', 'hương_sen', 'hương_vị', 'hướg', 'hướng', 'hướng_dương', 'hướng_dẫn', 'hưởng', 'hạ', 'hạ_gục', 'hạ_nhiệt', 'hạ_nhục', 'hạch', 'hạch_sách', 'hại', 'hạn', 'hạn_chế', 'hạn_hẹp', 'hạnh', 'hạnh_nhân', 'hạnh_phúc', 'hạt', 'hạt_dẻ', 'hạt_tiêu', 'hạt_é', 'hả', 'hải', 'hải_dương', 'hải_sản', 'hải_sản_xuất_sắc', 'hản', 'hảo', 'hảo_hạng', 'hấp', 'hấp_dẫn', 'hất', 'hầm', 'hầu', 'hầu_bao', 'hầu_hết', 'hầu_như', 'hậm_hực', 'hận', 'hậu', 'hậu_hĩnh', 'hậu_quả', 'hắc', 'hắt', 'hằm', 'hằm_hằm', 'hằn', 'hằn_học', 'hằng', 'hẳn', 'hẳn_cốc', 'hẳn_hoi', 'hẵng', 'hẹn', 'hẹn_hò', 'hẹp', 'hẻo_lánh', 'hến', 'hết', 'hết_hồn', 'hết_lòng', 'hết_lời', 'hết_mình', 'hết_nước', 'hết_sức', 'hết_sức_mấy', 'hết_ý', 'hề', 'hệ_thống', 'hệt', 'hỉnh', 'hịihih', 'hịn', 'học', 'học_hành', 'học_hỏi', 'học_tập', 'họi', 'họng', 'họp', 'họp_hành', 'họp_mặt', 'hỏi', 'hỏi_han', 'hỏi_thăm', 'hỏng', 'hối', 'hối_hả', 'hối_hận', 'hối_tiếc', 'hốt', 'hồ_hởi', 'hồi_hộp', 'hồi_tưởng', 'hồn', 'hồn_nhiên', 'hồng', 'hồng_tâm', 'hổ', 'hổ_danh', 'hổ_lốn', 'hổ_thẹn', 'hổi', 'hổng', 'hỗ_trợ', 'hỗn', 'hỗn_độn', 'hộ', 'hội_họp', 'hội_thoại', 'hội_tụ', 'hộp', 'hớ', 'hớn_hở', 'hớp', 'hờ', 'hờ_hững', 'hời', 'hời_hợt', 'hờn', 'hở', 'hỡi', 'hợ', 'hợp', 'hợp_khẩu', 'hợp_khẩu_vị', 'hợp_lí', 'hợp_lý', 'hợp_lý_viên', 'hợp_tác', 'hợp_ý', 'hợpsẽ', 'hục', 'hụt', 'hụt_hẫng', 'hủ', 'hủ_tiếu', 'hủy_đơn', 'hứa', 'hứa_hẹn', 'hức', 'hứng', 'hứng_khởi', 'hứng_thú', 'hừng_hực', 'hững', 'hững_hờ', 'hữu', 'hữu_ích', 'hự', 'ib', 'ice', 'icecream', 'if', 'igongcha', 'im', 'im_lặng', 'impatiently', 'in', 'in_hóa', 'in_hóa_đơn', 'inbox', 'included', 'indian', 'indor', 'indulge', 'ingredients', 'injeolmi', 'injeomi', 'insipid', 'instagram', 'instead', 'invite', 'invoice', 'iph', 'is', 'island', 'isushi', 'it', 'italian', 'iu', 'iêu', 'j', 'j_hóa', 'jack', 'jacks', 'jambon', 'jan', 'japanese', 'jaz', 'jely', 'jenga', 'jh', 'ji', 'jimy', 'jlegu', 'joma', 'jour', 'jouri', 'jours', 'juice', 'juicy', 'junior', 'just', 'kaf', 'kaka', 'kampong', 'karhai', 'katsu', 'kb', 'kbaoh', 'kbg', 'kbj', 'kbt', 'kei', 'keke', 'kem', 'kem_que', 'kep', 'ketchup', 'keu', 'kfc', 'kg', 'kgian', 'kh', 'kha', 'kha_khá', 'khac', 'khach', 'khai', 'khai_quật', 'khai_trương', 'khai_vi', 'khai_vị', 'khai_vị_trí', 'khan', 'khang_trang', 'khao', 'khao_khát', 'khay', 'khen', 'khen_ngợi', 'khinh', 'khinh_khỉnh', 'khinh_miệt', 'khinh_thường', 'khiyên', 'khiêm', 'khiêu', 'khiến', 'khiếp', 'khiếp_đảm', 'khiết', 'khiếu_nại', 'kho', 'kho_tộ', 'khoa', 'khoa_học', 'khoai', 'khoai_lang', 'khoai_môn', 'khoai_tây', 'khoan', 'khoanh_tay', 'khoe', 'khoi', 'khong', 'khoái', 'khoái_chí', 'khoét', 'khoảng', 'khoằm', 'khoẻ', 'khoẻ_mạnh', 'khs', 'khu_đồ', 'khua', 'khua_khoắng', 'khui', 'khung_cảnh', 'khuya', 'khuyên', 'khuyến', 'khuyến_cáo', 'khuyến_khích', 'khuyến_mãi', 'khuyến_mại', 'khuyết_tật', 'khuê', 'khuôn', 'khuất', 'khuấy', 'khá', 'khá_khẩm', 'khác', 'khác_biệt', 'khách_hàng', 'khách_quan', 'khám', 'khám_phá', 'kháng', 'khánh', 'khát', 'khát_khao', 'khâm', 'khâu', 'khé', 'khéo', 'khéo_léo', 'khép', 'khép_kín', 'khét', 'khích', 'khíp', 'khít', 'khò', 'khó', 'khó_chấp', 'khó_chịu', 'khó_khăn', 'khó_tính', 'khó_tính_chuyện', 'khó_ở', 'khóa', 'khóc', 'khói', 'khô', 'khô_cứng', 'khô_khốc', 'khô_ráo', 'khô_đét', 'khôg', 'khôgn', 'khôi_hài', 'khôn', 'không', 'không_căng_rốn', 'không_gian', 'không_khéo', 'không_khí_nhạc_sống', 'không_lẽ', 'không_thể', 'không_thể_nào', 'không_trách', 'không_tưởng', 'không_đâu', 'khônh', 'khúc', 'khă', 'khăn_ăn', 'khăng_khăng', 'khơi_gợi', 'khương', 'khương_tử', 'khả', 'khả_dĩ', 'khả_quan', 'khản', 'khảng', 'khảo', 'khảo_sát', 'khất', 'khấu', 'khấu_đuôi', 'khẩu', 'khẩu_vị', 'khắc', 'khắc_phục', 'khắm_lặm', 'khắp', 'khắp_nửa', 'khắt', 'khắt_khe', 'khẳng_định', 'khều', 'khỉnh', 'khọt', 'khỏ', 'khỏi', 'khối', 'khồn', 'khổ', 'khổng_lồ', 'khớp', 'khởi', 'khởi_hành', 'khởi_nghiệp', 'khởi_đầu', 'khủng', 'khủng_khiếp', 'khử', 'ki', 'ki_bo', 'kia', 'kia_hóa', 'kia_mà', 'kiad', 'kichi', 'kicked', 'kid', 'kiem', 'kien', 'kim', 'kim_sa', 'kimbab', 'kimbap', 'kimchi', 'kimpap', 'kimsa', 'kin', 'kinchi', 'kinda', 'king', 'king_giang', 'kinh', 'kinh_doanh', 'kinh_dị', 'kinh_giới', 'kinh_hoàng', 'kinh_hồn', 'kinh_khủng', 'kinh_ngạc', 'kinh_thiên_động', 'kinh_thề', 'kinh_tế', 'kinh_tởm', 'kinha', 'kiu', 'kiwi', 'kiêm', 'kiên', 'kiên_nhẫn', 'kiên_quyết', 'kiên_định', 'kiêu', 'kiêu_căng', 'kiêu_kì', 'kiêu_sa', 'kiếm', 'kiếm_ăn', 'kiến', 'kiến_trúc', 'kiềm_chế', 'kiều', 'kiể', 'kiểm', 'kiểm_chứng', 'kiểm_duyệt', 'kiểm_soát', 'kiểm_tra', 'kiểm_định', 'kiểu', 'kiểu_cách', 'kiệm', 'kiệt', 'kl', 'klq', 'km', 'kmai', 'know', 'kodo', 'koh', 'kombo', 'kong', 'korean', 'kp', 'ks', 'ksao', 'ktoan', 'ktra', 'ktx', 'ku', 'kute', 'ky', 'kèm', 'ké', 'kém', 'kém_cạnh', 'kén', 'kéo', 'kéo_dài', 'kéo_lại', 'kéo_theo', 'kê', 'kêu', 'kêu_ca', 'kêu_mỡ', 'kêu_phần', 'kì', 'kì_công', 'kì_công_phu', 'kì_cục', 'kì_thị', 'kì_thực', 'kì_vọng', 'kìa', 'kìm', 'kìm_nén', 'kích_thích', 'kín', 'kín_mít', 'kín_đáo', 'kính', 'kíp', 'ký', 'kĩ', 'kĩ_lưỡng', 'kĩ_tính', 'kẹo', 'kẹo_bông', 'kẹo_lượng', 'kẹp', 'kẻo', 'kế', 'kế_tiếp', 'kếp', 'kết', 'kết_cấu', 'kết_hợp', 'kết_hợp_số', 'kết_luận', 'kết_nối', 'kết_quả', 'kết_thúc', 'kề', 'kềnh', 'kể', 'kể_cả', 'kể_lể', 'kệ', 'kệch_cỡm', 'kỉ', 'kỉ_niệm', 'kị', 'kịn', 'kịp', 'kịp_thời', 'kỳ_khôi', 'kỳ_thị', 'kỳ_vọng', 'kỷ_niệm', 'kỹ', 'kỹ_lưỡng', 'kỹ_tính', 'l', 'la', 'la_cà', 'la_liệt', 'la_làng', 'la_minh', 'la_ó', 'lacked', 'lad', 'laf', 'lag', 'lai', 'lai_rai', 'lak', 'lake', 'lam', 'lan', 'land', 'lang', 'lang_thang', 'lanh', 'lao', 'lap', 'laptop', 'lasagna', 'lasi', 'last', 'late', 'lau', 'lau_chùi', 'lava', 'law', 'lay', 'lchắc', 'le', 'le_te', 'lead', 'least', 'led', 'lem', 'lem_luốc', 'lemon', 'len', 'len_lỏi', 'leo', 'leo_thang_máy', 'les', 'lesen', 'level', 'lg', 'li', 'li_ti', 'lia', 'lick', 'likes', 'line', 'lined', 'linguini', 'linh', 'linh_hoạt', 'linh_tinh', 'linh_động', 'lipton', 'lisom', 'list', 'literaly', 'litle', 'live', 'liên', 'liên_hoan', 'liên_hệ', 'liên_hệ_thống', 'liên_kết', 'liên_lạc', 'liên_quan', 'liên_tiếp', 'liên_tưởng', 'liên_tục', 'liêu_xiêu', 'liếc', 'liếm', 'liền', 'liều', 'liểng_xiểng', 'liệt', 'liệt_kê', 'liệu', 'lm', 'ln', 'lo', 'lo_lắng', 'lo_sợ', 'loai', 'loan', 'loanb', 'loang', 'loang_lổ', 'loanh', 'loanh_quanh', 'loay_hoay', 'lobster', 'location', 'locations', 'loe', 'loked', 'loking', 'lol', 'lom_khom', 'lon', 'london', 'long', 'long_lanh', 'long_nhãn', 'lot', 'lote', 'loteria', 'low', 'loáng_thoáng', 'loãng', 'loãng_toẹt', 'loè', 'loăng_quăng', 'loại', 'loạn', 'loạt', 'lq', 'lquan', 'lsau', 'lt', 'luac', 'luc', 'luckily', 'lui', 'lui_tới', 'lumia', 'lun', 'luna', 'lunch', 'lung', 'lung_linh', 'lung_tung', 'luon', 'luong', 'luowjng', 'luôn', 'luôn_luôn', 'luôn_thể', 'luông', 'luônu', 'luận', 'luộc', 'luộm', 'lvc', 'ly', 'là', 'là_hơi', 'là_lạ', 'làm', 'làm_bạn', 'làm_chủ', 'làm_chủ_nhật', 'làm_dáng', 'làm_giàu', 'làm_hàng', 'làm_khách', 'làm_khó', 'làm_loạn', 'làm_nên', 'làm_phiền', 'làm_quà', 'làm_thuê', 'làm_thịt', 'làm_tròn', 'làm_việc', 'làm_vì', 'làm_ăn', 'làm_ăn_tệ', 'làm_ơn', 'lành_lạnh', 'làu_bàu', 'lày', 'lá_sen', 'lác', 'lác_đác', 'lách', 'lách_cách', 'lám', 'láng', 'láo', 'láo_lếu', 'láo_nháo', 'lâm_viên', 'lân', 'lân_cận', 'lân_la', 'lâng', 'lâng_lâng', 'lânj', 'lâu', 'lâu_lâu', 'lâu_lâu_lâu', 'lâu_xá', 'lâu_đời', 'lây', 'lã', 'lãi', 'lãm', 'lãng', 'lãng_mạn', 'lãng_phí', 'lãng_đãng', 'lão', 'lè', 'lèo', 'lèo_nhèo', 'lèo_tèo', 'lép', 'lép_vế', 'lê', 'lê_la', 'lên', 'lên_cơn', 'lên_men', 'lên_mặt', 'lên_nước', 'lên_tiếng', 'lên_đèn', 'lên_đường', 'lên_đời', 'lênh', 'lênh_láng', 'lì', 'lìa', 'lìn', 'lìu', 'lí', 'lí_do', 'lí_tưởng', 'lích_kích', 'lít', 'lò_đúc', 'lòg', 'lòi', 'lòi_dom', 'lòm', 'lòn', 'lòng_vòng', 'lòng_đào', 'lòng_đỏ', 'ló_mặt', 'lóc_cóc', 'lóng_ngóng', 'lót', 'lót_dạ', 'lô', 'lôi', 'lôi_cuốn', 'lôi_kéo', 'lôi_kéo_vậy', 'lôi_thôi', 'lôm', 'lôm_côm', 'lông_nheo', 'lõng', 'lõng_bõng', 'lù', 'lù_lù', 'lùi', 'lùn', 'lùng', 'lúc_lắc', 'lúi_húi', 'lúm', 'lúng', 'lúng_túng', 'lý', 'lý_giải', 'lý_tưởng', 'lăm', 'lăn', 'lăn_lóc', 'lăn_lộn', 'lăn_quay', 'lăn_tăn', 'lăng_thế', 'lăng_xê', 'lăng_xăng', 'lăsm', 'lĩnh', 'lũn', 'lơ', 'lơ_ngơ', 'lơ_thơ', 'lơ_đãng', 'lơif', 'lơn', 'lưa', 'lưng', 'lưng_chừng', 'lưowjt', 'lưu', 'lưu_giữ', 'lưu_luyến', 'lưu_manh', 'lưu_niệm', 'lưu_tâm', 'lưu_í', 'lưu_ý', 'lươn', 'lương_thực_phẩm', 'lướt', 'lười', 'lườm', 'lườm_nguýt', 'lườn', 'lường', 'lưỡi', 'lưỡng', 'lưỡng_lự', 'lược', 'lượg', 'lượm', 'lượn', 'lượn_lờ', 'lượng', 'lạ', 'lạ_lùng', 'lạ_lẫm', 'lạ_miệng', 'lạ_mắt', 'lạ_mặt', 'lạ_thường', 'lạ_đời', 'lạc', 'lạc_đề', 'lại', 'lạm_dụng', 'lạnh', 'lạnh_giá', 'lạnh_lùng', 'lạnh_ngắt', 'lạnh_nhạt', 'lạnh_tanh', 'lạo_xạo', 'lạp', 'lạp_xưởng', 'lạt', 'lạy', 'lả', 'lảm_nhảm', 'lảng', 'lảu', 'lấc', 'lấc_cấc', 'lấm_lét', 'lấn_át', 'lấp', 'lấp_liếm', 'lất_phất', 'lấu', 'lấy', 'lầ', 'lầm', 'lầm_lũi', 'lầm_lầm', 'lần', 'lần_lượt', 'lần_lữa', 'lần_mò', 'lầy', 'lầy_lội', 'lẩm_bẩm', 'lẩn_lút', 'lẩu', 'lẩu_cua', 'lẫn', 'lẫn_lộn', 'lận', 'lập', 'lập_cập', 'lập_tức', 'lật', 'lắc', 'lắc_đầu', 'lắm', 'lắng', 'lắng_nghe', 'lắp', 'lắt', 'lắt_léo', 'lằng', 'lằng_nhằng', 'lẳng', 'lẳng_lặng', 'lặc_lè', 'lặn', 'lặn_lội', 'lặng', 'lặng_lẽ', 'lặng_thinh', 'lặp', 'lặp_lại', 'lặp_lặp', 'lặp_đi', 'lẹ', 'lẻ', 'lẻ_tẻ', 'lẽ', 'lẽ_ra', 'lếch_thếch', 'lết', 'lề_mề', 'lềnh_bềnh', 'lềnh_phềnh', 'lễ', 'lễ_hội', 'lễ_phép', 'lễ_phục_vụ', 'lễ_tân', 'lễ_độ', 'lịch', 'lịch_sự', 'lịch_thiệp', 'lịm', 'lọ', 'lọ_mọ', 'lọc', 'lọc_cọc', 'lọt', 'lọt_lưới', 'lọt_thỏm', 'lỏn', 'lỏng', 'lỏng_lẻo', 'lố', 'lối', 'lối_thoát', 'lồ_lộ', 'lồi', 'lồi_lõm', 'lồng_bàn', 'lổm', 'lổn', 'lỗ_chỗ', 'lỗ_vốn', 'lỗi', 'lộ', 'lộ_liễu', 'lộc', 'lội', 'lộn', 'lộn_xộn', 'lộng', 'lộng_gió', 'lộng_lẫy', 'lột', 'lớ', 'lớ_ngớ', 'lớn', 'lớn_lao', 'lớn_mạnh', 'lớn_tiếng', 'lớn_tuổi', 'lớp', 'lờ', 'lờ_lợ', 'lờ_tịt', 'lờ_đờ', 'lời', 'lở', 'lởi', 'lởm', 'lỡ', 'lỡ_duyên', 'lỡ_ra', 'lỡ_vậy', 'lợ', 'lợi', 'lợi_dụng', 'lợm', 'lợn', 'lợn_cà_ri', 'lục', 'lục_bục', 'lụi', 'lủi_thủi', 'lủng', 'lứt', 'lừa', 'lừa_dối', 'lừa_đảo', 'lừng', 'lừng_danh', 'lửng', 'lững_thững', 'lự', 'lựa', 'lựa_chọn', 'm', 'ma', 'ma_nhan', 'macaron', 'macarons', 'macha', 'machiato', 'machito', 'madame', 'made', 'mag', 'mah', 'mai', 'mai_kia', 'main', 'maiz', 'make', 'makes', 'mal', 'mam', 'man', 'man_mát', 'management', 'manager', 'mang', 'mang_hóa_đơn', 'mang_tiếng', 'mang_vẻ', 'mang_đồ', 'mango', 'mania', 'manor', 'many', 'manzi', 'margherita', 'marketing', 'masala', 'mascapone', 'mat', 'match', 'matcha', 'mau', 'mau_lẹ', 'mau_miệng', 'max', 'may', 'may_mà', 'may_mắn', 'may_ra', 'may_rủi', 'mayo', 'mayonaise', 'me', 'means', 'meanwhile', 'meat', 'meats', 'medium', 'men', 'menu', 'meting', 'metro', 'metropole', 'mh', 'mhanh', 'mhđ', 'mi', 'mia', 'michelin', 'mih', 'mik', 'mile', 'milk', 'milo', 'min', 'mine', 'ming', 'minh', 'minh_hoạ', 'minh_họa', 'minhd', 'mini', 'mint', 'mipec', 'miso', 'mix', 'mixed', 'miêu_tả', 'miếc', 'miếg', 'miến', 'miếng', 'miếnh', 'miễn', 'miễn_cưỡng', 'miễn_phí', 'miệg', 'miệng', 'miệng_ăn', 'mk', 'mn', 'mng', 'mnhf', 'mochi', 'mocktail', 'mog', 'moi', 'mojito', 'moktail', 'mon', 'mon_men', 'monday', 'mong', 'mong_chờ', 'mong_muốn', 'mong_đợi', 'mong_ước', 'more', 'most', 'mot', 'moto', 'mouse', 'move', 'mozerla', 'mr', 'ms', 'mua', 'mua_cốc', 'mua_lẻ', 'mua_sắm', 'muachung', 'much', 'mufin', 'muon', 'mushrom', 'must', 'muôi', 'muôn', 'muôn_đời', 'muối', 'muốn', 'muống', 'muỗi', 'muội', 'muộn', 'my', 'mà', 'mà_hóa', 'mà_lại', 'mài', 'mành', 'màu_mè', 'mách', 'mái', 'mán', 'mát', 'mát_lòng', 'mát_mắt', 'mát_mẻ', 'mát_rượi', 'máu_me', 'máy_chiếu', 'máy_khoan', 'mâm_xôi', 'mât', 'mây', 'mây_ăn', 'mã', 'mã_tấu', 'mãi', 'mãi_mãi', 'mãn', 'mãn_nguyện', 'mãng', 'mãng_cầu', 'mèo', 'méo', 'méo_xệch', 'mê', 'mê_cung', 'mê_hoặc', 'mê_li', 'mê_ly', 'mê_mẩn', 'mê_mệt', 'mê_đắm', 'mêli', 'mì', 'mì_chính', 'mìh', 'mìn', 'mìng', 'mình', 'mìnhcho', 'mìnhnen', 'mín', 'mít', 'mò', 'mò_mẫm', 'mòi', 'mòn', 'mòn_mỏi', 'móc', 'món', 'món_chính', 'móng_giò', 'mô_phỏng', 'mông', 'môzi', 'mõi', 'mù', 'mù_chữ', 'mù_mịt', 'mù_tạt', 'mùa', 'mùi', 'mùi_vị', 'mùi_vị_thế', 'mùng', 'mùo', 'múa_may', 'múc', 'múi', 'mún', 'mút', 'măc', 'măm', 'măng', 'mătj', 'mđến', 'mĩ', 'mĩ_quan', 'mũm_mĩm', 'mơ', 'mơ_vậy', 'mơi', 'mơis', 'mơn', 'mơí', 'mưa', 'mưa_nắng', 'mướt', 'mướt_mượt', 'mượn', 'mượt', 'mượt_mà', 'mạc', 'mại', 'mạn', 'mạn_phép', 'mạnh', 'mạnh_dạn', 'mạnh_mẽ', 'mải', 'mải_mê', 'mảnh', 'mấ', 'mất', 'mất_công', 'mất_dạy', 'mất_hút', 'mất_mạng', 'mất_vía', 'mất_vệ', 'mấy_khi', 'mẩu', 'mập', 'mập_mờ', 'mật', 'mật_ong', 'mậu', 'mắ', 'mắc', 'mắc_kẹt', 'mắc_lừa', 'mắm', 'mắm_nêm', 'mắm_tôm', 'mắn', 'mắng', 'mắng_chửi', 'mắng_mỏ', 'mắt_ếch', 'mằn_mặn', 'mẳt', 'mặc', 'mặc_dù', 'mặc_kệ', 'mặc_định', 'mặn', 'mặn_chát', 'mặt', 'mặt_mày', 'mặt_mũi', 'mặt_phố', 'mặt_tiền', 'mặt_trăng', 'mặt_trời', 'mặt_đường', 'mẹt', 'mẻ', 'mến', 'mề', 'mềm', 'mềm_dẻo', 'mềm_mại', 'mềm_nhũn', 'mền', 'mềnh', 'mều', 'mệnh', 'mệnh_danh', 'mệt', 'mệt_mỏi', 'mệt_nghỉ', 'mỉm', 'mỉnh', 'mịa', 'mịn', 'mịt_mù', 'mọc', 'mọe', 'mọng', 'mỏg', 'mỏi', 'mỏng', 'mỏng_dính', 'mốc', 'mốc_meo', 'mồi', 'mồm', 'mồm_cốc', 'mổ', 'mỗi_tội', 'mộ', 'mộc_mạc', 'mộc_nhĩ', 'một_chiều', 'một_chút', 'một_cách', 'một_hai', 'một_khi', 'một_mạch', 'một_tí', 'một_tẹo', 'một_ít', 'mớ', 'mới', 'mới_lạ', 'mới_mẻ', 'mới_tinh', 'mới_đầu', 'mớm', 'mờ', 'mờ_ảo', 'mời', 'mời_chào', 'mở', 'mở_cửa', 'mở_hàng', 'mở_màn', 'mở_rộng', 'mỡ', 'mỡ_màng', 'mợ', 'mụ', 'mục', 'mụi', 'mủn', 'mứt', 'mừn', 'mừng', 'mực', 'mỳ', 'mỳnquang', 'mỹ', 'n', 'n_', 'n_không', 'n_vị', 'na', 'na_ná', 'nah', 'nail', 'nam', 'nam_giới', 'nama', 'nan', 'nao', 'naog', 'nayd', 'nbotonamsanh', 'nbánh', 'nc', 'nch', 'nchug', 'nchung', 'nchuyen', 'ncr', 'nct', 'ncái', 'ne', 'nearly', 'nek', 'nem', 'nem_chua', 'nem_lụi', 'nem_rán', 'nen', 'nest', 'nestea', 'net', 'neu', 'never', 'neverland', 'new', 'next', 'ng', 'nga', 'ngan', 'ngang', 'ngang_dạ', 'ngang_ngửa', 'nganh', 'ngao', 'ngay', 'ngay_lập', 'ngay_ngắn', 'ngay_tầng', 'ngc', 'nge', 'ngen', 'nghe', 'nghe_ra', 'nghe_vẻ', 'nghe_đâu', 'nghen', 'nghi', 'nghi_ngút', 'nghi_ngờ', 'nghi_vấn', 'nghiêm_trọng', 'nghiêm_túc', 'nghiên', 'nghiên_cứu', 'nghiêng', 'nghiêp', 'nghiến', 'nghiền', 'nghiệm', 'nghiện', 'nghiện_ngập', 'nghiệp_dư', 'nghon', 'nghèo', 'nghèo_nàn', 'nghìn', 'nghìn_nghịt', 'nghĩ', 'nghĩ_bụng', 'nghĩ_lại', 'nghĩ_ngợi', 'nghĩa', 'nghĩa_là', 'nghẹn', 'nghẻ', 'nghế', 'nghệ', 'nghỉ', 'nghỉ_chân', 'nghỉ_hè', 'nghỉ_ngơi', 'nghị', 'nghịch', 'ngiệt', 'ngoa', 'ngoai', 'ngoan', 'ngoan_ngoãn', 'ngob', 'ngoe_nguẩy', 'ngoi', 'ngol', 'ngon', 'ngon_lành', 'ngon_miệng', 'ngon_mắt', 'ngon_ngọt', 'ngon_vậy', 'ngon_ăn', 'ngoài', 'ngoài_lề', 'ngoài_mặt', 'ngoài_ra', 'ngoài_trời', 'ngoách', 'ngoái', 'ngoại', 'ngoại_giao', 'ngoại_giao_tiếp', 'ngoại_trừ', 'ngoại_tình', 'ngoại_tỉnh', 'ngoạn', 'ngoạp', 'ngoải', 'ngoảnh', 'ngoắt', 'ngsạt', 'ngta', 'ngu', 'nguoi', 'nguy', 'nguy_hiểm', 'nguyen', 'nguyên', 'nguyên_bản', 'nguyên_chất', 'nguyên_liệu', 'nguyên_thuỷ', 'nguyên_văn', 'nguyễn', 'nguyện', 'nguôi', 'nguẩy', 'nguội', 'nguội_lạnh', 'nguội_ngắt', 'nguời', 'nguỵ', 'ngy', 'ngàn', 'ngào_ngạt', 'ngày_càng', 'ngày_nay', 'ngác', 'ngách', 'ngái', 'ngán', 'ngán_ngẩm', 'ngáo', 'ngát', 'ngáy', 'ngâm', 'ngân_nga', 'ngây', 'ngây_ngấy', 'ngã', 'ngã_tư', 'ngòn_ngọt', 'ngó', 'ngó_nghiêng', 'ngó_ngàng', 'ngón_cái', 'ngóng', 'ngót', 'ngót_nghét', 'ngô', 'ngô_viên', 'ngôi', 'ngõ_hẻm', 'ngúng', 'ngúng_nguẩy', 'ngăms', 'ngăn', 'ngăn_cách', 'ngăn_nắp', 'ngĩ', 'ngũ', 'ngũ_cốc', 'ngũ_vị', 'ngơ', 'ngơ_ngác', 'ngơ_ngáo', 'ngơ_ngơ', 'ngơ_ngơ_ngác', 'ngơi', 'ngư', 'ngư_vọng', 'ngưng', 'ngươi', 'người_làm', 'ngưỡng', 'ngưỡng_mộ', 'ngược', 'ngược_lại', 'ngượng', 'ngạc', 'ngạc_nhiên', 'ngại', 'ngại_ngùng', 'ngạt', 'ngả_lưng', 'ngả_ngốn', 'ngải', 'ngấm', 'ngất', 'ngất_ngây', 'ngấu_nghiến', 'ngấy', 'ngầy_ngậy', 'ngẩn', 'ngẩng', 'ngẫm', 'ngẫm_nghĩ', 'ngẫu_nhiên', 'ngậm', 'ngậm_ngùi', 'ngập', 'ngập_ngụa', 'ngập_ngừng', 'ngập_tràn', 'ngậy', 'ngắc', 'ngắc_ngoải', 'ngắc_ngứ', 'ngắm', 'ngắm_nghía', 'ngắn', 'ngắn_gọn', 'ngắt', 'ngặc', 'ngặm', 'ngẻ', 'ngọ_nguậy', 'ngọc', 'ngọc_thạch', 'ngọt', 'ngọt_bùi', 'ngọt_cốc', 'ngọt_ngào', 'ngọt_nhạt', 'ngọt_sắc', 'ngọt_xớt', 'ngỏ', 'ngố', 'ngốt', 'ngồi', 'ngồi_bệt', 'ngồi_không', 'ngổi', 'ngổn_ngang', 'ngỗng', 'ngộ', 'ngộ_độc', 'ngộn', 'ngộp', 'ngột', 'ngột_ngạt', 'ngớ', 'ngớt', 'ngờ', 'ngờ_ngợ', 'ngờ_đâu', 'ngỡ', 'ngỡ_ngàng', 'ngợp', 'ngụm', 'ngủ', 'ngủa', 'ngừ', 'ngừi', 'ngừng', 'ngừng_nghỉ', 'ngừoi', 'ngửi', 'ngữ', 'ngữa', 'nh', 'nha', 'nha_hehehe', 'nha_ngao', 'nha_tho', 'nhac', 'nhai', 'nhai_lại', 'nhai_vậy', 'nham_nhở', 'nhan', 'nhan_nhản', 'nhanh', 'nhanh_chóng', 'nhanh_cốc', 'nhanh_nhách', 'nhanh_nhạy', 'nhanh_nhảu', 'nhanh_nhẩu', 'nhanh_nhẹn', 'nhank', 'nhao', 'nhao_nhao', 'nhat', 'nhe', 'nhem', 'nhen', 'nheo', 'nhet', 'nhg', 'nhi', 'nhiet', 'nhieu', 'nhin', 'nhiu', 'nhièu', 'nhiêm', 'nhiên', 'nhiêt', 'nhiêu', 'nhiêug', 'nhiẹt', 'nhiền', 'nhiều', 'nhiều_nhặn', 'nhiễm_khuẩn', 'nhiễm_trùng', 'nhiệt', 'nhiệt_năng_động', 'nhiệt_tình', 'nhiệt_độ', 'nhju', 'nho', 'nho_nhỏ', 'nhoe', 'nhom', 'nhon', 'nhop', 'nhoằng', 'nhu', 'nhue', 'nhug', 'nhung_nhúc', 'nhuyễn', 'nhuệt', 'nhuộm', 'nhv', 'nhà_chung', 'nhà_hàng', 'nhà_hàng_phục_vụ', 'nhà_hàng_potomac', 'nhà_in', 'nhà_nhà', 'nhà_quê', 'nhà_sách', 'nhà_thờ', 'nhà_văn_phong', 'nhà_vậy', 'nhà_vệ', 'nhàa', 'nhài', 'nhàm', 'nhàm_chán', 'nhàn', 'nhàn_hạ', 'nhàn_nhạt', 'nhàn_rỗi', 'nhào', 'nhá', 'nhái', 'nháo_nhào', 'nháo_nhác', 'nhát', 'nhâm', 'nhâm_nhi', 'nhân', 'nhân_dịp', 'nhân_thân_thiện', 'nhân_tiện', 'nhân_viên', 'nhât', 'nhã', 'nhã_nhặn', 'nhãn', 'nhãn_mác', 'nhão', 'nhè', 'nhè_nhẹ', 'nhèo', 'nhé', 'nhé_thí', 'nhée', 'nhét', 'nhì', 'nhìn', 'nhìn_chung', 'nhìu', 'nhích', 'nhím', 'nhò', 'nhòa', 'nhòe', 'nhòm', 'nhóm', 'nhóm_họp', 'nhúm', 'nhúng', 'nhăn', 'nhăn_nhó', 'nhăn_răng', 'nhũn', 'nhơ', 'nhơm_nhớp', 'như_cốc', 'như_không', 'như_nửa', 'như_thường', 'như_thế', 'như_thể', 'như_vậy', 'như_vệ', 'như_ý', 'như_đồ', 'nhưg', 'nhưngx', 'nhưngz', 'nhưnh', 'nhướn', 'nhường', 'nhượng', 'nhượng_bộ', 'nhạc', 'nhạc_nhẹ', 'nhạc_sống', 'nhạt', 'nhạt_nhoà', 'nhạt_nhẽo', 'nhạt_thếch', 'nhạy', 'nhạy_cảm', 'nhả', 'nhảy', 'nhảy_dựng', 'nhảy_múa', 'nhấ', 'nhấc', 'nhấm', 'nhấm_nháp', 'nhấn', 'nhấn_mạnh', 'nhấp', 'nhấp_nháy', 'nhấp_nhổm', 'nhất', 'nhất_quyết', 'nhất_quán', 'nhất_thiết', 'nhất_trí', 'nhất_định', 'nhấy', 'nhầm', 'nhầm_lẫn', 'nhầm_đồ', 'nhần', 'nhầy', 'nhầy_nhụa', 'nhẩm', 'nhẩy', 'nhẫn_nhịn', 'nhẫy', 'nhận', 'nhận_biết', 'nhận_thức', 'nhận_xét', 'nhập', 'nhập_khẩu', 'nhập_nhoạng', 'nhập_nhèm', 'nhập_nhằng', 'nhập_viện', 'nhật', 'nhật_thực_đơn', 'nhậu', 'nhắc', 'nhắc_nhỏm', 'nhắc_nhở', 'nhắc_tắt', 'nhắm', 'nhắm_mắt', 'nhắn', 'nhắn_tin', 'nhắng_nhít', 'nhằm', 'nhằn', 'nhẵn_mặt', 'nhặng', 'nhặt', 'nhẹ', 'nhẹ_nhàng', 'nhẹp', 'nhẽ', 'nhẽo', 'nhếc', 'nhếch', 'nhếch_nhác', 'nhề', 'nhều', 'nhễ_nhại', 'nhệt', 'nhỉ', 'nhỉn', 'nhỉnh', 'nhịn', 'nhịn_đói', 'nhịêt', 'nhọ', 'nhỏ', 'nhỏ_bé', 'nhỏ_giọt', 'nhỏ_nhắn', 'nhỏ_nhẹ', 'nhỏ_tuổi', 'nhỏ_xíu', 'nhỏgiot', 'nhốn', 'nhốn_nháo', 'nhốt', 'nhồi', 'nhổ', 'nhội', 'nhộn', 'nhộn_nhịp', 'nhớ', 'nhớ_đời', 'nhớn', 'nhớt', 'nhờ', 'nhờ_nhờ', 'nhờn', 'nhở', 'nhởm', 'nhởn', 'nhởn_nha', 'nhỡ', 'nhợt', 'nhục', 'nhụt', 'nhức', 'nhứt', 'nhừ', 'nhữg', 'những_ai', 'nice', 'nightmare', 'nigiri', 'nilon', 'ninh', 'niêm', 'niêm_yết', 'niên', 'niêu', 'niềm', 'niềm_nở', 'niềng', 'nkữg', 'noel', 'nogs', 'noi', 'non', 'non_choẹt', 'non_nớt', 'nong', 'nostra', 'not', 'note', 'nothing', 'notice', 'now', 'nquý', 'ns', 'nsalad', 'nsoup', 'nt', 'nthe', 'nthật', 'ntin', 'ntn', 'ntnao', 'ntnay', 'ntrong', 'nu', 'nua', 'nui', 'number', 'nung', 'nuoc', 'nuoecd', 'nutela', 'nuôi', 'nuốt', 'nv', 'nvien', 'nviên', 'nvậy', 'nvề', 'nx', 'ny', 'nyưng', 'nà', 'nào', 'nào_ngờ', 'nàu', 'này', 'này_nọ', 'ná', 'náo', 'náo_nhiệt', 'nát', 'nâng', 'nâng_cấp', 'nâu', 'não_lòng', 'nè', 'né', 'ném', 'ném_đĩa', 'nép', 'nê', 'nêm', 'nên', 'nên_người', 'nên_thơ', 'nêncòn', 'nêu', 'nì', 'nín', 'nín_nhịn', 'níu', 'níu_kéo', 'nóg', 'nói', 'nói_chung', 'nói_chuyện', 'nói_khó', 'nói_ngọt_ngào', 'nói_nhỏ', 'nói_năng', 'nói_riêng', 'nói_thẳng', 'nói_tục', 'nói_tục_tĩu', 'nói_xấu', 'nói_điêu', 'nóichung', 'nóng', 'nóng_bỏng', 'nóng_bức', 'nóng_chảy', 'nóng_hổi', 'nóng_nực', 'nóng_sốt', 'nóng_tính', 'nóng_vội', 'nóng_ăn', 'nôi', 'nôit', 'nôm', 'nôn', 'nôn_chôn', 'nôn_nao', 'nôn_trôn', 'nông', 'nông_choèn', 'nõn', 'núm', 'năm_học', 'năn_nỉ', 'năng', 'năng_động', 'nĩa', 'nũng', 'nơm_nớp', 'nưa', 'nưax', 'nưoc', 'nươc', 'nươcs', 'nươngs', 'nươngz', 'nước_chấm', 'nước_cốt', 'nước_dùng', 'nước_hoa_quả', 'nước_khoáng', 'nước_lã', 'nước_lèo', 'nước_lọc', 'nước_miếng', 'nước_mắm', 'nước_ngoài_ra', 'nước_ngọt', 'nước_tiểu', 'nước_trắng', 'nước_xốt', 'nước_ăn', 'nước_đá', 'nướg', 'nướng', 'nườm_nượp', 'nạ', 'nạc', 'nạm', 'nạnh', 'nạo', 'nạp', 'nạt', 'nản', 'nảy_sinh', 'nấm', 'nấm_hương', 'nấu', 'nấu_nướng', 'nấu_ăn', 'nầm', 'nậm', 'nắm', 'nắng', 'nắng_nóng', 'nắng_nôi', 'nằm', 'nằng_nặc', 'nặc', 'nặn', 'nặng', 'nặng_ký', 'nặng_mùi', 'nếm', 'nến', 'nếp', 'nếp_cẩm', 'nếu', 'nếu_như', 'nề_hà', 'nịnh', 'nọ', 'nối', 'nối_đuôi', 'nốt', 'nồi', 'nồng', 'nồng_nhiệt', 'nồng_nàn', 'nổ', 'nổ_vậy', 'nổi', 'nổi_bật', 'nổi_tiếng', 'nổi_tiếng_thế_nào', 'nổi_trội', 'nỗ_lực', 'nội', 'nội_thất', 'nộm', 'nộp', 'nở', 'nỡ', 'nợ', 'nức_nở', 'nức_tiếng', 'nứt', 'nửa', 'nữ', 'nữa', 'nực_cười', 'nựng', 'o', 'oa_oa', 'oan', 'oan_nghiệt', 'oang', 'oanh', 'obama', 'oc', 'ocupying', 'od', 'oder', 'of', 'ofer', 'ofice', 'often', 'ohair', 'oi', 'oi_bức', 'oil', 'ok', 'okay', 'oke', 'okie', 'okinawa', 'oko', 'okonomiyaki', 'okonomyaki', 'old', 'olive', 'olong', 'olympic', 'om', 'omami', 'on', 'one', 'ong', 'online', 'only', 'opa', 'open', 'opening', 'opera', 'option', 'or', 'orange', 'ord', 'orde', 'order', 'ordered', 'oreo', 'osin', 'ost', 'other', 'oto', 'our', 'out', 'outside', 'oval', 'over', 'overloaded', 'overpriced', 'oy', 'oàng', 'oành', 'oánh', 'oạch', 'oạt', 'oải', 'oặt', 'oẹ', 'p', 'package', 'page', 'pahir', 'pana', 'pancha', 'panchan', 'paradise', 'parfait', 'pari', 'paris', 'parking', 'parlour', 'part', 'party', 'pas', 'pasion', 'pasta', 'patbingsu', 'pate', 'patrait', 'patê', 'pax', 'people', 'pepe', 'peperonis', 'peps', 'pepsi', 'perfect', 'performances', 'persons', 'pesi', 'pg', 'ph', 'pha', 'pha_chế', 'pha_trò', 'pha_trộn', 'pha_tạp', 'phai', 'phaie', 'phan', 'phan_nan', 'phang', 'phanh', 'phe_phẩy', 'phi', 'phi_gỡ', 'phi_ngậy', 'phi_qua', 'phi_thơm', 'phi_thường', 'phi_thẳng', 'phi_tiêu', 'phi_tít', 'phi_xài', 'phia', 'phiên', 'phiên_âm', 'phiếu', 'phiền', 'phiền_lòng', 'phiền_phức', 'phiền_toái', 'pho', 'phog', 'phoma', 'phomai', 'phomat', 'phong', 'phong_cách', 'phong_cách_nhật', 'phong_cảnh', 'phong_phú', 'phong_vị', 'phong_đồ', 'photo', 'php', 'phuc', 'phun', 'phung', 'phuy', 'phàn', 'phàn_nàn', 'phào', 'phá', 'phá_hoại', 'phá_sản', 'phán', 'pháo', 'pháp', 'phát', 'phát_hiện', 'phát_huy', 'phát_hành', 'phát_triển', 'phát_đạt', 'phátđiên', 'phân_biệt', 'phân_bua', 'phân_chia', 'phân_cách', 'phân_công', 'phân_tích', 'phân_vân', 'phè', 'phè_phỡn', 'phèo', 'phê', 'phìa', 'phình', 'phí', 'phí_hoài', 'phí_phạm', 'phòng', 'phòng_ốc', 'phònh', 'phó_mặc', 'phó_đức', 'phóng', 'phô', 'phô_mai', 'phômai', 'phù', 'phù_hộ', 'phù_hợp', 'phùng', 'phú', 'phúc', 'phút', 'phăng', 'phũ', 'phũ_phàng', 'phơi', 'phượt', 'phạm', 'phạt', 'phả', 'phảh', 'phải', 'phải_chăng', 'phải_cái', 'phải_lòng', 'phản', 'phản_chỗ', 'phản_cư_xử', 'phản_cảm', 'phản_hồi', 'phản_ánh', 'phản_ảnh', 'phản_ứng', 'phảng_phất', 'phấn', 'phấn_khởi', 'phấp', 'phất', 'phần_mỡ', 'phần_nhiều', 'phần_phật', 'phắn', 'phắt', 'phếch', 'phết', 'phềng', 'phỉ_nhổ', 'phị', 'phịc', 'phịch', 'phỏng', 'phối', 'phồng', 'phồng_tôm', 'phổ', 'phổ_biến', 'phổ_tớ', 'phớ', 'phớt', 'phớt_lờ', 'phở', 'phởn', 'phụ', 'phụ_phí', 'phụ_thu', 'phụ_thuộc', 'phụ_trách', 'phục', 'phục_vụ', 'phủ', 'phủ_nhận', 'phủ_phê', 'phủ_đầu', 'phủi', 'phức_tạp', 'piano', 'pine', 'ping', 'pink', 'piza', 'pizabox', 'pizas', 'place', 'places', 'plan', 'plastic', 'playlist', 'plaza', 'pm', 'pop', 'popcorn', 'popeyes', 'portfolio', 'post', 'potomac', 'potomac_chilout', 'potomac_cofe', 'potomac_cruise', 'pourquoi', 'pow', 'pr', 'prefer', 'prefered', 'prepaid', 'presents', 'president', 'prety', 'prevent', 'price', 'prices', 'private', 'promotion', 'provide', 'ps', 'pub', 'public', 'puding', 'puf', 'puked', 'pv', 'pz', 'pía', 'pải', 'pị', 'q', 'q_cốc', 'qa', 'qanh', 'qay', 'qc', 'qdinh', 'ql', 'qlai', 'qtam', 'qtrog', 'qua', 'qua_loa', 'qua_lại', 'qua_ngày', 'quai', 'quai_hàm', 'quan', 'quan_hệ', 'quan_ngại', 'quan_sát', 'quan_trọng', 'quan_trọng_hoá', 'quan_tâm', 'quang', 'quanh_quẩn', 'quanh_quẩn_tóm', 'quans', 'quau', 'quay', 'quay_cuồng', 'quay_phim', 'quayblaji', 'que', 'quen', 'quen_thuộc', 'quesadilas', 'queue', 'qui', 'quisela', 'quite', 'quoc', 'quy', 'quy_trình', 'quy_định', 'quy_đổi', 'quyêt', 'quyến', 'quyến_rũ', 'quyết', 'quyết_thắng', 'quyết_tâm', 'quyết_định', 'quyết_định_giá', 'quyển', 'quyện', 'quào', 'quá', 'quá_bộ', 'quá_hóa', 'quá_lắm', 'quá_lửa', 'quá_sức', 'quá_tay', 'quá_thể', 'quá_tải', 'quá_đà', 'quá_đáng', 'quá_đáng_kể', 'quá_đỗi', 'quá_ư', 'quáa', 'quái', 'quái_dị', 'quán', 'quán_tính', 'quán_xá', 'quánh', 'quát', 'quát_tháo', 'quây', 'quây_quần', 'quãng', 'quét', 'quét_dọn', 'quên', 'quí', 'quý', 'quý_khách', 'quý_khách_hàng', 'quý_vị', 'quạt', 'quả', 'quả_nhiên', 'quả_quyết', 'quả_thật', 'quả_thực', 'quản', 'quản_lí', 'quản_lý', 'quản_lý_thuyết_phục', 'quảng', 'quảng_an', 'quảng_cáo', 'quảng_menu', 'quảng_trường', 'quấn', 'quất', 'quấy', 'quầ', 'quần_áo', 'quầy', 'quầy_quậy', 'quẩn', 'quẩy', 'quậy', 'quẳng', 'quẹt', 'quế', 'quết', 'quện', 'quệt', 'quốc', 'quốc_hội', 'quốc_sư', 'quốc_tế', 'quỳnh', 'quỵt', 'qá', 'qán', 'qên', 'qđ', 'qđịnh', 'qớ', 'r', 'ra', 'ra_công_nhận', 'ra_gì', 'ra_hiệu', 'ra_lò', 'ra_lệnh', 'ra_mắt', 'ra_mặt', 'ra_sức', 'ra_tay', 'ra_viên', 'ra_vẻ', 'ra_điều', 'ragu', 'rai', 'ram', 'ramen', 'ramsay', 'ran', 'rang', 'rape', 'rare', 'rasbery', 'rat', 'rata', 'rate', 'rau', 'rau_câu', 'rau_cần', 'rau_dưa', 'rau_sống', 'rau_thơm', 'rauta', 're', 'reading', 'ready', 'realy', 'recom', 'recomend', 'recomended', 'recoment', 'red', 'refil', 'refresh', 'refreshing', 'regarding', 'relax', 'remember', 'reo', 'rep', 'repeat', 'representative', 'resembled', 'reserve', 'reset', 'rest', 'restaurant', 'return', 'reveiw', 'review', 'reviews', 'rhan', 'ri', 'rice', 'ridiculous', 'rieu', 'right', 'river', 'riverside', 'riêg', 'riêng', 'riêng_biệt', 'riêng_tư', 'riêu', 'riết', 'roasted', 'rol', 'rolcake', 'roled', 'rols', 'romantic', 'rong', 'royal', 'ru', 'ru_rú', 'rui', 'rum', 'runam', 'rung_rinh', 'rung_động', 'rut', 'ruốc', 'ruồi_nhặng', 'ruồi_trâu', 'ruột', 'rv', 'ràng', 'rành', 'rách', 'rán', 'ráo', 'rát', 'rât', 'râu_dài', 'rã', 'rén', 'réo', 'rét', 'rétaurant', 'rê', 'rên', 'rì', 'rì_rầm', 'rìa', 'rò', 'ròn', 'ròng_rã', 'ròng_ròng', 'ròy', 'róc_rách', 'rón', 'rót', 'rôm_rả', 'rông', 'rõ', 'rõ_ràng', 'rõ_rệt', 'rùi', 'rùng', 'rúc', 'rút', 'rút_gọn', 'rút_tiền', 'rơi', 'rơi_vãi', 'rưng_rưng', 'rước', 'rưới', 'rướn', 'rười', 'rưỡi', 'rượt', 'rượu', 'rượu_vang', 'rạc', 'rạng_rỡ', 'rải', 'rảnh', 'rảnh_rang', 'rảnh_rỗi', 'rấg', 'rất', 'rất_đỗi', 'rầm', 'rầm_rầm', 'rầm_rộ', 'rần_rần', 'rầu', 'rập', 'rậy', 'rắc', 'rẻ', 'rẻ_tiền', 'rẽ', 'rếp', 'rễ', 'rỉa', 'rọi', 'rối', 'rối_rít', 'rốt', 'rốt_cuộc', 'rồi', 'rồi_đây', 'rỗ', 'rỗi_rãi', 'rỗng', 'rỗng_không', 'rộn', 'rộn_ràng', 'rộng', 'rộng_lượng', 'rộng_lớn', 'rộng_rãi', 'rớt', 'rời', 'rời_rạc', 'rờn', 'rợp', 'rụng', 'rụng_rời', 'rủ', 'rủ_rê', 'rủng_rỉnh', 'rửa', 'rữa', 'rực', 'rực_rỡ', 's', 'sa', 'sa_lát', 'sach', 'sag', 'sago', 'sai', 'sai_lầm', 'salad', 'salami', 'salas', 'salat', 'sale', 'salmon', 'salmonoid', 'salsa', 'salt', 'salted', 'sam', 'sambodia', 'same', 'samudri', 'san', 'san_sát', 'sandwhich', 'sandwich', 'sang', 'sang_trọng', 'sanh_sánh', 'sao', 'sapa', 'sashimi', 'sasin', 'saturday', 'sau', 'sau_cùng', 'sau_hết', 'sauce', 'save', 'say', 'say_sưa', 'say_đắm', 'saying', 'scalops', 'scl', 'scla', 'sd', 'se', 'se_se', 'seafod', 'search', 'season', 'sec', 'second', 'security', 'seflie', 'sel', 'selection', 'seler', 'selfie', 'sem', 'sems', 'sen', 'seoul', 'separate', 'serve', 'served', 'server', 'serves', 'service', 'set', 'setmenu_', 'setup', 'sg', 'shaker', 'she', 'shine', 'ship', 'shiper', 'shock', 'shocked', 'shoe', 'shoping', 'should', 'shoved', 'show', 'shrimp', 'shugun', 'shushi', 'si', 'side', 'sieu', 'sight', 'signature', 'since', 'sing', 'singapore', 'single', 'sinh', 'sinh_nhật_giảm', 'sinh_quán', 'sinh_sống', 'sinh_tố', 'sio', 'siro', 'siu', 'size', 'siêu', 'siêu_nhân', 'siêu_nhân_viên', 'siêu_thị', 'siêu_thịt', 'sjnh', 'sly', 'smal', 'smart', 'smel', 'smeled', 'smokers', 'smothie', 'smothies', 'sn', 'snack', 'snow', 'so', 'so_le', 'so_sánh', 'sochu', 'socola', 'soda', 'sofa', 'soft', 'soi', 'some', 'somerset', 'something', 'son', 'son_sắt', 'song', 'soufle', 'soup', 'souvenir', 'soya', 'soạn', 'space', 'spageti', 'spagheti', 'spaghety', 'spam', 'special', 'spicy', 'spinach', 'spon', 'spring', 'springrol', 'st', 'staf', 'star', 'starbocks', 'starbuck', 'starbucks', 'start', 'steak', 'stick', 'sticky', 'stil', 'stk', 'stock', 'stomach', 'stone', 'stop', 'store', 'straw', 'strawber', 'strawbery', 'stres', 'stret', 'strong', 'su', 'su_hào', 'su_su', 'such', 'sudenly', 'sugar', 'suites', 'sukem', 'suki', 'sum', 'sum_họp', 'sumer', 'sumo', 'sung', 'sung_sướng', 'sunshine', 'sup', 'supervisor', 'suport', 'surely', 'survey', 'sushi', 'sushibar', 'suy', 'suy_giảm', 'suy_nghĩ', 'suy_nghĩ_lại', 'suyt', 'suzy', 'suýt', 'suất', 'suốt', 'sv', 'sviên', 'swet', 'swing', 'sx', 'sz', 'sà', 'sài', 'sài_gòn', 'sành', 'sành_điệu', 'sá', 'sái', 'sáimi', 'sán', 'sáng', 'sáng_giá', 'sáng_loáng', 'sáng_láng', 'sáng_rực', 'sáng_suốt', 'sáng_sủa', 'sáng_trưng', 'sáng_tạo', 'sánh', 'sáo', 'sát', 'sát_nhân_viên', 'sát_sạt', 'sát_thủ', 'sâm', 'sâu', 'sâu_sắc', 'sêm', 'sì', 'sình', 'sính', 'sò', 'sò_huyết', 'sòng', 'sót', 'sôcola', 'sôi', 'sôi_nổi', 'sôi_sục', 'sôi_động', 'sùng_sục', 'súc', 'súp', 'săn', 'sđt', 'sĩ', 'sũa', 'sơ', 'sơ_bộ', 'sơ_chế', 'sơ_mi', 'sơ_suất', 'sơ_sài', 'sơ_sơ', 'sơn', 'sưng', 'sưu_tầm', 'sưu_tập', 'sưã', 'sướng', 'sườn', 'sưởi', 'sượng', 'sạc', 'sạch', 'sạch_sẽ', 'sạn', 'sạt', 'sả', 'sản', 'sản_phẩm_chất_lượng', 'sản_xuất', 'sất', 'sấy', 'sầ', 'sầm', 'sầm_uất', 'sần', 'sần_sật', 'sầu', 'sầu_riêng', 'sẫm', 'sập', 'sật', 'sắc', 'sắc_màu', 'sắp', 'sắp_xếp', 'sắp_đặt', 'sắt', 'sẵn', 'sẵn_lòng', 'sẵn_sàng', 'sẵng', 'sặc', 'sặc_sụa', 'sẽ', 'sếp', 'sền', 'sền_sệt', 'sệt', 'sỉ', 'sỉu', 'sịn', 'số_lượng', 'sốc', 'sống', 'sống_nhăn', 'sống_động', 'sốt', 'sốt_cay', 'sốt_chanh', 'sốt_chất', 'sốt_me', 'sốt_phủ', 'sốt_quyện', 'sốt_ruột', 'sốt_thấm', 'sốt_viên', 'sốt_ăn', 'sồng', 'sộc', 'sớm', 'sờ', 'sở_hữu', 'sở_thích', 'sở_thị', 'sợ', 'sợi', 'sụn', 'sụp', 'sụp_đổ', 'sụt_sùi', 'sủa', 'sủi', 'sứ', 'sứt', 'sử', 'sử_dụng', 'sửa', 'sửa_sang', 'sửng_sốt', 'sữa_chua', 'sự_đời', 'sực', 't_còn', 't_t', 't_thấy', 'ta', 'tabasco', 'table', 'tag', 'tai_nghe', 'taiwam', 'taiyaki', 'take', 'tako', 'takomaru', 'takoyaki', 'talk', 'tam_giác', 'tan', 'tan_nát', 'tan_tầm', 'tang', 'tanh', 'tao_nhã', 'tap', 'tarort', 'tart', 'taste', 'tasteles', 'tastes', 'tasting', 'tasty', 'tata', 'taxi', 'tay_cầm', 'tay_đôi', 'taylor', 'tayoyaki', 'tb', 'tboáng', 'tch', 'tdh', 'te', 'tea', 'teacups', 'team', 'teas', 'tel', 'tempura', 'ten', 'teo', 'teo_tóp', 'teokboki', 'terayaki', 'teriaki', 'terible', 'teribly', 'teriyaki', 'test', 'tet', 'texture', 'tg', 'tgian', 'tgif', 'tha_hồ', 'tha_thiết', 'thah', 'thai', 'thaideli', 'tham', 'tham_gia', 'tham_khảo', 'tham_quan', 'tham_số', 'than', 'than_phiền', 'than_trắng_xoá', 'than_ôi', 'thang', 'thang_máy', 'thanh', 'thanh_bình', 'thanh_cao', 'thanh_long', 'thanh_lịch', 'thanh_lọc', 'thanh_minh', 'thanh_tao', 'thanh_thanh', 'thanh_thản', 'thanh_toán', 'thanh_tĩnh', 'thanh_tịnh', 'thanh_xuân', 'thanh_đạm', 'thankhá', 'thanks', 'that', 'thay', 'thay_mặt', 'thay_thế', 'thay_vì', 'thay_đổi', 'thaya', 'thays', 'thcs', 'the', 'the_bank', 'the_note', 'their', 'them', 'theo', 'theo_dõi', 'theo_đuôi', 'there', 'they', 'thg', 'thi', 'thi_thoảng', 'thich', 'thid', 'thien', 'thieu', 'thif', 'thig', 'thijt', 'thik', 'thing', 'think', 'this', 'thit', 'thiu', 'thiu_thiu', 'thiên', 'thiêng_liêng', 'thiêu', 'thiẹn', 'thiếp', 'thiết', 'thiết_kế', 'thiết_kế_vị', 'thiết_nghĩ', 'thiết_yếu', 'thiếu', 'thiếu_gì', 'thiếu_sót', 'thiếu_thốn', 'thiếu_điều', 'thiể', 'thiện', 'thiện_cảm', 'thiệp', 'thiệt', 'thiệt_hại', 'thoai', 'thoang_thoảng', 'thoi', 'thong_thả', 'thought', 'thousand', 'thoy', 'thoàng', 'thoái', 'thoáng', 'thoáng_đãng', 'thoánh', 'thoát', 'thoăn', 'thoại_đuôi', 'thoả', 'thoả_thích', 'thoả_đáng', 'thoải', 'thoải_em', 'thoải_mái', 'thoảng', 'thriving', 'thu', 'thu_dọn', 'thu_hút', 'thu_ngân', 'thua', 'thua_kém', 'thui', 'thun_thút', 'thuong', 'thuwong', 'thuyên', 'thuyên_giảm', 'thuyết', 'thuyết_minh', 'thuyết_phục', 'thuê', 'thuý', 'thuần', 'thuận', 'thuận_lợi', 'thuận_tiện', 'thuế_thực', 'thuồn', 'thuộc', 'thuờng', 'thuỷ', 'thuỷ_chung', 'thuỷ_tinh', 'thx', 'thà', 'thàng', 'thành', 'thành_công', 'thành_hình', 'thành_lập', 'thành_ra', 'thành_thử', 'thách', 'thách_thức', 'thái', 'thái_bình_thường', 'thái_quá', 'thái_độ', 'thám', 'tháo', 'tháp', 'thát', 'thâm', 'thân', 'thân_hình_như', 'thân_nhiệt', 'thân_nhiệt_tình', 'thân_nhân_viên', 'thân_quen', 'thân_sinh', 'thân_thiết', 'thân_thiện', 'thân_thiện_ý', 'thân_thuộc', 'thân_thích', 'thân_yêu', 'thân_ái', 'thât', 'thâyd', 'thèm', 'thèm_muốn', 'thèm_thuồng', 'thèm_vào', 'thé', 'thét', 'thê', 'thê_thảm', 'thêm', 'thênh', 'thì_chớ', 'thì_thôi', 'thì_thầm', 'thìa', 'thìa_là', 'thìn', 'thí', 'thí_bỏ', 'thíc', 'thích', 'thích_hợp', 'thích_thú', 'thích_đáng', 'thích_đồ', 'thính', 'thò', 'thòm', 'thòm_thèm', 'thóa', 'thói', 'thót_tim', 'thô', 'thô_lỗ', 'thô_sơ', 'thôg', 'thôi', 'thôi_thì', 'thông', 'thông_báo', 'thông_cảm', 'thông_cảm_việc', 'thông_cảm_đằng', 'thông_cảm_đợi', 'thông_minh', 'thông_qua', 'thông_thường', 'thông_thạo', 'thông_tin', 'thù', 'thú', 'thú_thật', 'thú_thực', 'thú_thực_tớ', 'thú_vị', 'thúc', 'thúc_giục', 'thăc', 'thăm', 'thăn', 'thăng', 'thơ', 'thơ_mộng', 'thơm', 'thơm_lừng', 'thơm_nức', 'thơm_phức', 'thơm_tho', 'thư', 'thư_giãn', 'thư_thái', 'thư_thả', 'thưa', 'thưa_gửi', 'thưa_thớt', 'thươnf', 'thương', 'thường', 'thường_phục_vụ', 'thường_trực', 'thường_xuyên', 'thưởng', 'thưởng_thức', 'thượng', 'thạch', 'thạch_hoa', 'thạch_ăn', 'thạnh', 'thạo', 'thả', 'thải', 'thảm', 'thảm_hại', 'thản_nhiên', 'thảnh_thơi', 'thảo', 'thảo_mộc', 'thảo_mộc_hương', 'thảo_quả', 'thấm', 'thấm_tháp', 'thấm_đẫm', 'thấp', 'thất', 'thất_bại', 'thất_thường', 'thất_truyền', 'thất_vong', 'thất_vọng', 'thấu', 'thấu_hiểu', 'thấy', 'thấy_kinh', 'thầm', 'thần_thánh', 'thần_tốc', 'thẩm_mĩ', 'thậm', 'thậm_chí', 'thậm_tệ', 'thập', 'thập_cẩm', 'thập_cẩm_cốc', 'thật', 'thật_ra', 'thật_sự', 'thật_sự_thật', 'thật_thà', 'thắc_mắc', 'thắc_mắc_vậy', 'thắng', 'thắt', 'thẳng', 'thẻ', 'thế', 'thế_mà', 'thế_nào', 'thế_ra', 'thế_thì', 'thếch', 'thết', 'thề', 'thể', 'thể_hiện', 'thể_loại', 'thệm', 'thỉng', 'thỉnh_thoảng', 'thị', 'thị_giá_như', 'thịnh', 'thịnh_hành', 'thịnh_soạn', 'thịnh_vượng', 'thịt', 'thịt_thà', 'thịt_xá', 'thọ', 'thỏ_thẻ', 'thỏa', 'thỏa_mái', 'thỏa_mãn', 'thỏa_sở_thích', 'thỏa_thích', 'thỏa_đi', 'thỏa_ước_mơ', 'thỏang', 'thỏi', 'thố', 'thối', 'thống_nhất', 'thốt', 'thốt_nốt', 'thồ', 'thổ', 'thổi', 'thớt', 'thờ', 'thờ_ơ', 'thời_buổi', 'thở', 'thở_dài', 'thục_mạng', 'thụt', 'thủ', 'thủ_công', 'thức', 'thức_tỉnh', 'thức_ăn', 'thức_ăn_hỏi', 'thừ', 'thừa', 'thừa_nhận', 'thừa_thãi', 'thử', 'thử_hỏi', 'thử_nghiệm', 'thử_thách', 'thực', 'thực_chất', 'thực_hiện', 'thực_lòng', 'thực_ra', 'thực_sự', 'thực_tình', 'thực_tế', 'thực_đơn', 'thỳ', 'ti', 'ti_toe', 'ti_tỉ', 'tianf', 'ticket', 'tien', 'tiger', 'tih', 'tim', 'time', 'times', 'tin', 'tin_cậy', 'tin_hin', 'tin_tưởng', 'tinh', 'tinh_hoa', 'tinh_khôi', 'tinh_nghịch', 'tinh_túy', 'tinh_tế', 'tinh_ý', 'tiniest', 'tiny', 'tip', 'tips', 'tiramisu', 'tiramitsu', 'tiramíu', 'tiu', 'tiu_nghỉu', 'tiy', 'tiên', 'tiên_phong', 'tiêng', 'tiêu', 'tiêu_biểu', 'tiêu_cực', 'tiêu_dùng', 'tiêu_hoá', 'tiêu_tan', 'tiình', 'tiếc', 'tiếg', 'tiến', 'tiếp', 'tiếp_chuyện', 'tiếp_nhận', 'tiếp_theo', 'tiếp_thu', 'tiếp_tục', 'tiếp_xúc', 'tiếp_đãi', 'tiếp_đón', 'tiết', 'tiết_kiệm', 'tiềm', 'tiểu', 'tiểu_tiết', 'tiện', 'tiện_lợi', 'tiện_thể', 'tkành', 'tkì', 'tlj', 'tma', 'tn', 'tnay', 'to', 'to_lớn', 'to_mồm', 'to_nhỏ', 'to_tiếng', 'to_tướng', 'to_đùng', 'toan', 'toand', 'toco', 'tocotoco', 'toe_toét', 'toehoe', 'toi', 'toilet', 'tok', 'tokboki', 'tokbuki', 'tokpoki', 'tokyo', 'told', 'tolet', 'tom', 'tomyum', 'tone', 'tong_tỏng', 'tonight', 'top', 'topcare', 'toping', 'topings', 'tost', 'tot', 'totaly', 'tour', 'tourists', 'tous', 'town', 'toà', 'toài', 'toàn', 'toàn_phần', 'toàn_thể_loại', 'toàn_tập', 'toán', 'toán_loạn', 'toáng', 'toát', 'toèn_toẹt', 'toét', 'toạ_lạc', 'toả', 'toản', 'toẹt', 'tq', 'tr', 'tra', 'tra_tấn', 'trag', 'trah', 'trained', 'training', 'trang', 'trang_chủ_đề', 'trang_nhã', 'trang_phục_vụ', 'trang_trí', 'trang_trí_cốc', 'trang_trí_họa', 'trang_trọng', 'trangs', 'tranh', 'tranh_chấp', 'tranh_cãi', 'tranh_giành', 'tranh_luận', 'tranh_thủ', 'trao_đổi', 'trau', 'travelers', 'traveling', 'trc', 'treat', 'treck', 'tren', 'treo', 'trg', 'tri', 'tri_kỷ', 'tried', 'tril', 'trinh', 'triple', 'triều_châu', 'triển', 'triển_lãm', 'trk', 'troai', 'trog', 'troi', 'trong', 'trong_lành', 'trong_ngoài', 'trong_trẻo', 'trong_vắt', 'tropical', 'trsữa', 'trug', 'trung', 'trung_binh', 'trung_bình', 'trung_hoà', 'trung_thu', 'trung_thành', 'trung_thực', 'trung_tâm', 'truoc', 'truong', 'truy', 'truyền', 'truyền_thống', 'truyện', 'truốt', 'try', 'trà', 'trà_dâu', 'trà_hóa', 'trà_quất', 'trà_quế', 'trà_sen', 'trà_đá', 'tràn', 'tràn_ngập', 'tràn_trề', 'tràng', 'tràntrề', 'trào', 'trá', 'trá_hình_thành', 'trách', 'trách_mắng', 'trág', 'trái', 'trái_cây', 'trái_ngược', 'tráng', 'tráng_miệng', 'tránh', 'tráo_đổi', 'trát', 'trân', 'trân_châu', 'trân_trọng', 'trâu', 'trãi', 'trét', 'trên', 'trên_cơ', 'trên_dưới', 'trêu', 'trêu_chọc', 'trình', 'trình_bày', 'trình_diễn', 'trìu_mến', 'trí', 'trích', 'trò_chuyện', 'tròn', 'tròn_trịa', 'tróc', 'trót', 'trôg', 'trôi', 'trôi_nổi', 'trông', 'trông_chờ', 'trông_coi', 'trông_mong', 'trông_đợi', 'trùng', 'trú', 'trú_ẩn', 'trúc', 'trúng', 'trút', 'trăng', 'trơ', 'trơ_mắt', 'trơi', 'trơn', 'trưng', 'trưng_bày', 'trưng_dụng', 'trưowc', 'trươc', 'trương', 'trươngtrinhf', 'trước', 'trước_nửa', 'trước_sau', 'trướng', 'trượt', 'trả', 'trả_lời', 'trải', 'trầm', 'trầm_lắng', 'trầm_lặng', 'trầm_trọng', 'trầm_tư', 'trần', 'trần_nghiệp', 'trật', 'trắng', 'trắng_đen', 'trẻ', 'trẻ_con', 'trẻ_ranh', 'trẻ_trung', 'trễ', 'trệt', 'trị_giá', 'trịch', 'trịnh', 'trịu', 'trọc', 'trọn', 'trọn_vẹn', 'trọng', 'trỏn', 'trỏng', 'trốn', 'trống', 'trống_không', 'trống_trơn', 'trồng', 'trổ', 'trội', 'trộm', 'trộn', 'trời', 'trời_ơi', 'trở', 'trở_aply', 'trở_bánh', 'trở_bảng', 'trở_hệ', 'trở_lên', 'trở_lại', 'trở_mình', 'trở_mặt', 'trở_nên', 'trở_thành', 'trở_thịt', 'trở_trình', 'trợn', 'trụ', 'trứ_danh', 'trứng', 'trứng_nước', 'trừ', 'trừ_phi', 'trừng', 'trừng_trừng', 'trữ', 'trữc', 'trực', 'trực_tiếp', 'ts', 'tsao', 'tsua', 'tu', 'tuborg', 'tug', 'tun', 'tuna', 'tung', 'tung_tăng', 'tung_tẩy', 'tunhf', 'tuy', 'tuy_nhiên', 'tuy_vậy', 'tuy_vậy_mà', 'tuyên_bố', 'tuyêt', 'tuyển', 'tuyển_chọn', 'tuyệt', 'tuyệt_hảo', 'tuyệt_nhiên', 'tuyệt_viên', 'tuyệt_vời', 'tuyệt_đối', 'tuân_thủ', 'tuôc', 'tuôn', 'tuấn', 'tuần_lộc', 'tuệ', 'tuốt', 'tuột', 'tuỳ', 'tuỳ_thích', 'tv', 'tvt', 'twiter', 'two', 'tà_lèo', 'tà_phớ', 'tài', 'tài_trợ', 'tài_tình', 'tàm', 'tàm_tạm', 'tàn', 'tàn_bạo', 'tàng', 'tàng_hình', 'tào', 'tào_phớ', 'tàu_hũ', 'tá_hoả', 'tác', 'tác_nghiệp', 'tác_phong', 'tách', 'tách_biệt', 'tái', 'tái_chanh', 'tái_chanh_ăn', 'tái_chiên', 'tái_chín', 'tái_hiện', 'tái_hiện_thực_thụ', 'tái_ngộ', 'tái_nhợt', 'tái_nạm', 'tái_sốt', 'tái_ăn', 'tán', 'tán_gẫu', 'táng', 'tánh', 'táo', 'táp', 'tát', 'tâm', 'tâm_can', 'tâm_lí', 'tâm_sự', 'tâm_đắc', 'tân', 'tân_đồ', 'tâng', 'tâng_bốc', 'tây', 'tây_ban', 'tây_ta', 'tã', 'tè', 'tèm', 'tèn', 'tèo', 'té', 'té_ra', 'tém', 'tén', 'tép', 'tét', 'tê', 'tê_dại', 'tê_tái', 'tê_tê', 'têt', 'tì', 'tì_tì', 'tìm', 'tìm_hiểu', 'tìm_kiếm', 'tìm_tòi', 'tìn', 'tình', 'tình_cảm_đọc', 'tình_cờ', 'tình_hình_như', 'tình_nhân', 'tình_trạng', 'tình_tứ', 'tí', 'tí_hon', 'tí_teo', 'tí_ti', 'tí_tẹo', 'tí_xíu', 'tích', 'tích_cực', 'tích_hợp', 'tích_luỹ', 'tím', 'tín', 'tín_đồ', 'tính', 'tính_toán', 'tính_tình', 'tính_vậy', 'típ', 'tít', 'tò', 'tò_mò', 'tòan', 'tóan', 'tóe', 'tóm', 'tóm_lại', 'tóp_mỡ', 'tô', 'tôi', 'tôm', 'tôm_hùm', 'tôn_trọng', 'tôn_vinh_vẻ', 'tông', 'tù', 'tù_tì', 'tù_túng', 'tùm', 'tùng', 'tùng_phèo', 'tùy', 'tùy_dimsum', 'tùy_món', 'tùy_thích', 'tùy_trà', 'tùy_vị', 'tú', 'tú_hụ', 'túa', 'túc_trực', 'túi', 'túi_bóng', 'túi_bụi', 'túi_tiền', 'túm', 'túm_tụm', 'tún', 'tý', 'tăm', 'tăm_hơi', 'tăm_tối', 'tăng', 'tăng_giá', 'tăngj', 'tđn', 'tđộ', 'tĩnh', 'tĩnh_lặng', 'tĩnh_tâm', 'tĩnh_tại', 'tơ', 'tơi', 'tơi_bời', 'tơi_tả', 'tư', 'tư_vấn', 'tưbgf', 'tưng', 'tưng_bừng', 'tưng_tửng', 'tưoi', 'tưoi_viên', 'tươi', 'tươi_cười', 'tươi_mát', 'tươi_rói', 'tươi_sống', 'tươi_tắn', 'tươi_tỉnh', 'tươm_tất', 'tương', 'tương_tác', 'tương_tự', 'tương_xứng', 'tương_đương', 'tương_đối', 'tương_ớt', 'tưới', 'tướt', 'tường_thuật', 'tưởng', 'tưởng_chừng', 'tưởng_tượng', 'tượng', 'tạ', 'tại_chỗ', 'tạm', 'tạm_biệt', 'tạm_bợ', 'tạm_thời', 'tạng', 'tạnh', 'tạo', 'tạo_dựng', 'tạo_hình', 'tạp_hoá', 'tạp_phẩm', 'tạt', 'tả', 'tấc', 'tấm', 'tấm_tắc', 'tấn', 'tấp', 'tấp_nập', 'tất', 'tất_cả', 'tất_nhiên', 'tất_niên', 'tầm', 'tầm_cốc', 'tầm_cỡ', 'tầm_mắt', 'tầm_thường', 'tầm_tã', 'tầm_tầm', 'tầm_viên', 'tầm_vĩnh', 'tần', 'tần_suất', 'tần_tật', 'tầng', 'tầng_', 'tẩm', 'tẩm_bổ', 'tẩy', 'tẩy_chay', 'tậm', 'tậm_tịt', 'tận', 'tận_dụng', 'tận_hưởng', 'tận_mắt', 'tận_tay', 'tận_tâm', 'tận_tình', 'tập', 'tập_hợp', 'tập_kết', 'tập_thể_dục', 'tập_trung', 'tắc', 'tắm', 'tắt', 'tắt_thở', 'tằng', 'tặc', 'tặc_lưỡi', 'tặg', 'tặng', 'tẹo', 'tẹt', 'tẻ_nhạt', 'tẻo', 'tế', 'tế_nhị', 'tết', 'tết_nhất', 'tềnh', 'tệ', 'tệ_hại', 'tỉ_lệ_nghịch', 'tỉ_lệ_thuận', 'tỉ_mẩn', 'tỉ_mỉ', 'tỉ_phú', 'tỉ_tê', 'tỉnh_bơ', 'tị_nạnh', 'tịch_thu', 'tịt', 'tịu', 'tọa_lạc', 'tọt', 'tỏ', 'tỏ_tình', 'tỏ_vẻ', 'tỏi', 'tốc', 'tối', 'tối_giản', 'tối_mù', 'tối_om', 'tối_thiểu', 'tối_trời', 'tối_tăm', 'tối_ưu', 'tốn', 'tốn_kém', 'tống', 'tống_cổ', 'tốt', 'tốt_bụng', 'tốt_nghiệp', 'tốt_tính', 'tốt_đẹp', 'tồi', 'tồi_tàn', 'tồi_tệ', 'tồn', 'tồn_tại', 'tổ_béo', 'tổ_bố', 'tổ_chức', 'tổ_sư', 'tổn_thương', 'tổng_chi_phí', 'tổng_cộng', 'tổng_hoá_đơn', 'tổng_hết', 'tổng_hợp', 'tổng_kết', 'tổng_người', 'tổng_thiệt_hại', 'tổng_thấy', 'tổng_tiền', 'tổng_đâu', 'tội', 'tội_nghiệp', 'tột_cùng', 'tớ', 'tới', 'tới_lui', 'tới_tấp', 'tởm', 'tởn', 'tợn', 'tụ', 'tụ_họp', 'tụ_tập', 'tụm', 'tụt', 'tủ', 'tủ_lạnh', 'tủ_đá', 'tủi_thân', 'tứ', 'tứ_tung', 'tứa', 'tức', 'tức_giận', 'tức_là', 'tức_tưởi', 'tức_tốc', 'từ_biệt', 'từ_bỏ', 'từ_chối', 'từ_thiện', 'từ_trường', 'từ_trần', 'từ_tốn', 'từ_vị', 'từ_đường', 'từg', 'từng', 'từng_trải', 'tử', 'tử_tế', 'tửng', 'tự', 'tự_do', 'tự_dưng', 'tự_giác', 'tự_hào', 'tự_nhiên', 'tự_nhủ', 'tự_phát', 'tự_tin', 'tự_trọng', 'tự_túc', 'tự_xưng', 'tự_ý', 'tự_động', 'tựu', 'tỷ_lệ_nghịch', 'u', 'u_tuyết', 'uay', 'udon', 'uh', 'ui', 'ui_hóa', 'uk', 'ukie', 'um', 'unbelievable', 'under', 'ung', 'unique', 'uniquenes', 'unles', 'until', 'uong', 'up', 'update', 'urban', 'us', 'uy_tín', 'uyển_chuyển', 'uông', 'uất', 'uốg', 'uống', 'uốnh', 'uổng', 'v', 'va', 'va_chạm', 'va_quệt', 'vache', 'vai', 'vaif', 'vaiz', 'valentine', 'value', 'van', 'vang', 'vani', 'vanila', 'vao', 'vat', 'vay', 'vb', 'vc', 'vch', 'vck', 've_nguoi', 've_nhan', 've_rui', 'vegetarian', 'veiw', 'velved', 'velvet', 'very', 'vi', 'vi_sóng', 'vien', 'viet', 'vietnam', 'vietnamese', 'vietsub', 'view', 'vila', 'vincom', 'vinh', 'vinhomes', 'vintage', 'violon', 'vip', 'visiting', 'vitamin', 'viu', 'viê', 'viêm', 'viên', 'viêng', 'viết', 'viền', 'viễn', 'việc', 'việt', 'việt_nam', 'việt_quất', 'vk', 'vn', 'vnd', 'vnđ', 'vo', 'vo_ve', 'vois', 'voka', 'vote', 'voucher', 'vp', 'vphòng', 'vs', 'vu', 'vu_khống', 'vu_vơ', 'vui', 'vui_chơi', 'vui_gia', 'vui_lòng', 'vui_nhiệt', 'vui_sướng', 'vui_tai', 'vui_trí', 'vui_tính', 'vui_tươi', 'vui_vẻ', 'vung_vãi', 'vuông', 'vuông_vức', 'vuốt', 'vx', 'vz', 'vàg', 'vài_ba', 'vàng', 'vàng_khè', 'vàng_mát', 'vào', 'vào_khoảng', 'vác', 'váng', 'vát', 'váy', 'vân', 'vâng', 'vâng_dạ', 'vây', 'vã', 'vãi', 'vãn', 'vè', 'vèo', 'vét', 'vê', 'vênh', 'vênh_váo', 'vênh_vênh', 'vì', 'vì_sao', 'vì_thế_mà', 'vì_vậy', 'vì_vậy_mà', 'ví', 'ví_dụ', 'ví_như', 'vò', 'vòa', 'vòng', 'vòng_quanh', 'vòng_vèo', 'vói', 'vón', 'vô', 'vô_cùng', 'vô_cảm_giác', 'vô_danh', 'vô_duyên', 'vô_giá', 'vô_hình', 'vô_hạn', 'vô_kể', 'vô_lí', 'vô_lý', 'vô_lại', 'vô_nghĩa', 'vô_số', 'vô_thức', 'vô_tình', 'vô_tư', 'vô_vàn', 'vô_vị', 'vô_ý', 'vô_ý_thức', 'vô_đạo_đức', 'vô_độ', 'vùng_vằng', 'vút', 'văn', 'văn_hoá', 'văn_học_sinh', 'văn_minh', 'văng', 'văng_tục', 'văng_vẳng', 'vĩ', 'vĩ_đại', 'vĩnh', 'vĩnh_biệt', 'vĩnh_viễn', 'vũ', 'vơ', 'vơi', 'vưa', 'vương', 'vương_vãi', 'vương_vấn', 'vướng', 'vườn_trường', 'vượt', 'vạch', 'vạn', 'vả_lại', 'vảng', 'vấn', 'vấp', 'vất', 'vất_vả', 'vầm', 'vẩy', 'vẫ', 'vẫn', 'vẫy', 'vận_chuyển', 'vận_động', 'vật', 'vật_giá', 'vật_vã', 'vậy', 'vậy_mà', 'vắg', 'vắng', 'vắng_tanh', 'vắng_vẻ', 'vắt', 'vắt_vẻo', 'vằn_thắn', 'vặn', 'vặt', 'vẹn', 'vẻn_vẹn', 'vẽ', 'về', 'vệ', 'vệ_sinh', 'vệt', 'vỉa', 'vị', 'vị_giác', 'vị_thế_nào', 'vị_trí', 'vịnh', 'vịt', 'vọc', 'vọng', 'vỏ', 'vố', 'vối', 'vốn', 'vỗ_tay', 'vội', 'vội_vàng', 'vội_vã', 'vớ', 'vớ_vẩn', 'với', 'vớt', 'vớt_vát', 'vờ', 'vời', 'vỡ', 'vỡ_cốc', 'vỡ_lẽ', 'vỡ_lẽ_ra', 'vỡ_mộng', 'vụ', 'vụn', 'vụng', 'vụng_về', 'vụt', 'vủa', 'vủng', 'vứt', 'vừ', 'vừa', 'vừa_lòng', 'vừa_miệng', 'vừa_mới', 'vừa_phải', 'vừa_rồi', 'vừa_vặn', 'vừa_ý', 'vữa', 'vững', 'vực', 'wafle', 'wafles', 'waited', 'waiter', 'wals', 'wana', 'wang', 'wangtea', 'warm', 'was', 'wasabi', 'washabi', 'watch', 'watching', 'watery', 'wc', 'we', 'web', 'wek', 'wel', 'welcome', 'welington', 'were', 'what', 'when', 'where', 'which', 'whiped', 'whiping', 'white', 'whoever', 'wholes', 'why', 'wide', 'wifi', 'wildbery', 'wine', 'with', 'withwine', 'working', 'worth', 'would', 'write', 'wtf', 'wuas', 'x', 'xa', 'xa_cách', 'xa_hoa', 'xa_lạ', 'xa_tít_tắp_lự', 'xa_vời', 'xa_xôi', 'xa_xỉ', 'xanh', 'xanh_lè', 'xanh_rờn', 'xanh_tươi', 'xanh_tươi_mát', 'xao', 'xao_xuyến', 'xay', 'xd', 'xe', 'xe_hơi', 'xe_nôi', 'xem', 'xem_hóa', 'xem_lại', 'xem_ra', 'xem_thường', 'xem_xét', 'xem_xét_lại', 'xen', 'xen_lẫn', 'xep', 'xfim', 'xin', 'xin_lỗi', 'xin_vậy', 'xin_xỏ', 'xinh', 'xinh_xinh', 'xinh_xắn', 'xinh_đẹp', 'xiu', 'xiên', 'xjnh', 'xl', 'xloi', 'xo', 'xoa', 'xoa_dịu', 'xoay', 'xofa', 'xog', 'xoi', 'xong', 'xong_xuôi', 'xoài', 'xoành', 'xoá', 'xoá_sổ', 'xoã', 'xoăn', 'xoắn', 'xu_nịnh', 'xu_thế', 'xua_tan', 'xueshan', 'xuexan', 'xui', 'xuka', 'xun_xoe', 'xung', 'xung_đồ', 'xuyên', 'xuyến', 'xuôi_ngược', 'xuýt', 'xuýt_xoa', 'xuất', 'xuất_hiện', 'xuất_hóa_đơn', 'xuất_sắc', 'xuể', 'xuống', 'xuống_cấp', 'xuống_dốc', 'xuống_đường', 'xài', 'xàm', 'xào', 'xào_nấu', 'xá', 'xá_xíu', 'xác_nhận', 'xác_thực', 'xác_định', 'xách', 'xách_đồ', 'xám', 'xám_xịt', 'xát', 'xâm', 'xâm_nhập', 'xâm_phạm', 'xây', 'xây_dựng', 'xè', 'xèo', 'xé', 'xé_lẻ', 'xé_phay', 'xém', 'xén', 'xéo', 'xép', 'xét', 'xét_nét', 'xì', 'xì_dầu', 'xì_xào', 'xí', 'xích', 'xích_đu', 'xíu', 'xíu_mại', 'xòn', 'xó', 'xóa', 'xóa_mất', 'xóc', 'xón', 'xót', 'xô', 'xô_bồ', 'xô_đẩy', 'xôi', 'xôi_ngô', 'xôi_xéo', 'xông', 'xông_pha', 'xù', 'xùm', 'xú_uế', 'xúc', 'xúc_phạm', 'xúc_xích', 'xúc_động', 'xúi', 'xúm', 'xút', 'xăm', 'xđ', 'xơ', 'xơi', 'xơi_xơi', 'xưa', 'xưn', 'xưng', 'xương', 'xương_xẩu', 'xước', 'xạo', 'xả', 'xả_láng', 'xảy', 'xấc', 'xấc_xược', 'xấu', 'xấu_hổ', 'xấu_tính', 'xấu_xí', 'xẩu', 'xập', 'xập_xình', 'xắn', 'xắt', 'xẹp', 'xẹp_lép', 'xẻ', 'xẻng', 'xẽ', 'xế', 'xếp', 'xếp_hàng', 'xếp_hàng_hoá_ra', 'xệ', 'xỉa', 'xỉn', 'xỉu', 'xị', 'xịn', 'xịt', 'xọi', 'xối', 'xốp', 'xốt', 'xồ', 'xộc', 'xộc_xệch', 'xời', 'xởi', 'xởi_lởi', 'xứg', 'xứng', 'xứng_đáng', 'xừ', 'xử', 'xử_lí', 'xử_lý', 'xử_sự', 'xử_thế', 'y', 'y_bánh', 'y_hệt', 'y_nguyên', 'y_như', 'y_sì', 'yakulk', 'yeah', 'yogurt', 'you', 'your', 'yuksam', 'yuletide', 'yum', 'yên', 'yên_lặng', 'yên_thân', 'yên_thế', 'yên_tâm', 'yên_tĩnh', 'yên_tầng', 'yên_vị', 'yên_đơn', 'yên_đồ', 'yên_ấm_cúng', 'yên_ắng', 'yêu', 'yêu_chiều', 'yêu_chuộng', 'yêu_cầu', 'yêu_cầu_xin', 'yêu_quý', 'yêu_thương', 'yến', 'yết', 'yếu', 'yếu_kém', 'yểu_điệu', 'z', 'za', 'zai', 'zing', 'zui', 'zẻ', 'zời', 'zữ', 'à', 'ào', 'á', 'áa', 'ác', 'ác_cảm', 'ái', 'ám', 'ám_quẻ', 'ám_ảnh', 'ánh_sáng', 'áo_dài', 'áo_dụng', 'áp', 'áp_chảo', 'áp_dụng', 'át', 'áy_náy', 'âm', 'âm_thanh', 'âm_thầm', 'âm_u', 'ân', 'ân_cần', 'âu', 'éo', 'ép', 'ê', 'ê_chề', 'êm', 'êm_dịu', 'êm_đềm', 'êm_ấm', 'ì', 'ì_ạch', 'í', 'í_ới', 'íi', 'ít', 'ít_nhiều', 'ít_nữa', 'ít_ra', 'ít_đồ', 'ít_ỏi', 'òi', 'ó', 'óc', 'ói', 'óng_ánh', 'óp', 'ót', 'ô', 'ô_mai', 'ô_nhiễm', 'ô_tô', 'ôi', 'ôi_thôi', 'ôlong', 'ôm', 'ôn', 'ôx', 'ôxy_hoá', 'õng', 'ù', 'ùa', 'ú', 'ú_ớ', 'úa', 'úc', 'úi', 'úng', 'úp', 'út', 'úông', 'ý', 'ý_kiến', 'ý_kiến_thiết_nghĩ', 'ý_vị', 'ý_đồ', 'ýt', 'ă', 'ăen', 'ăm', 'ăn', 'ăn_bám', 'ăn_bẩn', 'ăn_bớt', 'ăn_chay', 'ăn_chia', 'ăn_chơi', 'ăn_cánh', 'ăn_cướp', 'ăn_cắp', 'ăn_cốc', 'ăn_dài', 'ăn_gian', 'ăn_giá', 'ăn_giá_cả', 'ăn_hiếp', 'ăn_hàng', 'ăn_hỏi', 'ăn_khách', 'ăn_không', 'ăn_không_căng_rốn', 'ăn_khỏe', 'ăn_kiêng', 'ăn_liền', 'ăn_may', 'ăn_mòn', 'ăn_mặc', 'ăn_mặc_dù', 'ăn_mừng', 'ăn_nan', 'ăn_người', 'ăn_người_ngợm', 'ăn_nhập', 'ăn_nói', 'ăn_nói_chung', 'ăn_nói_trống', 'ăn_nằm', 'ăn_quỵt', 'ăn_sương', 'ăn_theo', 'ăn_thua', 'ăn_uống', 'ăn_vã', 'ăn_xin', 'ăn_ý', 'ăn_đong', 'ăn_đường', 'ăn_đậm', 'ăn_đậm_đà', 'ăn_đồ', 'ăn_đủ', 'ăn_đứt', 'ăn_ở', 'ănowr', 'ănpate', 'đa', 'đa_canh', 'đa_dạng', 'đa_phần', 'đag', 'đam', 'đam_mê', 'đan', 'đang', 'đat', 'đau', 'đau_khổ', 'đau_thương', 'đau_đầu', 'đax', 'đb', 'đbiet', 'đek', 'đem', 'đen', 'đen_ngòm', 'đen_sì', 'đen_thui', 'đen_đủi', 'đens', 'đeo', 'đep', 'đepj', 'đesn', 'đg', 'đh', 'đi', 'đi_giải', 'đi_lại', 'đi_ngoài', 'đi_sâu', 'đi_đôi', 'đi_ở', 'đinh', 'đinh_ninh', 'đièu', 'điên', 'điên_cuồng', 'điên_tiết', 'điên_đảo', 'điêu', 'điếc', 'điềm_tĩnh', 'điền', 'điều', 'điều_chỉnh', 'điều_hoà', 'điều_hành', 'điểm', 'điểm_cao', 'điểm_tâm', 'điểm_xuyết', 'điển', 'điển_hình', 'điển_hình_như', 'điễm', 'điện', 'điện_thoại', 'điệp', 'điệp_mỡ', 'đj', 'đk', 'đn', 'đo', 'đoi', 'đon', 'đon_đả', 'đong', 'đor', 'đos', 'đoàn_kết', 'đoái', 'đoán', 'đoạn', 'đt', 'đtien', 'đu', 'đu_đưa', 'đu_đủ', 'đua', 'đun', 'đuoi', 'đuối', 'đuổi', 'đuợc', 'đx', 'đy', 'đz', 'đà_nẵng', 'đàn', 'đàng', 'đàng_gian', 'đàng_hoàng', 'đành', 'đành_hủy', 'đành_rằng', 'đào', 'đào_thần', 'đào_tạo', 'đàu', 'đày', 'đá', 'đái', 'đáng', 'đáng_giá', 'đáng_kể', 'đáng_lẽ', 'đáng_ra', 'đánh', 'đánh_bài', 'đánh_bóng', 'đánh_bại', 'đánh_chén', 'đánh_dấu', 'đánh_giá', 'đánh_liều', 'đánh_lừa', 'đánh_rơi', 'đánh_rắm', 'đánh_tiếng', 'đánh_đổ', 'đáo', 'đáp', 'đáp_ứng', 'đâm', 'đâm_ra', 'đâu', 'đây', 'đã', 'đã_đành', 'đã_đời', 'đãi', 'đãi_ngộ', 'đãn', 'đãng_trí', 'đè', 'đèn_lồng', 'đèn_vàng', 'đèn_xanh', 'đèn_đóm', 'đèo', 'đèu', 'đén', 'đéo', 'đét', 'đêmk', 'đên', 'đêu', 'đêý', 'đì', 'đình', 'đía', 'đích_thân', 'đính', 'đính_chính', 'đíp', 'đòi', 'đòi_hỏi', 'đó', 'đóa', 'đói', 'đói_meo', 'đói_thế', 'đón', 'đón_chào', 'đón_nhận', 'đón_tiếp', 'đóng', 'đóng_cửa', 'đóng_gói', 'đóng_góp', 'đóng_đô', 'đô', 'đôi', 'đôi_co', 'đôi_khi', 'đông', 'đông_lạnh', 'đông_lạnh_tanh', 'đông_nghẹt', 'đông_nghẹt_thở', 'đông_nghịt', 'đông_trừ', 'đông_viên', 'đông_vậy', 'đông_đúc', 'đông_đảo', 'đông_đồ', 'đôngf', 'đônh', 'đôằn', 'đùa', 'đùg', 'đùi', 'đùn', 'đùn_đẩy', 'đùng', 'đú', 'đúc', 'đúc_kết', 'đúg', 'đúng', 'đúng_mực', 'đúng_ra', 'đúp', 'đút', 'đăc', 'đăch', 'đăm', 'đăm_đăm', 'đăng', 'đăng_kí', 'đăng_ký', 'đăng_nhập', 'đăng_đắng', 'đĩa', 'đĩa_lạc', 'đũa', 'đơ', 'đơiụ', 'đơn', 'đơn_cử', 'đơn_giá', 'đơn_giản', 'đơn_thuần', 'đơpcj', 'đơx', 'đưa', 'đưa_hóa', 'đưa_đám', 'đưa_đẩy', 'đưng', 'đươc', 'đươch', 'đương', 'đương_nhiên', 'đươngf', 'đướng', 'đường_mật_ong', 'đường_đường', 'được', 'được_cái', 'được_việc', 'đượm', 'đại', 'đại_cồ', 'đại_diện', 'đại_khái', 'đại_loại', 'đại_nghĩa', 'đại_tiệc', 'đạm', 'đạp', 'đạt', 'đả', 'đả_động', 'đảm', 'đảm_bảo', 'đảm_bảo_vệ', 'đảm_bảo_vệ_sinh', 'đảo', 'đảo_lộn', 'đảo_điên', 'đấm', 'đấy', 'đầm', 'đầm_đìa', 'đầm_ấm', 'đần', 'đầu', 'đầu_bếp', 'đầu_lưỡi', 'đầu_ra', 'đầu_tiên', 'đầu_tiên_cảm_thấy', 'đầu_tiên_nhân_viên', 'đầu_tư', 'đầu_tư_trang', 'đầu_tư_trang_trí', 'đầu_vào', 'đầu_đuôi', 'đầu_đọc', 'đầy', 'đầy_tháng', 'đầy_đặn', 'đầy_đủ', 'đầy_ắp', 'đẩy', 'đẩy_mạnh', 'đẫm', 'đẫy', 'đậm', 'đậm_nét', 'đậm_đà', 'đậm_đặc', 'đập', 'đậu', 'đậu_cốc', 'đậu_nành', 'đậu_phụ', 'đậu_tương', 'đậu_xanh', 'đậu_đen', 'đậu_đỏ', 'đậy', 'đắ', 'đắc', 'đắc_địa', 'đắn_đo', 'đắng', 'đắng_ngắt', 'đắp', 'đắt', 'đắt_đỏ', 'đằng_đẵng', 'đặc', 'đặc_biệt', 'đặc_công_nhận', 'đặc_sản', 'đặc_sắc', 'đặc_sệt', 'đặc_trưng', 'đặc_viên', 'đặc_vụ', 'đặm', 'đặng', 'đặt', 'đặt_chân', 'đặt_cọc', 'đặt_hàng', 'đẹp', 'đẹp_mắt', 'đẹp_trai', 'đẹp_đẽ', 'đẻ', 'đế', 'đếm', 'đếm_xỉa', 'đến', 'đến_nơi', 'đến_nỗi', 'đề', 'đề_cao', 'đề_cập', 'đề_cử', 'đề_huề', 'đề_nghị', 'đề_phòng', 'đề_xuất', 'đề_đạt', 'đềf', 'đền', 'đều', 'đều_đặn', 'để', 'để_bụng', 'để_dành', 'để_phần', 'để_tâm', 'để_ý', 'đểu', 'đệ', 'đệm', 'đệp', 'đỉa', 'đỉnh', 'đỉnh_điểm', 'địa', 'địa_chỉ', 'địa_thế', 'địa_điểm', 'địa_điểm_tâm', 'địh', 'định', 'định_mệnh', 'đọc', 'đọng', 'đỏ', 'đỏ_lòm', 'đỏ_ngầu', 'đố', 'đối', 'đối_diện', 'đối_mặt', 'đối_tác', 'đối_xử', 'đối_xử_thế', 'đối_đãi', 'đối_đồ', 'đống', 'đốt', 'đồ', 'đồ_dùng', 'đồ_hàng', 'đồ_mát', 'đồ_sộ', 'đồn', 'đồn_thổi', 'đồn_đại', 'đồng', 'đồng_bộ', 'đồng_cảm_nhận', 'đồng_hành', 'đồng_hồ_đồ', 'đồng_loạt', 'đồng_nghĩa', 'đồng_nát', 'đồng_phục', 'đồng_thời', 'đồng_tiền', 'đồng_ý', 'đồng_đều', 'đổ', 'đổ_bộ', 'đổi', 'đổi_mới', 'đổi_thay', 'đỗ', 'độ_ẩm', 'độc', 'độc_hại', 'độc_quyền', 'độc_thân', 'độc_đáo', 'đội', 'đội_giá', 'đội_ngũ', 'độn', 'động', 'động_não', 'động_viên', 'độp', 'đột_nhiên', 'đời', 'đời_nào', 'đỡ', 'đợi', 'đợi_chờ', 'đục', 'đục_ngầu', 'đụng', 'đủ', 'đủng', 'đứa', 'đức', 'đứg', 'đứng', 'đứng_tuổi', 'đứt', 'đừng', 'đừơng', 'đựng', 'ơ', 'ơi', 'ơn', 'ơr', 'ư', 'ưa', 'ưa_chuộng', 'ưa_nhìn', 'ưa_thích', 'ưg', 'ưng', 'ưng_an', 'ưng_ý', 'ưng_đồ', 'ưu', 'ưu_tiên', 'ưu_ái', 'ưu_đãi', 'ươm', 'ươn', 'ước', 'ước_mong', 'ước_mơ', 'ước_tính', 'ướp', 'ướp_lạnh', 'ướt', 'ướt_át', 'ườn', 'ưỡn_ẹo', 'ạ', 'ạh', 'ảgento', 'ảm_đạm', 'ảnh', 'ảnh_hưởng', 'ảo', 'ấm', 'ấm_cúng', 'ấm_áp', 'ấn', 'ấn_tượng', 'ấn_viên', 'ấn_đồ', 'ấp_úng', 'ấp_ủ', 'ấu', 'ấy', 'ầm', 'ầm_ĩ', 'ầm_ầm', 'ẩm', 'ẩm_mốc', 'ẩm_thấp', 'ẩm_thực', 'ẩm_ương', 'ẩm_ướt', 'ẩu', 'ậm_ừ', 'ập', 'ẹ', 'ẹc', 'ẻm', 'ẻo', 'ếch', 'ếu', 'ễnh', 'ỉu', 'ỉu_xìu', 'ị', 'ọe', 'ọp', 'ọp_ẹp', 'ọt', 'ỏ', 'ỏder', 'ỏi', 'ố', 'ốc', 'ối', 'ốm', 'ống', 'ốp', 'ốp_lết', 'ồ', 'ồn', 'ồn_ào', 'ồn_ã', 'ồng_ộc', 'ổ_cắm', 'ổn', 'ổn_định', 'ỗn', 'ớ', 'ới', 'ớn', 'ớt', 'ờ', 'ở', 'ở_trần', 'ụ', 'ụu', 'ủ', 'ủa', 'ủi', 'ủn', 'ủng', 'ủng_hộ', 'ủnh', 'ủy', 'ứ', 'ứ_hự', 'ứa', 'ức', 'ức_chế', 'ứng', 'ứng_dụng', 'ứng_xử', 'ừ', 'ừa', 'ừng', 'ự', 'ực', 'ỳ', 'ỷ', 'ỷ_lại']\n"
          ],
          "name": "stdout"
        }
      ]
    },
    {
      "cell_type": "code",
      "metadata": {
        "id": "x_cFGTaB_GIh"
      },
      "source": [
        "for text in range(X.shape[0]):\n",
        "  "
      ],
      "execution_count": null,
      "outputs": []
    }
  ]
}